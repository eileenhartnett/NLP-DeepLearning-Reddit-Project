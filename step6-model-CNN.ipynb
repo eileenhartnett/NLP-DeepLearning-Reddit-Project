{
 "cells": [
  {
   "cell_type": "markdown",
   "metadata": {},
   "source": [
    "# Model - Convolutional Neural Network"
   ]
  },
  {
   "cell_type": "markdown",
   "metadata": {},
   "source": [
    "In the case of the CNN classifier, we applied word-embedding procedures\n",
    "from the pre-processed texts using the word2vec API of Python Package, Gensim. The word vectors were pretrained\n",
    "with the training dataset collected for the current study with continuous bag-of-words representation\n",
    "(CBOW) models, while the size of window was set to five. Note that by using the pre-trained word2vec model\n",
    "for representing each post for each subreddit, a language style used by users who write posts in a subreddit can\n",
    "be trained for the specific subreddit."
   ]
  },
  {
   "cell_type": "markdown",
   "metadata": {},
   "source": [
    "##### Import libraries"
   ]
  },
  {
   "cell_type": "code",
   "execution_count": 1,
   "metadata": {},
   "outputs": [],
   "source": [
    "import pandas as pd\n",
    "import numpy as np\n",
    "\n",
    "import matplotlib.pyplot as plt\n",
    "\n",
    "from sklearn.model_selection import train_test_split\n",
    "\n",
    "# For handling imbalanced classes\n",
    "from collections import Counter\n",
    "from imblearn.over_sampling import SMOTE\n",
    "\n",
    "from keras.preprocessing.text import Tokenizer\n",
    "from keras.preprocessing.sequence import pad_sequences\n",
    "\n",
    "import keras\n",
    "from keras.models import Sequential\n",
    "from keras.layers import Flatten, Dense, Embedding\n",
    "from keras.layers import Embedding\n",
    "from keras.layers import Dropout\n",
    "from keras.layers.convolutional import Conv1D\n",
    "from keras.layers.convolutional import MaxPooling1D"
   ]
  },
  {
   "cell_type": "markdown",
   "metadata": {},
   "source": [
    "##### Load data"
   ]
  },
  {
   "cell_type": "code",
   "execution_count": 2,
   "metadata": {},
   "outputs": [],
   "source": [
    "posts = pd.read_csv('../data/posts-preprocessed.csv')"
   ]
  },
  {
   "cell_type": "code",
   "execution_count": 3,
   "metadata": {},
   "outputs": [
    {
     "data": {
      "text/html": [
       "<div>\n",
       "<style scoped>\n",
       "    .dataframe tbody tr th:only-of-type {\n",
       "        vertical-align: middle;\n",
       "    }\n",
       "\n",
       "    .dataframe tbody tr th {\n",
       "        vertical-align: top;\n",
       "    }\n",
       "\n",
       "    .dataframe thead th {\n",
       "        text-align: right;\n",
       "    }\n",
       "</style>\n",
       "<table border=\"1\" class=\"dataframe\">\n",
       "  <thead>\n",
       "    <tr style=\"text-align: right;\">\n",
       "      <th></th>\n",
       "      <th>author</th>\n",
       "      <th>subreddit</th>\n",
       "      <th>timeframe</th>\n",
       "      <th>text</th>\n",
       "      <th>datetime</th>\n",
       "      <th>words</th>\n",
       "      <th>word_stems</th>\n",
       "    </tr>\n",
       "  </thead>\n",
       "  <tbody>\n",
       "    <tr>\n",
       "      <td>0</td>\n",
       "      <td>sub21036</td>\n",
       "      <td>bulimia</td>\n",
       "      <td>pre-covid</td>\n",
       "      <td>['how can i stop hating myself  i have been on...</td>\n",
       "      <td>2017-12-02 16:36:16</td>\n",
       "      <td>['[', \"'how\", 'stop', 'hating', 'eating', 'dis...</td>\n",
       "      <td>['[', \"'how\", 'stop', 'hating', 'eating', 'dis...</td>\n",
       "    </tr>\n",
       "  </tbody>\n",
       "</table>\n",
       "</div>"
      ],
      "text/plain": [
       "     author subreddit  timeframe  \\\n",
       "0  sub21036   bulimia  pre-covid   \n",
       "\n",
       "                                                text             datetime  \\\n",
       "0  ['how can i stop hating myself  i have been on...  2017-12-02 16:36:16   \n",
       "\n",
       "                                               words  \\\n",
       "0  ['[', \"'how\", 'stop', 'hating', 'eating', 'dis...   \n",
       "\n",
       "                                          word_stems  \n",
       "0  ['[', \"'how\", 'stop', 'hating', 'eating', 'dis...  "
      ]
     },
     "execution_count": 3,
     "metadata": {},
     "output_type": "execute_result"
    }
   ],
   "source": [
    "posts.head(1)"
   ]
  },
  {
   "cell_type": "markdown",
   "metadata": {},
   "source": [
    "##### Binarize targets using get_dummies"
   ]
  },
  {
   "cell_type": "markdown",
   "metadata": {},
   "source": [
    "Will use each subreddit as target (except mental health)"
   ]
  },
  {
   "cell_type": "code",
   "execution_count": 4,
   "metadata": {},
   "outputs": [],
   "source": [
    "posts = pd.get_dummies(posts, columns=['subreddit'])"
   ]
  },
  {
   "cell_type": "code",
   "execution_count": 5,
   "metadata": {},
   "outputs": [],
   "source": [
    "posts.drop(columns='subreddit_mentalhealth', inplace = True)"
   ]
  },
  {
   "cell_type": "markdown",
   "metadata": {},
   "source": [
    "### Tokenizing the raw text\n",
    "\n",
    "We will vectorize the text and prepare a training and validation split"
   ]
  },
  {
   "cell_type": "code",
   "execution_count": 6,
   "metadata": {},
   "outputs": [],
   "source": [
    "texts = posts['text']"
   ]
  },
  {
   "cell_type": "code",
   "execution_count": 9,
   "metadata": {},
   "outputs": [],
   "source": [
    "maxlen = 500 # Cuts off posts after 500 words\n",
    "max_words = 10_000 # Considers only the top 10,00 words in the dataset"
   ]
  },
  {
   "cell_type": "code",
   "execution_count": 8,
   "metadata": {},
   "outputs": [],
   "source": [
    "tokenizer = Tokenizer(num_words = max_words)\n",
    "tokenizer.fit_on_texts(texts)\n",
    "sequences = tokenizer.texts_to_sequences(texts)"
   ]
  },
  {
   "cell_type": "code",
   "execution_count": 10,
   "metadata": {},
   "outputs": [
    {
     "name": "stdout",
     "output_type": "stream",
     "text": [
      "Found 81346 unique tokens.\n"
     ]
    }
   ],
   "source": [
    "word_index = tokenizer.word_index\n",
    "print('Found %s unique tokens.' % len(word_index))"
   ]
  },
  {
   "cell_type": "code",
   "execution_count": 11,
   "metadata": {},
   "outputs": [],
   "source": [
    "data = pad_sequences(sequences, maxlen=maxlen)"
   ]
  },
  {
   "cell_type": "markdown",
   "metadata": {},
   "source": [
    "### Parcing the word2vec embeddings File"
   ]
  },
  {
   "cell_type": "code",
   "execution_count": null,
   "metadata": {},
   "outputs": [],
   "source": [
    "labels = posts['subreddit_Anxiety']"
   ]
  },
  {
   "cell_type": "code",
   "execution_count": null,
   "metadata": {},
   "outputs": [],
   "source": [
    "labels = np.asarray(labels)\n",
    "print('Shape of data:', data.shape)\n",
    "print('Shape of label:', labels.shape)"
   ]
  },
  {
   "cell_type": "markdown",
   "metadata": {},
   "source": [
    "We will first use the previously created word2vec embeddings"
   ]
  },
  {
   "cell_type": "markdown",
   "metadata": {},
   "source": [
    "#### Parsing the word-embeddings files"
   ]
  },
  {
   "cell_type": "code",
   "execution_count": 13,
   "metadata": {},
   "outputs": [
    {
     "name": "stdout",
     "output_type": "stream",
     "text": [
      "Found 70591 word vecotrs.\n"
     ]
    }
   ],
   "source": [
    "# The embeddings text file is in the current directory\n",
    "\n",
    "embeddings_index = {}\n",
    "\n",
    "f = open('embedding_word2vec.txt')\n",
    "\n",
    "for line in f:\n",
    "    values = line.split()\n",
    "    word = values[0]\n",
    "    coefs = np.asarray(values[1:], dtype='float32')\n",
    "    embeddings_index[word] = coefs\n",
    "f.close()\n",
    "\n",
    "print('Found %s word vecotrs.' % len(embeddings_index))"
   ]
  },
  {
   "cell_type": "markdown",
   "metadata": {},
   "source": [
    "#### Preparing the word-embeddings matrix"
   ]
  },
  {
   "cell_type": "code",
   "execution_count": 14,
   "metadata": {},
   "outputs": [],
   "source": [
    "embedding_dim = 100\n",
    "\n",
    "embedding_matrix = np.zeros((max_words, embedding_dim))\n",
    "\n",
    "for word, i in word_index.items():\n",
    "    if i < max_words:\n",
    "        embedding_vector = embeddings_index.get(word)\n",
    "        if embedding_vector is not None:\n",
    "            embedding_matrix[i] = embedding_vector # Words not found in the embedding index will be all zeros"
   ]
  },
  {
   "cell_type": "markdown",
   "metadata": {},
   "source": [
    "# Subreddit: Anxiety"
   ]
  },
  {
   "cell_type": "markdown",
   "metadata": {},
   "source": [
    "#### Train test split"
   ]
  },
  {
   "cell_type": "code",
   "execution_count": 15,
   "metadata": {},
   "outputs": [],
   "source": [
    "X_train, X_test, y_train, y_test = train_test_split(data, labels, \n",
    "                                                    test_size = .2,\n",
    "                                                    random_state=42)"
   ]
  },
  {
   "cell_type": "code",
   "execution_count": 16,
   "metadata": {},
   "outputs": [],
   "source": [
    "smote = SMOTE(random_state=42) \n",
    "X_train_sm, y_train_sm = smote.fit_resample(X_train, y_train)"
   ]
  },
  {
   "cell_type": "markdown",
   "metadata": {},
   "source": [
    "#### Defining a model"
   ]
  },
  {
   "cell_type": "code",
   "execution_count": 18,
   "metadata": {},
   "outputs": [
    {
     "name": "stdout",
     "output_type": "stream",
     "text": [
      "Model: \"sequential_1\"\n",
      "_________________________________________________________________\n",
      "Layer (type)                 Output Shape              Param #   \n",
      "=================================================================\n",
      "embedding (Embedding)        (None, 500, 100)          1000000   \n",
      "_________________________________________________________________\n",
      "flatten (Flatten)            (None, 50000)             0         \n",
      "_________________________________________________________________\n",
      "dense (Dense)                (None, 32)                1600032   \n",
      "_________________________________________________________________\n",
      "dense_1 (Dense)              (None, 1)                 33        \n",
      "=================================================================\n",
      "Total params: 2,600,065\n",
      "Trainable params: 2,600,065\n",
      "Non-trainable params: 0\n",
      "_________________________________________________________________\n"
     ]
    }
   ],
   "source": [
    "model = Sequential()\n",
    "model.add(Embedding(max_words, embedding_dim, input_length=maxlen))\n",
    "model.add(Flatten())\n",
    "model.add(Dense(32, activation='relu'))\n",
    "model.add(Dense(1, activation='sigmoid'))\n",
    "model.summary()"
   ]
  },
  {
   "cell_type": "markdown",
   "metadata": {},
   "source": [
    "#### Loading the embeddings in the model"
   ]
  },
  {
   "cell_type": "markdown",
   "metadata": {},
   "source": [
    "The Embedding layer has a single weight matrix: a 2D float matrix where each entry i is the word vector meant to be associated with the index i. \n",
    "\n",
    "We will load the Word2Vec matrix we prepared iinto the Embedding layer, the first layer in the model - "
   ]
  },
  {
   "cell_type": "code",
   "execution_count": 19,
   "metadata": {},
   "outputs": [],
   "source": [
    "model.layers[0].set_weights([embedding_matrix])\n",
    "model.layers[0].trainable = False # this freezes the embedding layer as to not \n",
    "                                  # be updated during training and forget what they already know"
   ]
  },
  {
   "cell_type": "markdown",
   "metadata": {},
   "source": [
    "#### Training and evaluating the model"
   ]
  },
  {
   "cell_type": "markdown",
   "metadata": {},
   "source": [
    "Compile and train the model."
   ]
  },
  {
   "cell_type": "markdown",
   "metadata": {},
   "source": [
    "##### Training and evaluation"
   ]
  },
  {
   "cell_type": "code",
   "execution_count": 20,
   "metadata": {},
   "outputs": [
    {
     "name": "stdout",
     "output_type": "stream",
     "text": [
      "Epoch 1/10\n",
      "2601/2601 [==============================] - 12s 4ms/step - loss: 0.5580 - acc: 0.8032 - val_loss: 0.4694 - val_acc: 0.8540\n",
      "Epoch 2/10\n",
      "2601/2601 [==============================] - 11s 4ms/step - loss: 0.3246 - acc: 0.8686 - val_loss: 0.4725 - val_acc: 0.8692\n",
      "Epoch 3/10\n",
      "2601/2601 [==============================] - 11s 4ms/step - loss: 0.3109 - acc: 0.8749 - val_loss: 0.4981 - val_acc: 0.8762\n",
      "Epoch 4/10\n",
      "2601/2601 [==============================] - 11s 4ms/step - loss: 0.3058 - acc: 0.8765 - val_loss: 0.4732 - val_acc: 0.8857\n",
      "Epoch 5/10\n",
      "2601/2601 [==============================] - 11s 4ms/step - loss: 0.3257 - acc: 0.8779 - val_loss: 0.5763 - val_acc: 0.8848\n",
      "Epoch 6/10\n",
      "2601/2601 [==============================] - 11s 4ms/step - loss: 0.3062 - acc: 0.8786 - val_loss: 0.5440 - val_acc: 0.8860\n",
      "Epoch 7/10\n",
      "2601/2601 [==============================] - 11s 4ms/step - loss: 0.2994 - acc: 0.8780 - val_loss: 0.5325 - val_acc: 0.8861\n",
      "Epoch 8/10\n",
      "2601/2601 [==============================] - 11s 4ms/step - loss: 0.2906 - acc: 0.8801 - val_loss: 0.4787 - val_acc: 0.8878\n",
      "Epoch 9/10\n",
      "2601/2601 [==============================] - 12s 4ms/step - loss: 0.3008 - acc: 0.8795 - val_loss: 0.5640 - val_acc: 0.8864\n",
      "Epoch 10/10\n",
      "2601/2601 [==============================] - 12s 5ms/step - loss: 0.2999 - acc: 0.8798 - val_loss: 0.5025 - val_acc: 0.8874\n"
     ]
    }
   ],
   "source": [
    "model.compile(optimizer = 'adam',\n",
    "             loss = 'binary_crossentropy',\n",
    "             metrics = ['acc'])\n",
    "\n",
    "history = model.fit(X_train_sm, \n",
    "                    y_train_sm,\n",
    "                   epochs = 10,\n",
    "                   batch_size = 32,\n",
    "                   validation_data = (X_test, y_test))\n",
    "\n",
    "#model.save_weights('model1.h5')"
   ]
  },
  {
   "cell_type": "markdown",
   "metadata": {},
   "source": [
    "##### Plotting the results"
   ]
  },
  {
   "cell_type": "code",
   "execution_count": 21,
   "metadata": {
    "scrolled": true
   },
   "outputs": [
    {
     "data": {
      "image/png": "[encoded data removed]",
      "text/plain": [
       "<Figure size 864x576 with 1 Axes>"
      ]
     },
     "metadata": {
      "needs_background": "light"
     },
     "output_type": "display_data"
    }
   ],
   "source": [
    "# Check out our train loss and test loss over epochs.\n",
    "train_loss = history.history['loss']\n",
    "test_loss = history.history['val_loss']\n",
    "epoch_labels = history.epoch\n",
    "\n",
    "# Set figure size.\n",
    "plt.figure(figsize=(12, 8))\n",
    "\n",
    "# Generate line plot of training, testing loss over epochs.\n",
    "plt.plot(train_loss, label='Training Loss', color='#185fad')\n",
    "plt.plot(test_loss, label='Testing Loss', color='orange')\n",
    "\n",
    "# Set title\n",
    "plt.title('Training and Testing Loss by Epoch', fontsize=25)\n",
    "plt.xlabel('Epoch', fontsize=18)\n",
    "plt.ylabel('Categorical Crossentropy', fontsize=18)\n",
    "plt.xticks(epoch_labels, epoch_labels)    # ticks, labels\n",
    "\n",
    "plt.legend(fontsize=18);\n"
   ]
  },
  {
   "cell_type": "code",
   "execution_count": 23,
   "metadata": {},
   "outputs": [
    {
     "name": "stdout",
     "output_type": "stream",
     "text": [
      "1463/1463 [==============================] - 2s 1ms/step - loss: 0.3785 - acc: 0.8887\n"
     ]
    }
   ],
   "source": [
    "# Evaluate model on test data.\n",
    "cnn1_score = model.evaluate(X_train,\n",
    "                               y_train,\n",
    "                               verbose=1)\n",
    "\n",
    "cnn1_labels = model.metrics_names"
   ]
  },
  {
   "cell_type": "code",
   "execution_count": 24,
   "metadata": {},
   "outputs": [
    {
     "name": "stdout",
     "output_type": "stream",
     "text": [
      "CNN loss  : 0.3784801661968231\n",
      "CNN acc   : 0.8886561989784241\n",
      "\n"
     ]
    }
   ],
   "source": [
    "print(f'CNN {cnn1_labels[0]}  : {cnn1_score[0]}')\n",
    "print(f'CNN {cnn1_labels[1]}   : {cnn1_score[1]}')\n",
    "print()"
   ]
  },
  {
   "cell_type": "markdown",
   "metadata": {},
   "source": [
    "# Subreddit: Anorexia Nervosa"
   ]
  },
  {
   "cell_type": "code",
   "execution_count": 25,
   "metadata": {},
   "outputs": [],
   "source": [
    "labels = posts['subreddit_AnorexiaNervosa']"
   ]
  },
  {
   "cell_type": "markdown",
   "metadata": {},
   "source": [
    "#### Train test split"
   ]
  },
  {
   "cell_type": "code",
   "execution_count": 26,
   "metadata": {},
   "outputs": [],
   "source": [
    "X_train, X_test, y_train, y_test = train_test_split(data, labels, \n",
    "                                                    test_size = .2,\n",
    "                                                    random_state=42)"
   ]
  },
  {
   "cell_type": "code",
   "execution_count": 27,
   "metadata": {},
   "outputs": [],
   "source": [
    "smote = SMOTE(random_state=42) \n",
    "X_train_sm, y_train_sm = smote.fit_resample(X_train, y_train)"
   ]
  },
  {
   "cell_type": "markdown",
   "metadata": {},
   "source": [
    "#### Defining a model"
   ]
  },
  {
   "cell_type": "code",
   "execution_count": 28,
   "metadata": {},
   "outputs": [
    {
     "name": "stdout",
     "output_type": "stream",
     "text": [
      "Model: \"sequential_2\"\n",
      "_________________________________________________________________\n",
      "Layer (type)                 Output Shape              Param #   \n",
      "=================================================================\n",
      "embedding_1 (Embedding)      (None, 500, 100)          1000000   \n",
      "_________________________________________________________________\n",
      "flatten_1 (Flatten)          (None, 50000)             0         \n",
      "_________________________________________________________________\n",
      "dense_2 (Dense)              (None, 32)                1600032   \n",
      "_________________________________________________________________\n",
      "dense_3 (Dense)              (None, 1)                 33        \n",
      "=================================================================\n",
      "Total params: 2,600,065\n",
      "Trainable params: 2,600,065\n",
      "Non-trainable params: 0\n",
      "_________________________________________________________________\n"
     ]
    }
   ],
   "source": [
    "model2 = Sequential()\n",
    "model2.add(Embedding(max_words, embedding_dim, input_length=maxlen))\n",
    "model2.add(Flatten())\n",
    "model2.add(Dense(32, activation='relu'))\n",
    "model2.add(Dense(1, activation='sigmoid'))\n",
    "model2.summary()"
   ]
  },
  {
   "cell_type": "markdown",
   "metadata": {},
   "source": [
    "#### Loading the embeddings in the model"
   ]
  },
  {
   "cell_type": "markdown",
   "metadata": {},
   "source": [
    "The Embedding layer has a single weight matrix: a 2D float matrix where each entry i is the word vector meant to be associated with the index i. \n",
    "\n",
    "We will load the Word2Vec matrix we prepared iinto the Embedding layer, the first layer in the model - "
   ]
  },
  {
   "cell_type": "code",
   "execution_count": 29,
   "metadata": {},
   "outputs": [],
   "source": [
    "model2.layers[0].set_weights([embedding_matrix])\n",
    "model2.layers[0].trainable = False # this freezes the embedding layer as to not \n",
    "                                  # be updated during training and forget what they already know"
   ]
  },
  {
   "cell_type": "markdown",
   "metadata": {},
   "source": [
    "#### Training and evaluating the model"
   ]
  },
  {
   "cell_type": "markdown",
   "metadata": {},
   "source": [
    "Compile and train the model."
   ]
  },
  {
   "cell_type": "markdown",
   "metadata": {},
   "source": [
    "##### Training and evaluation"
   ]
  },
  {
   "cell_type": "code",
   "execution_count": 30,
   "metadata": {},
   "outputs": [
    {
     "name": "stdout",
     "output_type": "stream",
     "text": [
      "Epoch 1/10\n",
      "2602/2602 [==============================] - 11s 4ms/step - loss: 0.5911 - acc: 0.8000 - val_loss: 0.5635 - val_acc: 0.8692\n",
      "Epoch 2/10\n",
      "2602/2602 [==============================] - 11s 4ms/step - loss: 0.3420 - acc: 0.8740 - val_loss: 0.5551 - val_acc: 0.8778\n",
      "Epoch 3/10\n",
      "2602/2602 [==============================] - 11s 4ms/step - loss: 0.3242 - acc: 0.8758 - val_loss: 0.4901 - val_acc: 0.8808\n",
      "Epoch 4/10\n",
      "2602/2602 [==============================] - 11s 4ms/step - loss: 0.3041 - acc: 0.8784 - val_loss: 0.5131 - val_acc: 0.8847\n",
      "Epoch 5/10\n",
      "2602/2602 [==============================] - 11s 4ms/step - loss: 0.2987 - acc: 0.8782 - val_loss: 0.5141 - val_acc: 0.8811\n",
      "Epoch 6/10\n",
      "2602/2602 [==============================] - 12s 5ms/step - loss: 0.3021 - acc: 0.8801 - val_loss: 0.4700 - val_acc: 0.8855\n",
      "Epoch 7/10\n",
      "2602/2602 [==============================] - 11s 4ms/step - loss: 0.2955 - acc: 0.8804 - val_loss: 0.5059 - val_acc: 0.8847\n",
      "Epoch 8/10\n",
      "2602/2602 [==============================] - 11s 4ms/step - loss: 0.2948 - acc: 0.8807 - val_loss: 0.5492 - val_acc: 0.8862\n",
      "Epoch 9/10\n",
      "2602/2602 [==============================] - 11s 4ms/step - loss: 0.2931 - acc: 0.8787 - val_loss: 0.5883 - val_acc: 0.8856\n",
      "Epoch 10/10\n",
      "2602/2602 [==============================] - 13s 5ms/step - loss: 0.2924 - acc: 0.8810 - val_loss: 0.5138 - val_acc: 0.8859\n"
     ]
    }
   ],
   "source": [
    "model2.compile(optimizer = 'adam',\n",
    "             loss = 'binary_crossentropy',\n",
    "             metrics = ['acc'])\n",
    "\n",
    "history = model2.fit(X_train_sm, \n",
    "                    y_train_sm,\n",
    "                   epochs = 10,\n",
    "                   batch_size = 32,\n",
    "                   validation_data = (X_test, y_test))\n",
    "\n",
    "#model.save_weights('model1.h5')"
   ]
  },
  {
   "cell_type": "markdown",
   "metadata": {},
   "source": [
    "##### Plotting the results"
   ]
  },
  {
   "cell_type": "code",
   "execution_count": 31,
   "metadata": {
    "scrolled": true
   },
   "outputs": [
    {
     "data": {
      "image/png": "[encoded data removed]",
      "text/plain": [
       "<Figure size 864x576 with 1 Axes>"
      ]
     },
     "metadata": {
      "needs_background": "light"
     },
     "output_type": "display_data"
    }
   ],
   "source": [
    "# Check out our train loss and test loss over epochs.\n",
    "train_loss = history.history['loss']\n",
    "test_loss = history.history['val_loss']\n",
    "epoch_labels = history.epoch\n",
    "\n",
    "# Set figure size.\n",
    "plt.figure(figsize=(12, 8))\n",
    "\n",
    "# Generate line plot of training, testing loss over epochs.\n",
    "plt.plot(train_loss, label='Training Loss', color='#185fad')\n",
    "plt.plot(test_loss, label='Testing Loss', color='orange')\n",
    "\n",
    "# Set title\n",
    "plt.title('Training and Testing Loss by Epoch', fontsize=25)\n",
    "plt.xlabel('Epoch', fontsize=18)\n",
    "plt.ylabel('Categorical Crossentropy', fontsize=18)\n",
    "plt.xticks(epoch_labels, epoch_labels)    # ticks, labels\n",
    "\n",
    "plt.legend(fontsize=18);\n"
   ]
  },
  {
   "cell_type": "code",
   "execution_count": 32,
   "metadata": {},
   "outputs": [
    {
     "name": "stdout",
     "output_type": "stream",
     "text": [
      "1463/1463 [==============================] - 2s 1ms/step - loss: 0.3713 - acc: 0.8887\n"
     ]
    }
   ],
   "source": [
    "# Evaluate model on test data.\n",
    "cnn2_score = model2.evaluate(X_train,\n",
    "                               y_train,\n",
    "                               verbose=1)\n",
    "\n",
    "cnn2_labels = model2.metrics_names"
   ]
  },
  {
   "cell_type": "code",
   "execution_count": 34,
   "metadata": {
    "scrolled": true
   },
   "outputs": [
    {
     "name": "stdout",
     "output_type": "stream",
     "text": [
      "CNN loss  : 0.37130770087242126\n",
      "CNN acc   : 0.888741672039032\n",
      "\n"
     ]
    }
   ],
   "source": [
    "print(f'CNN {cnn2_labels[0]}  : {cnn2_score[0]}')\n",
    "print(f'CNN {cnn2_labels[1]}   : {cnn2_score[1]}')\n",
    "print()"
   ]
  },
  {
   "cell_type": "markdown",
   "metadata": {},
   "source": [
    "# Subreddit: BPD"
   ]
  },
  {
   "cell_type": "code",
   "execution_count": 36,
   "metadata": {},
   "outputs": [],
   "source": [
    "labels = posts['subreddit_BPD']"
   ]
  },
  {
   "cell_type": "markdown",
   "metadata": {},
   "source": [
    "#### Train test split"
   ]
  },
  {
   "cell_type": "code",
   "execution_count": 37,
   "metadata": {},
   "outputs": [],
   "source": [
    "X_train, X_test, y_train, y_test = train_test_split(data, labels, \n",
    "                                                    test_size = .2,\n",
    "                                                    random_state=42)"
   ]
  },
  {
   "cell_type": "code",
   "execution_count": 38,
   "metadata": {},
   "outputs": [],
   "source": [
    "smote = SMOTE(random_state=42) \n",
    "X_train_sm, y_train_sm = smote.fit_resample(X_train, y_train)"
   ]
  },
  {
   "cell_type": "markdown",
   "metadata": {},
   "source": [
    "#### Defining a model"
   ]
  },
  {
   "cell_type": "code",
   "execution_count": 39,
   "metadata": {},
   "outputs": [
    {
     "name": "stdout",
     "output_type": "stream",
     "text": [
      "Model: \"sequential_3\"\n",
      "_________________________________________________________________\n",
      "Layer (type)                 Output Shape              Param #   \n",
      "=================================================================\n",
      "embedding_2 (Embedding)      (None, 500, 100)          1000000   \n",
      "_________________________________________________________________\n",
      "flatten_2 (Flatten)          (None, 50000)             0         \n",
      "_________________________________________________________________\n",
      "dense_4 (Dense)              (None, 32)                1600032   \n",
      "_________________________________________________________________\n",
      "dense_5 (Dense)              (None, 1)                 33        \n",
      "=================================================================\n",
      "Total params: 2,600,065\n",
      "Trainable params: 2,600,065\n",
      "Non-trainable params: 0\n",
      "_________________________________________________________________\n"
     ]
    }
   ],
   "source": [
    "model3 = Sequential()\n",
    "model3.add(Embedding(max_words, embedding_dim, input_length=maxlen))\n",
    "model3.add(Flatten())\n",
    "model3.add(Dense(32, activation='relu'))\n",
    "model3.add(Dense(1, activation='sigmoid'))\n",
    "model3.summary()"
   ]
  },
  {
   "cell_type": "markdown",
   "metadata": {},
   "source": [
    "#### Loading the embeddings in the model"
   ]
  },
  {
   "cell_type": "markdown",
   "metadata": {},
   "source": [
    "The Embedding layer has a single weight matrix: a 2D float matrix where each entry i is the word vector meant to be associated with the index i. \n",
    "\n",
    "We will load the Word2Vec matrix we prepared iinto the Embedding layer, the first layer in the model - "
   ]
  },
  {
   "cell_type": "code",
   "execution_count": 40,
   "metadata": {},
   "outputs": [],
   "source": [
    "model3.layers[0].set_weights([embedding_matrix])\n",
    "model3.layers[0].trainable = False # this freezes the embedding layer as to not \n",
    "                                  # be updated during training and forget what they already know"
   ]
  },
  {
   "cell_type": "markdown",
   "metadata": {},
   "source": [
    "#### Training and evaluating the model"
   ]
  },
  {
   "cell_type": "markdown",
   "metadata": {},
   "source": [
    "Compile and train the model."
   ]
  },
  {
   "cell_type": "markdown",
   "metadata": {},
   "source": [
    "##### Training and evaluation"
   ]
  },
  {
   "cell_type": "code",
   "execution_count": 41,
   "metadata": {},
   "outputs": [
    {
     "name": "stdout",
     "output_type": "stream",
     "text": [
      "Epoch 1/10\n",
      "2601/2601 [==============================] - 12s 4ms/step - loss: 0.5751 - acc: 0.8014 - val_loss: 0.4467 - val_acc: 0.8757\n",
      "Epoch 2/10\n",
      "2601/2601 [==============================] - 11s 4ms/step - loss: 0.3239 - acc: 0.8729 - val_loss: 0.4784 - val_acc: 0.8802\n",
      "Epoch 3/10\n",
      "2601/2601 [==============================] - 11s 4ms/step - loss: 0.3043 - acc: 0.8786 - val_loss: 0.5229 - val_acc: 0.8821\n",
      "Epoch 4/10\n",
      "2601/2601 [==============================] - 11s 4ms/step - loss: 0.3139 - acc: 0.8748 - val_loss: 0.4663 - val_acc: 0.8867\n",
      "Epoch 5/10\n",
      "2601/2601 [==============================] - 11s 4ms/step - loss: 0.3077 - acc: 0.8771 - val_loss: 0.4833 - val_acc: 0.8879\n",
      "Epoch 6/10\n",
      "2601/2601 [==============================] - 11s 4ms/step - loss: 0.2974 - acc: 0.8776 - val_loss: 0.5196 - val_acc: 0.8861\n",
      "Epoch 7/10\n",
      "2601/2601 [==============================] - 12s 5ms/step - loss: 0.2952 - acc: 0.8798 - val_loss: 0.5485 - val_acc: 0.8851\n",
      "Epoch 8/10\n",
      "2601/2601 [==============================] - 12s 5ms/step - loss: 0.3154 - acc: 0.8791 - val_loss: 0.4686 - val_acc: 0.8879\n",
      "Epoch 9/10\n",
      "2601/2601 [==============================] - 12s 5ms/step - loss: 0.2871 - acc: 0.8799 - val_loss: 0.4834 - val_acc: 0.8874\n",
      "Epoch 10/10\n",
      "2601/2601 [==============================] - 12s 5ms/step - loss: 0.3560 - acc: 0.8768 - val_loss: 0.5156 - val_acc: 0.8873\n"
     ]
    }
   ],
   "source": [
    "model3.compile(optimizer = 'adam',\n",
    "             loss = 'binary_crossentropy',\n",
    "             metrics = ['acc'])\n",
    "\n",
    "history = model3.fit(X_train_sm, \n",
    "                    y_train_sm,\n",
    "                   epochs = 10,\n",
    "                   batch_size = 32,\n",
    "                   validation_data = (X_test, y_test))\n",
    "\n",
    "#model.save_weights('model1.h5')"
   ]
  },
  {
   "cell_type": "markdown",
   "metadata": {},
   "source": [
    "##### Plotting the results"
   ]
  },
  {
   "cell_type": "code",
   "execution_count": 42,
   "metadata": {
    "scrolled": true
   },
   "outputs": [
    {
     "data": {
      "image/png": "[encoded data removed]",
      "text/plain": [
       "<Figure size 864x576 with 1 Axes>"
      ]
     },
     "metadata": {
      "needs_background": "light"
     },
     "output_type": "display_data"
    }
   ],
   "source": [
    "# Check out our train loss and test loss over epochs.\n",
    "train_loss = history.history['loss']\n",
    "test_loss = history.history['val_loss']\n",
    "epoch_labels = history.epoch\n",
    "\n",
    "# Set figure size.\n",
    "plt.figure(figsize=(12, 8))\n",
    "\n",
    "# Generate line plot of training, testing loss over epochs.\n",
    "plt.plot(train_loss, label='Training Loss', color='#185fad')\n",
    "plt.plot(test_loss, label='Testing Loss', color='orange')\n",
    "\n",
    "# Set title\n",
    "plt.title('Training and Testing Loss by Epoch', fontsize=25)\n",
    "plt.xlabel('Epoch', fontsize=18)\n",
    "plt.ylabel('Categorical Crossentropy', fontsize=18)\n",
    "plt.xticks(epoch_labels, epoch_labels)    # ticks, labels\n",
    "\n",
    "plt.legend(fontsize=18);\n"
   ]
  },
  {
   "cell_type": "code",
   "execution_count": 43,
   "metadata": {},
   "outputs": [
    {
     "name": "stdout",
     "output_type": "stream",
     "text": [
      "1463/1463 [==============================] - 2s 1ms/step - loss: 0.3740 - acc: 0.8881\n"
     ]
    }
   ],
   "source": [
    "# Evaluate model on test data.\n",
    "cnn3_score = model3.evaluate(X_train,\n",
    "                               y_train,\n",
    "                               verbose=1)\n",
    "\n",
    "cnn3_labels = model3.metrics_names"
   ]
  },
  {
   "cell_type": "code",
   "execution_count": 44,
   "metadata": {},
   "outputs": [
    {
     "name": "stdout",
     "output_type": "stream",
     "text": [
      "CNN loss  : 0.37395215034484863\n",
      "CNN acc   : 0.8880791664123535\n",
      "\n"
     ]
    }
   ],
   "source": [
    "print(f'CNN {cnn3_labels[0]}  : {cnn3_score[0]}')\n",
    "print(f'CNN {cnn3_labels[1]}   : {cnn3_score[1]}')\n",
    "print()"
   ]
  },
  {
   "cell_type": "code",
   "execution_count": null,
   "metadata": {},
   "outputs": [],
   "source": []
  }
 ],
 "metadata": {
  "kernelspec": {
   "display_name": "Python 3",
   "language": "python",
   "name": "python3"
  },
  "language_info": {
   "codemirror_mode": {
    "name": "ipython",
    "version": 3
   },
   "file_extension": ".py",
   "mimetype": "text/x-python",
   "name": "python",
   "nbconvert_exporter": "python",
   "pygments_lexer": "ipython3",
   "version": "3.7.4"
  },
  "toc": {
   "base_numbering": 1,
   "nav_menu": {},
   "number_sections": true,
   "sideBar": true,
   "skip_h1_title": false,
   "title_cell": "Table of Contents",
   "title_sidebar": "Contents",
   "toc_cell": false,
   "toc_position": {},
   "toc_section_display": true,
   "toc_window_display": false
  }
 },
 "nbformat": 4,
 "nbformat_minor": 2
}
