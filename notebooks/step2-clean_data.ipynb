{
 "cells": [
  {
   "cell_type": "markdown",
   "metadata": {},
   "source": [
    "# Clean data to prepare for NLP"
   ]
  },
  {
   "cell_type": "markdown",
   "metadata": {},
   "source": [
    "##### Import libraries"
   ]
  },
  {
   "cell_type": "code",
   "execution_count": 55,
   "metadata": {},
   "outputs": [],
   "source": [
    "import pandas as pd\n",
    "import numpy as np\n",
    "\n",
    "import seaborn as sns\n",
    "import matplotlib.pyplot as plt\n",
    "plt.style.use('fivethirtyeight')"
   ]
  },
  {
   "cell_type": "markdown",
   "metadata": {},
   "source": [
    "##### Load data"
   ]
  },
  {
   "cell_type": "code",
   "execution_count": 2,
   "metadata": {},
   "outputs": [],
   "source": [
    "# PreCovid Reddit posts\n",
    "PreCovid_posts = pd.read_csv('../data/raw/reddit_posts_PreCovid.csv') \n",
    "\n",
    "# PostCovid Reddit posts\n",
    "PostCovid_posts = pd.read_csv('../data/raw/reddit_posts_PostCovid.csv') "
   ]
  },
  {
   "cell_type": "markdown",
   "metadata": {},
   "source": [
    "# Clean data"
   ]
  },
  {
   "cell_type": "code",
   "execution_count": 3,
   "metadata": {},
   "outputs": [
    {
     "data": {
      "text/html": [
       "<div>\n",
       "<style scoped>\n",
       "    .dataframe tbody tr th:only-of-type {\n",
       "        vertical-align: middle;\n",
       "    }\n",
       "\n",
       "    .dataframe tbody tr th {\n",
       "        vertical-align: top;\n",
       "    }\n",
       "\n",
       "    .dataframe thead th {\n",
       "        text-align: right;\n",
       "    }\n",
       "</style>\n",
       "<table border=\"1\" class=\"dataframe\">\n",
       "  <thead>\n",
       "    <tr style=\"text-align: right;\">\n",
       "      <th></th>\n",
       "      <th>author</th>\n",
       "      <th>title</th>\n",
       "      <th>selftext</th>\n",
       "      <th>created_utc</th>\n",
       "      <th>subreddit</th>\n",
       "    </tr>\n",
       "  </thead>\n",
       "  <tbody>\n",
       "    <tr>\n",
       "      <td>0</td>\n",
       "      <td>sub16784</td>\n",
       "      <td>Help. Dying inside</td>\n",
       "      <td>So I posted something similar on the binge eat...</td>\n",
       "      <td>1526608139</td>\n",
       "      <td>bulimia</td>\n",
       "    </tr>\n",
       "    <tr>\n",
       "      <td>1</td>\n",
       "      <td>sub12545</td>\n",
       "      <td>Book Recommendations? - Brain Over Binge</td>\n",
       "      <td>Hi, a few months ago I went to an Eating Disor...</td>\n",
       "      <td>1526595326</td>\n",
       "      <td>bulimia</td>\n",
       "    </tr>\n",
       "    <tr>\n",
       "      <td>2</td>\n",
       "      <td>sub10227</td>\n",
       "      <td>In need of some encouragement</td>\n",
       "      <td>I just binged on pizza rolls, doritos and cand...</td>\n",
       "      <td>1526528018</td>\n",
       "      <td>bulimia</td>\n",
       "    </tr>\n",
       "    <tr>\n",
       "      <td>3</td>\n",
       "      <td>sub10942</td>\n",
       "      <td>Struggling so badly. I can't take this feeling</td>\n",
       "      <td>I had a surgery  that doesn't allow me to purg...</td>\n",
       "      <td>1526519003</td>\n",
       "      <td>bulimia</td>\n",
       "    </tr>\n",
       "    <tr>\n",
       "      <td>4</td>\n",
       "      <td>sub4221</td>\n",
       "      <td>Been trying to quit this nasty habit...</td>\n",
       "      <td>Struggling with bulimia for 4 years now and it...</td>\n",
       "      <td>1526360915</td>\n",
       "      <td>bulimia</td>\n",
       "    </tr>\n",
       "  </tbody>\n",
       "</table>\n",
       "</div>"
      ],
      "text/plain": [
       "     author                                           title  \\\n",
       "0  sub16784                              Help. Dying inside   \n",
       "1  sub12545        Book Recommendations? - Brain Over Binge   \n",
       "2  sub10227                   In need of some encouragement   \n",
       "3  sub10942  Struggling so badly. I can't take this feeling   \n",
       "4   sub4221         Been trying to quit this nasty habit...   \n",
       "\n",
       "                                            selftext  created_utc subreddit  \n",
       "0  So I posted something similar on the binge eat...   1526608139   bulimia  \n",
       "1  Hi, a few months ago I went to an Eating Disor...   1526595326   bulimia  \n",
       "2  I just binged on pizza rolls, doritos and cand...   1526528018   bulimia  \n",
       "3  I had a surgery  that doesn't allow me to purg...   1526519003   bulimia  \n",
       "4  Struggling with bulimia for 4 years now and it...   1526360915   bulimia  "
      ]
     },
     "execution_count": 3,
     "metadata": {},
     "output_type": "execute_result"
    }
   ],
   "source": [
    "PreCovid_posts.head()"
   ]
  },
  {
   "cell_type": "code",
   "execution_count": 4,
   "metadata": {},
   "outputs": [
    {
     "data": {
      "text/html": [
       "<div>\n",
       "<style scoped>\n",
       "    .dataframe tbody tr th:only-of-type {\n",
       "        vertical-align: middle;\n",
       "    }\n",
       "\n",
       "    .dataframe tbody tr th {\n",
       "        vertical-align: top;\n",
       "    }\n",
       "\n",
       "    .dataframe thead th {\n",
       "        text-align: right;\n",
       "    }\n",
       "</style>\n",
       "<table border=\"1\" class=\"dataframe\">\n",
       "  <thead>\n",
       "    <tr style=\"text-align: right;\">\n",
       "      <th></th>\n",
       "      <th>author</th>\n",
       "      <th>title</th>\n",
       "      <th>selftext</th>\n",
       "      <th>created_utc</th>\n",
       "      <th>subreddit</th>\n",
       "    </tr>\n",
       "  </thead>\n",
       "  <tbody>\n",
       "    <tr>\n",
       "      <td>0</td>\n",
       "      <td>sub17706</td>\n",
       "      <td>if i was able to keep an excess of food in my ...</td>\n",
       "      <td>NaN</td>\n",
       "      <td>1593568164</td>\n",
       "      <td>bulimia</td>\n",
       "    </tr>\n",
       "    <tr>\n",
       "      <td>1</td>\n",
       "      <td>sub19142</td>\n",
       "      <td>Get help. Please.</td>\n",
       "      <td>I know it’s embarrassing. I know it is hard to...</td>\n",
       "      <td>1593566253</td>\n",
       "      <td>bulimia</td>\n",
       "    </tr>\n",
       "    <tr>\n",
       "      <td>2</td>\n",
       "      <td>sub15645</td>\n",
       "      <td>More bulimemes for you guys 👌🏻</td>\n",
       "      <td>NaN</td>\n",
       "      <td>1593556888</td>\n",
       "      <td>bulimia</td>\n",
       "    </tr>\n",
       "    <tr>\n",
       "      <td>3</td>\n",
       "      <td>sub10794</td>\n",
       "      <td>Teeth Are Rough?</td>\n",
       "      <td>[Here are my teeth](https://imgur.com/a/pyV5Ss...</td>\n",
       "      <td>1593555043</td>\n",
       "      <td>bulimia</td>\n",
       "    </tr>\n",
       "    <tr>\n",
       "      <td>4</td>\n",
       "      <td>sub17937</td>\n",
       "      <td>Badanie</td>\n",
       "      <td>[removed]</td>\n",
       "      <td>1593534095</td>\n",
       "      <td>bulimia</td>\n",
       "    </tr>\n",
       "  </tbody>\n",
       "</table>\n",
       "</div>"
      ],
      "text/plain": [
       "     author                                              title  \\\n",
       "0  sub17706  if i was able to keep an excess of food in my ...   \n",
       "1  sub19142                                  Get help. Please.   \n",
       "2  sub15645                     More bulimemes for you guys 👌🏻   \n",
       "3  sub10794                                   Teeth Are Rough?   \n",
       "4  sub17937                                            Badanie   \n",
       "\n",
       "                                            selftext  created_utc subreddit  \n",
       "0                                                NaN   1593568164   bulimia  \n",
       "1  I know it’s embarrassing. I know it is hard to...   1593566253   bulimia  \n",
       "2                                                NaN   1593556888   bulimia  \n",
       "3  [Here are my teeth](https://imgur.com/a/pyV5Ss...   1593555043   bulimia  \n",
       "4                                          [removed]   1593534095   bulimia  "
      ]
     },
     "execution_count": 4,
     "metadata": {},
     "output_type": "execute_result"
    }
   ],
   "source": [
    "# Double check - Did I get the comments but not the posts themsleves?\n",
    "PostCovid_posts.head()"
   ]
  },
  {
   "cell_type": "code",
   "execution_count": 5,
   "metadata": {},
   "outputs": [
    {
     "data": {
      "text/plain": [
       "author         object\n",
       "title          object\n",
       "selftext       object\n",
       "created_utc     int64\n",
       "subreddit      object\n",
       "dtype: object"
      ]
     },
     "execution_count": 5,
     "metadata": {},
     "output_type": "execute_result"
    }
   ],
   "source": [
    "PreCovid_posts.dtypes"
   ]
  },
  {
   "cell_type": "code",
   "execution_count": 6,
   "metadata": {},
   "outputs": [
    {
     "data": {
      "text/plain": [
       "author         object\n",
       "title          object\n",
       "selftext       object\n",
       "created_utc     int64\n",
       "subreddit      object\n",
       "dtype: object"
      ]
     },
     "execution_count": 6,
     "metadata": {},
     "output_type": "execute_result"
    }
   ],
   "source": [
    "PostCovid_posts.dtypes"
   ]
  },
  {
   "cell_type": "code",
   "execution_count": 7,
   "metadata": {},
   "outputs": [
    {
     "data": {
      "text/plain": [
       "2079"
      ]
     },
     "execution_count": 7,
     "metadata": {},
     "output_type": "execute_result"
    }
   ],
   "source": [
    "len(PreCovid_posts) - len(PostCovid_posts)"
   ]
  },
  {
   "cell_type": "markdown",
   "metadata": {},
   "source": [
    "#### Check Null Values"
   ]
  },
  {
   "cell_type": "code",
   "execution_count": 8,
   "metadata": {},
   "outputs": [
    {
     "data": {
      "text/plain": [
       "author            0\n",
       "title             0\n",
       "selftext       4002\n",
       "created_utc       0\n",
       "subreddit         0\n",
       "dtype: int64"
      ]
     },
     "execution_count": 8,
     "metadata": {},
     "output_type": "execute_result"
    }
   ],
   "source": [
    "PreCovid_posts.isnull().sum()"
   ]
  },
  {
   "cell_type": "code",
   "execution_count": 9,
   "metadata": {},
   "outputs": [
    {
     "data": {
      "text/plain": [
       "author            0\n",
       "title             0\n",
       "selftext       2910\n",
       "created_utc       0\n",
       "subreddit         0\n",
       "dtype: int64"
      ]
     },
     "execution_count": 9,
     "metadata": {},
     "output_type": "execute_result"
    }
   ],
   "source": [
    "PostCovid_posts.isnull().sum()"
   ]
  },
  {
   "cell_type": "markdown",
   "metadata": {},
   "source": [
    "## Combine columns"
   ]
  },
  {
   "cell_type": "code",
   "execution_count": 10,
   "metadata": {},
   "outputs": [],
   "source": [
    "# Combine title with self text column and then check NAs again\n",
    "PreCovid_posts['text'] = PreCovid_posts[['title', 'selftext']].stack().groupby(level=0).agg(' : '.join)\n"
   ]
  },
  {
   "cell_type": "code",
   "execution_count": 11,
   "metadata": {},
   "outputs": [],
   "source": [
    "PostCovid_posts['text'] = PostCovid_posts[['title', 'selftext']].stack().groupby(level=0).agg(' : '.join)\n"
   ]
  },
  {
   "cell_type": "code",
   "execution_count": 17,
   "metadata": {},
   "outputs": [],
   "source": [
    "# Drop the columns we combined\n",
    "PreCovid_posts.drop(columns = ['title','selftext'], inplace=True)"
   ]
  },
  {
   "cell_type": "code",
   "execution_count": 18,
   "metadata": {},
   "outputs": [],
   "source": [
    "PostCovid_posts.drop(columns = ['title','selftext'], inplace=True)"
   ]
  },
  {
   "cell_type": "markdown",
   "metadata": {},
   "source": [
    "## Explore the dataframes"
   ]
  },
  {
   "cell_type": "code",
   "execution_count": 23,
   "metadata": {},
   "outputs": [],
   "source": [
    "# Submissionlength\n",
    "# Create a new column with submission length\n",
    "PreCovid_posts['text_length'] = PreCovid_posts['text'].map(len)\n",
    "PostCovid_posts['text_length'] = PostCovid_posts['text'].map(len)"
   ]
  },
  {
   "cell_type": "code",
   "execution_count": 24,
   "metadata": {},
   "outputs": [],
   "source": [
    "# Create a new column with number of words per submission\n",
    "PreCovid_posts['text_word_count'] = PreCovid_posts['text'].map(lambda x: len(x.split()))\n",
    "PostCovid_posts['text_word_count'] = PostCovid_posts['text'].map(lambda x: len(x.split()))"
   ]
  },
  {
   "cell_type": "code",
   "execution_count": 26,
   "metadata": {},
   "outputs": [
    {
     "data": {
      "text/html": [
       "<div>\n",
       "<style scoped>\n",
       "    .dataframe tbody tr th:only-of-type {\n",
       "        vertical-align: middle;\n",
       "    }\n",
       "\n",
       "    .dataframe tbody tr th {\n",
       "        vertical-align: top;\n",
       "    }\n",
       "\n",
       "    .dataframe thead th {\n",
       "        text-align: right;\n",
       "    }\n",
       "</style>\n",
       "<table border=\"1\" class=\"dataframe\">\n",
       "  <thead>\n",
       "    <tr style=\"text-align: right;\">\n",
       "      <th></th>\n",
       "      <th>text</th>\n",
       "    </tr>\n",
       "  </thead>\n",
       "  <tbody>\n",
       "    <tr>\n",
       "      <td>10316</td>\n",
       "      <td>“teleport”</td>\n",
       "    </tr>\n",
       "    <tr>\n",
       "      <td>9191</td>\n",
       "      <td>Retards</td>\n",
       "    </tr>\n",
       "    <tr>\n",
       "      <td>5512</td>\n",
       "      <td>I.ate.breakfast.</td>\n",
       "    </tr>\n",
       "    <tr>\n",
       "      <td>5513</td>\n",
       "      <td>..</td>\n",
       "    </tr>\n",
       "    <tr>\n",
       "      <td>18855</td>\n",
       "      <td>absolutelynotmeirl</td>\n",
       "    </tr>\n",
       "  </tbody>\n",
       "</table>\n",
       "</div>"
      ],
      "text/plain": [
       "                     text\n",
       "10316          “teleport”\n",
       "9191              Retards\n",
       "5512     I.ate.breakfast.\n",
       "5513                   ..\n",
       "18855  absolutelynotmeirl"
      ]
     },
     "execution_count": 26,
     "metadata": {},
     "output_type": "execute_result"
    }
   ],
   "source": [
    "# Show the shortest submissions \n",
    "PreCovid_posts.sort_values(by='text_word_count', ascending=True)[['text']].head()"
   ]
  },
  {
   "cell_type": "code",
   "execution_count": 27,
   "metadata": {},
   "outputs": [
    {
     "data": {
      "text/html": [
       "<div>\n",
       "<style scoped>\n",
       "    .dataframe tbody tr th:only-of-type {\n",
       "        vertical-align: middle;\n",
       "    }\n",
       "\n",
       "    .dataframe tbody tr th {\n",
       "        vertical-align: top;\n",
       "    }\n",
       "\n",
       "    .dataframe thead th {\n",
       "        text-align: right;\n",
       "    }\n",
       "</style>\n",
       "<table border=\"1\" class=\"dataframe\">\n",
       "  <thead>\n",
       "    <tr style=\"text-align: right;\">\n",
       "      <th></th>\n",
       "      <th>text</th>\n",
       "    </tr>\n",
       "  </thead>\n",
       "  <tbody>\n",
       "    <tr>\n",
       "      <td>7456</td>\n",
       "      <td>Lol</td>\n",
       "    </tr>\n",
       "    <tr>\n",
       "      <td>12247</td>\n",
       "      <td>*sigh*</td>\n",
       "    </tr>\n",
       "    <tr>\n",
       "      <td>12246</td>\n",
       "      <td>Yup</td>\n",
       "    </tr>\n",
       "    <tr>\n",
       "      <td>7610</td>\n",
       "      <td>Brest</td>\n",
       "    </tr>\n",
       "    <tr>\n",
       "      <td>12216</td>\n",
       "      <td>w</td>\n",
       "    </tr>\n",
       "  </tbody>\n",
       "</table>\n",
       "</div>"
      ],
      "text/plain": [
       "         text\n",
       "7456      Lol\n",
       "12247  *sigh*\n",
       "12246     Yup\n",
       "7610    Brest\n",
       "12216       w"
      ]
     },
     "execution_count": 27,
     "metadata": {},
     "output_type": "execute_result"
    }
   ],
   "source": [
    "PostCovid_posts.sort_values(by='text_word_count', ascending=True)[['text']].head()"
   ]
  },
  {
   "cell_type": "code",
   "execution_count": 28,
   "metadata": {},
   "outputs": [
    {
     "data": {
      "text/html": [
       "<div>\n",
       "<style scoped>\n",
       "    .dataframe tbody tr th:only-of-type {\n",
       "        vertical-align: middle;\n",
       "    }\n",
       "\n",
       "    .dataframe tbody tr th {\n",
       "        vertical-align: top;\n",
       "    }\n",
       "\n",
       "    .dataframe thead th {\n",
       "        text-align: right;\n",
       "    }\n",
       "</style>\n",
       "<table border=\"1\" class=\"dataframe\">\n",
       "  <thead>\n",
       "    <tr style=\"text-align: right;\">\n",
       "      <th></th>\n",
       "      <th>text</th>\n",
       "    </tr>\n",
       "  </thead>\n",
       "  <tbody>\n",
       "    <tr>\n",
       "      <td>11470</td>\n",
       "      <td>My journey into the rabbit hole - investigatio...</td>\n",
       "    </tr>\n",
       "    <tr>\n",
       "      <td>27396</td>\n",
       "      <td>Abusive, possibly narcissistic mother trying t...</td>\n",
       "    </tr>\n",
       "    <tr>\n",
       "      <td>13072</td>\n",
       "      <td>Schizophrenic-Writing to a lost love : The Fau...</td>\n",
       "    </tr>\n",
       "    <tr>\n",
       "      <td>14189</td>\n",
       "      <td>Met a girl with BDP, This is my Story (Long te...</td>\n",
       "    </tr>\n",
       "    <tr>\n",
       "      <td>11692</td>\n",
       "      <td>Can I have your opinion on my situation? : Hi,...</td>\n",
       "    </tr>\n",
       "  </tbody>\n",
       "</table>\n",
       "</div>"
      ],
      "text/plain": [
       "                                                    text\n",
       "11470  My journey into the rabbit hole - investigatio...\n",
       "27396  Abusive, possibly narcissistic mother trying t...\n",
       "13072  Schizophrenic-Writing to a lost love : The Fau...\n",
       "14189  Met a girl with BDP, This is my Story (Long te...\n",
       "11692  Can I have your opinion on my situation? : Hi,..."
      ]
     },
     "execution_count": 28,
     "metadata": {},
     "output_type": "execute_result"
    }
   ],
   "source": [
    "# Show the longest submissions\n",
    "PreCovid_posts.sort_values(by='text_word_count', ascending=False)[['text']].head()"
   ]
  },
  {
   "cell_type": "code",
   "execution_count": 29,
   "metadata": {},
   "outputs": [
    {
     "data": {
      "text/html": [
       "<div>\n",
       "<style scoped>\n",
       "    .dataframe tbody tr th:only-of-type {\n",
       "        vertical-align: middle;\n",
       "    }\n",
       "\n",
       "    .dataframe tbody tr th {\n",
       "        vertical-align: top;\n",
       "    }\n",
       "\n",
       "    .dataframe thead th {\n",
       "        text-align: right;\n",
       "    }\n",
       "</style>\n",
       "<table border=\"1\" class=\"dataframe\">\n",
       "  <thead>\n",
       "    <tr style=\"text-align: right;\">\n",
       "      <th></th>\n",
       "      <th>text</th>\n",
       "    </tr>\n",
       "  </thead>\n",
       "  <tbody>\n",
       "    <tr>\n",
       "      <td>27026</td>\n",
       "      <td>Life of a Transgender in Russia : I need help....</td>\n",
       "    </tr>\n",
       "    <tr>\n",
       "      <td>28384</td>\n",
       "      <td>My Story - TW⚠️ : I have never actually posted...</td>\n",
       "    </tr>\n",
       "    <tr>\n",
       "      <td>28385</td>\n",
       "      <td>My Story - TW⚠️ : I have never actually posted...</td>\n",
       "    </tr>\n",
       "    <tr>\n",
       "      <td>4298</td>\n",
       "      <td>A rather fast recovery : &amp;amp;#x200B;\\n\\nI wil...</td>\n",
       "    </tr>\n",
       "    <tr>\n",
       "      <td>15116</td>\n",
       "      <td>She left me feeling blame, shame, and remorse....</td>\n",
       "    </tr>\n",
       "  </tbody>\n",
       "</table>\n",
       "</div>"
      ],
      "text/plain": [
       "                                                    text\n",
       "27026  Life of a Transgender in Russia : I need help....\n",
       "28384  My Story - TW⚠️ : I have never actually posted...\n",
       "28385  My Story - TW⚠️ : I have never actually posted...\n",
       "4298   A rather fast recovery : &amp;#x200B;\\n\\nI wil...\n",
       "15116  She left me feeling blame, shame, and remorse...."
      ]
     },
     "execution_count": 29,
     "metadata": {},
     "output_type": "execute_result"
    }
   ],
   "source": [
    "# Show the longest submissions\n",
    "PostCovid_posts.sort_values(by='text_word_count', ascending=False)[['text']].head()"
   ]
  },
  {
   "cell_type": "code",
   "execution_count": 39,
   "metadata": {},
   "outputs": [
    {
     "data": {
      "text/html": [
       "<div>\n",
       "<style scoped>\n",
       "    .dataframe tbody tr th:only-of-type {\n",
       "        vertical-align: middle;\n",
       "    }\n",
       "\n",
       "    .dataframe tbody tr th {\n",
       "        vertical-align: top;\n",
       "    }\n",
       "\n",
       "    .dataframe thead th {\n",
       "        text-align: right;\n",
       "    }\n",
       "</style>\n",
       "<table border=\"1\" class=\"dataframe\">\n",
       "  <thead>\n",
       "    <tr style=\"text-align: right;\">\n",
       "      <th></th>\n",
       "      <th>author</th>\n",
       "      <th>created_utc</th>\n",
       "      <th>subreddit</th>\n",
       "      <th>text</th>\n",
       "      <th>text_length</th>\n",
       "      <th>text_word_count</th>\n",
       "    </tr>\n",
       "  </thead>\n",
       "  <tbody>\n",
       "    <tr>\n",
       "      <td>28384</td>\n",
       "      <td>sub18411</td>\n",
       "      <td>1591323269</td>\n",
       "      <td>mentalhealth</td>\n",
       "      <td>My Story - TW⚠️ : I have never actually posted anything on reddit and I am pretty anxious about ...</td>\n",
       "      <td>25307</td>\n",
       "      <td>4981</td>\n",
       "    </tr>\n",
       "  </tbody>\n",
       "</table>\n",
       "</div>"
      ],
      "text/plain": [
       "         author  created_utc     subreddit                                                                                                 text  text_length  text_word_count\n",
       "28384  sub18411   1591323269  mentalhealth  My Story - TW⚠️ : I have never actually posted anything on reddit and I am pretty anxious about ...        25307             4981"
      ]
     },
     "execution_count": 39,
     "metadata": {},
     "output_type": "execute_result"
    }
   ],
   "source": [
    "# Check if 28384 and 28385 are duplicates... \n",
    "# it's not the same author so also need to double check this, is the anonymizing wrong \n",
    "# or does it apear as a different author in raw file?\n",
    "PostCovid_posts.iloc[[28384]]"
   ]
  },
  {
   "cell_type": "code",
   "execution_count": 40,
   "metadata": {},
   "outputs": [
    {
     "data": {
      "text/html": [
       "<div>\n",
       "<style scoped>\n",
       "    .dataframe tbody tr th:only-of-type {\n",
       "        vertical-align: middle;\n",
       "    }\n",
       "\n",
       "    .dataframe tbody tr th {\n",
       "        vertical-align: top;\n",
       "    }\n",
       "\n",
       "    .dataframe thead th {\n",
       "        text-align: right;\n",
       "    }\n",
       "</style>\n",
       "<table border=\"1\" class=\"dataframe\">\n",
       "  <thead>\n",
       "    <tr style=\"text-align: right;\">\n",
       "      <th></th>\n",
       "      <th>author</th>\n",
       "      <th>created_utc</th>\n",
       "      <th>subreddit</th>\n",
       "      <th>text</th>\n",
       "      <th>text_length</th>\n",
       "      <th>text_word_count</th>\n",
       "    </tr>\n",
       "  </thead>\n",
       "  <tbody>\n",
       "    <tr>\n",
       "      <td>28385</td>\n",
       "      <td>sub10431</td>\n",
       "      <td>1591323024</td>\n",
       "      <td>mentalhealth</td>\n",
       "      <td>My Story - TW⚠️ : I have never actually posted anything on reddit and I am pretty anxious about ...</td>\n",
       "      <td>25307</td>\n",
       "      <td>4981</td>\n",
       "    </tr>\n",
       "  </tbody>\n",
       "</table>\n",
       "</div>"
      ],
      "text/plain": [
       "         author  created_utc     subreddit                                                                                                 text  text_length  text_word_count\n",
       "28385  sub10431   1591323024  mentalhealth  My Story - TW⚠️ : I have never actually posted anything on reddit and I am pretty anxious about ...        25307             4981"
      ]
     },
     "execution_count": 40,
     "metadata": {},
     "output_type": "execute_result"
    }
   ],
   "source": [
    "PostCovid_posts.iloc[[28385]]"
   ]
  },
  {
   "cell_type": "code",
   "execution_count": 50,
   "metadata": {},
   "outputs": [
    {
     "name": "stdout",
     "output_type": "stream",
     "text": [
      "Duplicate Rows :\n"
     ]
    },
    {
     "data": {
      "text/html": [
       "<div>\n",
       "<style scoped>\n",
       "    .dataframe tbody tr th:only-of-type {\n",
       "        vertical-align: middle;\n",
       "    }\n",
       "\n",
       "    .dataframe tbody tr th {\n",
       "        vertical-align: top;\n",
       "    }\n",
       "\n",
       "    .dataframe thead th {\n",
       "        text-align: right;\n",
       "    }\n",
       "</style>\n",
       "<table border=\"1\" class=\"dataframe\">\n",
       "  <thead>\n",
       "    <tr style=\"text-align: right;\">\n",
       "      <th></th>\n",
       "      <th>author</th>\n",
       "      <th>created_utc</th>\n",
       "      <th>subreddit</th>\n",
       "      <th>text</th>\n",
       "      <th>text_length</th>\n",
       "      <th>text_word_count</th>\n",
       "    </tr>\n",
       "  </thead>\n",
       "  <tbody>\n",
       "    <tr>\n",
       "      <td>111</td>\n",
       "      <td>sub980</td>\n",
       "      <td>1602326411</td>\n",
       "      <td>bulimia</td>\n",
       "      <td>r/bulimia Casual Check-in : How was your week? What are you up to on the weekend? Feel free to s...</td>\n",
       "      <td>387</td>\n",
       "      <td>69</td>\n",
       "    </tr>\n",
       "    <tr>\n",
       "      <td>292</td>\n",
       "      <td>sub980</td>\n",
       "      <td>1599302416</td>\n",
       "      <td>bulimia</td>\n",
       "      <td>r/bulimia Casual Check-in : How was your week? What are you up to on the weekend? Feel free to s...</td>\n",
       "      <td>387</td>\n",
       "      <td>69</td>\n",
       "    </tr>\n",
       "    <tr>\n",
       "      <td>343</td>\n",
       "      <td>sub9236</td>\n",
       "      <td>1599074752</td>\n",
       "      <td>bulimia</td>\n",
       "      <td>Helpful apps? : Do any of you guys know of apps specifically for bulimia recovery? Or even binge...</td>\n",
       "      <td>355</td>\n",
       "      <td>65</td>\n",
       "    </tr>\n",
       "    <tr>\n",
       "      <td>747</td>\n",
       "      <td>sub980</td>\n",
       "      <td>1604745613</td>\n",
       "      <td>bulimia</td>\n",
       "      <td>r/bulimia Casual Check-in : How was your week? What are you up to on the weekend? Feel free to s...</td>\n",
       "      <td>387</td>\n",
       "      <td>69</td>\n",
       "    </tr>\n",
       "    <tr>\n",
       "      <td>785</td>\n",
       "      <td>sub980</td>\n",
       "      <td>1597488012</td>\n",
       "      <td>bulimia</td>\n",
       "      <td>r/bulimia Casual Check-in : How was your week? What are you up to on the weekend? Feel free to s...</td>\n",
       "      <td>387</td>\n",
       "      <td>69</td>\n",
       "    </tr>\n",
       "    <tr>\n",
       "      <td>...</td>\n",
       "      <td>...</td>\n",
       "      <td>...</td>\n",
       "      <td>...</td>\n",
       "      <td>...</td>\n",
       "      <td>...</td>\n",
       "      <td>...</td>\n",
       "    </tr>\n",
       "    <tr>\n",
       "      <td>27746</td>\n",
       "      <td>sub10776</td>\n",
       "      <td>1588380387</td>\n",
       "      <td>mentalhealth</td>\n",
       "      <td>Can I Kin a character who has DID if I have DPDR? (Diagnosed) : If any of you don’t know what ki...</td>\n",
       "      <td>235</td>\n",
       "      <td>45</td>\n",
       "    </tr>\n",
       "    <tr>\n",
       "      <td>27747</td>\n",
       "      <td>sub10776</td>\n",
       "      <td>1588380364</td>\n",
       "      <td>mentalhealth</td>\n",
       "      <td>Can I Kin a character who has DID if I have DPDR? (Diagnosed) : If any of you don’t know what ki...</td>\n",
       "      <td>235</td>\n",
       "      <td>45</td>\n",
       "    </tr>\n",
       "    <tr>\n",
       "      <td>27749</td>\n",
       "      <td>sub12509</td>\n",
       "      <td>1588379844</td>\n",
       "      <td>mentalhealth</td>\n",
       "      <td>Can someone diagnose me : I was mentally and physically abused when I was younger I always thoug...</td>\n",
       "      <td>1063</td>\n",
       "      <td>201</td>\n",
       "    </tr>\n",
       "    <tr>\n",
       "      <td>28320</td>\n",
       "      <td>sub11734</td>\n",
       "      <td>1591347788</td>\n",
       "      <td>mentalhealth</td>\n",
       "      <td>It's so hard for me to cry or even shed a tear no matter if I'm alone or with somebody else :  I...</td>\n",
       "      <td>1440</td>\n",
       "      <td>289</td>\n",
       "    </tr>\n",
       "    <tr>\n",
       "      <td>28385</td>\n",
       "      <td>sub10431</td>\n",
       "      <td>1591323024</td>\n",
       "      <td>mentalhealth</td>\n",
       "      <td>My Story - TW⚠️ : I have never actually posted anything on reddit and I am pretty anxious about ...</td>\n",
       "      <td>25307</td>\n",
       "      <td>4981</td>\n",
       "    </tr>\n",
       "  </tbody>\n",
       "</table>\n",
       "<p>268 rows × 6 columns</p>\n",
       "</div>"
      ],
      "text/plain": [
       "         author  created_utc     subreddit                                                                                                 text  text_length  text_word_count\n",
       "111      sub980   1602326411       bulimia  r/bulimia Casual Check-in : How was your week? What are you up to on the weekend? Feel free to s...          387               69\n",
       "292      sub980   1599302416       bulimia  r/bulimia Casual Check-in : How was your week? What are you up to on the weekend? Feel free to s...          387               69\n",
       "343     sub9236   1599074752       bulimia  Helpful apps? : Do any of you guys know of apps specifically for bulimia recovery? Or even binge...          355               65\n",
       "747      sub980   1604745613       bulimia  r/bulimia Casual Check-in : How was your week? What are you up to on the weekend? Feel free to s...          387               69\n",
       "785      sub980   1597488012       bulimia  r/bulimia Casual Check-in : How was your week? What are you up to on the weekend? Feel free to s...          387               69\n",
       "...         ...          ...           ...                                                                                                  ...          ...              ...\n",
       "27746  sub10776   1588380387  mentalhealth  Can I Kin a character who has DID if I have DPDR? (Diagnosed) : If any of you don’t know what ki...          235               45\n",
       "27747  sub10776   1588380364  mentalhealth  Can I Kin a character who has DID if I have DPDR? (Diagnosed) : If any of you don’t know what ki...          235               45\n",
       "27749  sub12509   1588379844  mentalhealth  Can someone diagnose me : I was mentally and physically abused when I was younger I always thoug...         1063              201\n",
       "28320  sub11734   1591347788  mentalhealth  It's so hard for me to cry or even shed a tear no matter if I'm alone or with somebody else :  I...         1440              289\n",
       "28385  sub10431   1591323024  mentalhealth  My Story - TW⚠️ : I have never actually posted anything on reddit and I am pretty anxious about ...        25307             4981\n",
       "\n",
       "[268 rows x 6 columns]"
      ]
     },
     "execution_count": 50,
     "metadata": {},
     "output_type": "execute_result"
    }
   ],
   "source": [
    "# Write function to check for duplicates\n",
    "\n",
    "# Selecting duplicate rows except last  \n",
    "# occurrence based on all columns. \n",
    "duplicate = PostCovid_posts[PostCovid_posts['text'].duplicated()] \n",
    "  \n",
    "print(\"Duplicate Rows :\") \n",
    "  \n",
    "# Print the resultant Dataframe \n",
    "duplicate "
   ]
  },
  {
   "cell_type": "code",
   "execution_count": 53,
   "metadata": {},
   "outputs": [
    {
     "name": "stdout",
     "output_type": "stream",
     "text": [
      "Duplicate Rows :\n"
     ]
    },
    {
     "data": {
      "text/html": [
       "<div>\n",
       "<style scoped>\n",
       "    .dataframe tbody tr th:only-of-type {\n",
       "        vertical-align: middle;\n",
       "    }\n",
       "\n",
       "    .dataframe tbody tr th {\n",
       "        vertical-align: top;\n",
       "    }\n",
       "\n",
       "    .dataframe thead th {\n",
       "        text-align: right;\n",
       "    }\n",
       "</style>\n",
       "<table border=\"1\" class=\"dataframe\">\n",
       "  <thead>\n",
       "    <tr style=\"text-align: right;\">\n",
       "      <th></th>\n",
       "      <th>author</th>\n",
       "      <th>created_utc</th>\n",
       "      <th>subreddit</th>\n",
       "      <th>text</th>\n",
       "      <th>text_length</th>\n",
       "      <th>text_word_count</th>\n",
       "    </tr>\n",
       "  </thead>\n",
       "  <tbody>\n",
       "    <tr>\n",
       "      <td>624</td>\n",
       "      <td>sub14570</td>\n",
       "      <td>1561927536</td>\n",
       "      <td>bulimia</td>\n",
       "      <td>i tried : I just binged ate a bunch of food like an idiot. I figured i’d just purge it up- that ...</td>\n",
       "      <td>273</td>\n",
       "      <td>61</td>\n",
       "    </tr>\n",
       "    <tr>\n",
       "      <td>1380</td>\n",
       "      <td>sub9644</td>\n",
       "      <td>1551389247</td>\n",
       "      <td>bulimia</td>\n",
       "      <td>I haven’t purged in 17 days!!!!! : I’m so so so excited!!!! \\n17 days ago, I had only made it 16...</td>\n",
       "      <td>425</td>\n",
       "      <td>88</td>\n",
       "    </tr>\n",
       "    <tr>\n",
       "      <td>1775</td>\n",
       "      <td>sub7986</td>\n",
       "      <td>1565493756</td>\n",
       "      <td>bulimia</td>\n",
       "      <td>How do I learn to unlove eating : I just love to eat. Period. No mindful eating is going to help...</td>\n",
       "      <td>680</td>\n",
       "      <td>124</td>\n",
       "    </tr>\n",
       "    <tr>\n",
       "      <td>3185</td>\n",
       "      <td>sub19674</td>\n",
       "      <td>1571311288</td>\n",
       "      <td>bulimia</td>\n",
       "      <td>Thought this belonged here</td>\n",
       "      <td>26</td>\n",
       "      <td>4</td>\n",
       "    </tr>\n",
       "    <tr>\n",
       "      <td>3287</td>\n",
       "      <td>sub17882</td>\n",
       "      <td>1572364911</td>\n",
       "      <td>bulimia</td>\n",
       "      <td>Topamax for BN? How to bring up to doctor? Pros and cons? : My BN is making me gain weight like ...</td>\n",
       "      <td>381</td>\n",
       "      <td>73</td>\n",
       "    </tr>\n",
       "    <tr>\n",
       "      <td>...</td>\n",
       "      <td>...</td>\n",
       "      <td>...</td>\n",
       "      <td>...</td>\n",
       "      <td>...</td>\n",
       "      <td>...</td>\n",
       "      <td>...</td>\n",
       "    </tr>\n",
       "    <tr>\n",
       "      <td>28778</td>\n",
       "      <td>sub14573</td>\n",
       "      <td>1544668751</td>\n",
       "      <td>mentalhealth</td>\n",
       "      <td>MY RESEARCH for Experimental film based on mental illnesses : Hello everyone,\\n\\nI am final year...</td>\n",
       "      <td>895</td>\n",
       "      <td>159</td>\n",
       "    </tr>\n",
       "    <tr>\n",
       "      <td>29666</td>\n",
       "      <td>sub10310</td>\n",
       "      <td>1581022595</td>\n",
       "      <td>mentalhealth</td>\n",
       "      <td>Worry wart. : I have anxiety and I know this sounds like a common symptom but it really bothers ...</td>\n",
       "      <td>409</td>\n",
       "      <td>78</td>\n",
       "    </tr>\n",
       "    <tr>\n",
       "      <td>30016</td>\n",
       "      <td>sub3015</td>\n",
       "      <td>1519141132</td>\n",
       "      <td>mentalhealth</td>\n",
       "      <td>Hallucinations</td>\n",
       "      <td>14</td>\n",
       "      <td>1</td>\n",
       "    </tr>\n",
       "    <tr>\n",
       "      <td>30019</td>\n",
       "      <td>sub7177</td>\n",
       "      <td>1519136643</td>\n",
       "      <td>mentalhealth</td>\n",
       "      <td>I made a facebook post about mental health/illness</td>\n",
       "      <td>50</td>\n",
       "      <td>8</td>\n",
       "    </tr>\n",
       "    <tr>\n",
       "      <td>30032</td>\n",
       "      <td>sub5963</td>\n",
       "      <td>1519100575</td>\n",
       "      <td>mentalhealth</td>\n",
       "      <td>Dating Someone Who Isn’t Your Type</td>\n",
       "      <td>34</td>\n",
       "      <td>6</td>\n",
       "    </tr>\n",
       "  </tbody>\n",
       "</table>\n",
       "<p>89 rows × 6 columns</p>\n",
       "</div>"
      ],
      "text/plain": [
       "         author  created_utc     subreddit                                                                                                 text  text_length  text_word_count\n",
       "624    sub14570   1561927536       bulimia  i tried : I just binged ate a bunch of food like an idiot. I figured i’d just purge it up- that ...          273               61\n",
       "1380    sub9644   1551389247       bulimia  I haven’t purged in 17 days!!!!! : I’m so so so excited!!!! \\n17 days ago, I had only made it 16...          425               88\n",
       "1775    sub7986   1565493756       bulimia  How do I learn to unlove eating : I just love to eat. Period. No mindful eating is going to help...          680              124\n",
       "3185   sub19674   1571311288       bulimia                                                                           Thought this belonged here           26                4\n",
       "3287   sub17882   1572364911       bulimia  Topamax for BN? How to bring up to doctor? Pros and cons? : My BN is making me gain weight like ...          381               73\n",
       "...         ...          ...           ...                                                                                                  ...          ...              ...\n",
       "28778  sub14573   1544668751  mentalhealth  MY RESEARCH for Experimental film based on mental illnesses : Hello everyone,\\n\\nI am final year...          895              159\n",
       "29666  sub10310   1581022595  mentalhealth  Worry wart. : I have anxiety and I know this sounds like a common symptom but it really bothers ...          409               78\n",
       "30016   sub3015   1519141132  mentalhealth                                                                                       Hallucinations           14                1\n",
       "30019   sub7177   1519136643  mentalhealth                                                   I made a facebook post about mental health/illness           50                8\n",
       "30032   sub5963   1519100575  mentalhealth                                                                   Dating Someone Who Isn’t Your Type           34                6\n",
       "\n",
       "[89 rows x 6 columns]"
      ]
     },
     "execution_count": 53,
     "metadata": {},
     "output_type": "execute_result"
    }
   ],
   "source": [
    "# Write function to check for duplicates\n",
    "\n",
    "# Selecting duplicate rows except last  \n",
    "# occurrence based on all columns. \n",
    "duplicate1 = PreCovid_posts[PreCovid_posts['text'].duplicated()] \n",
    "  \n",
    "print(\"Duplicate Rows :\") \n",
    "  \n",
    "# Print the resultant Dataframe \n",
    "duplicate1"
   ]
  },
  {
   "cell_type": "code",
   "execution_count": 57,
   "metadata": {},
   "outputs": [
    {
     "name": "stderr",
     "output_type": "stream",
     "text": [
      "/opt/anaconda3/lib/python3.7/site-packages/seaborn/distributions.py:2557: FutureWarning: `distplot` is a deprecated function and will be removed in a future version. Please adapt your code to use either `displot` (a figure-level function with similar flexibility) or `histplot` (an axes-level function for histograms).\n",
      "  warnings.warn(msg, FutureWarning)\n",
      "/opt/anaconda3/lib/python3.7/site-packages/seaborn/distributions.py:2557: FutureWarning: `distplot` is a deprecated function and will be removed in a future version. Please adapt your code to use either `displot` (a figure-level function with similar flexibility) or `histplot` (an axes-level function for histograms).\n",
      "  warnings.warn(msg, FutureWarning)\n"
     ]
    },
    {
     "data": {
      "image/png": "[encoded data removed]",
      "text/plain": [
       "<Figure size 432x288 with 1 Axes>"
      ]
     },
     "metadata": {
      "needs_background": "light"
     },
     "output_type": "display_data"
    }
   ],
   "source": [
    "sns.distplot( PreCovid_posts['text_word_count'] , color = 'orange', label=\"Submission Word Count\",bins=50)\n",
    "sns.distplot( PreCovid_posts['text_length'] , color = 'grey', label=\"Submission Length\", bins=50)\n",
    "plt.xlabel(\"count\")\n",
    "plt.title(\"PreCovid Posts Distribution of Submission Lengths\")\n",
    "plt.legend();"
   ]
  },
  {
   "cell_type": "code",
   "execution_count": 58,
   "metadata": {},
   "outputs": [
    {
     "name": "stderr",
     "output_type": "stream",
     "text": [
      "/opt/anaconda3/lib/python3.7/site-packages/seaborn/distributions.py:2557: FutureWarning: `distplot` is a deprecated function and will be removed in a future version. Please adapt your code to use either `displot` (a figure-level function with similar flexibility) or `histplot` (an axes-level function for histograms).\n",
      "  warnings.warn(msg, FutureWarning)\n",
      "/opt/anaconda3/lib/python3.7/site-packages/seaborn/distributions.py:2557: FutureWarning: `distplot` is a deprecated function and will be removed in a future version. Please adapt your code to use either `displot` (a figure-level function with similar flexibility) or `histplot` (an axes-level function for histograms).\n",
      "  warnings.warn(msg, FutureWarning)\n"
     ]
    },
    {
     "data": {
      "image/png": "[encoded data removed]",
      "text/plain": [
       "<Figure size 432x288 with 1 Axes>"
      ]
     },
     "metadata": {
      "needs_background": "light"
     },
     "output_type": "display_data"
    }
   ],
   "source": [
    "sns.distplot( PostCovid_posts['text_word_count'] , color = 'orange', label=\"Submission Word Count\",bins=50)\n",
    "sns.distplot( PostCovid_posts['text_length'] , color = 'grey', label=\"Submission Length\", bins=50)\n",
    "plt.xlabel(\"count\")\n",
    "plt.title(\"PostCovid Posts Distribution of Submission Lengths\")\n",
    "plt.legend();"
   ]
  },
  {
   "cell_type": "code",
   "execution_count": 64,
   "metadata": {},
   "outputs": [
    {
     "name": "stderr",
     "output_type": "stream",
     "text": [
      "/opt/anaconda3/lib/python3.7/site-packages/seaborn/distributions.py:2557: FutureWarning: `distplot` is a deprecated function and will be removed in a future version. Please adapt your code to use either `displot` (a figure-level function with similar flexibility) or `histplot` (an axes-level function for histograms).\n",
      "  warnings.warn(msg, FutureWarning)\n"
     ]
    },
    {
     "data": {
      "image/png": "[encoded data removed]",
      "text/plain": [
       "<Figure size 432x288 with 1 Axes>"
      ]
     },
     "metadata": {
      "needs_background": "light"
     },
     "output_type": "display_data"
    }
   ],
   "source": [
    "sns.distplot( PreCovid_posts['text_word_count'] , color = 'orange', label=\"Submission Word Count\",bins=50)\n",
    "#sns.distplot( PreCovid_posts['text_length'] , color = 'grey', label=\"Submission Length\", bins=50)\n",
    "plt.xlabel(\"count\")\n",
    "plt.title(\"PreCovid Posts Distribution of Word Count\")\n",
    "plt.legend();"
   ]
  },
  {
   "cell_type": "code",
   "execution_count": 63,
   "metadata": {},
   "outputs": [
    {
     "name": "stderr",
     "output_type": "stream",
     "text": [
      "/opt/anaconda3/lib/python3.7/site-packages/seaborn/distributions.py:2557: FutureWarning: `distplot` is a deprecated function and will be removed in a future version. Please adapt your code to use either `displot` (a figure-level function with similar flexibility) or `histplot` (an axes-level function for histograms).\n",
      "  warnings.warn(msg, FutureWarning)\n"
     ]
    },
    {
     "data": {
      "image/png": "[encoded data removed]",
      "text/plain": [
       "<Figure size 432x288 with 1 Axes>"
      ]
     },
     "metadata": {
      "needs_background": "light"
     },
     "output_type": "display_data"
    }
   ],
   "source": [
    "sns.distplot( PostCovid_posts['text_word_count'] , color = 'orange', label=\"Submission Word Count\",bins=50)\n",
    "#sns.distplot( PostCovid_posts['text_length'] , color = 'grey', label=\"Submission Length\", bins=50)\n",
    "plt.xlabel(\"count\")\n",
    "plt.title(\"PostCovid Posts Distribution of Word Count\")\n",
    "plt.legend();"
   ]
  },
  {
   "cell_type": "code",
   "execution_count": 61,
   "metadata": {},
   "outputs": [
    {
     "name": "stderr",
     "output_type": "stream",
     "text": [
      "/opt/anaconda3/lib/python3.7/site-packages/seaborn/distributions.py:2557: FutureWarning: `distplot` is a deprecated function and will be removed in a future version. Please adapt your code to use either `displot` (a figure-level function with similar flexibility) or `histplot` (an axes-level function for histograms).\n",
      "  warnings.warn(msg, FutureWarning)\n"
     ]
    },
    {
     "data": {
      "image/png": "[encoded data removed]",
      "text/plain": [
       "<Figure size 432x288 with 1 Axes>"
      ]
     },
     "metadata": {
      "needs_background": "light"
     },
     "output_type": "display_data"
    }
   ],
   "source": [
    "#sns.distplot( PreCovid_posts['text_word_count'] , color = 'orange', label=\"Submission Word Count\",bins=50)\n",
    "sns.distplot( PreCovid_posts['text_length'] , color = 'grey', label=\"Submission Length\", bins=50)\n",
    "plt.xlabel(\"count\")\n",
    "plt.title(\"PreCovid Posts Distribution of Submission Lengths\")\n",
    "plt.legend();"
   ]
  },
  {
   "cell_type": "code",
   "execution_count": 62,
   "metadata": {},
   "outputs": [
    {
     "name": "stderr",
     "output_type": "stream",
     "text": [
      "/opt/anaconda3/lib/python3.7/site-packages/seaborn/distributions.py:2557: FutureWarning: `distplot` is a deprecated function and will be removed in a future version. Please adapt your code to use either `displot` (a figure-level function with similar flexibility) or `histplot` (an axes-level function for histograms).\n",
      "  warnings.warn(msg, FutureWarning)\n"
     ]
    },
    {
     "data": {
      "image/png": "[encoded data removed]",
      "text/plain": [
       "<Figure size 432x288 with 1 Axes>"
      ]
     },
     "metadata": {
      "needs_background": "light"
     },
     "output_type": "display_data"
    }
   ],
   "source": [
    "#sns.distplot( PostCovid_posts['text_word_count'] , color = 'orange', label=\"Submission Word Count\",bins=50)\n",
    "sns.distplot(PostCovid_posts['text_length'] , color = 'grey', label=\"Submission Length\", bins=50)\n",
    "plt.xlabel(\"count\")\n",
    "plt.title(\"PostCovid Posts Distribution of Submission Lengths\")\n",
    "plt.legend();"
   ]
  },
  {
   "cell_type": "code",
   "execution_count": 65,
   "metadata": {},
   "outputs": [
    {
     "data": {
      "image/png": "[encoded data removed]",
      "text/plain": [
       "<Figure size 432x288 with 1 Axes>"
      ]
     },
     "metadata": {
      "needs_background": "light"
     },
     "output_type": "display_data"
    }
   ],
   "source": [
    "# Boxplot of word count distribution\n",
    "sns.boxplot( y=PreCovid_posts['text_word_count']);"
   ]
  },
  {
   "cell_type": "code",
   "execution_count": 66,
   "metadata": {},
   "outputs": [
    {
     "data": {
      "image/png": "[encoded data removed]",
      "text/plain": [
       "<Figure size 432x288 with 1 Axes>"
      ]
     },
     "metadata": {
      "needs_background": "light"
     },
     "output_type": "display_data"
    }
   ],
   "source": [
    "sns.boxplot( y=PostCovid_posts['text_word_count']);"
   ]
  },
  {
   "cell_type": "markdown",
   "metadata": {},
   "source": [
    "#### Checkout outliers for each dataframe"
   ]
  },
  {
   "cell_type": "code",
   "execution_count": null,
   "metadata": {},
   "outputs": [],
   "source": []
  },
  {
   "cell_type": "code",
   "execution_count": null,
   "metadata": {},
   "outputs": [],
   "source": []
  },
  {
   "cell_type": "code",
   "execution_count": null,
   "metadata": {},
   "outputs": [],
   "source": []
  },
  {
   "cell_type": "code",
   "execution_count": null,
   "metadata": {},
   "outputs": [],
   "source": []
  }
 ],
 "metadata": {
  "kernelspec": {
   "display_name": "Python 3",
   "language": "python",
   "name": "python3"
  },
  "language_info": {
   "codemirror_mode": {
    "name": "ipython",
    "version": 3
   },
   "file_extension": ".py",
   "mimetype": "text/x-python",
   "name": "python",
   "nbconvert_exporter": "python",
   "pygments_lexer": "ipython3",
   "version": "3.7.4"
  },
  "toc": {
   "base_numbering": 1,
   "nav_menu": {},
   "number_sections": true,
   "sideBar": true,
   "skip_h1_title": false,
   "title_cell": "Table of Contents",
   "title_sidebar": "Contents",
   "toc_cell": false,
   "toc_position": {},
   "toc_section_display": true,
   "toc_window_display": false
  }
 },
 "nbformat": 4,
 "nbformat_minor": 2
}
