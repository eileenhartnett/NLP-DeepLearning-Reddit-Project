{
 "cells": [
  {
   "cell_type": "markdown",
   "metadata": {},
   "source": [
    "# Clean data to prepare for NLP"
   ]
  },
  {
   "cell_type": "markdown",
   "metadata": {},
   "source": [
    "##### Import libraries"
   ]
  },
  {
   "cell_type": "code",
   "execution_count": 16,
   "metadata": {},
   "outputs": [],
   "source": [
    "import pandas as pd\n",
    "import numpy as np"
   ]
  },
  {
   "cell_type": "markdown",
   "metadata": {},
   "source": [
    "##### Load data"
   ]
  },
  {
   "cell_type": "code",
   "execution_count": 18,
   "metadata": {},
   "outputs": [],
   "source": [
    "# PreCovid Reddit posts\n",
    "PreCovid_posts = pd.read_csv('../data/raw/reddit_posts_PreCovid.csv') \n",
    "\n",
    "# PostCovid Reddit posts\n",
    "PostCovid_posts = pd.read_csv('../data/raw/reddit_posts_PostCovid.csv') "
   ]
  },
  {
   "cell_type": "markdown",
   "metadata": {},
   "source": [
    "# Clean data"
   ]
  },
  {
   "cell_type": "code",
   "execution_count": 19,
   "metadata": {},
   "outputs": [
    {
     "data": {
      "text/html": [
       "<div>\n",
       "<style scoped>\n",
       "    .dataframe tbody tr th:only-of-type {\n",
       "        vertical-align: middle;\n",
       "    }\n",
       "\n",
       "    .dataframe tbody tr th {\n",
       "        vertical-align: top;\n",
       "    }\n",
       "\n",
       "    .dataframe thead th {\n",
       "        text-align: right;\n",
       "    }\n",
       "</style>\n",
       "<table border=\"1\" class=\"dataframe\">\n",
       "  <thead>\n",
       "    <tr style=\"text-align: right;\">\n",
       "      <th></th>\n",
       "      <th>author</th>\n",
       "      <th>title</th>\n",
       "      <th>selftext</th>\n",
       "      <th>created_utc</th>\n",
       "      <th>subreddit</th>\n",
       "    </tr>\n",
       "  </thead>\n",
       "  <tbody>\n",
       "    <tr>\n",
       "      <td>0</td>\n",
       "      <td>sub16784</td>\n",
       "      <td>Help. Dying inside</td>\n",
       "      <td>So I posted something similar on the binge eat...</td>\n",
       "      <td>1526608139</td>\n",
       "      <td>bulimia</td>\n",
       "    </tr>\n",
       "    <tr>\n",
       "      <td>1</td>\n",
       "      <td>sub12545</td>\n",
       "      <td>Book Recommendations? - Brain Over Binge</td>\n",
       "      <td>Hi, a few months ago I went to an Eating Disor...</td>\n",
       "      <td>1526595326</td>\n",
       "      <td>bulimia</td>\n",
       "    </tr>\n",
       "    <tr>\n",
       "      <td>2</td>\n",
       "      <td>sub10227</td>\n",
       "      <td>In need of some encouragement</td>\n",
       "      <td>I just binged on pizza rolls, doritos and cand...</td>\n",
       "      <td>1526528018</td>\n",
       "      <td>bulimia</td>\n",
       "    </tr>\n",
       "    <tr>\n",
       "      <td>3</td>\n",
       "      <td>sub10942</td>\n",
       "      <td>Struggling so badly. I can't take this feeling</td>\n",
       "      <td>I had a surgery  that doesn't allow me to purg...</td>\n",
       "      <td>1526519003</td>\n",
       "      <td>bulimia</td>\n",
       "    </tr>\n",
       "    <tr>\n",
       "      <td>4</td>\n",
       "      <td>sub4221</td>\n",
       "      <td>Been trying to quit this nasty habit...</td>\n",
       "      <td>Struggling with bulimia for 4 years now and it...</td>\n",
       "      <td>1526360915</td>\n",
       "      <td>bulimia</td>\n",
       "    </tr>\n",
       "  </tbody>\n",
       "</table>\n",
       "</div>"
      ],
      "text/plain": [
       "     author                                           title  \\\n",
       "0  sub16784                              Help. Dying inside   \n",
       "1  sub12545        Book Recommendations? - Brain Over Binge   \n",
       "2  sub10227                   In need of some encouragement   \n",
       "3  sub10942  Struggling so badly. I can't take this feeling   \n",
       "4   sub4221         Been trying to quit this nasty habit...   \n",
       "\n",
       "                                            selftext  created_utc subreddit  \n",
       "0  So I posted something similar on the binge eat...   1526608139   bulimia  \n",
       "1  Hi, a few months ago I went to an Eating Disor...   1526595326   bulimia  \n",
       "2  I just binged on pizza rolls, doritos and cand...   1526528018   bulimia  \n",
       "3  I had a surgery  that doesn't allow me to purg...   1526519003   bulimia  \n",
       "4  Struggling with bulimia for 4 years now and it...   1526360915   bulimia  "
      ]
     },
     "execution_count": 19,
     "metadata": {},
     "output_type": "execute_result"
    }
   ],
   "source": [
    "PreCovid_posts.head()"
   ]
  },
  {
   "cell_type": "code",
   "execution_count": 20,
   "metadata": {},
   "outputs": [
    {
     "data": {
      "text/html": [
       "<div>\n",
       "<style scoped>\n",
       "    .dataframe tbody tr th:only-of-type {\n",
       "        vertical-align: middle;\n",
       "    }\n",
       "\n",
       "    .dataframe tbody tr th {\n",
       "        vertical-align: top;\n",
       "    }\n",
       "\n",
       "    .dataframe thead th {\n",
       "        text-align: right;\n",
       "    }\n",
       "</style>\n",
       "<table border=\"1\" class=\"dataframe\">\n",
       "  <thead>\n",
       "    <tr style=\"text-align: right;\">\n",
       "      <th></th>\n",
       "      <th>author</th>\n",
       "      <th>title</th>\n",
       "      <th>selftext</th>\n",
       "      <th>created_utc</th>\n",
       "      <th>subreddit</th>\n",
       "    </tr>\n",
       "  </thead>\n",
       "  <tbody>\n",
       "    <tr>\n",
       "      <td>0</td>\n",
       "      <td>sub17706</td>\n",
       "      <td>if i was able to keep an excess of food in my ...</td>\n",
       "      <td>NaN</td>\n",
       "      <td>1593568164</td>\n",
       "      <td>bulimia</td>\n",
       "    </tr>\n",
       "    <tr>\n",
       "      <td>1</td>\n",
       "      <td>sub19142</td>\n",
       "      <td>Get help. Please.</td>\n",
       "      <td>I know it’s embarrassing. I know it is hard to...</td>\n",
       "      <td>1593566253</td>\n",
       "      <td>bulimia</td>\n",
       "    </tr>\n",
       "    <tr>\n",
       "      <td>2</td>\n",
       "      <td>sub15645</td>\n",
       "      <td>More bulimemes for you guys 👌🏻</td>\n",
       "      <td>NaN</td>\n",
       "      <td>1593556888</td>\n",
       "      <td>bulimia</td>\n",
       "    </tr>\n",
       "    <tr>\n",
       "      <td>3</td>\n",
       "      <td>sub10794</td>\n",
       "      <td>Teeth Are Rough?</td>\n",
       "      <td>[Here are my teeth](https://imgur.com/a/pyV5Ss...</td>\n",
       "      <td>1593555043</td>\n",
       "      <td>bulimia</td>\n",
       "    </tr>\n",
       "    <tr>\n",
       "      <td>4</td>\n",
       "      <td>sub17937</td>\n",
       "      <td>Badanie</td>\n",
       "      <td>[removed]</td>\n",
       "      <td>1593534095</td>\n",
       "      <td>bulimia</td>\n",
       "    </tr>\n",
       "  </tbody>\n",
       "</table>\n",
       "</div>"
      ],
      "text/plain": [
       "     author                                              title  \\\n",
       "0  sub17706  if i was able to keep an excess of food in my ...   \n",
       "1  sub19142                                  Get help. Please.   \n",
       "2  sub15645                     More bulimemes for you guys 👌🏻   \n",
       "3  sub10794                                   Teeth Are Rough?   \n",
       "4  sub17937                                            Badanie   \n",
       "\n",
       "                                            selftext  created_utc subreddit  \n",
       "0                                                NaN   1593568164   bulimia  \n",
       "1  I know it’s embarrassing. I know it is hard to...   1593566253   bulimia  \n",
       "2                                                NaN   1593556888   bulimia  \n",
       "3  [Here are my teeth](https://imgur.com/a/pyV5Ss...   1593555043   bulimia  \n",
       "4                                          [removed]   1593534095   bulimia  "
      ]
     },
     "execution_count": 20,
     "metadata": {},
     "output_type": "execute_result"
    }
   ],
   "source": [
    "# Double check - Did I get the comments but not the posts themsleves?\n",
    "PostCovid_posts.head()"
   ]
  },
  {
   "cell_type": "code",
   "execution_count": 21,
   "metadata": {},
   "outputs": [
    {
     "data": {
      "text/plain": [
       "author         object\n",
       "title          object\n",
       "selftext       object\n",
       "created_utc     int64\n",
       "subreddit      object\n",
       "dtype: object"
      ]
     },
     "execution_count": 21,
     "metadata": {},
     "output_type": "execute_result"
    }
   ],
   "source": [
    "PreCovid_posts.dtypes"
   ]
  },
  {
   "cell_type": "code",
   "execution_count": 22,
   "metadata": {},
   "outputs": [
    {
     "data": {
      "text/plain": [
       "author         object\n",
       "title          object\n",
       "selftext       object\n",
       "created_utc     int64\n",
       "subreddit      object\n",
       "dtype: object"
      ]
     },
     "execution_count": 22,
     "metadata": {},
     "output_type": "execute_result"
    }
   ],
   "source": [
    "PostCovid_posts.dtypes"
   ]
  },
  {
   "cell_type": "code",
   "execution_count": 25,
   "metadata": {},
   "outputs": [
    {
     "data": {
      "text/plain": [
       "2079"
      ]
     },
     "execution_count": 25,
     "metadata": {},
     "output_type": "execute_result"
    }
   ],
   "source": [
    "len(PreCovid_posts) - len(PostCovid_posts)"
   ]
  },
  {
   "cell_type": "markdown",
   "metadata": {},
   "source": [
    "#### Check Null Values"
   ]
  },
  {
   "cell_type": "code",
   "execution_count": 26,
   "metadata": {},
   "outputs": [
    {
     "data": {
      "text/plain": [
       "author            0\n",
       "title             0\n",
       "selftext       4002\n",
       "created_utc       0\n",
       "subreddit         0\n",
       "dtype: int64"
      ]
     },
     "execution_count": 26,
     "metadata": {},
     "output_type": "execute_result"
    }
   ],
   "source": [
    "PreCovid_posts.isnull().sum()"
   ]
  },
  {
   "cell_type": "code",
   "execution_count": 27,
   "metadata": {},
   "outputs": [
    {
     "data": {
      "text/plain": [
       "author            0\n",
       "title             0\n",
       "selftext       2910\n",
       "created_utc       0\n",
       "subreddit         0\n",
       "dtype: int64"
      ]
     },
     "execution_count": 27,
     "metadata": {},
     "output_type": "execute_result"
    }
   ],
   "source": [
    "PostCovid_posts.isnull().sum()"
   ]
  },
  {
   "cell_type": "code",
   "execution_count": null,
   "metadata": {},
   "outputs": [],
   "source": []
  },
  {
   "cell_type": "code",
   "execution_count": null,
   "metadata": {},
   "outputs": [],
   "source": []
  }
 ],
 "metadata": {
  "kernelspec": {
   "display_name": "Python 3",
   "language": "python",
   "name": "python3"
  },
  "language_info": {
   "codemirror_mode": {
    "name": "ipython",
    "version": 3
   },
   "file_extension": ".py",
   "mimetype": "text/x-python",
   "name": "python",
   "nbconvert_exporter": "python",
   "pygments_lexer": "ipython3",
   "version": "3.7.4"
  },
  "toc": {
   "base_numbering": 1,
   "nav_menu": {},
   "number_sections": true,
   "sideBar": true,
   "skip_h1_title": false,
   "title_cell": "Table of Contents",
   "title_sidebar": "Contents",
   "toc_cell": false,
   "toc_position": {},
   "toc_section_display": true,
   "toc_window_display": false
  }
 },
 "nbformat": 4,
 "nbformat_minor": 2
}
