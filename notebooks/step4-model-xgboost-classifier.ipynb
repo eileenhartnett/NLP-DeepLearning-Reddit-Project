{
 "cells": [
  {
   "cell_type": "markdown",
   "metadata": {},
   "source": [
    "# Model - XGBoost Classifier"
   ]
  },
  {
   "cell_type": "markdown",
   "metadata": {},
   "source": [
    "Overview of notebook, from Nature paper will classify each subreddit... etc.\n",
    "\n",
    "> Modeling steps in this notebook\n",
    "- TF-IDF Transform \n",
    "- Split data to training (80%) and testing (20%)\n",
    "- To handle imbalanced class of our target variable we use SMOTE algorithm on the training data\n",
    "- Use XGBoost Classifier "
   ]
  },
  {
   "cell_type": "markdown",
   "metadata": {},
   "source": [
    "##### Import libraries"
   ]
  },
  {
   "cell_type": "code",
   "execution_count": 1,
   "metadata": {},
   "outputs": [],
   "source": [
    "import pandas as pd\n",
    "import numpy as np\n",
    "\n",
    "import matplotlib.pyplot as plt \n",
    "\n",
    "# Train, test, split\n",
    "from sklearn.model_selection import train_test_split\n",
    "\n",
    "# TFIDF\n",
    "from sklearn.feature_extraction.text import TfidfVectorizer\n",
    "from sklearn.feature_extraction.text import TfidfTransformer \n",
    "from sklearn.feature_extraction.text import CountVectorizer \n",
    "\n",
    "# For handling imbalanced classes\n",
    "from collections import Counter\n",
    "from imblearn.over_sampling import SMOTE\n",
    "\n",
    "# For classification\n",
    "import xgboost as xgb\n",
    "from xgboost import XGBClassifier\n",
    "from sklearn.metrics import precision_score, recall_score, accuracy_score, f1_score\n",
    "from sklearn.model_selection import cross_val_score, KFold\n",
    "from sklearn.model_selection import GridSearchCV\n",
    "from sklearn.metrics import classification_report, confusion_matrix\n",
    "from sklearn.metrics import plot_confusion_matrix\n",
    "from xgboost import plot_importance \n",
    "\n",
    "from sklearn.preprocessing import LabelEncoder "
   ]
  },
  {
   "cell_type": "markdown",
   "metadata": {},
   "source": [
    "##### Load data"
   ]
  },
  {
   "cell_type": "code",
   "execution_count": 2,
   "metadata": {},
   "outputs": [],
   "source": [
    "posts = pd.read_csv('../data/posts-preprocessed.csv')"
   ]
  },
  {
   "cell_type": "markdown",
   "metadata": {},
   "source": [
    "##### Binarize targets using get_dummies"
   ]
  },
  {
   "cell_type": "markdown",
   "metadata": {},
   "source": [
    "Will use each subreddit as target (except mental health)"
   ]
  },
  {
   "cell_type": "code",
   "execution_count": 3,
   "metadata": {},
   "outputs": [],
   "source": [
    "posts = pd.get_dummies(posts, columns=['subreddit'])"
   ]
  },
  {
   "cell_type": "code",
   "execution_count": 4,
   "metadata": {},
   "outputs": [],
   "source": [
    "posts.drop(columns='subreddit_mentalhealth', inplace = True)"
   ]
  },
  {
   "cell_type": "markdown",
   "metadata": {},
   "source": [
    "## Vectorize using TFIDF\n",
    "Implement Term Frequency - Inverse Document Frequency (TF-IDF) to vectorize the pre-processed text from the subreddit posts into numerical representations in a weight matrix that will be the basis for our set of feature for the predictive models. TF-IDF calculates how important a word is in a document in comparison to the entire corpus"
   ]
  },
  {
   "cell_type": "code",
   "execution_count": 5,
   "metadata": {},
   "outputs": [],
   "source": [
    "# Remove stop words\n",
    "X = posts['word_tokens']"
   ]
  },
  {
   "cell_type": "code",
   "execution_count": 6,
   "metadata": {},
   "outputs": [],
   "source": [
    "# create the transform\n",
    "vectorizer = CountVectorizer(max_features=1500, min_df=5, max_df=0.7)"
   ]
  },
  {
   "cell_type": "code",
   "execution_count": 7,
   "metadata": {},
   "outputs": [],
   "source": [
    "X = vectorizer.fit_transform(X)\n",
    "vocab = vectorizer.get_feature_names()"
   ]
  },
  {
   "cell_type": "code",
   "execution_count": 8,
   "metadata": {},
   "outputs": [],
   "source": [
    "df = pd.DataFrame(X.toarray(), columns = vectorizer.get_feature_names())"
   ]
  },
  {
   "cell_type": "code",
   "execution_count": 9,
   "metadata": {},
   "outputs": [],
   "source": [
    "X = df"
   ]
  },
  {
   "cell_type": "markdown",
   "metadata": {},
   "source": [
    "## Subreddit: Anorexia Nervosa"
   ]
  },
  {
   "cell_type": "code",
   "execution_count": 10,
   "metadata": {},
   "outputs": [],
   "source": [
    "y = posts['subreddit_AnorexiaNervosa']"
   ]
  },
  {
   "cell_type": "code",
   "execution_count": 11,
   "metadata": {},
   "outputs": [
    {
     "data": {
      "text/plain": [
       "(84879,)"
      ]
     },
     "execution_count": 11,
     "metadata": {},
     "output_type": "execute_result"
    }
   ],
   "source": [
    "y.shape"
   ]
  },
  {
   "cell_type": "markdown",
   "metadata": {},
   "source": [
    "### train test split"
   ]
  },
  {
   "cell_type": "code",
   "execution_count": 12,
   "metadata": {},
   "outputs": [],
   "source": [
    "X_train, X_test, y_train, y_test = train_test_split(X, y,\n",
    "                                                    stratify = y,\n",
    "                                                    test_size = .2,\n",
    "                                                    random_state=42)"
   ]
  },
  {
   "cell_type": "markdown",
   "metadata": {},
   "source": [
    "Check that stratify worked as expected"
   ]
  },
  {
   "cell_type": "code",
   "execution_count": 13,
   "metadata": {},
   "outputs": [
    {
     "data": {
      "text/plain": [
       "0.11388303904098493"
      ]
     },
     "execution_count": 13,
     "metadata": {},
     "output_type": "execute_result"
    }
   ],
   "source": [
    "sum(y_train)/len(y_train)"
   ]
  },
  {
   "cell_type": "code",
   "execution_count": 14,
   "metadata": {
    "scrolled": true
   },
   "outputs": [
    {
     "data": {
      "text/plain": [
       "0.11386663524976437"
      ]
     },
     "execution_count": 14,
     "metadata": {},
     "output_type": "execute_result"
    }
   ],
   "source": [
    "sum(y_test)/len(y_test)"
   ]
  },
  {
   "cell_type": "markdown",
   "metadata": {},
   "source": [
    "Summarize the class distribution of the target"
   ]
  },
  {
   "cell_type": "markdown",
   "metadata": {},
   "source": [
    "### Oversample the minority class using SMOTE"
   ]
  },
  {
   "cell_type": "code",
   "execution_count": 15,
   "metadata": {},
   "outputs": [
    {
     "name": "stdout",
     "output_type": "stream",
     "text": [
      "Counter({0: 60170, 1: 7733})\n"
     ]
    }
   ],
   "source": [
    "counter = Counter(y_train)\n",
    "print(counter)"
   ]
  },
  {
   "cell_type": "code",
   "execution_count": 16,
   "metadata": {},
   "outputs": [],
   "source": [
    "smote = SMOTE(random_state=42) \n",
    "X_train_sm, y_train_sm = smote.fit_resample(X_train, y_train)"
   ]
  },
  {
   "cell_type": "markdown",
   "metadata": {},
   "source": [
    "Summarize the class distribution of the target after oversampling the minority class using the SMOTE algorithm."
   ]
  },
  {
   "cell_type": "code",
   "execution_count": 17,
   "metadata": {
    "scrolled": true
   },
   "outputs": [
    {
     "name": "stdout",
     "output_type": "stream",
     "text": [
      "Counter({0: 60170, 1: 60170})\n"
     ]
    }
   ],
   "source": [
    "counter_resampled = Counter(y_train_sm) \n",
    "print(counter_resampled)"
   ]
  },
  {
   "cell_type": "markdown",
   "metadata": {},
   "source": [
    "### XGBoost Model"
   ]
  },
  {
   "cell_type": "markdown",
   "metadata": {},
   "source": [
    "Define Parameters for XGBoost Model"
   ]
  },
  {
   "cell_type": "code",
   "execution_count": 18,
   "metadata": {},
   "outputs": [],
   "source": [
    "feature_names = X_train.columns"
   ]
  },
  {
   "cell_type": "code",
   "execution_count": 19,
   "metadata": {},
   "outputs": [],
   "source": [
    "model = XGBClassifier(feature_names = feature_names,\n",
    "                      n_classes = 2, \n",
    "                      missing=None,\n",
    "                      objective='binary:logistic',\n",
    "                      use_label_encoder = False,\n",
    "                      n_jobs = 4,\n",
    "                      subsample = .8,\n",
    "                      n_estimators = 84, # stop at around 84 trees, model no loger improves much after\n",
    "                      random_state = 42)"
   ]
  },
  {
   "cell_type": "code",
   "execution_count": 20,
   "metadata": {},
   "outputs": [
    {
     "name": "stdout",
     "output_type": "stream",
     "text": [
      "[23:24:07] WARNING: /Users/travis/build/dmlc/xgboost/src/learner.cc:541: \n",
      "Parameters: { feature_names, n_classes } might not be used.\n",
      "\n",
      "  This may not be accurate due to some parameters are only used in language bindings but\n",
      "  passed down to XGBoost core.  Or some parameters are not used but slip through this\n",
      "  verification. Please open an issue if you find above cases.\n",
      "\n",
      "\n",
      "[0]\tvalidation_0-aucpr:0.45966\n",
      "[1]\tvalidation_0-aucpr:0.47176\n",
      "[2]\tvalidation_0-aucpr:0.49701\n",
      "[3]\tvalidation_0-aucpr:0.50842\n",
      "[4]\tvalidation_0-aucpr:0.50727\n",
      "[5]\tvalidation_0-aucpr:0.52072\n",
      "[6]\tvalidation_0-aucpr:0.52649\n",
      "[7]\tvalidation_0-aucpr:0.53063\n",
      "[8]\tvalidation_0-aucpr:0.53176\n",
      "[9]\tvalidation_0-aucpr:0.53180\n",
      "[10]\tvalidation_0-aucpr:0.52959\n",
      "[11]\tvalidation_0-aucpr:0.53884\n",
      "[12]\tvalidation_0-aucpr:0.54862\n",
      "[13]\tvalidation_0-aucpr:0.54940\n",
      "[14]\tvalidation_0-aucpr:0.54779\n",
      "[15]\tvalidation_0-aucpr:0.54757\n",
      "[16]\tvalidation_0-aucpr:0.54341\n",
      "[17]\tvalidation_0-aucpr:0.55455\n",
      "[18]\tvalidation_0-aucpr:0.55307\n",
      "[19]\tvalidation_0-aucpr:0.55032\n",
      "[20]\tvalidation_0-aucpr:0.55756\n",
      "[21]\tvalidation_0-aucpr:0.56015\n",
      "[22]\tvalidation_0-aucpr:0.56359\n",
      "[23]\tvalidation_0-aucpr:0.56354\n",
      "[24]\tvalidation_0-aucpr:0.57007\n",
      "[25]\tvalidation_0-aucpr:0.57199\n",
      "[26]\tvalidation_0-aucpr:0.57136\n",
      "[27]\tvalidation_0-aucpr:0.56878\n",
      "[28]\tvalidation_0-aucpr:0.58351\n",
      "[29]\tvalidation_0-aucpr:0.58107\n",
      "[30]\tvalidation_0-aucpr:0.57778\n",
      "[31]\tvalidation_0-aucpr:0.57762\n",
      "[32]\tvalidation_0-aucpr:0.58142\n",
      "[33]\tvalidation_0-aucpr:0.58420\n",
      "[34]\tvalidation_0-aucpr:0.58423\n",
      "[35]\tvalidation_0-aucpr:0.58415\n",
      "[36]\tvalidation_0-aucpr:0.58373\n",
      "[37]\tvalidation_0-aucpr:0.59094\n",
      "[38]\tvalidation_0-aucpr:0.58717\n",
      "[39]\tvalidation_0-aucpr:0.58472\n",
      "[40]\tvalidation_0-aucpr:0.58760\n",
      "[41]\tvalidation_0-aucpr:0.58796\n",
      "[42]\tvalidation_0-aucpr:0.58759\n",
      "[43]\tvalidation_0-aucpr:0.59039\n",
      "[44]\tvalidation_0-aucpr:0.59050\n",
      "[45]\tvalidation_0-aucpr:0.59431\n",
      "[46]\tvalidation_0-aucpr:0.59578\n",
      "[47]\tvalidation_0-aucpr:0.59499\n",
      "[48]\tvalidation_0-aucpr:0.59322\n",
      "[49]\tvalidation_0-aucpr:0.59674\n",
      "[50]\tvalidation_0-aucpr:0.59844\n",
      "[51]\tvalidation_0-aucpr:0.59702\n",
      "[52]\tvalidation_0-aucpr:0.59657\n",
      "[53]\tvalidation_0-aucpr:0.59631\n",
      "[54]\tvalidation_0-aucpr:0.59489\n",
      "[55]\tvalidation_0-aucpr:0.59423\n",
      "[56]\tvalidation_0-aucpr:0.60057\n",
      "[57]\tvalidation_0-aucpr:0.59966\n",
      "[58]\tvalidation_0-aucpr:0.60148\n",
      "[59]\tvalidation_0-aucpr:0.60167\n",
      "[60]\tvalidation_0-aucpr:0.60130\n",
      "[61]\tvalidation_0-aucpr:0.60246\n",
      "[62]\tvalidation_0-aucpr:0.60202\n",
      "[63]\tvalidation_0-aucpr:0.60333\n",
      "[64]\tvalidation_0-aucpr:0.60360\n",
      "[65]\tvalidation_0-aucpr:0.60314\n",
      "[66]\tvalidation_0-aucpr:0.60683\n",
      "[67]\tvalidation_0-aucpr:0.60549\n",
      "[68]\tvalidation_0-aucpr:0.60518\n",
      "[69]\tvalidation_0-aucpr:0.60671\n",
      "[70]\tvalidation_0-aucpr:0.60685\n",
      "[71]\tvalidation_0-aucpr:0.60690\n",
      "[72]\tvalidation_0-aucpr:0.60500\n",
      "[73]\tvalidation_0-aucpr:0.60532\n",
      "[74]\tvalidation_0-aucpr:0.60714\n",
      "[75]\tvalidation_0-aucpr:0.60685\n",
      "[76]\tvalidation_0-aucpr:0.60505\n",
      "[77]\tvalidation_0-aucpr:0.60897\n",
      "[78]\tvalidation_0-aucpr:0.60977\n",
      "[79]\tvalidation_0-aucpr:0.61029\n",
      "[80]\tvalidation_0-aucpr:0.61069\n",
      "[81]\tvalidation_0-aucpr:0.61071\n",
      "[82]\tvalidation_0-aucpr:0.61198\n",
      "[83]\tvalidation_0-aucpr:0.61100\n"
     ]
    },
    {
     "data": {
      "text/plain": [
       "XGBClassifier(base_score=0.5, booster='gbtree', colsample_bylevel=1,\n",
       "              colsample_bynode=1, colsample_bytree=1,\n",
       "              feature_names=Index(['abandoned', 'abandonment', 'ability', 'able', 'absolute', 'absolutely',\n",
       "       'abuse', 'abusive', 'accept', 'accepted',\n",
       "       ...\n",
       "       'yeah', 'year', 'yelling', 'yes', 'yesterday', 'yet', 'young',\n",
       "       'younger', 'youve', 'zero'],\n",
       "      dtype='object', length=1500),\n",
       "              gamma=0...\n",
       "              interaction_constraints='', learning_rate=0.300000012,\n",
       "              max_delta_step=0, max_depth=6, min_child_weight=1, missing=None,\n",
       "              monotone_constraints='()', n_classes=2, n_estimators=84, n_jobs=4,\n",
       "              num_parallel_tree=1, random_state=42, reg_alpha=0, reg_lambda=1,\n",
       "              scale_pos_weight=1, subsample=0.8, tree_method='exact',\n",
       "              use_label_encoder=False, validate_parameters=1, verbosity=None)"
      ]
     },
     "execution_count": 20,
     "metadata": {},
     "output_type": "execute_result"
    }
   ],
   "source": [
    "model.fit(X_train_sm, \n",
    "          y_train_sm,\n",
    "          verbose = True, # set to true if you want to see where to stop early\n",
    "          early_stopping_rounds = 10, # reduce overfitting with early stopping\n",
    "          eval_metric = 'aucpr',\n",
    "          eval_set = [(X_test, y_test)]) # helps determine how many trees to build"
   ]
  },
  {
   "cell_type": "code",
   "execution_count": 21,
   "metadata": {},
   "outputs": [
    {
     "data": {
      "image/png": "[encoded data removed]",
      "text/plain": [
       "<Figure size 432x288 with 2 Axes>"
      ]
     },
     "metadata": {
      "needs_background": "light"
     },
     "output_type": "display_data"
    }
   ],
   "source": [
    "plot_confusion_matrix(model,\n",
    "                      X_test,\n",
    "                      y_test);"
   ]
  },
  {
   "cell_type": "code",
   "execution_count": 22,
   "metadata": {},
   "outputs": [
    {
     "name": "stdout",
     "output_type": "stream",
     "text": [
      "Accuracy: 83.34%\n"
     ]
    }
   ],
   "source": [
    "y_pred = model.predict(X_test)\n",
    "predictions = [round(value) for value in y_pred]\n",
    "\n",
    "accuracy = accuracy_score(y_test, predictions)\n",
    "print(\"Accuracy: %.2f%%\" % (accuracy * 100.0))"
   ]
  },
  {
   "cell_type": "code",
   "execution_count": 23,
   "metadata": {},
   "outputs": [
    {
     "name": "stdout",
     "output_type": "stream",
     "text": [
      "              precision    recall  f1-score   support\n",
      "\n",
      "           0       0.96      0.85      0.90     15043\n",
      "           1       0.38      0.74      0.50      1933\n",
      "\n",
      "    accuracy                           0.83     16976\n",
      "   macro avg       0.67      0.79      0.70     16976\n",
      "weighted avg       0.90      0.83      0.85     16976\n",
      "\n"
     ]
    }
   ],
   "source": [
    "print(classification_report(y_test,y_pred))"
   ]
  },
  {
   "cell_type": "code",
   "execution_count": 24,
   "metadata": {},
   "outputs": [
    {
     "data": {
      "image/png": "[encoded data removed]",
      "text/plain": [
       "<Figure size 504x720 with 1 Axes>"
      ]
     },
     "metadata": {
      "needs_background": "light"
     },
     "output_type": "display_data"
    }
   ],
   "source": [
    "f, ax = plt.subplots(figsize=[7,10])\n",
    "xgb.plot_importance(model,max_num_features=10,ax=ax)\n",
    "plt.title(\"XGBOOST Feature Importance r/AnorexiaNervosa\")\n",
    "plt.savefig('../images/anorexia_reddit.png');"
   ]
  },
  {
   "cell_type": "markdown",
   "metadata": {},
   "source": [
    "## Subreddit: Anxiety"
   ]
  },
  {
   "cell_type": "code",
   "execution_count": 25,
   "metadata": {},
   "outputs": [],
   "source": [
    "y = posts['subreddit_Anxiety']"
   ]
  },
  {
   "cell_type": "code",
   "execution_count": 26,
   "metadata": {},
   "outputs": [
    {
     "data": {
      "text/plain": [
       "(84879,)"
      ]
     },
     "execution_count": 26,
     "metadata": {},
     "output_type": "execute_result"
    }
   ],
   "source": [
    "y.shape"
   ]
  },
  {
   "cell_type": "code",
   "execution_count": 27,
   "metadata": {},
   "outputs": [],
   "source": [
    "# train test split\n",
    "X_train, X_test, y_train, y_test = train_test_split(X, y,\n",
    "                                                    test_size = .2,\n",
    "                                                    random_state=42)"
   ]
  },
  {
   "cell_type": "code",
   "execution_count": 28,
   "metadata": {},
   "outputs": [
    {
     "name": "stdout",
     "output_type": "stream",
     "text": [
      "Counter({0: 60342, 1: 7561})\n"
     ]
    }
   ],
   "source": [
    "# summarize class distribution\n",
    "counter = Counter(y_train)\n",
    "print(counter)"
   ]
  },
  {
   "cell_type": "code",
   "execution_count": 29,
   "metadata": {},
   "outputs": [],
   "source": [
    "# Oversample the minority class using SMOTE\n",
    "smote = SMOTE(random_state=42) \n",
    "X_train_sm, y_train_sm = smote.fit_resample(X_train, y_train)"
   ]
  },
  {
   "cell_type": "code",
   "execution_count": 30,
   "metadata": {},
   "outputs": [
    {
     "name": "stdout",
     "output_type": "stream",
     "text": [
      "Counter({1: 60342, 0: 60342})\n"
     ]
    }
   ],
   "source": [
    "# summarize class distribution\n",
    "counter_resampled = Counter(y_train_sm) \n",
    "print(counter_resampled)"
   ]
  },
  {
   "cell_type": "code",
   "execution_count": 31,
   "metadata": {},
   "outputs": [],
   "source": [
    "feature_names = X_train.columns"
   ]
  },
  {
   "cell_type": "code",
   "execution_count": 32,
   "metadata": {},
   "outputs": [],
   "source": [
    "model2 = XGBClassifier(feature_names = feature_names,\n",
    "                       n_classes = 2, \n",
    "                       missing=None,\n",
    "                       objective='binary:logistic',\n",
    "                       use_label_encoder = False,\n",
    "                       n_jobs = 4,\n",
    "                       subsample = .8,\n",
    "                       n_estimators = 14, # stop at around 14? trees, model no loger improves much after\n",
    "                       random_state = 42)"
   ]
  },
  {
   "cell_type": "code",
   "execution_count": 33,
   "metadata": {},
   "outputs": [
    {
     "name": "stdout",
     "output_type": "stream",
     "text": [
      "[23:28:11] WARNING: /Users/travis/build/dmlc/xgboost/src/learner.cc:541: \n",
      "Parameters: { feature_names, n_classes } might not be used.\n",
      "\n",
      "  This may not be accurate due to some parameters are only used in language bindings but\n",
      "  passed down to XGBoost core.  Or some parameters are not used but slip through this\n",
      "  verification. Please open an issue if you find above cases.\n",
      "\n",
      "\n",
      "[0]\tvalidation_0-aucpr:0.21528\n",
      "[1]\tvalidation_0-aucpr:0.22022\n",
      "[2]\tvalidation_0-aucpr:0.22696\n",
      "[3]\tvalidation_0-aucpr:0.22997\n",
      "[4]\tvalidation_0-aucpr:0.23986\n",
      "[5]\tvalidation_0-aucpr:0.24363\n",
      "[6]\tvalidation_0-aucpr:0.24213\n",
      "[7]\tvalidation_0-aucpr:0.24501\n",
      "[8]\tvalidation_0-aucpr:0.24662\n",
      "[9]\tvalidation_0-aucpr:0.24896\n",
      "[10]\tvalidation_0-aucpr:0.24372\n",
      "[11]\tvalidation_0-aucpr:0.24899\n",
      "[12]\tvalidation_0-aucpr:0.24626\n",
      "[13]\tvalidation_0-aucpr:0.24624\n"
     ]
    },
    {
     "data": {
      "text/plain": [
       "XGBClassifier(base_score=0.5, booster='gbtree', colsample_bylevel=1,\n",
       "              colsample_bynode=1, colsample_bytree=1,\n",
       "              feature_names=Index(['abandoned', 'abandonment', 'ability', 'able', 'absolute', 'absolutely',\n",
       "       'abuse', 'abusive', 'accept', 'accepted',\n",
       "       ...\n",
       "       'yeah', 'year', 'yelling', 'yes', 'yesterday', 'yet', 'young',\n",
       "       'younger', 'youve', 'zero'],\n",
       "      dtype='object', length=1500),\n",
       "              gamma=0...\n",
       "              interaction_constraints='', learning_rate=0.300000012,\n",
       "              max_delta_step=0, max_depth=6, min_child_weight=1, missing=None,\n",
       "              monotone_constraints='()', n_classes=2, n_estimators=14, n_jobs=4,\n",
       "              num_parallel_tree=1, random_state=42, reg_alpha=0, reg_lambda=1,\n",
       "              scale_pos_weight=1, subsample=0.8, tree_method='exact',\n",
       "              use_label_encoder=False, validate_parameters=1, verbosity=None)"
      ]
     },
     "execution_count": 33,
     "metadata": {},
     "output_type": "execute_result"
    }
   ],
   "source": [
    "model2.fit(X_train_sm, \n",
    "           y_train_sm,\n",
    "           verbose = True, # set to true if you want to see where to stop early\n",
    "           early_stopping_rounds = 10, # reduce overfitting with early stopping\n",
    "           eval_metric = 'aucpr',\n",
    "           eval_set = [(X_test, y_test)]) # helps determine how many trees to build"
   ]
  },
  {
   "cell_type": "code",
   "execution_count": 34,
   "metadata": {},
   "outputs": [
    {
     "data": {
      "image/png": "[encoded data removed]",
      "text/plain": [
       "<Figure size 432x288 with 2 Axes>"
      ]
     },
     "metadata": {
      "needs_background": "light"
     },
     "output_type": "display_data"
    }
   ],
   "source": [
    "plot_confusion_matrix(model2,\n",
    "                      X_test,\n",
    "                      y_test);"
   ]
  },
  {
   "cell_type": "code",
   "execution_count": 35,
   "metadata": {},
   "outputs": [
    {
     "name": "stdout",
     "output_type": "stream",
     "text": [
      "Accuracy: 65.52%\n"
     ]
    }
   ],
   "source": [
    "y_pred = model2.predict(X_test)\n",
    "predictions = [round(value) for value in y_pred]\n",
    "\n",
    "accuracy = accuracy_score(y_test, predictions)\n",
    "print(\"Accuracy: %.2f%%\" % (accuracy * 100.0))"
   ]
  },
  {
   "cell_type": "code",
   "execution_count": 36,
   "metadata": {},
   "outputs": [
    {
     "name": "stdout",
     "output_type": "stream",
     "text": [
      "              precision    recall  f1-score   support\n",
      "\n",
      "           0       0.92      0.67      0.78     15095\n",
      "           1       0.17      0.52      0.25      1881\n",
      "\n",
      "    accuracy                           0.66     16976\n",
      "   macro avg       0.54      0.60      0.51     16976\n",
      "weighted avg       0.83      0.66      0.72     16976\n",
      "\n"
     ]
    }
   ],
   "source": [
    "print(classification_report(y_test,y_pred))"
   ]
  },
  {
   "cell_type": "code",
   "execution_count": 37,
   "metadata": {},
   "outputs": [
    {
     "data": {
      "image/png": "[encoded data removed]",
      "text/plain": [
       "<Figure size 504x720 with 1 Axes>"
      ]
     },
     "metadata": {
      "needs_background": "light"
     },
     "output_type": "display_data"
    }
   ],
   "source": [
    "f, ax = plt.subplots(figsize=[7,10])\n",
    "xgb.plot_importance(model2, max_num_features=10,ax=ax)\n",
    "plt.title(\"XGBOOST Feature Importance for r/Anxiety\")\n",
    "plt.savefig('../images/anxiety_reddit.png')"
   ]
  },
  {
   "cell_type": "markdown",
   "metadata": {},
   "source": [
    "## Subreddit: Autism"
   ]
  },
  {
   "cell_type": "code",
   "execution_count": 38,
   "metadata": {},
   "outputs": [],
   "source": [
    "y = posts['subreddit_autism']"
   ]
  },
  {
   "cell_type": "code",
   "execution_count": 39,
   "metadata": {},
   "outputs": [
    {
     "data": {
      "text/plain": [
       "(84879,)"
      ]
     },
     "execution_count": 39,
     "metadata": {},
     "output_type": "execute_result"
    }
   ],
   "source": [
    "y.shape"
   ]
  },
  {
   "cell_type": "markdown",
   "metadata": {},
   "source": [
    "### train test split"
   ]
  },
  {
   "cell_type": "code",
   "execution_count": 40,
   "metadata": {},
   "outputs": [],
   "source": [
    "X_train, X_test, y_train, y_test = train_test_split(X, y,\n",
    "                                                    test_size = .2,\n",
    "                                                    random_state=42)"
   ]
  },
  {
   "cell_type": "markdown",
   "metadata": {},
   "source": [
    "Summarize the class distribution of the target"
   ]
  },
  {
   "cell_type": "code",
   "execution_count": 41,
   "metadata": {},
   "outputs": [
    {
     "name": "stdout",
     "output_type": "stream",
     "text": [
      "Counter({0: 60547, 1: 7356})\n"
     ]
    }
   ],
   "source": [
    "counter = Counter(y_train)\n",
    "print(counter)"
   ]
  },
  {
   "cell_type": "markdown",
   "metadata": {},
   "source": [
    "### Oversample the minority class using SMOTE"
   ]
  },
  {
   "cell_type": "code",
   "execution_count": 42,
   "metadata": {},
   "outputs": [],
   "source": [
    "smote = SMOTE(random_state=42) \n",
    "X_train_sm, y_train_sm = smote.fit_resample(X_train, y_train)"
   ]
  },
  {
   "cell_type": "markdown",
   "metadata": {},
   "source": [
    "Summarize the class distribution of the target after oversampling the minority class using the SMOTE algorithm."
   ]
  },
  {
   "cell_type": "code",
   "execution_count": 43,
   "metadata": {},
   "outputs": [
    {
     "name": "stdout",
     "output_type": "stream",
     "text": [
      "Counter({0: 60547, 1: 60547})\n"
     ]
    }
   ],
   "source": [
    "counter_resampled = Counter(y_train_sm) \n",
    "print(counter_resampled)"
   ]
  },
  {
   "cell_type": "markdown",
   "metadata": {},
   "source": [
    "### XGBoost Model"
   ]
  },
  {
   "cell_type": "markdown",
   "metadata": {},
   "source": [
    "Define Parameters for XGBoost Model"
   ]
  },
  {
   "cell_type": "code",
   "execution_count": 44,
   "metadata": {},
   "outputs": [],
   "source": [
    "model3 = XGBClassifier(n_classes = 2, \n",
    "                      missing=None,\n",
    "                      objective='binary:logistic',\n",
    "                      use_label_encoder = False,\n",
    "                      n_jobs = 4,\n",
    "                      subsample = .8,\n",
    "                      n_estimators = 222, # stop at around 222 trees, model no loger improves much after\n",
    "                      random_state = 42)"
   ]
  },
  {
   "cell_type": "code",
   "execution_count": 45,
   "metadata": {},
   "outputs": [
    {
     "name": "stdout",
     "output_type": "stream",
     "text": [
      "[23:29:10] WARNING: /Users/travis/build/dmlc/xgboost/src/learner.cc:541: \n",
      "Parameters: { n_classes } might not be used.\n",
      "\n",
      "  This may not be accurate due to some parameters are only used in language bindings but\n",
      "  passed down to XGBoost core.  Or some parameters are not used but slip through this\n",
      "  verification. Please open an issue if you find above cases.\n",
      "\n",
      "\n"
     ]
    },
    {
     "data": {
      "text/plain": [
       "XGBClassifier(base_score=0.5, booster='gbtree', colsample_bylevel=1,\n",
       "              colsample_bynode=1, colsample_bytree=1, gamma=0, gpu_id=-1,\n",
       "              importance_type='gain', interaction_constraints='',\n",
       "              learning_rate=0.300000012, max_delta_step=0, max_depth=6,\n",
       "              min_child_weight=1, missing=None, monotone_constraints='()',\n",
       "              n_classes=2, n_estimators=222, n_jobs=4, num_parallel_tree=1,\n",
       "              random_state=42, reg_alpha=0, reg_lambda=1, scale_pos_weight=1,\n",
       "              subsample=0.8, tree_method='exact', use_label_encoder=False,\n",
       "              validate_parameters=1, verbosity=None)"
      ]
     },
     "execution_count": 45,
     "metadata": {},
     "output_type": "execute_result"
    }
   ],
   "source": [
    "model3.fit(X_train_sm, \n",
    "          y_train_sm,\n",
    "          verbose = False, # set to true if you want to see where to stop early\n",
    "          early_stopping_rounds = 10, # reduce overfitting with early stopping\n",
    "          eval_metric = 'aucpr',\n",
    "          eval_set = [(X_test, y_test)]) # helps determine how many trees to build"
   ]
  },
  {
   "cell_type": "code",
   "execution_count": 46,
   "metadata": {},
   "outputs": [
    {
     "data": {
      "image/png": "[encoded data removed]",
      "text/plain": [
       "<Figure size 432x288 with 2 Axes>"
      ]
     },
     "metadata": {
      "needs_background": "light"
     },
     "output_type": "display_data"
    }
   ],
   "source": [
    "plot_confusion_matrix(model3,\n",
    "                      X_test,\n",
    "                      y_test);"
   ]
  },
  {
   "cell_type": "code",
   "execution_count": 47,
   "metadata": {},
   "outputs": [
    {
     "name": "stdout",
     "output_type": "stream",
     "text": [
      "Accuracy: 83.15%\n"
     ]
    }
   ],
   "source": [
    "y_pred = model3.predict(X_test)\n",
    "predictions = [round(value) for value in y_pred]\n",
    "\n",
    "accuracy = accuracy_score(y_test, predictions)\n",
    "print(\"Accuracy: %.2f%%\" % (accuracy * 100.0))"
   ]
  },
  {
   "cell_type": "code",
   "execution_count": 48,
   "metadata": {},
   "outputs": [
    {
     "name": "stdout",
     "output_type": "stream",
     "text": [
      "              precision    recall  f1-score   support\n",
      "\n",
      "           0       0.96      0.84      0.90     15175\n",
      "           1       0.36      0.72      0.48      1801\n",
      "\n",
      "    accuracy                           0.83     16976\n",
      "   macro avg       0.66      0.78      0.69     16976\n",
      "weighted avg       0.90      0.83      0.85     16976\n",
      "\n"
     ]
    }
   ],
   "source": [
    "print(classification_report(y_test,y_pred))"
   ]
  },
  {
   "cell_type": "code",
   "execution_count": 49,
   "metadata": {},
   "outputs": [
    {
     "data": {
      "image/png": "[encoded data removed]",
      "text/plain": [
       "<Figure size 504x720 with 1 Axes>"
      ]
     },
     "metadata": {
      "needs_background": "light"
     },
     "output_type": "display_data"
    }
   ],
   "source": [
    "f, ax = plt.subplots(figsize=[7,10])\n",
    "xgb.plot_importance(model3, max_num_features=10,ax=ax)\n",
    "plt.title(\"XGBOOST Feature Importance for r/Autism\")\n",
    "plt.savefig('../images/autism_reddit.png')\n",
    "#plt.show();"
   ]
  },
  {
   "cell_type": "markdown",
   "metadata": {},
   "source": [
    "## Subreddit: BPD"
   ]
  },
  {
   "cell_type": "code",
   "execution_count": 50,
   "metadata": {},
   "outputs": [],
   "source": [
    "y = posts['subreddit_BPD']"
   ]
  },
  {
   "cell_type": "code",
   "execution_count": 51,
   "metadata": {},
   "outputs": [
    {
     "data": {
      "text/plain": [
       "(84879,)"
      ]
     },
     "execution_count": 51,
     "metadata": {},
     "output_type": "execute_result"
    }
   ],
   "source": [
    "y.shape"
   ]
  },
  {
   "cell_type": "markdown",
   "metadata": {},
   "source": [
    "### train test split"
   ]
  },
  {
   "cell_type": "code",
   "execution_count": 52,
   "metadata": {},
   "outputs": [],
   "source": [
    "X_train, X_test, y_train, y_test = train_test_split(X, y,\n",
    "                                                    test_size = .2,\n",
    "                                                    random_state=42)"
   ]
  },
  {
   "cell_type": "markdown",
   "metadata": {},
   "source": [
    "Summarize the class distribution of the target"
   ]
  },
  {
   "cell_type": "code",
   "execution_count": 53,
   "metadata": {},
   "outputs": [
    {
     "name": "stdout",
     "output_type": "stream",
     "text": [
      "Counter({0: 60474, 1: 7429})\n"
     ]
    }
   ],
   "source": [
    "counter = Counter(y_train)\n",
    "print(counter)"
   ]
  },
  {
   "cell_type": "markdown",
   "metadata": {},
   "source": [
    "### Oversample the minority class using SMOTE"
   ]
  },
  {
   "cell_type": "code",
   "execution_count": 54,
   "metadata": {},
   "outputs": [],
   "source": [
    "smote = SMOTE(random_state=42) \n",
    "X_train_sm, y_train_sm = smote.fit_resample(X_train, y_train)"
   ]
  },
  {
   "cell_type": "markdown",
   "metadata": {},
   "source": [
    "Summarize the class distribution of the target after oversampling the minority class using the SMOTE algorithm."
   ]
  },
  {
   "cell_type": "code",
   "execution_count": 55,
   "metadata": {},
   "outputs": [
    {
     "name": "stdout",
     "output_type": "stream",
     "text": [
      "Counter({0: 60474, 1: 60474})\n"
     ]
    }
   ],
   "source": [
    "counter_resampled = Counter(y_train_sm) \n",
    "print(counter_resampled)"
   ]
  },
  {
   "cell_type": "markdown",
   "metadata": {},
   "source": [
    "### XGBoost Model"
   ]
  },
  {
   "cell_type": "markdown",
   "metadata": {},
   "source": [
    "Define Parameters for XGBoost Model"
   ]
  },
  {
   "cell_type": "code",
   "execution_count": 56,
   "metadata": {},
   "outputs": [],
   "source": [
    "model4 = XGBClassifier(n_classes = 2, \n",
    "                      missing=None,\n",
    "                      objective='binary:logistic',\n",
    "                      use_label_encoder = False,\n",
    "                      n_jobs = 4,\n",
    "                      subsample = .8,\n",
    "                      n_estimators = 200, # stop at around n trees, model no loger improves much after\n",
    "                      random_state = 42)"
   ]
  },
  {
   "cell_type": "code",
   "execution_count": 57,
   "metadata": {},
   "outputs": [
    {
     "name": "stdout",
     "output_type": "stream",
     "text": [
      "[23:36:32] WARNING: /Users/travis/build/dmlc/xgboost/src/learner.cc:541: \n",
      "Parameters: { n_classes } might not be used.\n",
      "\n",
      "  This may not be accurate due to some parameters are only used in language bindings but\n",
      "  passed down to XGBoost core.  Or some parameters are not used but slip through this\n",
      "  verification. Please open an issue if you find above cases.\n",
      "\n",
      "\n",
      "[0]\tvalidation_0-aucpr:0.15190\n",
      "[1]\tvalidation_0-aucpr:0.16003\n",
      "[2]\tvalidation_0-aucpr:0.16366\n",
      "[3]\tvalidation_0-aucpr:0.17979\n",
      "[4]\tvalidation_0-aucpr:0.17454\n",
      "[5]\tvalidation_0-aucpr:0.17960\n",
      "[6]\tvalidation_0-aucpr:0.18732\n",
      "[7]\tvalidation_0-aucpr:0.18802\n",
      "[8]\tvalidation_0-aucpr:0.19541\n",
      "[9]\tvalidation_0-aucpr:0.21004\n",
      "[10]\tvalidation_0-aucpr:0.22416\n",
      "[11]\tvalidation_0-aucpr:0.22348\n",
      "[12]\tvalidation_0-aucpr:0.21863\n",
      "[13]\tvalidation_0-aucpr:0.22224\n",
      "[14]\tvalidation_0-aucpr:0.22138\n",
      "[15]\tvalidation_0-aucpr:0.22406\n",
      "[16]\tvalidation_0-aucpr:0.23106\n",
      "[17]\tvalidation_0-aucpr:0.23118\n",
      "[18]\tvalidation_0-aucpr:0.22814\n",
      "[19]\tvalidation_0-aucpr:0.22386\n",
      "[20]\tvalidation_0-aucpr:0.22043\n",
      "[21]\tvalidation_0-aucpr:0.23704\n",
      "[22]\tvalidation_0-aucpr:0.23585\n",
      "[23]\tvalidation_0-aucpr:0.23776\n",
      "[24]\tvalidation_0-aucpr:0.23711\n",
      "[25]\tvalidation_0-aucpr:0.24294\n",
      "[26]\tvalidation_0-aucpr:0.24571\n",
      "[27]\tvalidation_0-aucpr:0.24564\n",
      "[28]\tvalidation_0-aucpr:0.24653\n",
      "[29]\tvalidation_0-aucpr:0.24530\n",
      "[30]\tvalidation_0-aucpr:0.24575\n",
      "[31]\tvalidation_0-aucpr:0.25209\n",
      "[32]\tvalidation_0-aucpr:0.25253\n",
      "[33]\tvalidation_0-aucpr:0.25098\n",
      "[34]\tvalidation_0-aucpr:0.24998\n",
      "[35]\tvalidation_0-aucpr:0.25232\n",
      "[36]\tvalidation_0-aucpr:0.25710\n",
      "[37]\tvalidation_0-aucpr:0.26043\n",
      "[38]\tvalidation_0-aucpr:0.26220\n",
      "[39]\tvalidation_0-aucpr:0.26280\n",
      "[40]\tvalidation_0-aucpr:0.26424\n",
      "[41]\tvalidation_0-aucpr:0.26258\n",
      "[42]\tvalidation_0-aucpr:0.26340\n",
      "[43]\tvalidation_0-aucpr:0.26221\n",
      "[44]\tvalidation_0-aucpr:0.26408\n",
      "[45]\tvalidation_0-aucpr:0.26655\n",
      "[46]\tvalidation_0-aucpr:0.26564\n",
      "[47]\tvalidation_0-aucpr:0.26790\n",
      "[48]\tvalidation_0-aucpr:0.27024\n",
      "[49]\tvalidation_0-aucpr:0.27193\n",
      "[50]\tvalidation_0-aucpr:0.27117\n",
      "[51]\tvalidation_0-aucpr:0.26988\n",
      "[52]\tvalidation_0-aucpr:0.27064\n",
      "[53]\tvalidation_0-aucpr:0.27693\n",
      "[54]\tvalidation_0-aucpr:0.27617\n",
      "[55]\tvalidation_0-aucpr:0.27828\n",
      "[56]\tvalidation_0-aucpr:0.28148\n",
      "[57]\tvalidation_0-aucpr:0.28136\n",
      "[58]\tvalidation_0-aucpr:0.27941\n",
      "[59]\tvalidation_0-aucpr:0.28150\n",
      "[60]\tvalidation_0-aucpr:0.28284\n",
      "[61]\tvalidation_0-aucpr:0.28508\n",
      "[62]\tvalidation_0-aucpr:0.28602\n",
      "[63]\tvalidation_0-aucpr:0.28531\n",
      "[64]\tvalidation_0-aucpr:0.28547\n",
      "[65]\tvalidation_0-aucpr:0.28574\n",
      "[66]\tvalidation_0-aucpr:0.28455\n",
      "[67]\tvalidation_0-aucpr:0.28308\n",
      "[68]\tvalidation_0-aucpr:0.28516\n",
      "[69]\tvalidation_0-aucpr:0.28578\n",
      "[70]\tvalidation_0-aucpr:0.28371\n",
      "[71]\tvalidation_0-aucpr:0.28487\n",
      "[72]\tvalidation_0-aucpr:0.28409\n"
     ]
    },
    {
     "data": {
      "text/plain": [
       "XGBClassifier(base_score=0.5, booster='gbtree', colsample_bylevel=1,\n",
       "              colsample_bynode=1, colsample_bytree=1, gamma=0, gpu_id=-1,\n",
       "              importance_type='gain', interaction_constraints='',\n",
       "              learning_rate=0.300000012, max_delta_step=0, max_depth=6,\n",
       "              min_child_weight=1, missing=None, monotone_constraints='()',\n",
       "              n_classes=2, n_estimators=200, n_jobs=4, num_parallel_tree=1,\n",
       "              random_state=42, reg_alpha=0, reg_lambda=1, scale_pos_weight=1,\n",
       "              subsample=0.8, tree_method='exact', use_label_encoder=False,\n",
       "              validate_parameters=1, verbosity=None)"
      ]
     },
     "execution_count": 57,
     "metadata": {},
     "output_type": "execute_result"
    }
   ],
   "source": [
    "model4.fit(X_train_sm, \n",
    "          y_train_sm,\n",
    "          verbose = True, # set to true if you want to see where to stop early\n",
    "          early_stopping_rounds = 10, # reduce overfitting with early stopping\n",
    "          eval_metric = 'aucpr',\n",
    "          eval_set = [(X_test, y_test)]) # helps determine how many trees to build"
   ]
  },
  {
   "cell_type": "code",
   "execution_count": 58,
   "metadata": {},
   "outputs": [
    {
     "name": "stdout",
     "output_type": "stream",
     "text": [
      "Accuracy: 71.77%\n"
     ]
    }
   ],
   "source": [
    "y_pred = model4.predict(X_test)\n",
    "predictions = [round(value) for value in y_pred]\n",
    "\n",
    "accuracy = accuracy_score(y_test, predictions)\n",
    "print(\"Accuracy: %.2f%%\" % (accuracy * 100.0))"
   ]
  },
  {
   "cell_type": "code",
   "execution_count": 59,
   "metadata": {},
   "outputs": [
    {
     "name": "stdout",
     "output_type": "stream",
     "text": [
      "              precision    recall  f1-score   support\n",
      "\n",
      "           0       0.92      0.75      0.82     15070\n",
      "           1       0.19      0.48      0.28      1906\n",
      "\n",
      "    accuracy                           0.72     16976\n",
      "   macro avg       0.56      0.62      0.55     16976\n",
      "weighted avg       0.84      0.72      0.76     16976\n",
      "\n"
     ]
    }
   ],
   "source": [
    "print(classification_report(y_test,y_pred))"
   ]
  },
  {
   "cell_type": "code",
   "execution_count": 60,
   "metadata": {},
   "outputs": [
    {
     "data": {
      "image/png": "[encoded data removed]",
      "text/plain": [
       "<Figure size 432x288 with 2 Axes>"
      ]
     },
     "metadata": {
      "needs_background": "light"
     },
     "output_type": "display_data"
    }
   ],
   "source": [
    "plot_confusion_matrix(model4,\n",
    "                      X_test,\n",
    "                      y_test);"
   ]
  },
  {
   "cell_type": "code",
   "execution_count": 61,
   "metadata": {},
   "outputs": [
    {
     "data": {
      "image/png": "[encoded data removed]",
      "text/plain": [
       "<Figure size 504x720 with 1 Axes>"
      ]
     },
     "metadata": {
      "needs_background": "light"
     },
     "output_type": "display_data"
    }
   ],
   "source": [
    "f, ax = plt.subplots(figsize=[7,10])\n",
    "xgb.plot_importance(model4, max_num_features=10,ax=ax)\n",
    "plt.title(\"XGBOOST Feature Importance for r/BPD\")\n",
    "plt.savefig('../images/BPD_reddit.png')\n",
    "#plt.show();"
   ]
  },
  {
   "cell_type": "markdown",
   "metadata": {},
   "source": [
    "## Subreddit: Bipolar"
   ]
  },
  {
   "cell_type": "code",
   "execution_count": 62,
   "metadata": {},
   "outputs": [],
   "source": [
    "y = posts['subreddit_bipolar']"
   ]
  },
  {
   "cell_type": "code",
   "execution_count": 63,
   "metadata": {},
   "outputs": [
    {
     "data": {
      "text/plain": [
       "(84879,)"
      ]
     },
     "execution_count": 63,
     "metadata": {},
     "output_type": "execute_result"
    }
   ],
   "source": [
    "y.shape"
   ]
  },
  {
   "cell_type": "markdown",
   "metadata": {},
   "source": [
    "### train test split"
   ]
  },
  {
   "cell_type": "code",
   "execution_count": 64,
   "metadata": {},
   "outputs": [],
   "source": [
    "X_train, X_test, y_train, y_test = train_test_split(X, y,\n",
    "                                                    test_size = .2,\n",
    "                                                    random_state=42)"
   ]
  },
  {
   "cell_type": "markdown",
   "metadata": {},
   "source": [
    "Summarize the class distribution of the target"
   ]
  },
  {
   "cell_type": "code",
   "execution_count": 65,
   "metadata": {},
   "outputs": [
    {
     "name": "stdout",
     "output_type": "stream",
     "text": [
      "Counter({0: 60448, 1: 7455})\n"
     ]
    }
   ],
   "source": [
    "counter = Counter(y_train)\n",
    "print(counter)"
   ]
  },
  {
   "cell_type": "markdown",
   "metadata": {},
   "source": [
    "### Oversample the minority class using SMOTE"
   ]
  },
  {
   "cell_type": "code",
   "execution_count": 66,
   "metadata": {},
   "outputs": [],
   "source": [
    "smote = SMOTE(random_state=42) \n",
    "X_train_sm, y_train_sm = smote.fit_resample(X_train, y_train)"
   ]
  },
  {
   "cell_type": "markdown",
   "metadata": {},
   "source": [
    "Summarize the class distribution of the target after oversampling the minority class using the SMOTE algorithm."
   ]
  },
  {
   "cell_type": "code",
   "execution_count": 67,
   "metadata": {},
   "outputs": [
    {
     "name": "stdout",
     "output_type": "stream",
     "text": [
      "Counter({0: 60448, 1: 60448})\n"
     ]
    }
   ],
   "source": [
    "counter_resampled = Counter(y_train_sm) \n",
    "print(counter_resampled)"
   ]
  },
  {
   "cell_type": "markdown",
   "metadata": {},
   "source": [
    "### XGBoost Model"
   ]
  },
  {
   "cell_type": "markdown",
   "metadata": {},
   "source": [
    "Define Parameters for XGBoost Model"
   ]
  },
  {
   "cell_type": "code",
   "execution_count": 68,
   "metadata": {},
   "outputs": [],
   "source": [
    "model5 = XGBClassifier(n_classes = 2, \n",
    "                      missing=None,\n",
    "                      objective='binary:logistic',\n",
    "                      use_label_encoder = False,\n",
    "                      n_jobs = 4,\n",
    "                      subsample = .8,\n",
    "                      n_estimators = 33, # stop at around 33 trees, model no loger improves much after\n",
    "                      random_state = 42)"
   ]
  },
  {
   "cell_type": "code",
   "execution_count": 69,
   "metadata": {},
   "outputs": [
    {
     "name": "stdout",
     "output_type": "stream",
     "text": [
      "[23:40:01] WARNING: /Users/travis/build/dmlc/xgboost/src/learner.cc:541: \n",
      "Parameters: { n_classes } might not be used.\n",
      "\n",
      "  This may not be accurate due to some parameters are only used in language bindings but\n",
      "  passed down to XGBoost core.  Or some parameters are not used but slip through this\n",
      "  verification. Please open an issue if you find above cases.\n",
      "\n",
      "\n",
      "[0]\tvalidation_0-aucpr:0.25791\n",
      "[1]\tvalidation_0-aucpr:0.26726\n",
      "[2]\tvalidation_0-aucpr:0.31912\n",
      "[3]\tvalidation_0-aucpr:0.32682\n",
      "[4]\tvalidation_0-aucpr:0.32814\n",
      "[5]\tvalidation_0-aucpr:0.33569\n",
      "[6]\tvalidation_0-aucpr:0.34062\n",
      "[7]\tvalidation_0-aucpr:0.35656\n",
      "[8]\tvalidation_0-aucpr:0.35316\n",
      "[9]\tvalidation_0-aucpr:0.35579\n",
      "[10]\tvalidation_0-aucpr:0.36869\n",
      "[11]\tvalidation_0-aucpr:0.37302\n",
      "[12]\tvalidation_0-aucpr:0.37442\n",
      "[13]\tvalidation_0-aucpr:0.37702\n",
      "[14]\tvalidation_0-aucpr:0.38499\n",
      "[15]\tvalidation_0-aucpr:0.38665\n",
      "[16]\tvalidation_0-aucpr:0.39304\n",
      "[17]\tvalidation_0-aucpr:0.39336\n",
      "[18]\tvalidation_0-aucpr:0.39155\n",
      "[19]\tvalidation_0-aucpr:0.39575\n",
      "[20]\tvalidation_0-aucpr:0.39604\n",
      "[21]\tvalidation_0-aucpr:0.40116\n",
      "[22]\tvalidation_0-aucpr:0.40699\n",
      "[23]\tvalidation_0-aucpr:0.41191\n",
      "[24]\tvalidation_0-aucpr:0.40985\n",
      "[25]\tvalidation_0-aucpr:0.40451\n",
      "[26]\tvalidation_0-aucpr:0.40240\n",
      "[27]\tvalidation_0-aucpr:0.40222\n",
      "[28]\tvalidation_0-aucpr:0.40689\n",
      "[29]\tvalidation_0-aucpr:0.40491\n",
      "[30]\tvalidation_0-aucpr:0.40808\n",
      "[31]\tvalidation_0-aucpr:0.40809\n",
      "[32]\tvalidation_0-aucpr:0.41036\n"
     ]
    },
    {
     "data": {
      "text/plain": [
       "XGBClassifier(base_score=0.5, booster='gbtree', colsample_bylevel=1,\n",
       "              colsample_bynode=1, colsample_bytree=1, gamma=0, gpu_id=-1,\n",
       "              importance_type='gain', interaction_constraints='',\n",
       "              learning_rate=0.300000012, max_delta_step=0, max_depth=6,\n",
       "              min_child_weight=1, missing=None, monotone_constraints='()',\n",
       "              n_classes=2, n_estimators=33, n_jobs=4, num_parallel_tree=1,\n",
       "              random_state=42, reg_alpha=0, reg_lambda=1, scale_pos_weight=1,\n",
       "              subsample=0.8, tree_method='exact', use_label_encoder=False,\n",
       "              validate_parameters=1, verbosity=None)"
      ]
     },
     "execution_count": 69,
     "metadata": {},
     "output_type": "execute_result"
    }
   ],
   "source": [
    "model5.fit(X_train_sm, \n",
    "          y_train_sm,\n",
    "          verbose = True, # set to true if you want to see where to stop early\n",
    "          early_stopping_rounds = 10, # reduce overfitting with early stopping\n",
    "          eval_metric = 'aucpr',\n",
    "          eval_set = [(X_test, y_test)]) # helps determine how many trees to build"
   ]
  },
  {
   "cell_type": "code",
   "execution_count": 70,
   "metadata": {},
   "outputs": [
    {
     "name": "stdout",
     "output_type": "stream",
     "text": [
      "Accuracy: 72.25%\n"
     ]
    }
   ],
   "source": [
    "y_pred = model5.predict(X_test)\n",
    "predictions = [round(value) for value in y_pred]\n",
    "\n",
    "accuracy = accuracy_score(y_test, predictions)\n",
    "print(\"Accuracy: %.2f%%\" % (accuracy * 100.0))"
   ]
  },
  {
   "cell_type": "code",
   "execution_count": 71,
   "metadata": {},
   "outputs": [
    {
     "name": "stdout",
     "output_type": "stream",
     "text": [
      "              precision    recall  f1-score   support\n",
      "\n",
      "           0       0.94      0.73      0.82     15042\n",
      "           1       0.23      0.63      0.34      1934\n",
      "\n",
      "    accuracy                           0.72     16976\n",
      "   macro avg       0.59      0.68      0.58     16976\n",
      "weighted avg       0.86      0.72      0.77     16976\n",
      "\n"
     ]
    }
   ],
   "source": [
    "print(classification_report(y_test,y_pred))"
   ]
  },
  {
   "cell_type": "code",
   "execution_count": 72,
   "metadata": {},
   "outputs": [
    {
     "data": {
      "image/png": "[encoded data removed]",
      "text/plain": [
       "<Figure size 432x288 with 2 Axes>"
      ]
     },
     "metadata": {
      "needs_background": "light"
     },
     "output_type": "display_data"
    }
   ],
   "source": [
    "plot_confusion_matrix(model5,\n",
    "                      X_test,\n",
    "                      y_test);"
   ]
  },
  {
   "cell_type": "code",
   "execution_count": 73,
   "metadata": {},
   "outputs": [
    {
     "data": {
      "image/png": "[encoded data removed]",
      "text/plain": [
       "<Figure size 504x720 with 1 Axes>"
      ]
     },
     "metadata": {
      "needs_background": "light"
     },
     "output_type": "display_data"
    }
   ],
   "source": [
    "f, ax = plt.subplots(figsize=[7,10])\n",
    "xgb.plot_importance(model5, max_num_features=10,ax=ax)\n",
    "plt.title(\"XGBOOST Feature Importance for r/bipolar\")\n",
    "plt.savefig('../images/bipolar_reddit.png')\n",
    "#plt.show();"
   ]
  },
  {
   "cell_type": "markdown",
   "metadata": {},
   "source": [
    "## Subreddit: Bulimia"
   ]
  },
  {
   "cell_type": "code",
   "execution_count": 74,
   "metadata": {},
   "outputs": [],
   "source": [
    "y = posts['subreddit_bulimia']"
   ]
  },
  {
   "cell_type": "code",
   "execution_count": 75,
   "metadata": {},
   "outputs": [
    {
     "data": {
      "text/plain": [
       "(84879,)"
      ]
     },
     "execution_count": 75,
     "metadata": {},
     "output_type": "execute_result"
    }
   ],
   "source": [
    "y.shape"
   ]
  },
  {
   "cell_type": "markdown",
   "metadata": {},
   "source": [
    "### train test split"
   ]
  },
  {
   "cell_type": "code",
   "execution_count": 76,
   "metadata": {},
   "outputs": [],
   "source": [
    "X_train, X_test, y_train, y_test = train_test_split(X, y,\n",
    "                                                    test_size = .2,\n",
    "                                                    random_state=42)"
   ]
  },
  {
   "cell_type": "markdown",
   "metadata": {},
   "source": [
    "Summarize the class distribution of the target"
   ]
  },
  {
   "cell_type": "code",
   "execution_count": 77,
   "metadata": {},
   "outputs": [
    {
     "name": "stdout",
     "output_type": "stream",
     "text": [
      "Counter({0: 60031, 1: 7872})\n"
     ]
    }
   ],
   "source": [
    "counter = Counter(y_train)\n",
    "print(counter)"
   ]
  },
  {
   "cell_type": "markdown",
   "metadata": {},
   "source": [
    "### Oversample the minority class using SMOTE"
   ]
  },
  {
   "cell_type": "code",
   "execution_count": 78,
   "metadata": {},
   "outputs": [],
   "source": [
    "smote = SMOTE(random_state=42) \n",
    "X_train_sm, y_train_sm = smote.fit_resample(X_train, y_train)"
   ]
  },
  {
   "cell_type": "markdown",
   "metadata": {},
   "source": [
    "Summarize the class distribution of the target after oversampling the minority class using the SMOTE algorithm."
   ]
  },
  {
   "cell_type": "code",
   "execution_count": 79,
   "metadata": {},
   "outputs": [
    {
     "name": "stdout",
     "output_type": "stream",
     "text": [
      "Counter({0: 60031, 1: 60031})\n"
     ]
    }
   ],
   "source": [
    "counter_resampled = Counter(y_train_sm) \n",
    "print(counter_resampled)"
   ]
  },
  {
   "cell_type": "markdown",
   "metadata": {},
   "source": [
    "### XGBoost Model"
   ]
  },
  {
   "cell_type": "markdown",
   "metadata": {},
   "source": [
    "Define Parameters for XGBoost Model"
   ]
  },
  {
   "cell_type": "code",
   "execution_count": 80,
   "metadata": {},
   "outputs": [],
   "source": [
    "model6 = XGBClassifier(n_classes = 2, \n",
    "                      missing=None,\n",
    "                      objective='binary:logistic',\n",
    "                      use_label_encoder = False,\n",
    "                      n_jobs = 4,\n",
    "                      subsample = .8,\n",
    "                      n_estimators = 36, # stop at around 36 trees, model no loger improves much after\n",
    "                      random_state = 42)"
   ]
  },
  {
   "cell_type": "code",
   "execution_count": 81,
   "metadata": {},
   "outputs": [
    {
     "name": "stdout",
     "output_type": "stream",
     "text": [
      "[23:41:51] WARNING: /Users/travis/build/dmlc/xgboost/src/learner.cc:541: \n",
      "Parameters: { n_classes } might not be used.\n",
      "\n",
      "  This may not be accurate due to some parameters are only used in language bindings but\n",
      "  passed down to XGBoost core.  Or some parameters are not used but slip through this\n",
      "  verification. Please open an issue if you find above cases.\n",
      "\n",
      "\n",
      "[0]\tvalidation_0-aucpr:0.55818\n",
      "[1]\tvalidation_0-aucpr:0.57974\n",
      "[2]\tvalidation_0-aucpr:0.59806\n",
      "[3]\tvalidation_0-aucpr:0.59671\n",
      "[4]\tvalidation_0-aucpr:0.60011\n",
      "[5]\tvalidation_0-aucpr:0.59775\n",
      "[6]\tvalidation_0-aucpr:0.60454\n",
      "[7]\tvalidation_0-aucpr:0.60305\n",
      "[8]\tvalidation_0-aucpr:0.60533\n",
      "[9]\tvalidation_0-aucpr:0.60739\n",
      "[10]\tvalidation_0-aucpr:0.60557\n",
      "[11]\tvalidation_0-aucpr:0.61206\n",
      "[12]\tvalidation_0-aucpr:0.62372\n",
      "[13]\tvalidation_0-aucpr:0.62198\n",
      "[14]\tvalidation_0-aucpr:0.62233\n",
      "[15]\tvalidation_0-aucpr:0.62569\n",
      "[16]\tvalidation_0-aucpr:0.62580\n",
      "[17]\tvalidation_0-aucpr:0.62567\n",
      "[18]\tvalidation_0-aucpr:0.62570\n",
      "[19]\tvalidation_0-aucpr:0.62682\n",
      "[20]\tvalidation_0-aucpr:0.62648\n",
      "[21]\tvalidation_0-aucpr:0.63001\n",
      "[22]\tvalidation_0-aucpr:0.63216\n",
      "[23]\tvalidation_0-aucpr:0.63107\n",
      "[24]\tvalidation_0-aucpr:0.63272\n",
      "[25]\tvalidation_0-aucpr:0.63460\n",
      "[26]\tvalidation_0-aucpr:0.64476\n",
      "[27]\tvalidation_0-aucpr:0.64241\n",
      "[28]\tvalidation_0-aucpr:0.64092\n",
      "[29]\tvalidation_0-aucpr:0.63948\n",
      "[30]\tvalidation_0-aucpr:0.64009\n",
      "[31]\tvalidation_0-aucpr:0.64111\n",
      "[32]\tvalidation_0-aucpr:0.64192\n",
      "[33]\tvalidation_0-aucpr:0.64118\n",
      "[34]\tvalidation_0-aucpr:0.64163\n",
      "[35]\tvalidation_0-aucpr:0.64195\n"
     ]
    },
    {
     "data": {
      "text/plain": [
       "XGBClassifier(base_score=0.5, booster='gbtree', colsample_bylevel=1,\n",
       "              colsample_bynode=1, colsample_bytree=1, gamma=0, gpu_id=-1,\n",
       "              importance_type='gain', interaction_constraints='',\n",
       "              learning_rate=0.300000012, max_delta_step=0, max_depth=6,\n",
       "              min_child_weight=1, missing=None, monotone_constraints='()',\n",
       "              n_classes=2, n_estimators=36, n_jobs=4, num_parallel_tree=1,\n",
       "              random_state=42, reg_alpha=0, reg_lambda=1, scale_pos_weight=1,\n",
       "              subsample=0.8, tree_method='exact', use_label_encoder=False,\n",
       "              validate_parameters=1, verbosity=None)"
      ]
     },
     "execution_count": 81,
     "metadata": {},
     "output_type": "execute_result"
    }
   ],
   "source": [
    "model6.fit(X_train_sm, \n",
    "          y_train_sm,\n",
    "          verbose = True, # set to true if you want to see where to stop early\n",
    "          early_stopping_rounds = 10, # reduce overfitting with early stopping\n",
    "          eval_metric = 'aucpr',\n",
    "          eval_set = [(X_test, y_test)]) # helps determine how many trees to build"
   ]
  },
  {
   "cell_type": "code",
   "execution_count": 82,
   "metadata": {},
   "outputs": [
    {
     "name": "stdout",
     "output_type": "stream",
     "text": [
      "Accuracy: 79.21%\n"
     ]
    }
   ],
   "source": [
    "y_pred = model6.predict(X_test)\n",
    "predictions = [round(value) for value in y_pred]\n",
    "\n",
    "accuracy = accuracy_score(y_test, predictions)\n",
    "print(\"Accuracy: %.2f%%\" % (accuracy * 100.0))"
   ]
  },
  {
   "cell_type": "code",
   "execution_count": 83,
   "metadata": {},
   "outputs": [
    {
     "name": "stdout",
     "output_type": "stream",
     "text": [
      "              precision    recall  f1-score   support\n",
      "\n",
      "           0       0.96      0.80      0.87     15102\n",
      "           1       0.31      0.73      0.44      1874\n",
      "\n",
      "    accuracy                           0.79     16976\n",
      "   macro avg       0.64      0.76      0.65     16976\n",
      "weighted avg       0.89      0.79      0.82     16976\n",
      "\n"
     ]
    }
   ],
   "source": [
    "print(classification_report(y_test,y_pred))"
   ]
  },
  {
   "cell_type": "code",
   "execution_count": 84,
   "metadata": {},
   "outputs": [
    {
     "data": {
      "image/png": "[encoded data removed]",
      "text/plain": [
       "<Figure size 432x288 with 2 Axes>"
      ]
     },
     "metadata": {
      "needs_background": "light"
     },
     "output_type": "display_data"
    }
   ],
   "source": [
    "plot_confusion_matrix(model6,\n",
    "                      X_test,\n",
    "                      y_test);"
   ]
  },
  {
   "cell_type": "code",
   "execution_count": 85,
   "metadata": {},
   "outputs": [
    {
     "data": {
      "image/png": "[encoded data removed]",
      "text/plain": [
       "<Figure size 504x720 with 1 Axes>"
      ]
     },
     "metadata": {
      "needs_background": "light"
     },
     "output_type": "display_data"
    }
   ],
   "source": [
    "f, ax = plt.subplots(figsize=[7,10])\n",
    "xgb.plot_importance(model6, max_num_features=10,ax=ax)\n",
    "plt.title(\"XGBOOST Feature Importance for r/bulimia\")\n",
    "plt.savefig('../images/bulimia_reddit.png')"
   ]
  },
  {
   "cell_type": "markdown",
   "metadata": {},
   "source": [
    "## Subreddit: Depression"
   ]
  },
  {
   "cell_type": "code",
   "execution_count": 86,
   "metadata": {},
   "outputs": [],
   "source": [
    "y = posts['subreddit_depression']"
   ]
  },
  {
   "cell_type": "code",
   "execution_count": 87,
   "metadata": {},
   "outputs": [
    {
     "data": {
      "text/plain": [
       "(84879,)"
      ]
     },
     "execution_count": 87,
     "metadata": {},
     "output_type": "execute_result"
    }
   ],
   "source": [
    "y.shape"
   ]
  },
  {
   "cell_type": "markdown",
   "metadata": {},
   "source": [
    "### train test split"
   ]
  },
  {
   "cell_type": "code",
   "execution_count": 88,
   "metadata": {},
   "outputs": [],
   "source": [
    "X_train, X_test, y_train, y_test = train_test_split(X, y,\n",
    "                                                    test_size = .2,\n",
    "                                                    random_state=42)"
   ]
  },
  {
   "cell_type": "markdown",
   "metadata": {},
   "source": [
    "Summarize the class distribution of the target"
   ]
  },
  {
   "cell_type": "code",
   "execution_count": 89,
   "metadata": {},
   "outputs": [
    {
     "name": "stdout",
     "output_type": "stream",
     "text": [
      "Counter({0: 60507, 1: 7396})\n"
     ]
    }
   ],
   "source": [
    "counter = Counter(y_train)\n",
    "print(counter)"
   ]
  },
  {
   "cell_type": "markdown",
   "metadata": {},
   "source": [
    "### Oversample the minority class using SMOTE"
   ]
  },
  {
   "cell_type": "code",
   "execution_count": 90,
   "metadata": {},
   "outputs": [],
   "source": [
    "smote = SMOTE(random_state=42) \n",
    "X_train_sm, y_train_sm = smote.fit_resample(X_train, y_train)"
   ]
  },
  {
   "cell_type": "markdown",
   "metadata": {},
   "source": [
    "Summarize the class distribution of the target after oversampling the minority class using the SMOTE algorithm."
   ]
  },
  {
   "cell_type": "code",
   "execution_count": 91,
   "metadata": {},
   "outputs": [
    {
     "name": "stdout",
     "output_type": "stream",
     "text": [
      "Counter({0: 60507, 1: 60507})\n"
     ]
    }
   ],
   "source": [
    "counter_resampled = Counter(y_train_sm) \n",
    "print(counter_resampled)"
   ]
  },
  {
   "cell_type": "markdown",
   "metadata": {},
   "source": [
    "### XGBoost Model"
   ]
  },
  {
   "cell_type": "markdown",
   "metadata": {},
   "source": [
    "Define Parameters for XGBoost Model"
   ]
  },
  {
   "cell_type": "code",
   "execution_count": 92,
   "metadata": {},
   "outputs": [],
   "source": [
    "model7 = XGBClassifier(n_classes = 2, \n",
    "                      missing=None,\n",
    "                      objective='binary:logistic',\n",
    "                      use_label_encoder = False,\n",
    "                      n_jobs = 4,\n",
    "                      subsample = .8,\n",
    "                      n_estimators = 100, # stop at around 100 trees, model no loger improves much after\n",
    "                      random_state = 42)"
   ]
  },
  {
   "cell_type": "code",
   "execution_count": 93,
   "metadata": {},
   "outputs": [
    {
     "name": "stdout",
     "output_type": "stream",
     "text": [
      "[23:43:47] WARNING: /Users/travis/build/dmlc/xgboost/src/learner.cc:541: \n",
      "Parameters: { n_classes } might not be used.\n",
      "\n",
      "  This may not be accurate due to some parameters are only used in language bindings but\n",
      "  passed down to XGBoost core.  Or some parameters are not used but slip through this\n",
      "  verification. Please open an issue if you find above cases.\n",
      "\n",
      "\n",
      "[0]\tvalidation_0-aucpr:0.14873\n",
      "[1]\tvalidation_0-aucpr:0.15030\n",
      "[2]\tvalidation_0-aucpr:0.15301\n",
      "[3]\tvalidation_0-aucpr:0.15770\n",
      "[4]\tvalidation_0-aucpr:0.16232\n",
      "[5]\tvalidation_0-aucpr:0.19162\n",
      "[6]\tvalidation_0-aucpr:0.19153\n",
      "[7]\tvalidation_0-aucpr:0.20193\n",
      "[8]\tvalidation_0-aucpr:0.20117\n",
      "[9]\tvalidation_0-aucpr:0.20132\n",
      "[10]\tvalidation_0-aucpr:0.20769\n",
      "[11]\tvalidation_0-aucpr:0.21019\n",
      "[12]\tvalidation_0-aucpr:0.21121\n",
      "[13]\tvalidation_0-aucpr:0.21160\n",
      "[14]\tvalidation_0-aucpr:0.21624\n",
      "[15]\tvalidation_0-aucpr:0.22420\n",
      "[16]\tvalidation_0-aucpr:0.22151\n",
      "[17]\tvalidation_0-aucpr:0.22673\n",
      "[18]\tvalidation_0-aucpr:0.22398\n",
      "[19]\tvalidation_0-aucpr:0.22472\n",
      "[20]\tvalidation_0-aucpr:0.22599\n",
      "[21]\tvalidation_0-aucpr:0.22782\n",
      "[22]\tvalidation_0-aucpr:0.22777\n",
      "[23]\tvalidation_0-aucpr:0.22817\n",
      "[24]\tvalidation_0-aucpr:0.22737\n",
      "[25]\tvalidation_0-aucpr:0.23148\n",
      "[26]\tvalidation_0-aucpr:0.23286\n",
      "[27]\tvalidation_0-aucpr:0.23296\n",
      "[28]\tvalidation_0-aucpr:0.23331\n",
      "[29]\tvalidation_0-aucpr:0.23408\n",
      "[30]\tvalidation_0-aucpr:0.23614\n",
      "[31]\tvalidation_0-aucpr:0.23709\n",
      "[32]\tvalidation_0-aucpr:0.23852\n",
      "[33]\tvalidation_0-aucpr:0.23877\n",
      "[34]\tvalidation_0-aucpr:0.24126\n",
      "[35]\tvalidation_0-aucpr:0.24092\n",
      "[36]\tvalidation_0-aucpr:0.24072\n",
      "[37]\tvalidation_0-aucpr:0.24534\n",
      "[38]\tvalidation_0-aucpr:0.24474\n",
      "[39]\tvalidation_0-aucpr:0.24645\n",
      "[40]\tvalidation_0-aucpr:0.24770\n",
      "[41]\tvalidation_0-aucpr:0.24744\n",
      "[42]\tvalidation_0-aucpr:0.24938\n",
      "[43]\tvalidation_0-aucpr:0.25035\n",
      "[44]\tvalidation_0-aucpr:0.25389\n",
      "[45]\tvalidation_0-aucpr:0.25333\n",
      "[46]\tvalidation_0-aucpr:0.25352\n",
      "[47]\tvalidation_0-aucpr:0.25212\n",
      "[48]\tvalidation_0-aucpr:0.25232\n",
      "[49]\tvalidation_0-aucpr:0.25174\n",
      "[50]\tvalidation_0-aucpr:0.25168\n",
      "[51]\tvalidation_0-aucpr:0.25183\n",
      "[52]\tvalidation_0-aucpr:0.25385\n",
      "[53]\tvalidation_0-aucpr:0.25496\n",
      "[54]\tvalidation_0-aucpr:0.25496\n",
      "[55]\tvalidation_0-aucpr:0.25485\n",
      "[56]\tvalidation_0-aucpr:0.25463\n",
      "[57]\tvalidation_0-aucpr:0.25483\n",
      "[58]\tvalidation_0-aucpr:0.25478\n",
      "[59]\tvalidation_0-aucpr:0.25521\n",
      "[60]\tvalidation_0-aucpr:0.25744\n",
      "[61]\tvalidation_0-aucpr:0.25969\n",
      "[62]\tvalidation_0-aucpr:0.25905\n",
      "[63]\tvalidation_0-aucpr:0.25956\n",
      "[64]\tvalidation_0-aucpr:0.26004\n",
      "[65]\tvalidation_0-aucpr:0.25920\n",
      "[66]\tvalidation_0-aucpr:0.25831\n",
      "[67]\tvalidation_0-aucpr:0.26104\n",
      "[68]\tvalidation_0-aucpr:0.26072\n",
      "[69]\tvalidation_0-aucpr:0.26012\n",
      "[70]\tvalidation_0-aucpr:0.26059\n",
      "[71]\tvalidation_0-aucpr:0.26177\n",
      "[72]\tvalidation_0-aucpr:0.26112\n",
      "[73]\tvalidation_0-aucpr:0.26221\n",
      "[74]\tvalidation_0-aucpr:0.26232\n",
      "[75]\tvalidation_0-aucpr:0.26202\n",
      "[76]\tvalidation_0-aucpr:0.26192\n",
      "[77]\tvalidation_0-aucpr:0.26347\n",
      "[78]\tvalidation_0-aucpr:0.26358\n",
      "[79]\tvalidation_0-aucpr:0.26370\n",
      "[80]\tvalidation_0-aucpr:0.26514\n",
      "[81]\tvalidation_0-aucpr:0.26566\n",
      "[82]\tvalidation_0-aucpr:0.26747\n",
      "[83]\tvalidation_0-aucpr:0.26743\n",
      "[84]\tvalidation_0-aucpr:0.26767\n",
      "[85]\tvalidation_0-aucpr:0.26800\n",
      "[86]\tvalidation_0-aucpr:0.26910\n",
      "[87]\tvalidation_0-aucpr:0.26908\n",
      "[88]\tvalidation_0-aucpr:0.26766\n",
      "[89]\tvalidation_0-aucpr:0.26863\n",
      "[90]\tvalidation_0-aucpr:0.27046\n",
      "[91]\tvalidation_0-aucpr:0.27035\n",
      "[92]\tvalidation_0-aucpr:0.27034\n",
      "[93]\tvalidation_0-aucpr:0.27004\n",
      "[94]\tvalidation_0-aucpr:0.27072\n",
      "[95]\tvalidation_0-aucpr:0.27013\n",
      "[96]\tvalidation_0-aucpr:0.27065\n",
      "[97]\tvalidation_0-aucpr:0.26948\n",
      "[98]\tvalidation_0-aucpr:0.26975\n",
      "[99]\tvalidation_0-aucpr:0.26986\n"
     ]
    },
    {
     "data": {
      "text/plain": [
       "XGBClassifier(base_score=0.5, booster='gbtree', colsample_bylevel=1,\n",
       "              colsample_bynode=1, colsample_bytree=1, gamma=0, gpu_id=-1,\n",
       "              importance_type='gain', interaction_constraints='',\n",
       "              learning_rate=0.300000012, max_delta_step=0, max_depth=6,\n",
       "              min_child_weight=1, missing=None, monotone_constraints='()',\n",
       "              n_classes=2, n_estimators=100, n_jobs=4, num_parallel_tree=1,\n",
       "              random_state=42, reg_alpha=0, reg_lambda=1, scale_pos_weight=1,\n",
       "              subsample=0.8, tree_method='exact', use_label_encoder=False,\n",
       "              validate_parameters=1, verbosity=None)"
      ]
     },
     "execution_count": 93,
     "metadata": {},
     "output_type": "execute_result"
    }
   ],
   "source": [
    "model7.fit(X_train_sm, \n",
    "          y_train_sm,\n",
    "          verbose = True, # set to true if you want to see where to stop early\n",
    "          early_stopping_rounds = 10, # reduce overfitting with early stopping\n",
    "          eval_metric = 'aucpr',\n",
    "          eval_set = [(X_test, y_test)]) # helps determine how many trees to build"
   ]
  },
  {
   "cell_type": "code",
   "execution_count": 94,
   "metadata": {},
   "outputs": [
    {
     "name": "stdout",
     "output_type": "stream",
     "text": [
      "Accuracy: 74.24%\n"
     ]
    }
   ],
   "source": [
    "y_pred = model7.predict(X_test)\n",
    "predictions = [round(value) for value in y_pred]\n",
    "\n",
    "accuracy = accuracy_score(y_test, predictions)\n",
    "print(\"Accuracy: %.2f%%\" % (accuracy * 100.0))"
   ]
  },
  {
   "cell_type": "code",
   "execution_count": 95,
   "metadata": {},
   "outputs": [
    {
     "name": "stdout",
     "output_type": "stream",
     "text": [
      "              precision    recall  f1-score   support\n",
      "\n",
      "           0       0.93      0.77      0.84     15055\n",
      "           1       0.23      0.53      0.32      1921\n",
      "\n",
      "    accuracy                           0.74     16976\n",
      "   macro avg       0.58      0.65      0.58     16976\n",
      "weighted avg       0.85      0.74      0.78     16976\n",
      "\n"
     ]
    }
   ],
   "source": [
    "print(classification_report(y_test,y_pred))"
   ]
  },
  {
   "cell_type": "code",
   "execution_count": 96,
   "metadata": {
    "scrolled": true
   },
   "outputs": [
    {
     "data": {
      "image/png": "[encoded data removed]",
      "text/plain": [
       "<Figure size 432x288 with 2 Axes>"
      ]
     },
     "metadata": {
      "needs_background": "light"
     },
     "output_type": "display_data"
    }
   ],
   "source": [
    "plot_confusion_matrix(model7,\n",
    "                      X_test,\n",
    "                      y_test);"
   ]
  },
  {
   "cell_type": "code",
   "execution_count": 97,
   "metadata": {},
   "outputs": [
    {
     "data": {
      "image/png": "[encoded data removed]",
      "text/plain": [
       "<Figure size 504x720 with 1 Axes>"
      ]
     },
     "metadata": {
      "needs_background": "light"
     },
     "output_type": "display_data"
    }
   ],
   "source": [
    "f, ax = plt.subplots(figsize=[7,10])\n",
    "xgb.plot_importance(model7, max_num_features=10,ax=ax)\n",
    "plt.title(\"XGBOOST Feature Importance for r/depression\")\n",
    "plt.savefig('../images/depression_reddit.png')"
   ]
  },
  {
   "cell_type": "markdown",
   "metadata": {},
   "source": [
    "## Subreddit: Schizophrenia"
   ]
  },
  {
   "cell_type": "code",
   "execution_count": 98,
   "metadata": {},
   "outputs": [],
   "source": [
    "y = posts['subreddit_schizophrenia']"
   ]
  },
  {
   "cell_type": "code",
   "execution_count": 99,
   "metadata": {},
   "outputs": [
    {
     "data": {
      "text/plain": [
       "(84879,)"
      ]
     },
     "execution_count": 99,
     "metadata": {},
     "output_type": "execute_result"
    }
   ],
   "source": [
    "y.shape"
   ]
  },
  {
   "cell_type": "markdown",
   "metadata": {},
   "source": [
    "### train test split"
   ]
  },
  {
   "cell_type": "code",
   "execution_count": 100,
   "metadata": {},
   "outputs": [],
   "source": [
    "X_train, X_test, y_train, y_test = train_test_split(X, y,\n",
    "                                                    test_size = .2,\n",
    "                                                    random_state=42)"
   ]
  },
  {
   "cell_type": "markdown",
   "metadata": {},
   "source": [
    "Summarize the class distribution of the target"
   ]
  },
  {
   "cell_type": "code",
   "execution_count": 101,
   "metadata": {},
   "outputs": [
    {
     "name": "stdout",
     "output_type": "stream",
     "text": [
      "Counter({0: 60303, 1: 7600})\n"
     ]
    }
   ],
   "source": [
    "counter = Counter(y_train)\n",
    "print(counter)"
   ]
  },
  {
   "cell_type": "markdown",
   "metadata": {},
   "source": [
    "### Oversample the minority class using SMOTE"
   ]
  },
  {
   "cell_type": "code",
   "execution_count": 102,
   "metadata": {},
   "outputs": [],
   "source": [
    "smote = SMOTE(random_state=42) \n",
    "X_train_sm, y_train_sm = smote.fit_resample(X_train, y_train)"
   ]
  },
  {
   "cell_type": "markdown",
   "metadata": {},
   "source": [
    "Summarize the class distribution of the target after oversampling the minority class using the SMOTE algorithm."
   ]
  },
  {
   "cell_type": "code",
   "execution_count": 103,
   "metadata": {},
   "outputs": [
    {
     "name": "stdout",
     "output_type": "stream",
     "text": [
      "Counter({0: 60303, 1: 60303})\n"
     ]
    }
   ],
   "source": [
    "counter_resampled = Counter(y_train_sm) \n",
    "print(counter_resampled)"
   ]
  },
  {
   "cell_type": "markdown",
   "metadata": {},
   "source": [
    "### XGBoost Model"
   ]
  },
  {
   "cell_type": "markdown",
   "metadata": {},
   "source": [
    "Define Parameters for XGBoost Model"
   ]
  },
  {
   "cell_type": "code",
   "execution_count": 104,
   "metadata": {},
   "outputs": [],
   "source": [
    "model8 = XGBClassifier(n_classes = 2, \n",
    "                      missing=None,\n",
    "                      objective='binary:logistic',\n",
    "                      use_label_encoder = False,\n",
    "                      n_jobs = 4,\n",
    "                      subsample = .8,\n",
    "                      n_estimators = 66, # stop at around 66 trees, model no loger improves much after\n",
    "                      random_state = 42)"
   ]
  },
  {
   "cell_type": "code",
   "execution_count": 105,
   "metadata": {},
   "outputs": [
    {
     "name": "stdout",
     "output_type": "stream",
     "text": [
      "[23:48:45] WARNING: /Users/travis/build/dmlc/xgboost/src/learner.cc:541: \n",
      "Parameters: { n_classes } might not be used.\n",
      "\n",
      "  This may not be accurate due to some parameters are only used in language bindings but\n",
      "  passed down to XGBoost core.  Or some parameters are not used but slip through this\n",
      "  verification. Please open an issue if you find above cases.\n",
      "\n",
      "\n",
      "[0]\tvalidation_0-aucpr:0.19487\n",
      "[1]\tvalidation_0-aucpr:0.19929\n",
      "[2]\tvalidation_0-aucpr:0.20391\n",
      "[3]\tvalidation_0-aucpr:0.20847\n",
      "[4]\tvalidation_0-aucpr:0.21707\n",
      "[5]\tvalidation_0-aucpr:0.22356\n",
      "[6]\tvalidation_0-aucpr:0.22351\n",
      "[7]\tvalidation_0-aucpr:0.22215\n",
      "[8]\tvalidation_0-aucpr:0.22445\n",
      "[9]\tvalidation_0-aucpr:0.22590\n",
      "[10]\tvalidation_0-aucpr:0.22749\n",
      "[11]\tvalidation_0-aucpr:0.22990\n",
      "[12]\tvalidation_0-aucpr:0.25057\n",
      "[13]\tvalidation_0-aucpr:0.25043\n",
      "[14]\tvalidation_0-aucpr:0.25231\n",
      "[15]\tvalidation_0-aucpr:0.25240\n",
      "[16]\tvalidation_0-aucpr:0.25192\n",
      "[17]\tvalidation_0-aucpr:0.25369\n",
      "[18]\tvalidation_0-aucpr:0.25328\n",
      "[19]\tvalidation_0-aucpr:0.25859\n",
      "[20]\tvalidation_0-aucpr:0.25640\n",
      "[21]\tvalidation_0-aucpr:0.26366\n",
      "[22]\tvalidation_0-aucpr:0.26466\n",
      "[23]\tvalidation_0-aucpr:0.26470\n",
      "[24]\tvalidation_0-aucpr:0.26388\n",
      "[25]\tvalidation_0-aucpr:0.26726\n",
      "[26]\tvalidation_0-aucpr:0.27236\n",
      "[27]\tvalidation_0-aucpr:0.27645\n",
      "[28]\tvalidation_0-aucpr:0.27875\n",
      "[29]\tvalidation_0-aucpr:0.28392\n",
      "[30]\tvalidation_0-aucpr:0.28836\n",
      "[31]\tvalidation_0-aucpr:0.29381\n",
      "[32]\tvalidation_0-aucpr:0.29733\n",
      "[33]\tvalidation_0-aucpr:0.29761\n",
      "[34]\tvalidation_0-aucpr:0.29805\n",
      "[35]\tvalidation_0-aucpr:0.29824\n",
      "[36]\tvalidation_0-aucpr:0.30121\n",
      "[37]\tvalidation_0-aucpr:0.30051\n",
      "[38]\tvalidation_0-aucpr:0.30139\n",
      "[39]\tvalidation_0-aucpr:0.30251\n",
      "[40]\tvalidation_0-aucpr:0.30285\n",
      "[41]\tvalidation_0-aucpr:0.30191\n",
      "[42]\tvalidation_0-aucpr:0.30226\n",
      "[43]\tvalidation_0-aucpr:0.30942\n",
      "[44]\tvalidation_0-aucpr:0.30951\n",
      "[45]\tvalidation_0-aucpr:0.30950\n",
      "[46]\tvalidation_0-aucpr:0.31194\n",
      "[47]\tvalidation_0-aucpr:0.31596\n",
      "[48]\tvalidation_0-aucpr:0.31710\n",
      "[49]\tvalidation_0-aucpr:0.31816\n",
      "[50]\tvalidation_0-aucpr:0.31884\n",
      "[51]\tvalidation_0-aucpr:0.31955\n",
      "[52]\tvalidation_0-aucpr:0.31844\n",
      "[53]\tvalidation_0-aucpr:0.31870\n",
      "[54]\tvalidation_0-aucpr:0.32042\n",
      "[55]\tvalidation_0-aucpr:0.31995\n",
      "[56]\tvalidation_0-aucpr:0.31954\n",
      "[57]\tvalidation_0-aucpr:0.32228\n",
      "[58]\tvalidation_0-aucpr:0.32239\n",
      "[59]\tvalidation_0-aucpr:0.32770\n",
      "[60]\tvalidation_0-aucpr:0.33089\n",
      "[61]\tvalidation_0-aucpr:0.33172\n",
      "[62]\tvalidation_0-aucpr:0.33010\n",
      "[63]\tvalidation_0-aucpr:0.32947\n",
      "[64]\tvalidation_0-aucpr:0.32931\n",
      "[65]\tvalidation_0-aucpr:0.32942\n"
     ]
    },
    {
     "data": {
      "text/plain": [
       "XGBClassifier(base_score=0.5, booster='gbtree', colsample_bylevel=1,\n",
       "              colsample_bynode=1, colsample_bytree=1, gamma=0, gpu_id=-1,\n",
       "              importance_type='gain', interaction_constraints='',\n",
       "              learning_rate=0.300000012, max_delta_step=0, max_depth=6,\n",
       "              min_child_weight=1, missing=None, monotone_constraints='()',\n",
       "              n_classes=2, n_estimators=66, n_jobs=4, num_parallel_tree=1,\n",
       "              random_state=42, reg_alpha=0, reg_lambda=1, scale_pos_weight=1,\n",
       "              subsample=0.8, tree_method='exact', use_label_encoder=False,\n",
       "              validate_parameters=1, verbosity=None)"
      ]
     },
     "execution_count": 105,
     "metadata": {},
     "output_type": "execute_result"
    }
   ],
   "source": [
    "model8.fit(X_train_sm, \n",
    "          y_train_sm,\n",
    "          verbose = True, # set to true if you want to see where to stop early\n",
    "          early_stopping_rounds = 10, # reduce overfitting with early stopping\n",
    "          eval_metric = 'aucpr',\n",
    "          eval_set = [(X_test, y_test)]) # helps determine how many trees to build"
   ]
  },
  {
   "cell_type": "code",
   "execution_count": 106,
   "metadata": {},
   "outputs": [
    {
     "name": "stdout",
     "output_type": "stream",
     "text": [
      "Accuracy: 77.83%\n"
     ]
    }
   ],
   "source": [
    "y_pred = model8.predict(X_test)\n",
    "predictions = [round(value) for value in y_pred]\n",
    "\n",
    "accuracy = accuracy_score(y_test, predictions)\n",
    "print(\"Accuracy: %.2f%%\" % (accuracy * 100.0))"
   ]
  },
  {
   "cell_type": "code",
   "execution_count": 107,
   "metadata": {},
   "outputs": [
    {
     "name": "stdout",
     "output_type": "stream",
     "text": [
      "              precision    recall  f1-score   support\n",
      "\n",
      "           0       0.94      0.80      0.87     15171\n",
      "           1       0.26      0.60      0.37      1805\n",
      "\n",
      "    accuracy                           0.78     16976\n",
      "   macro avg       0.60      0.70      0.62     16976\n",
      "weighted avg       0.87      0.78      0.81     16976\n",
      "\n"
     ]
    }
   ],
   "source": [
    "print(classification_report(y_test,y_pred))"
   ]
  },
  {
   "cell_type": "code",
   "execution_count": 108,
   "metadata": {},
   "outputs": [
    {
     "data": {
      "image/png": "[encoded data removed]",
      "text/plain": [
       "<Figure size 432x288 with 2 Axes>"
      ]
     },
     "metadata": {
      "needs_background": "light"
     },
     "output_type": "display_data"
    }
   ],
   "source": [
    "plot_confusion_matrix(model8,\n",
    "                      X_test,\n",
    "                      y_test);"
   ]
  },
  {
   "cell_type": "code",
   "execution_count": 109,
   "metadata": {},
   "outputs": [
    {
     "data": {
      "image/png": "[encoded data removed]",
      "text/plain": [
       "<Figure size 504x720 with 1 Axes>"
      ]
     },
     "metadata": {
      "needs_background": "light"
     },
     "output_type": "display_data"
    }
   ],
   "source": [
    "f, ax = plt.subplots(figsize=[7,10])\n",
    "xgb.plot_importance(model8, max_num_features=10,ax=ax)\n",
    "plt.title(\"XGBOOST Feature Importance for r/schizophrenia\")\n",
    "plt.savefig('../images/schizophrenia_reddit.png')"
   ]
  },
  {
   "cell_type": "markdown",
   "metadata": {},
   "source": [
    "# Pre and post Covid"
   ]
  },
  {
   "cell_type": "markdown",
   "metadata": {},
   "source": [
    "##### Binarize targets using get_dummies"
   ]
  },
  {
   "cell_type": "code",
   "execution_count": 110,
   "metadata": {},
   "outputs": [],
   "source": [
    "#posts = \n",
    "posts = pd.get_dummies(posts, columns=['timeframe'], drop_first=True)"
   ]
  },
  {
   "cell_type": "code",
   "execution_count": 111,
   "metadata": {},
   "outputs": [],
   "source": [
    "y = posts['timeframe_pre-covid']"
   ]
  },
  {
   "cell_type": "code",
   "execution_count": 112,
   "metadata": {},
   "outputs": [
    {
     "data": {
      "text/plain": [
       "(84879,)"
      ]
     },
     "execution_count": 112,
     "metadata": {},
     "output_type": "execute_result"
    }
   ],
   "source": [
    "y.shape"
   ]
  },
  {
   "cell_type": "markdown",
   "metadata": {},
   "source": [
    "### train test split"
   ]
  },
  {
   "cell_type": "code",
   "execution_count": 113,
   "metadata": {},
   "outputs": [],
   "source": [
    "X_train, X_test, y_train, y_test = train_test_split(X, y,\n",
    "                                                    stratify = y,\n",
    "                                                    test_size = .2,\n",
    "                                                    random_state=42)"
   ]
  },
  {
   "cell_type": "markdown",
   "metadata": {},
   "source": [
    "Check that stratify worked as expected"
   ]
  },
  {
   "cell_type": "code",
   "execution_count": 114,
   "metadata": {},
   "outputs": [
    {
     "data": {
      "text/plain": [
       "0.4942933301915968"
      ]
     },
     "execution_count": 114,
     "metadata": {},
     "output_type": "execute_result"
    }
   ],
   "source": [
    "sum(y_train)/len(y_train)"
   ]
  },
  {
   "cell_type": "code",
   "execution_count": 115,
   "metadata": {
    "scrolled": true
   },
   "outputs": [
    {
     "data": {
      "text/plain": [
       "0.4942860508953817"
      ]
     },
     "execution_count": 115,
     "metadata": {},
     "output_type": "execute_result"
    }
   ],
   "source": [
    "sum(y_test)/len(y_test)"
   ]
  },
  {
   "cell_type": "markdown",
   "metadata": {},
   "source": [
    "Summarize the class distribution of the target"
   ]
  },
  {
   "cell_type": "code",
   "execution_count": 116,
   "metadata": {},
   "outputs": [
    {
     "name": "stdout",
     "output_type": "stream",
     "text": [
      "Counter({0: 34339, 1: 33564})\n"
     ]
    }
   ],
   "source": [
    "counter = Counter(y_train)\n",
    "print(counter)"
   ]
  },
  {
   "cell_type": "markdown",
   "metadata": {},
   "source": [
    "### XGBoost Model"
   ]
  },
  {
   "cell_type": "code",
   "execution_count": 117,
   "metadata": {},
   "outputs": [],
   "source": [
    "model9 = XGBClassifier(n_classes = 2, \n",
    "                      missing=None,\n",
    "                      objective='binary:logistic',\n",
    "                      use_label_encoder = False,\n",
    "                      n_jobs = 4,\n",
    "                      subsample = .8,\n",
    "                      n_estimators = 35, # stop at around 35 trees, model no loger improves much after\n",
    "                      random_state = 42)"
   ]
  },
  {
   "cell_type": "code",
   "execution_count": 118,
   "metadata": {},
   "outputs": [
    {
     "name": "stdout",
     "output_type": "stream",
     "text": [
      "[23:51:52] WARNING: /Users/travis/build/dmlc/xgboost/src/learner.cc:541: \n",
      "Parameters: { n_classes } might not be used.\n",
      "\n",
      "  This may not be accurate due to some parameters are only used in language bindings but\n",
      "  passed down to XGBoost core.  Or some parameters are not used but slip through this\n",
      "  verification. Please open an issue if you find above cases.\n",
      "\n",
      "\n",
      "[0]\tvalidation_0-aucpr:0.55117\n",
      "[1]\tvalidation_0-aucpr:0.55854\n",
      "[2]\tvalidation_0-aucpr:0.56420\n",
      "[3]\tvalidation_0-aucpr:0.57154\n",
      "[4]\tvalidation_0-aucpr:0.57667\n",
      "[5]\tvalidation_0-aucpr:0.58222\n",
      "[6]\tvalidation_0-aucpr:0.58710\n",
      "[7]\tvalidation_0-aucpr:0.58870\n",
      "[8]\tvalidation_0-aucpr:0.58969\n",
      "[9]\tvalidation_0-aucpr:0.59190\n",
      "[10]\tvalidation_0-aucpr:0.59297\n",
      "[11]\tvalidation_0-aucpr:0.59263\n",
      "[12]\tvalidation_0-aucpr:0.59201\n",
      "[13]\tvalidation_0-aucpr:0.59596\n",
      "[14]\tvalidation_0-aucpr:0.59664\n",
      "[15]\tvalidation_0-aucpr:0.59950\n",
      "[16]\tvalidation_0-aucpr:0.59969\n",
      "[17]\tvalidation_0-aucpr:0.60036\n",
      "[18]\tvalidation_0-aucpr:0.60188\n",
      "[19]\tvalidation_0-aucpr:0.60184\n",
      "[20]\tvalidation_0-aucpr:0.60130\n",
      "[21]\tvalidation_0-aucpr:0.60057\n",
      "[22]\tvalidation_0-aucpr:0.60202\n",
      "[23]\tvalidation_0-aucpr:0.60181\n",
      "[24]\tvalidation_0-aucpr:0.60098\n",
      "[25]\tvalidation_0-aucpr:0.60134\n",
      "[26]\tvalidation_0-aucpr:0.60337\n",
      "[27]\tvalidation_0-aucpr:0.60358\n",
      "[28]\tvalidation_0-aucpr:0.60363\n",
      "[29]\tvalidation_0-aucpr:0.60176\n",
      "[30]\tvalidation_0-aucpr:0.60028\n",
      "[31]\tvalidation_0-aucpr:0.59999\n",
      "[32]\tvalidation_0-aucpr:0.59991\n",
      "[33]\tvalidation_0-aucpr:0.59945\n",
      "[34]\tvalidation_0-aucpr:0.59992\n"
     ]
    },
    {
     "data": {
      "text/plain": [
       "XGBClassifier(base_score=0.5, booster='gbtree', colsample_bylevel=1,\n",
       "              colsample_bynode=1, colsample_bytree=1, gamma=0, gpu_id=-1,\n",
       "              importance_type='gain', interaction_constraints='',\n",
       "              learning_rate=0.300000012, max_delta_step=0, max_depth=6,\n",
       "              min_child_weight=1, missing=None, monotone_constraints='()',\n",
       "              n_classes=2, n_estimators=35, n_jobs=4, num_parallel_tree=1,\n",
       "              random_state=42, reg_alpha=0, reg_lambda=1, scale_pos_weight=1,\n",
       "              subsample=0.8, tree_method='exact', use_label_encoder=False,\n",
       "              validate_parameters=1, verbosity=None)"
      ]
     },
     "execution_count": 118,
     "metadata": {},
     "output_type": "execute_result"
    }
   ],
   "source": [
    "model9.fit(X_train, \n",
    "          y_train,\n",
    "          verbose = True, # set to true if you want to see where to stop early\n",
    "          early_stopping_rounds = 10, # reduce overfitting with early stopping\n",
    "          eval_metric = 'aucpr',\n",
    "          eval_set = [(X_test, y_test)]) # helps determine how many trees to build"
   ]
  },
  {
   "cell_type": "code",
   "execution_count": 119,
   "metadata": {},
   "outputs": [
    {
     "name": "stdout",
     "output_type": "stream",
     "text": [
      "Accuracy: 58.65%\n"
     ]
    }
   ],
   "source": [
    "y_pred = model9.predict(X_test)\n",
    "predictions = [round(value) for value in y_pred]\n",
    "\n",
    "accuracy = accuracy_score(y_test, predictions)\n",
    "print(\"Accuracy: %.2f%%\" % (accuracy * 100.0))"
   ]
  },
  {
   "cell_type": "code",
   "execution_count": 120,
   "metadata": {},
   "outputs": [
    {
     "name": "stdout",
     "output_type": "stream",
     "text": [
      "              precision    recall  f1-score   support\n",
      "\n",
      "           0       0.62      0.47      0.53      8585\n",
      "           1       0.57      0.71      0.63      8391\n",
      "\n",
      "    accuracy                           0.59     16976\n",
      "   macro avg       0.59      0.59      0.58     16976\n",
      "weighted avg       0.59      0.59      0.58     16976\n",
      "\n"
     ]
    }
   ],
   "source": [
    "print(classification_report(y_test,y_pred))"
   ]
  },
  {
   "cell_type": "code",
   "execution_count": 121,
   "metadata": {},
   "outputs": [
    {
     "data": {
      "image/png": "[encoded data removed]",
      "text/plain": [
       "<Figure size 432x288 with 2 Axes>"
      ]
     },
     "metadata": {
      "needs_background": "light"
     },
     "output_type": "display_data"
    }
   ],
   "source": [
    "plot_confusion_matrix(model9,\n",
    "                      X_test,\n",
    "                      y_test);"
   ]
  },
  {
   "cell_type": "code",
   "execution_count": 122,
   "metadata": {},
   "outputs": [
    {
     "data": {
      "image/png": "[encoded data removed]",
      "text/plain": [
       "<Figure size 504x720 with 1 Axes>"
      ]
     },
     "metadata": {
      "needs_background": "light"
     },
     "output_type": "display_data"
    }
   ],
   "source": [
    "f, ax = plt.subplots(figsize=[7,10])\n",
    "xgb.plot_importance(model9, max_num_features=10,ax=ax)\n",
    "plt.title(\"XGBOOST Feature Importance for pre/post-covid\")\n",
    "plt.savefig('../images/precovid_reddit.png')"
   ]
  },
  {
   "cell_type": "markdown",
   "metadata": {},
   "source": [
    "# Try XGBoost with all classes in model"
   ]
  },
  {
   "cell_type": "code",
   "execution_count": 123,
   "metadata": {},
   "outputs": [],
   "source": [
    "# reload data\n",
    "multi_class_df = pd.read_csv('../data/posts-preprocessed.csv')"
   ]
  },
  {
   "cell_type": "code",
   "execution_count": 124,
   "metadata": {},
   "outputs": [
    {
     "data": {
      "text/html": [
       "<div>\n",
       "<style scoped>\n",
       "    .dataframe tbody tr th:only-of-type {\n",
       "        vertical-align: middle;\n",
       "    }\n",
       "\n",
       "    .dataframe tbody tr th {\n",
       "        vertical-align: top;\n",
       "    }\n",
       "\n",
       "    .dataframe thead th {\n",
       "        text-align: right;\n",
       "    }\n",
       "</style>\n",
       "<table border=\"1\" class=\"dataframe\">\n",
       "  <thead>\n",
       "    <tr style=\"text-align: right;\">\n",
       "      <th></th>\n",
       "      <th>author</th>\n",
       "      <th>created_utc</th>\n",
       "      <th>subreddit</th>\n",
       "      <th>timeframe</th>\n",
       "      <th>text_clean</th>\n",
       "      <th>sent_tokens</th>\n",
       "      <th>word_tokens</th>\n",
       "    </tr>\n",
       "  </thead>\n",
       "  <tbody>\n",
       "    <tr>\n",
       "      <td>0</td>\n",
       "      <td>sub30605</td>\n",
       "      <td>1499390694</td>\n",
       "      <td>bulimia</td>\n",
       "      <td>pre-covid</td>\n",
       "      <td>chest anyone else experience chest purging kno...</td>\n",
       "      <td>['chest anyone else experience chest purging k...</td>\n",
       "      <td>['chest', 'anyone', 'else', 'experience', 'che...</td>\n",
       "    </tr>\n",
       "  </tbody>\n",
       "</table>\n",
       "</div>"
      ],
      "text/plain": [
       "     author  created_utc subreddit  timeframe  \\\n",
       "0  sub30605   1499390694   bulimia  pre-covid   \n",
       "\n",
       "                                          text_clean  \\\n",
       "0  chest anyone else experience chest purging kno...   \n",
       "\n",
       "                                         sent_tokens  \\\n",
       "0  ['chest anyone else experience chest purging k...   \n",
       "\n",
       "                                         word_tokens  \n",
       "0  ['chest', 'anyone', 'else', 'experience', 'che...  "
      ]
     },
     "execution_count": 124,
     "metadata": {},
     "output_type": "execute_result"
    }
   ],
   "source": [
    "multi_class_df.head(1)"
   ]
  },
  {
   "cell_type": "code",
   "execution_count": 125,
   "metadata": {},
   "outputs": [
    {
     "data": {
      "text/plain": [
       "bulimia            9746\n",
       "AnorexiaNervosa    9666\n",
       "Anxiety            9442\n",
       "mentalhealth       9422\n",
       "schizophrenia      9405\n",
       "bipolar            9389\n",
       "BPD                9335\n",
       "depression         9317\n",
       "autism             9157\n",
       "Name: subreddit, dtype: int64"
      ]
     },
     "execution_count": 125,
     "metadata": {},
     "output_type": "execute_result"
    }
   ],
   "source": [
    "multi_class_df['subreddit'].value_counts()"
   ]
  },
  {
   "cell_type": "code",
   "execution_count": 126,
   "metadata": {},
   "outputs": [],
   "source": [
    "lc = LabelEncoder() "
   ]
  },
  {
   "cell_type": "code",
   "execution_count": 127,
   "metadata": {},
   "outputs": [],
   "source": [
    "y = multi_class_df['subreddit']"
   ]
  },
  {
   "cell_type": "code",
   "execution_count": 128,
   "metadata": {},
   "outputs": [],
   "source": [
    "lc = lc.fit(y) "
   ]
  },
  {
   "cell_type": "code",
   "execution_count": 129,
   "metadata": {},
   "outputs": [],
   "source": [
    "lc_y = lc.transform(y)"
   ]
  },
  {
   "cell_type": "code",
   "execution_count": 130,
   "metadata": {},
   "outputs": [],
   "source": [
    "# Try doing this in another notebook as to redo X... \n",
    "X = df"
   ]
  },
  {
   "cell_type": "code",
   "execution_count": 131,
   "metadata": {},
   "outputs": [],
   "source": [
    "X_train, X_test, y_train, y_test = train_test_split(X, lc_y,\n",
    "                                                    stratify = y,\n",
    "                                                    test_size = .2,\n",
    "                                                    random_state=42)"
   ]
  },
  {
   "cell_type": "code",
   "execution_count": 132,
   "metadata": {},
   "outputs": [
    {
     "name": "stdout",
     "output_type": "stream",
     "text": [
      "Counter({5: 7797, 0: 7733, 1: 7553, 7: 7537, 8: 7524, 4: 7511, 2: 7468, 6: 7454, 3: 7326})\n"
     ]
    }
   ],
   "source": [
    "counter = Counter(y_train)\n",
    "print(counter)"
   ]
  },
  {
   "cell_type": "code",
   "execution_count": 133,
   "metadata": {},
   "outputs": [],
   "source": [
    "model_multi_class = XGBClassifier(objective='multi:softprob',\n",
    "                                  use_label_encoder = False,\n",
    "                                  n_jobs = 4,\n",
    "                                  subsample = .8,\n",
    "                                  n_estimators = 100, \n",
    "                                  random_state = 42) "
   ]
  },
  {
   "cell_type": "code",
   "execution_count": 134,
   "metadata": {},
   "outputs": [
    {
     "name": "stdout",
     "output_type": "stream",
     "text": [
      "XGBClassifier(base_score=None, booster=None, colsample_bylevel=None,\n",
      "              colsample_bynode=None, colsample_bytree=None, gamma=None,\n",
      "              gpu_id=None, importance_type='gain', interaction_constraints=None,\n",
      "              learning_rate=None, max_delta_step=None, max_depth=None,\n",
      "              min_child_weight=None, missing=nan, monotone_constraints=None,\n",
      "              n_estimators=100, n_jobs=4, num_parallel_tree=None,\n",
      "              objective='multi:softprob', random_state=42, reg_alpha=None,\n",
      "              reg_lambda=None, scale_pos_weight=None, subsample=0.8,\n",
      "              tree_method=None, use_label_encoder=False,\n",
      "              validate_parameters=None, verbosity=None)\n"
     ]
    }
   ],
   "source": [
    "print(model_multi_class)"
   ]
  },
  {
   "cell_type": "code",
   "execution_count": 135,
   "metadata": {},
   "outputs": [
    {
     "name": "stdout",
     "output_type": "stream",
     "text": [
      "[23:53:10] WARNING: /Users/travis/build/dmlc/xgboost/src/learner.cc:1061: Starting in XGBoost 1.3.0, the default evaluation metric used with the objective 'multi:softprob' was changed from 'merror' to 'mlogloss'. Explicitly set eval_metric if you'd like to restore the old behavior.\n"
     ]
    },
    {
     "data": {
      "text/plain": [
       "XGBClassifier(base_score=0.5, booster='gbtree', colsample_bylevel=1,\n",
       "              colsample_bynode=1, colsample_bytree=1, gamma=0, gpu_id=-1,\n",
       "              importance_type='gain', interaction_constraints='',\n",
       "              learning_rate=0.300000012, max_delta_step=0, max_depth=6,\n",
       "              min_child_weight=1, missing=nan, monotone_constraints='()',\n",
       "              n_estimators=100, n_jobs=4, num_parallel_tree=1,\n",
       "              objective='multi:softprob', random_state=42, reg_alpha=0,\n",
       "              reg_lambda=1, scale_pos_weight=None, subsample=0.8,\n",
       "              tree_method='exact', use_label_encoder=False,\n",
       "              validate_parameters=1, verbosity=None)"
      ]
     },
     "execution_count": 135,
     "metadata": {},
     "output_type": "execute_result"
    }
   ],
   "source": [
    "model_multi_class.fit(X_train, \n",
    "                      y_train,\n",
    "                      verbose = True)"
   ]
  },
  {
   "cell_type": "code",
   "execution_count": 136,
   "metadata": {},
   "outputs": [],
   "source": [
    "y_pred = model_multi_class.predict(X_test) \n",
    "\n",
    "predictions = [round(value) for value in y_pred]"
   ]
  },
  {
   "cell_type": "code",
   "execution_count": 137,
   "metadata": {},
   "outputs": [
    {
     "name": "stdout",
     "output_type": "stream",
     "text": [
      "Accuracy: 51.56%\n"
     ]
    }
   ],
   "source": [
    "accuracy = accuracy_score(y_test, predictions) \n",
    "\n",
    "print(\"Accuracy: %.2f%%\" % (accuracy * 100.0))"
   ]
  },
  {
   "cell_type": "code",
   "execution_count": 138,
   "metadata": {},
   "outputs": [
    {
     "name": "stdout",
     "output_type": "stream",
     "text": [
      "              precision    recall  f1-score   support\n",
      "\n",
      "           0       0.68      0.69      0.69      1933\n",
      "           1       0.50      0.48      0.49      1889\n",
      "           2       0.50      0.44      0.47      1867\n",
      "           3       0.42      0.72      0.53      1831\n",
      "           4       0.63      0.40      0.49      1878\n",
      "           5       0.79      0.63      0.70      1949\n",
      "           6       0.44      0.49      0.46      1863\n",
      "           7       0.39      0.32      0.35      1885\n",
      "           8       0.42      0.47      0.45      1881\n",
      "\n",
      "    accuracy                           0.52     16976\n",
      "   macro avg       0.53      0.52      0.51     16976\n",
      "weighted avg       0.53      0.52      0.52     16976\n",
      "\n"
     ]
    }
   ],
   "source": [
    "print(classification_report(y_test,y_pred))"
   ]
  }
 ],
 "metadata": {
  "kernelspec": {
   "display_name": "Python 3",
   "language": "python",
   "name": "python3"
  },
  "language_info": {
   "codemirror_mode": {
    "name": "ipython",
    "version": 3
   },
   "file_extension": ".py",
   "mimetype": "text/x-python",
   "name": "python",
   "nbconvert_exporter": "python",
   "pygments_lexer": "ipython3",
   "version": "3.7.4"
  },
  "toc": {
   "base_numbering": 1,
   "nav_menu": {},
   "number_sections": true,
   "sideBar": true,
   "skip_h1_title": false,
   "title_cell": "Table of Contents",
   "title_sidebar": "Contents",
   "toc_cell": false,
   "toc_position": {},
   "toc_section_display": true,
   "toc_window_display": false
  }
 },
 "nbformat": 4,
 "nbformat_minor": 2
}
