{
 "cells": [
  {
   "cell_type": "markdown",
   "metadata": {},
   "source": [
    "# Model - XGBoost Classifier"
   ]
  },
  {
   "cell_type": "markdown",
   "metadata": {},
   "source": [
    "Overview of notebook, from Nature paper will classify each subreddit... etc.\n",
    "\n",
    "> Modeling steps in this notebook\n",
    "- TF-IDF Transform \n",
    "- Split data to training (80%) and testing (20%)\n",
    "- To handle imbalanced class of our target variable we use SMOTE algorithm on the training data\n",
    "- Use XGBoost Classifier "
   ]
  },
  {
   "cell_type": "markdown",
   "metadata": {},
   "source": [
    "##### Import libraries"
   ]
  },
  {
   "cell_type": "code",
   "execution_count": 1,
   "metadata": {},
   "outputs": [],
   "source": [
    "import time\n",
    "start = time.time()\n",
    "\n",
    "import pandas as pd\n",
    "import numpy as np\n",
    "\n",
    "import matplotlib.pyplot as plt \n",
    "\n",
    "# Train, test, split\n",
    "from sklearn.model_selection import train_test_split\n",
    "\n",
    "# TFIDF\n",
    "from sklearn.feature_extraction.text import TfidfVectorizer\n",
    "from sklearn.feature_extraction.text import TfidfTransformer \n",
    "from sklearn.feature_extraction.text import CountVectorizer \n",
    "\n",
    "# For handling imbalanced classes\n",
    "from collections import Counter\n",
    "from imblearn.over_sampling import SMOTE\n",
    "\n",
    "# For classification\n",
    "import xgboost as xgb\n",
    "from xgboost import XGBClassifier\n",
    "from sklearn.metrics import precision_score, recall_score, accuracy_score, f1_score\n",
    "from sklearn.model_selection import cross_val_score, KFold\n",
    "from sklearn.model_selection import GridSearchCV\n",
    "from sklearn.metrics import confusion_matrix\n",
    "from sklearn.metrics import plot_confusion_matrix\n",
    "from xgboost import plot_importance"
   ]
  },
  {
   "cell_type": "markdown",
   "metadata": {},
   "source": [
    "##### Load data"
   ]
  },
  {
   "cell_type": "code",
   "execution_count": 2,
   "metadata": {},
   "outputs": [],
   "source": [
    "df = pd.read_csv('../data/posts-preprocessed.csv')"
   ]
  },
  {
   "cell_type": "code",
   "execution_count": 3,
   "metadata": {},
   "outputs": [
    {
     "data": {
      "text/html": [
       "<div>\n",
       "<style scoped>\n",
       "    .dataframe tbody tr th:only-of-type {\n",
       "        vertical-align: middle;\n",
       "    }\n",
       "\n",
       "    .dataframe tbody tr th {\n",
       "        vertical-align: top;\n",
       "    }\n",
       "\n",
       "    .dataframe thead th {\n",
       "        text-align: right;\n",
       "    }\n",
       "</style>\n",
       "<table border=\"1\" class=\"dataframe\">\n",
       "  <thead>\n",
       "    <tr style=\"text-align: right;\">\n",
       "      <th></th>\n",
       "      <th>author</th>\n",
       "      <th>created_utc</th>\n",
       "      <th>subreddit</th>\n",
       "      <th>text</th>\n",
       "      <th>timeframe</th>\n",
       "      <th>words</th>\n",
       "      <th>word_stems</th>\n",
       "      <th>text_length</th>\n",
       "      <th>stems_word_count</th>\n",
       "    </tr>\n",
       "  </thead>\n",
       "  <tbody>\n",
       "    <tr>\n",
       "      <td>0</td>\n",
       "      <td>sub30605</td>\n",
       "      <td>1499390694</td>\n",
       "      <td>bulimia</td>\n",
       "      <td>['chest pains  anyone else experience chest pa...</td>\n",
       "      <td>pre-covid</td>\n",
       "      <td>['[', \"'chest\", 'pains', 'anyone', 'else', 'ex...</td>\n",
       "      <td>['[', \"'chest\", 'pains', 'anyone', 'else', 'ex...</td>\n",
       "      <td>1</td>\n",
       "      <td>182</td>\n",
       "    </tr>\n",
       "    <tr>\n",
       "      <td>1</td>\n",
       "      <td>sub27274</td>\n",
       "      <td>1499060654</td>\n",
       "      <td>bulimia</td>\n",
       "      <td>['dying to eat eating to die study on shifting...</td>\n",
       "      <td>pre-covid</td>\n",
       "      <td>['[', \"'dying\", 'eat', 'eating', 'die', 'study...</td>\n",
       "      <td>['[', \"'dying\", 'eat', 'eating', 'die', 'study...</td>\n",
       "      <td>1</td>\n",
       "      <td>1285</td>\n",
       "    </tr>\n",
       "    <tr>\n",
       "      <td>2</td>\n",
       "      <td>sub6055</td>\n",
       "      <td>1499029087</td>\n",
       "      <td>bulimia</td>\n",
       "      <td>['without purging  what is the quickest way to...</td>\n",
       "      <td>pre-covid</td>\n",
       "      <td>['[', \"'without\", 'purging', 'quickest', 'way'...</td>\n",
       "      <td>['[', \"'without\", 'purging', 'quickest', 'way'...</td>\n",
       "      <td>1</td>\n",
       "      <td>98</td>\n",
       "    </tr>\n",
       "    <tr>\n",
       "      <td>3</td>\n",
       "      <td>sub40365</td>\n",
       "      <td>1498978259</td>\n",
       "      <td>bulimia</td>\n",
       "      <td>['bulimia and melancholy feelings  i havent pu...</td>\n",
       "      <td>pre-covid</td>\n",
       "      <td>['[', \"'bulimia\", 'melancholy', 'feelings', 'h...</td>\n",
       "      <td>['[', \"'bulimia\", 'melancholy', 'feelings', 'h...</td>\n",
       "      <td>1</td>\n",
       "      <td>386</td>\n",
       "    </tr>\n",
       "    <tr>\n",
       "      <td>4</td>\n",
       "      <td>sub49857</td>\n",
       "      <td>1498814187</td>\n",
       "      <td>bulimia</td>\n",
       "      <td>['im relapsing  fuck im so upset at myself rig...</td>\n",
       "      <td>pre-covid</td>\n",
       "      <td>['[', \"'im\", 'relapsing', 'fuck', 'im', 'upset...</td>\n",
       "      <td>['[', \"'im\", 'relapsing', 'fuck', 'im', 'upset...</td>\n",
       "      <td>1</td>\n",
       "      <td>689</td>\n",
       "    </tr>\n",
       "  </tbody>\n",
       "</table>\n",
       "</div>"
      ],
      "text/plain": [
       "     author  created_utc subreddit  \\\n",
       "0  sub30605   1499390694   bulimia   \n",
       "1  sub27274   1499060654   bulimia   \n",
       "2   sub6055   1499029087   bulimia   \n",
       "3  sub40365   1498978259   bulimia   \n",
       "4  sub49857   1498814187   bulimia   \n",
       "\n",
       "                                                text  timeframe  \\\n",
       "0  ['chest pains  anyone else experience chest pa...  pre-covid   \n",
       "1  ['dying to eat eating to die study on shifting...  pre-covid   \n",
       "2  ['without purging  what is the quickest way to...  pre-covid   \n",
       "3  ['bulimia and melancholy feelings  i havent pu...  pre-covid   \n",
       "4  ['im relapsing  fuck im so upset at myself rig...  pre-covid   \n",
       "\n",
       "                                               words  \\\n",
       "0  ['[', \"'chest\", 'pains', 'anyone', 'else', 'ex...   \n",
       "1  ['[', \"'dying\", 'eat', 'eating', 'die', 'study...   \n",
       "2  ['[', \"'without\", 'purging', 'quickest', 'way'...   \n",
       "3  ['[', \"'bulimia\", 'melancholy', 'feelings', 'h...   \n",
       "4  ['[', \"'im\", 'relapsing', 'fuck', 'im', 'upset...   \n",
       "\n",
       "                                          word_stems  text_length  \\\n",
       "0  ['[', \"'chest\", 'pains', 'anyone', 'else', 'ex...            1   \n",
       "1  ['[', \"'dying\", 'eat', 'eating', 'die', 'study...            1   \n",
       "2  ['[', \"'without\", 'purging', 'quickest', 'way'...            1   \n",
       "3  ['[', \"'bulimia\", 'melancholy', 'feelings', 'h...            1   \n",
       "4  ['[', \"'im\", 'relapsing', 'fuck', 'im', 'upset...            1   \n",
       "\n",
       "   stems_word_count  \n",
       "0               182  \n",
       "1              1285  \n",
       "2                98  \n",
       "3               386  \n",
       "4               689  "
      ]
     },
     "execution_count": 3,
     "metadata": {},
     "output_type": "execute_result"
    }
   ],
   "source": [
    "df.head()"
   ]
  },
  {
   "cell_type": "markdown",
   "metadata": {},
   "source": [
    "##### Binarize targets using get_dummies"
   ]
  },
  {
   "cell_type": "markdown",
   "metadata": {},
   "source": [
    "Will use each subreddit as target (except mental health)"
   ]
  },
  {
   "cell_type": "code",
   "execution_count": 4,
   "metadata": {},
   "outputs": [],
   "source": [
    "df = pd.get_dummies(df, columns=['subreddit'])"
   ]
  },
  {
   "cell_type": "code",
   "execution_count": 5,
   "metadata": {},
   "outputs": [],
   "source": [
    "df.drop(columns='subreddit_mentalhealth', inplace = True)"
   ]
  },
  {
   "cell_type": "markdown",
   "metadata": {},
   "source": [
    "## Vectorize using TFIDF\n",
    "Implement Term Frequency - Inverse Document Frequency (TF-IDF) to vectorize the pre-processed text from the subreddit posts into numerical representations in a weight matrix that will be the basis for our set of feature for the predictive models. TF-IDF calculates how important a word is in a document in comparison to the entire corpus"
   ]
  },
  {
   "cell_type": "code",
   "execution_count": 6,
   "metadata": {},
   "outputs": [],
   "source": [
    "# create the transform\n",
    "vectorizer = TfidfVectorizer()"
   ]
  },
  {
   "cell_type": "code",
   "execution_count": 7,
   "metadata": {},
   "outputs": [],
   "source": [
    "X = df['word_stems']"
   ]
  },
  {
   "cell_type": "code",
   "execution_count": 8,
   "metadata": {},
   "outputs": [
    {
     "name": "stdout",
     "output_type": "stream",
     "text": [
      "Vectorization Runtime: 0.07 Minutes\n"
     ]
    }
   ],
   "source": [
    "start_vect= time.time()\n",
    "X = vectorizer.fit_transform(X)\n",
    "tfvocab = vectorizer.get_feature_names()\n",
    "print(\"Vectorization Runtime: %0.2f Minutes\"%((time.time() - start_vect)/60))"
   ]
  },
  {
   "cell_type": "code",
   "execution_count": null,
   "metadata": {},
   "outputs": [],
   "source": [
    "# Sort and Print ## seems to kill my notebook...\n",
    "start_vect= time.time()\n",
    "feature_array = np.array(vectorizer.get_feature_names())\n",
    "tfidf_sorting = np.argsort(X.toarray()).flatten()[::-1]\n",
    "print(\"Most Important Words in All Vectorization:\\n\",feature_array[tfidf_sorting][:10])"
   ]
  },
  {
   "cell_type": "markdown",
   "metadata": {},
   "source": [
    "## Subreddit: Anorexia Nervosa"
   ]
  },
  {
   "cell_type": "code",
   "execution_count": 9,
   "metadata": {},
   "outputs": [],
   "source": [
    "y = df['subreddit_AnorexiaNervosa']"
   ]
  },
  {
   "cell_type": "code",
   "execution_count": 10,
   "metadata": {},
   "outputs": [
    {
     "data": {
      "text/plain": [
       "(85322,)"
      ]
     },
     "execution_count": 10,
     "metadata": {},
     "output_type": "execute_result"
    }
   ],
   "source": [
    "y.shape"
   ]
  },
  {
   "cell_type": "markdown",
   "metadata": {},
   "source": [
    "### train test split"
   ]
  },
  {
   "cell_type": "code",
   "execution_count": 11,
   "metadata": {},
   "outputs": [],
   "source": [
    "X_train, X_test, y_train, y_test = train_test_split(X, y,\n",
    "                                                    stratify = y,\n",
    "                                                    test_size = .2,\n",
    "                                                    random_state=42)"
   ]
  },
  {
   "cell_type": "markdown",
   "metadata": {},
   "source": [
    "Check that stratify worked as expected"
   ]
  },
  {
   "cell_type": "code",
   "execution_count": 12,
   "metadata": {},
   "outputs": [
    {
     "data": {
      "text/plain": [
       "0.11386377953909489"
      ]
     },
     "execution_count": 12,
     "metadata": {},
     "output_type": "execute_result"
    }
   ],
   "source": [
    "sum(y_train)/len(y_train)"
   ]
  },
  {
   "cell_type": "code",
   "execution_count": 13,
   "metadata": {},
   "outputs": [
    {
     "data": {
      "text/plain": [
       "0.11385877527102256"
      ]
     },
     "execution_count": 13,
     "metadata": {},
     "output_type": "execute_result"
    }
   ],
   "source": [
    "sum(y_test)/len(y_test)"
   ]
  },
  {
   "cell_type": "markdown",
   "metadata": {},
   "source": [
    "Summarize the class distribution of the target"
   ]
  },
  {
   "cell_type": "markdown",
   "metadata": {},
   "source": [
    "### Oversample the minority class using SMOTE"
   ]
  },
  {
   "cell_type": "code",
   "execution_count": 14,
   "metadata": {},
   "outputs": [
    {
     "name": "stdout",
     "output_type": "stream",
     "text": [
      "Counter({0: 60485, 1: 7772})\n"
     ]
    }
   ],
   "source": [
    "counter = Counter(y_train)\n",
    "print(counter)"
   ]
  },
  {
   "cell_type": "code",
   "execution_count": 15,
   "metadata": {},
   "outputs": [],
   "source": [
    "smote = SMOTE(random_state=42) \n",
    "X_train_sm, y_train_sm = smote.fit_resample(X_train, y_train)"
   ]
  },
  {
   "cell_type": "markdown",
   "metadata": {},
   "source": [
    "Summarize the class distribution of the target after oversampling the minority class using the SMOTE algorithm."
   ]
  },
  {
   "cell_type": "code",
   "execution_count": 16,
   "metadata": {
    "scrolled": true
   },
   "outputs": [
    {
     "name": "stdout",
     "output_type": "stream",
     "text": [
      "Counter({0: 60485, 1: 60485})\n"
     ]
    }
   ],
   "source": [
    "counter_resampled = Counter(y_train_sm) \n",
    "print(counter_resampled)"
   ]
  },
  {
   "cell_type": "markdown",
   "metadata": {},
   "source": [
    "### XGBoost Model"
   ]
  },
  {
   "cell_type": "markdown",
   "metadata": {},
   "source": [
    "Transform the re-sampled features to Dmatrix format"
   ]
  },
  {
   "cell_type": "code",
   "execution_count": null,
   "metadata": {},
   "outputs": [],
   "source": [
    "#D_train = xgb.DMatrix(X_train_sm, label=y_train_sm)\n",
    "#D_test = xgb.DMatrix(X_test, label=y_test)"
   ]
  },
  {
   "cell_type": "markdown",
   "metadata": {},
   "source": [
    "#### Grid Search"
   ]
  },
  {
   "cell_type": "markdown",
   "metadata": {},
   "source": [
    "clf = xgb.XGBClassifier()\n",
    "parameters = {\n",
    "     \"eta\"    : [0.05, 0.1, 0.2, 0.3 ] ,\n",
    "     \"max_depth\"        : [ 1, 3, 5, 7, 11],\n",
    "     \"gamma\"            : [ 0.0, 0.2 , 0.4 ],\n",
    "     }\n",
    "\n",
    "grid = GridSearchCV(clf,\n",
    "                    parameters, n_jobs=4,\n",
    "                    scoring=\"neg_log_loss\",\n",
    "                    cv=3)\n",
    "\n",
    "grid.fit(X_train_sm, y_train_sm)"
   ]
  },
  {
   "cell_type": "code",
   "execution_count": null,
   "metadata": {},
   "outputs": [],
   "source": []
  },
  {
   "cell_type": "markdown",
   "metadata": {},
   "source": [
    "Define Parameters for XGBoost Model"
   ]
  },
  {
   "cell_type": "markdown",
   "metadata": {},
   "source": [
    "what is num_class? can we run multi-class classification with all subreddits?"
   ]
  },
  {
   "cell_type": "code",
   "execution_count": 17,
   "metadata": {},
   "outputs": [],
   "source": [
    "model = XGBClassifier(n_classes = 2, \n",
    "                      missing=None,\n",
    "                      objective='binary:logistic',\n",
    "                      use_label_encoder = False,\n",
    "                      n_jobs = 4,\n",
    "                      subsample = .8,\n",
    "                      n_estimators = 118, # stop at around 117 trees, model no loger improves much after\n",
    "                      random_state = 42)"
   ]
  },
  {
   "cell_type": "code",
   "execution_count": 18,
   "metadata": {},
   "outputs": [
    {
     "name": "stdout",
     "output_type": "stream",
     "text": [
      "[17:49:45] WARNING: /Users/travis/build/dmlc/xgboost/src/learner.cc:541: \n",
      "Parameters: { n_classes } might not be used.\n",
      "\n",
      "  This may not be accurate due to some parameters are only used in language bindings but\n",
      "  passed down to XGBoost core.  Or some parameters are not used but slip through this\n",
      "  verification. Please open an issue if you find above cases.\n",
      "\n",
      "\n",
      "[0]\tvalidation_0-aucpr:0.47392\n",
      "[1]\tvalidation_0-aucpr:0.51700\n",
      "[2]\tvalidation_0-aucpr:0.53695\n",
      "[3]\tvalidation_0-aucpr:0.55305\n",
      "[4]\tvalidation_0-aucpr:0.56896\n",
      "[5]\tvalidation_0-aucpr:0.58258\n",
      "[6]\tvalidation_0-aucpr:0.59655\n",
      "[7]\tvalidation_0-aucpr:0.61243\n",
      "[8]\tvalidation_0-aucpr:0.61737\n",
      "[9]\tvalidation_0-aucpr:0.62427\n",
      "[10]\tvalidation_0-aucpr:0.62657\n",
      "[11]\tvalidation_0-aucpr:0.62825\n",
      "[12]\tvalidation_0-aucpr:0.63983\n",
      "[13]\tvalidation_0-aucpr:0.64419\n",
      "[14]\tvalidation_0-aucpr:0.65059\n",
      "[15]\tvalidation_0-aucpr:0.65206\n",
      "[16]\tvalidation_0-aucpr:0.65307\n",
      "[17]\tvalidation_0-aucpr:0.65249\n",
      "[18]\tvalidation_0-aucpr:0.65346\n",
      "[19]\tvalidation_0-aucpr:0.65577\n",
      "[20]\tvalidation_0-aucpr:0.65795\n",
      "[21]\tvalidation_0-aucpr:0.65754\n",
      "[22]\tvalidation_0-aucpr:0.66093\n",
      "[23]\tvalidation_0-aucpr:0.66194\n",
      "[24]\tvalidation_0-aucpr:0.66512\n",
      "[25]\tvalidation_0-aucpr:0.66878\n",
      "[26]\tvalidation_0-aucpr:0.67067\n",
      "[27]\tvalidation_0-aucpr:0.67224\n",
      "[28]\tvalidation_0-aucpr:0.67454\n",
      "[29]\tvalidation_0-aucpr:0.67535\n",
      "[30]\tvalidation_0-aucpr:0.67308\n",
      "[31]\tvalidation_0-aucpr:0.67690\n",
      "[32]\tvalidation_0-aucpr:0.68068\n",
      "[33]\tvalidation_0-aucpr:0.68391\n",
      "[34]\tvalidation_0-aucpr:0.68359\n",
      "[35]\tvalidation_0-aucpr:0.68476\n",
      "[36]\tvalidation_0-aucpr:0.68494\n",
      "[37]\tvalidation_0-aucpr:0.68629\n",
      "[38]\tvalidation_0-aucpr:0.68731\n",
      "[39]\tvalidation_0-aucpr:0.68657\n",
      "[40]\tvalidation_0-aucpr:0.68681\n",
      "[41]\tvalidation_0-aucpr:0.68501\n",
      "[42]\tvalidation_0-aucpr:0.68601\n",
      "[43]\tvalidation_0-aucpr:0.68749\n",
      "[44]\tvalidation_0-aucpr:0.68893\n",
      "[45]\tvalidation_0-aucpr:0.69089\n",
      "[46]\tvalidation_0-aucpr:0.69052\n",
      "[47]\tvalidation_0-aucpr:0.69197\n",
      "[48]\tvalidation_0-aucpr:0.69364\n",
      "[49]\tvalidation_0-aucpr:0.69334\n",
      "[50]\tvalidation_0-aucpr:0.69471\n",
      "[51]\tvalidation_0-aucpr:0.69557\n",
      "[52]\tvalidation_0-aucpr:0.69644\n",
      "[53]\tvalidation_0-aucpr:0.69728\n",
      "[54]\tvalidation_0-aucpr:0.69781\n",
      "[55]\tvalidation_0-aucpr:0.69767\n",
      "[56]\tvalidation_0-aucpr:0.69789\n",
      "[57]\tvalidation_0-aucpr:0.69822\n",
      "[58]\tvalidation_0-aucpr:0.69963\n",
      "[59]\tvalidation_0-aucpr:0.69937\n",
      "[60]\tvalidation_0-aucpr:0.69908\n",
      "[61]\tvalidation_0-aucpr:0.69943\n",
      "[62]\tvalidation_0-aucpr:0.69990\n",
      "[63]\tvalidation_0-aucpr:0.70046\n",
      "[64]\tvalidation_0-aucpr:0.70004\n",
      "[65]\tvalidation_0-aucpr:0.70105\n",
      "[66]\tvalidation_0-aucpr:0.70033\n",
      "[67]\tvalidation_0-aucpr:0.70157\n",
      "[68]\tvalidation_0-aucpr:0.70349\n",
      "[69]\tvalidation_0-aucpr:0.70258\n",
      "[70]\tvalidation_0-aucpr:0.70234\n",
      "[71]\tvalidation_0-aucpr:0.70345\n",
      "[72]\tvalidation_0-aucpr:0.70529\n",
      "[73]\tvalidation_0-aucpr:0.70586\n",
      "[74]\tvalidation_0-aucpr:0.70587\n",
      "[75]\tvalidation_0-aucpr:0.70507\n",
      "[76]\tvalidation_0-aucpr:0.70455\n",
      "[77]\tvalidation_0-aucpr:0.70494\n",
      "[78]\tvalidation_0-aucpr:0.70566\n",
      "[79]\tvalidation_0-aucpr:0.70567\n",
      "[80]\tvalidation_0-aucpr:0.70614\n",
      "[81]\tvalidation_0-aucpr:0.70634\n",
      "[82]\tvalidation_0-aucpr:0.70671\n",
      "[83]\tvalidation_0-aucpr:0.70763\n",
      "[84]\tvalidation_0-aucpr:0.70818\n",
      "[85]\tvalidation_0-aucpr:0.70841\n",
      "[86]\tvalidation_0-aucpr:0.70958\n",
      "[87]\tvalidation_0-aucpr:0.70976\n",
      "[88]\tvalidation_0-aucpr:0.71040\n",
      "[89]\tvalidation_0-aucpr:0.71063\n",
      "[90]\tvalidation_0-aucpr:0.71065\n",
      "[91]\tvalidation_0-aucpr:0.71052\n",
      "[92]\tvalidation_0-aucpr:0.71133\n",
      "[93]\tvalidation_0-aucpr:0.71119\n",
      "[94]\tvalidation_0-aucpr:0.71100\n",
      "[95]\tvalidation_0-aucpr:0.71074\n",
      "[96]\tvalidation_0-aucpr:0.71060\n",
      "[97]\tvalidation_0-aucpr:0.71017\n",
      "[98]\tvalidation_0-aucpr:0.71069\n",
      "[99]\tvalidation_0-aucpr:0.71107\n",
      "[100]\tvalidation_0-aucpr:0.71179\n",
      "[101]\tvalidation_0-aucpr:0.71219\n",
      "[102]\tvalidation_0-aucpr:0.71157\n",
      "[103]\tvalidation_0-aucpr:0.71117\n",
      "[104]\tvalidation_0-aucpr:0.71120\n",
      "[105]\tvalidation_0-aucpr:0.71093\n",
      "[106]\tvalidation_0-aucpr:0.71141\n",
      "[107]\tvalidation_0-aucpr:0.71203\n",
      "[108]\tvalidation_0-aucpr:0.71191\n",
      "[109]\tvalidation_0-aucpr:0.71224\n",
      "[110]\tvalidation_0-aucpr:0.71160\n",
      "[111]\tvalidation_0-aucpr:0.71254\n",
      "[112]\tvalidation_0-aucpr:0.71286\n",
      "[113]\tvalidation_0-aucpr:0.71324\n",
      "[114]\tvalidation_0-aucpr:0.71317\n",
      "[115]\tvalidation_0-aucpr:0.71378\n",
      "[116]\tvalidation_0-aucpr:0.71440\n",
      "[117]\tvalidation_0-aucpr:0.71442\n"
     ]
    },
    {
     "data": {
      "text/plain": [
       "XGBClassifier(base_score=0.5, booster='gbtree', colsample_bylevel=1,\n",
       "              colsample_bynode=1, colsample_bytree=1, gamma=0, gpu_id=-1,\n",
       "              importance_type='gain', interaction_constraints='',\n",
       "              learning_rate=0.300000012, max_delta_step=0, max_depth=6,\n",
       "              min_child_weight=1, missing=None, monotone_constraints='()',\n",
       "              n_classes=2, n_estimators=118, n_jobs=4, num_parallel_tree=1,\n",
       "              random_state=42, reg_alpha=0, reg_lambda=1, scale_pos_weight=1,\n",
       "              subsample=0.8, tree_method='exact', use_label_encoder=False,\n",
       "              validate_parameters=1, verbosity=None)"
      ]
     },
     "execution_count": 18,
     "metadata": {},
     "output_type": "execute_result"
    }
   ],
   "source": [
    "model.fit(X_train_sm, \n",
    "          y_train_sm,\n",
    "          verbose = True, # set to true if you want to see where to stop early\n",
    "          early_stopping_rounds = 10, # reduce overfitting with early stopping\n",
    "          eval_metric = 'aucpr',\n",
    "          eval_set = [(X_test, y_test)]) # helps determine how many trees to build"
   ]
  },
  {
   "cell_type": "code",
   "execution_count": 19,
   "metadata": {},
   "outputs": [
    {
     "data": {
      "image/png": "[encoded data removed]",
      "text/plain": [
       "<Figure size 432x288 with 2 Axes>"
      ]
     },
     "metadata": {
      "needs_background": "light"
     },
     "output_type": "display_data"
    }
   ],
   "source": [
    "plot_confusion_matrix(model,\n",
    "                      X_test,\n",
    "                      y_test);"
   ]
  },
  {
   "cell_type": "code",
   "execution_count": 20,
   "metadata": {},
   "outputs": [
    {
     "data": {
      "text/plain": [
       "0.7160181910055584"
      ]
     },
     "execution_count": 20,
     "metadata": {},
     "output_type": "execute_result"
    }
   ],
   "source": [
    "# Correctly classified as AN\n",
    "1417/(562+1417)"
   ]
  },
  {
   "cell_type": "code",
   "execution_count": 21,
   "metadata": {},
   "outputs": [
    {
     "name": "stdout",
     "output_type": "stream",
     "text": [
      "Accuracy: 92.83%\n"
     ]
    }
   ],
   "source": [
    "y_pred = model.predict(X_test)\n",
    "predictions = [round(value) for value in y_pred]\n",
    "\n",
    "accuracy = accuracy_score(y_test, predictions)\n",
    "print(\"Accuracy: %.2f%%\" % (accuracy * 100.0))"
   ]
  },
  {
   "cell_type": "code",
   "execution_count": 23,
   "metadata": {},
   "outputs": [
    {
     "data": {
      "image/png": "[encoded data removed]",
      "text/plain": [
       "<Figure size 504x720 with 1 Axes>"
      ]
     },
     "metadata": {
      "needs_background": "light"
     },
     "output_type": "display_data"
    }
   ],
   "source": [
    "f, ax = plt.subplots(figsize=[7,10])\n",
    "xgb.plot_importance(model,max_num_features=10,ax=ax)\n",
    "plt.title(\"XGBOOST Feature Importance\")\n",
    "plt.show()"
   ]
  },
  {
   "cell_type": "markdown",
   "metadata": {},
   "source": [
    "## Subreddit: Anxiety"
   ]
  },
  {
   "cell_type": "code",
   "execution_count": null,
   "metadata": {},
   "outputs": [],
   "source": [
    "y = df['subreddit_Anxiety']"
   ]
  },
  {
   "cell_type": "code",
   "execution_count": null,
   "metadata": {},
   "outputs": [],
   "source": [
    "y.shape"
   ]
  },
  {
   "cell_type": "code",
   "execution_count": null,
   "metadata": {},
   "outputs": [],
   "source": [
    "# train test split\n",
    "X_train, X_test, y_train, y_test = train_test_split(X, y,\n",
    "                                                    test_size = .2,\n",
    "                                                    random_state=42)"
   ]
  },
  {
   "cell_type": "code",
   "execution_count": null,
   "metadata": {},
   "outputs": [],
   "source": [
    "# summarize class distribution\n",
    "counter = Counter(y_train)\n",
    "print(counter)"
   ]
  },
  {
   "cell_type": "code",
   "execution_count": null,
   "metadata": {},
   "outputs": [],
   "source": [
    "# Oversample the minority class using SMOTE\n",
    "smote = SMOTE(random_state=42) \n",
    "X_train_sm, y_train_sm = smote.fit_resample(X_train, y_train)"
   ]
  },
  {
   "cell_type": "code",
   "execution_count": null,
   "metadata": {},
   "outputs": [],
   "source": [
    "# summarize class distribution\n",
    "counter_resampled = Counter(y_train_sm) \n",
    "print(counter_resampled)"
   ]
  },
  {
   "cell_type": "code",
   "execution_count": null,
   "metadata": {},
   "outputs": [],
   "source": [
    "model2 = XGBClassifier(n_classes = 2, \n",
    "                      missing=None,\n",
    "                      objective='binary:logistic',\n",
    "                      use_label_encoder = False,\n",
    "                      n_jobs = 4,\n",
    "                      subsample = .8,\n",
    "                      n_estimators = 200, # stop at around 100 trees, model no loger improves much after\n",
    "                      random_state = 42)"
   ]
  },
  {
   "cell_type": "code",
   "execution_count": null,
   "metadata": {},
   "outputs": [],
   "source": [
    "model2.fit(X_train_sm, \n",
    "          y_train_sm,\n",
    "          verbose = False, # set to true if you want to see where to stop early\n",
    "          early_stopping_rounds = 10, # reduce overfitting with early stopping\n",
    "          eval_metric = 'aucpr',\n",
    "          eval_set = [(X_test, y_test)]) # helps determine how many trees to build"
   ]
  },
  {
   "cell_type": "code",
   "execution_count": null,
   "metadata": {},
   "outputs": [],
   "source": [
    "plot_confusion_matrix(model2,\n",
    "                      X_test,\n",
    "                      y_test);"
   ]
  },
  {
   "cell_type": "code",
   "execution_count": null,
   "metadata": {},
   "outputs": [],
   "source": [
    "y_pred = model2.predict(X_test)\n",
    "predictions = [round(value) for value in y_pred]\n",
    "\n",
    "accuracy = accuracy_score(y_test, predictions)\n",
    "print(\"Accuracy: %.2f%%\" % (accuracy * 100.0))"
   ]
  },
  {
   "cell_type": "code",
   "execution_count": null,
   "metadata": {},
   "outputs": [],
   "source": [
    "# Plot the top 7 features\n",
    "plot_importance(model2, max_num_features=7)\n",
    "# Show the plot\n",
    "plt.show()"
   ]
  },
  {
   "cell_type": "markdown",
   "metadata": {},
   "source": [
    "## Subreddit: Autism"
   ]
  },
  {
   "cell_type": "code",
   "execution_count": null,
   "metadata": {},
   "outputs": [],
   "source": [
    "y = df['subreddit_autism']"
   ]
  },
  {
   "cell_type": "code",
   "execution_count": null,
   "metadata": {},
   "outputs": [],
   "source": [
    "y.shape"
   ]
  },
  {
   "cell_type": "markdown",
   "metadata": {},
   "source": [
    "### train test split"
   ]
  },
  {
   "cell_type": "code",
   "execution_count": null,
   "metadata": {},
   "outputs": [],
   "source": [
    "X_train, X_test, y_train, y_test = train_test_split(X, y,\n",
    "                                                    test_size = .2,\n",
    "                                                    random_state=42)"
   ]
  },
  {
   "cell_type": "markdown",
   "metadata": {},
   "source": [
    "Summarize the class distribution of the target"
   ]
  },
  {
   "cell_type": "code",
   "execution_count": null,
   "metadata": {},
   "outputs": [],
   "source": [
    "counter = Counter(y_train)\n",
    "print(counter)"
   ]
  },
  {
   "cell_type": "markdown",
   "metadata": {},
   "source": [
    "### Oversample the minority class using SMOTE"
   ]
  },
  {
   "cell_type": "code",
   "execution_count": null,
   "metadata": {},
   "outputs": [],
   "source": [
    "smote = SMOTE(random_state=42) \n",
    "X_train_sm, y_train_sm = smote.fit_resample(X_train, y_train)"
   ]
  },
  {
   "cell_type": "markdown",
   "metadata": {},
   "source": [
    "Summarize the class distribution of the target after oversampling the minority class using the SMOTE algorithm."
   ]
  },
  {
   "cell_type": "code",
   "execution_count": null,
   "metadata": {},
   "outputs": [],
   "source": [
    "counter_resampled = Counter(y_train_sm) \n",
    "print(counter_resampled)"
   ]
  },
  {
   "cell_type": "markdown",
   "metadata": {},
   "source": [
    "### XGBoost Model"
   ]
  },
  {
   "cell_type": "markdown",
   "metadata": {},
   "source": [
    "Define Parameters for XGBoost Model"
   ]
  },
  {
   "cell_type": "code",
   "execution_count": null,
   "metadata": {},
   "outputs": [],
   "source": [
    "model3 = XGBClassifier(n_classes = 2, \n",
    "                      missing=None,\n",
    "                      objective='binary:logistic',\n",
    "                      use_label_encoder = False,\n",
    "                      n_jobs = 4,\n",
    "                      subsample = .8,\n",
    "                      n_estimators = 222, # stop at around 222 trees, model no loger improves much after\n",
    "                      random_state = 42)"
   ]
  },
  {
   "cell_type": "code",
   "execution_count": null,
   "metadata": {},
   "outputs": [],
   "source": [
    "model3.fit(X_train_sm, \n",
    "          y_train_sm,\n",
    "          verbose = False, # set to true if you want to see where to stop early\n",
    "          early_stopping_rounds = 10, # reduce overfitting with early stopping\n",
    "          eval_metric = 'aucpr',\n",
    "          eval_set = [(X_test, y_test)]) # helps determine how many trees to build"
   ]
  },
  {
   "cell_type": "code",
   "execution_count": null,
   "metadata": {},
   "outputs": [],
   "source": [
    "plot_confusion_matrix(model3,\n",
    "                      X_test,\n",
    "                      y_test);"
   ]
  },
  {
   "cell_type": "code",
   "execution_count": null,
   "metadata": {},
   "outputs": [],
   "source": [
    "y_pred = model3.predict(X_test)\n",
    "predictions = [round(value) for value in y_pred]\n",
    "\n",
    "accuracy = accuracy_score(y_test, predictions)\n",
    "print(\"Accuracy: %.2f%%\" % (accuracy * 100.0))"
   ]
  },
  {
   "cell_type": "code",
   "execution_count": null,
   "metadata": {},
   "outputs": [],
   "source": [
    "# Plot the top 7 features\n",
    "plot_importance(model3, max_num_features=7)\n",
    "# Show the plot\n",
    "plt.show()"
   ]
  },
  {
   "cell_type": "code",
   "execution_count": null,
   "metadata": {},
   "outputs": [],
   "source": []
  },
  {
   "cell_type": "markdown",
   "metadata": {},
   "source": [
    "## Subreddit: BPD"
   ]
  },
  {
   "cell_type": "code",
   "execution_count": null,
   "metadata": {},
   "outputs": [],
   "source": [
    "y = df['subreddit_BPD']"
   ]
  },
  {
   "cell_type": "code",
   "execution_count": null,
   "metadata": {},
   "outputs": [],
   "source": [
    "y.shape"
   ]
  },
  {
   "cell_type": "markdown",
   "metadata": {},
   "source": [
    "### train test split"
   ]
  },
  {
   "cell_type": "code",
   "execution_count": null,
   "metadata": {},
   "outputs": [],
   "source": [
    "X_train, X_test, y_train, y_test = train_test_split(X, y,\n",
    "                                                    test_size = .2,\n",
    "                                                    random_state=42)"
   ]
  },
  {
   "cell_type": "markdown",
   "metadata": {},
   "source": [
    "Summarize the class distribution of the target"
   ]
  },
  {
   "cell_type": "code",
   "execution_count": null,
   "metadata": {},
   "outputs": [],
   "source": [
    "counter = Counter(y_train)\n",
    "print(counter)"
   ]
  },
  {
   "cell_type": "markdown",
   "metadata": {},
   "source": [
    "### Oversample the minority class using SMOTE"
   ]
  },
  {
   "cell_type": "code",
   "execution_count": null,
   "metadata": {},
   "outputs": [],
   "source": [
    "smote = SMOTE(random_state=42) \n",
    "X_train_sm, y_train_sm = smote.fit_resample(X_train, y_train)"
   ]
  },
  {
   "cell_type": "markdown",
   "metadata": {},
   "source": [
    "Summarize the class distribution of the target after oversampling the minority class using the SMOTE algorithm."
   ]
  },
  {
   "cell_type": "code",
   "execution_count": null,
   "metadata": {},
   "outputs": [],
   "source": [
    "counter_resampled = Counter(y_train_sm) \n",
    "print(counter_resampled)"
   ]
  },
  {
   "cell_type": "markdown",
   "metadata": {},
   "source": [
    "### XGBoost Model"
   ]
  },
  {
   "cell_type": "markdown",
   "metadata": {},
   "source": [
    "Transform the re-sampled features to Dmatrix format"
   ]
  },
  {
   "cell_type": "code",
   "execution_count": null,
   "metadata": {},
   "outputs": [],
   "source": [
    "D_train = xgb.DMatrix(X_train_sm, label=y_train_sm)\n",
    "D_test = xgb.DMatrix(X_test, label=y_test)"
   ]
  },
  {
   "cell_type": "markdown",
   "metadata": {},
   "source": [
    "Define Parameters for XGBoost Model"
   ]
  },
  {
   "cell_type": "code",
   "execution_count": null,
   "metadata": {},
   "outputs": [],
   "source": [
    "param = {\n",
    "    'eta': 0.3, \n",
    "    'max_depth': 3,  \n",
    "    'objective': 'binary:logistic',  \n",
    "    'num_class': 2} \n",
    "\n",
    "steps = 10  # The number of training iterations"
   ]
  },
  {
   "cell_type": "code",
   "execution_count": null,
   "metadata": {},
   "outputs": [],
   "source": [
    "model = xgb.train(param, D_train, steps)"
   ]
  },
  {
   "cell_type": "markdown",
   "metadata": {},
   "source": [
    "#### XGBoost Model Scores"
   ]
  },
  {
   "cell_type": "code",
   "execution_count": null,
   "metadata": {
    "scrolled": true
   },
   "outputs": [],
   "source": [
    "preds = model.predict(D_test)\n",
    "best_preds = np.asarray([np.argmax(line) for line in preds]) ### explain\n",
    "\n",
    "print(\"Precision = {}\".format(precision_score(y_test, best_preds))) ## explain.. adjusting averag='macro' changes this.. look into more\n",
    "print(\"Recall = {}\".format(recall_score(y_test, best_preds))) ### explain\n",
    "print(\"F1-Score: Non-BPD = {}\".format(f1_score(y_test, best_preds, pos_label=0)))\n",
    "print(\"F1-Score: BPD = {}\".format(f1_score(y_test, best_preds, pos_label=1)))\n",
    "print(\"Accuracy = {}\".format(accuracy_score(y_test, best_preds)))"
   ]
  },
  {
   "cell_type": "markdown",
   "metadata": {},
   "source": [
    "## Subreddit: Bipolar"
   ]
  },
  {
   "cell_type": "code",
   "execution_count": null,
   "metadata": {},
   "outputs": [],
   "source": [
    "y = df['subreddit_bipolar']"
   ]
  },
  {
   "cell_type": "code",
   "execution_count": null,
   "metadata": {},
   "outputs": [],
   "source": [
    "y.shape"
   ]
  },
  {
   "cell_type": "markdown",
   "metadata": {},
   "source": [
    "### train test split"
   ]
  },
  {
   "cell_type": "code",
   "execution_count": null,
   "metadata": {},
   "outputs": [],
   "source": [
    "X_train, X_test, y_train, y_test = train_test_split(X, y,\n",
    "                                                    test_size = .2,\n",
    "                                                    random_state=42)"
   ]
  },
  {
   "cell_type": "markdown",
   "metadata": {},
   "source": [
    "Summarize the class distribution of the target"
   ]
  },
  {
   "cell_type": "code",
   "execution_count": null,
   "metadata": {},
   "outputs": [],
   "source": [
    "counter = Counter(y_train)\n",
    "print(counter)"
   ]
  },
  {
   "cell_type": "markdown",
   "metadata": {},
   "source": [
    "### Oversample the minority class using SMOTE"
   ]
  },
  {
   "cell_type": "code",
   "execution_count": null,
   "metadata": {},
   "outputs": [],
   "source": [
    "smote = SMOTE(random_state=42) \n",
    "X_train_sm, y_train_sm = smote.fit_resample(X_train, y_train)"
   ]
  },
  {
   "cell_type": "markdown",
   "metadata": {},
   "source": [
    "Summarize the class distribution of the target after oversampling the minority class using the SMOTE algorithm."
   ]
  },
  {
   "cell_type": "code",
   "execution_count": null,
   "metadata": {},
   "outputs": [],
   "source": [
    "counter_resampled = Counter(y_train_sm) \n",
    "print(counter_resampled)"
   ]
  },
  {
   "cell_type": "markdown",
   "metadata": {},
   "source": [
    "### XGBoost Model"
   ]
  },
  {
   "cell_type": "markdown",
   "metadata": {},
   "source": [
    "Transform the re-sampled features to Dmatrix format"
   ]
  },
  {
   "cell_type": "code",
   "execution_count": null,
   "metadata": {},
   "outputs": [],
   "source": [
    "D_train = xgb.DMatrix(X_train_sm, label=y_train_sm)\n",
    "D_test = xgb.DMatrix(X_test, label=y_test)"
   ]
  },
  {
   "cell_type": "markdown",
   "metadata": {},
   "source": [
    "Define Parameters for XGBoost Model"
   ]
  },
  {
   "cell_type": "code",
   "execution_count": null,
   "metadata": {},
   "outputs": [],
   "source": [
    "param = {\n",
    "    'eta': 0.3, \n",
    "    'max_depth': 3,  \n",
    "    'objective': 'multi:softprob',  \n",
    "    'num_class': 3} \n",
    "\n",
    "steps = 20  # The number of training iterations"
   ]
  },
  {
   "cell_type": "code",
   "execution_count": null,
   "metadata": {},
   "outputs": [],
   "source": [
    "model = xgb.train(param, D_train, steps)"
   ]
  },
  {
   "cell_type": "markdown",
   "metadata": {},
   "source": [
    "#### XGBoost Model Scores"
   ]
  },
  {
   "cell_type": "code",
   "execution_count": null,
   "metadata": {
    "scrolled": true
   },
   "outputs": [],
   "source": [
    "preds = model.predict(D_test)\n",
    "best_preds = np.asarray([np.argmax(line) for line in preds]) ### explain\n",
    "\n",
    "print(\"Precision = {}\".format(precision_score(y_test, best_preds))) ## explain.. adjusting averag='macro' changes this.. look into more\n",
    "print(\"Recall = {}\".format(recall_score(y_test, best_preds))) ### explain\n",
    "print(\"F1-Score: Non-bipolar = {}\".format(f1_score(y_test, best_preds, pos_label=0)))\n",
    "print(\"F1-Score: Bipolar = {}\".format(f1_score(y_test, best_preds, pos_label=1)))\n",
    "print(\"Accuracy = {}\".format(accuracy_score(y_test, best_preds)))"
   ]
  },
  {
   "cell_type": "markdown",
   "metadata": {},
   "source": [
    "## Subreddit: Bulimia"
   ]
  },
  {
   "cell_type": "code",
   "execution_count": null,
   "metadata": {},
   "outputs": [],
   "source": [
    "y = df['subreddit_bulimia']"
   ]
  },
  {
   "cell_type": "code",
   "execution_count": null,
   "metadata": {},
   "outputs": [],
   "source": [
    "y.shape"
   ]
  },
  {
   "cell_type": "markdown",
   "metadata": {},
   "source": [
    "### train test split"
   ]
  },
  {
   "cell_type": "code",
   "execution_count": null,
   "metadata": {},
   "outputs": [],
   "source": [
    "X_train, X_test, y_train, y_test = train_test_split(X, y,\n",
    "                                                    test_size = .2,\n",
    "                                                    random_state=42)"
   ]
  },
  {
   "cell_type": "markdown",
   "metadata": {},
   "source": [
    "Summarize the class distribution of the target"
   ]
  },
  {
   "cell_type": "code",
   "execution_count": null,
   "metadata": {},
   "outputs": [],
   "source": [
    "counter = Counter(y_train)\n",
    "print(counter)"
   ]
  },
  {
   "cell_type": "markdown",
   "metadata": {},
   "source": [
    "### Oversample the minority class using SMOTE"
   ]
  },
  {
   "cell_type": "code",
   "execution_count": null,
   "metadata": {},
   "outputs": [],
   "source": [
    "smote = SMOTE(random_state=42) \n",
    "X_train_sm, y_train_sm = smote.fit_resample(X_train, y_train)"
   ]
  },
  {
   "cell_type": "markdown",
   "metadata": {},
   "source": [
    "Summarize the class distribution of the target after oversampling the minority class using the SMOTE algorithm."
   ]
  },
  {
   "cell_type": "code",
   "execution_count": null,
   "metadata": {},
   "outputs": [],
   "source": [
    "counter_resampled = Counter(y_train_sm) \n",
    "print(counter_resampled)"
   ]
  },
  {
   "cell_type": "markdown",
   "metadata": {},
   "source": [
    "### XGBoost Model"
   ]
  },
  {
   "cell_type": "markdown",
   "metadata": {},
   "source": [
    "Transform the re-sampled features to Dmatrix format"
   ]
  },
  {
   "cell_type": "code",
   "execution_count": null,
   "metadata": {},
   "outputs": [],
   "source": [
    "D_train = xgb.DMatrix(X_train_sm, label=y_train_sm)\n",
    "D_test = xgb.DMatrix(X_test, label=y_test)"
   ]
  },
  {
   "cell_type": "markdown",
   "metadata": {},
   "source": [
    "Define Parameters for XGBoost Model"
   ]
  },
  {
   "cell_type": "code",
   "execution_count": null,
   "metadata": {},
   "outputs": [],
   "source": [
    "param = {\n",
    "    'eta': 0.3, \n",
    "    'max_depth': 3,  \n",
    "    'objective': 'multi:softprob',  \n",
    "    'num_class': 3} \n",
    "\n",
    "steps = 20  # The number of training iterations"
   ]
  },
  {
   "cell_type": "code",
   "execution_count": null,
   "metadata": {},
   "outputs": [],
   "source": [
    "model = xgb.train(param, D_train, steps)"
   ]
  },
  {
   "cell_type": "markdown",
   "metadata": {},
   "source": [
    "#### XGBoost Model Scores"
   ]
  },
  {
   "cell_type": "code",
   "execution_count": null,
   "metadata": {
    "scrolled": false
   },
   "outputs": [],
   "source": [
    "preds = model.predict(D_test)\n",
    "best_preds = np.asarray([np.argmax(line) for line in preds]) ### explain\n",
    "\n",
    "print(\"Precision = {}\".format(precision_score(y_test, best_preds))) ## explain.. adjusting averag='macro' changes this.. look into more\n",
    "print(\"Recall = {}\".format(recall_score(y_test, best_preds))) ### explain\n",
    "print(\"F1-Score: Non-bulimia = {}\".format(f1_score(y_test, best_preds, pos_label=0)))\n",
    "print(\"F1-Score: Bulimia = {}\".format(f1_score(y_test, best_preds, pos_label=1)))\n",
    "print(\"Accuracy = {}\".format(accuracy_score(y_test, best_preds)))"
   ]
  },
  {
   "cell_type": "markdown",
   "metadata": {},
   "source": [
    "## Subreddit: Depression"
   ]
  },
  {
   "cell_type": "code",
   "execution_count": null,
   "metadata": {},
   "outputs": [],
   "source": [
    "y = df['subreddit_depression']"
   ]
  },
  {
   "cell_type": "code",
   "execution_count": null,
   "metadata": {},
   "outputs": [],
   "source": [
    "y.shape"
   ]
  },
  {
   "cell_type": "markdown",
   "metadata": {},
   "source": [
    "### train test split"
   ]
  },
  {
   "cell_type": "code",
   "execution_count": null,
   "metadata": {},
   "outputs": [],
   "source": [
    "X_train, X_test, y_train, y_test = train_test_split(X, y,\n",
    "                                                    test_size = .2,\n",
    "                                                    random_state=42)"
   ]
  },
  {
   "cell_type": "markdown",
   "metadata": {},
   "source": [
    "Summarize the class distribution of the target"
   ]
  },
  {
   "cell_type": "code",
   "execution_count": null,
   "metadata": {},
   "outputs": [],
   "source": [
    "counter = Counter(y_train)\n",
    "print(counter)"
   ]
  },
  {
   "cell_type": "markdown",
   "metadata": {},
   "source": [
    "### Oversample the minority class using SMOTE"
   ]
  },
  {
   "cell_type": "code",
   "execution_count": null,
   "metadata": {},
   "outputs": [],
   "source": [
    "smote = SMOTE(random_state=42) \n",
    "X_train_sm, y_train_sm = smote.fit_resample(X_train, y_train)"
   ]
  },
  {
   "cell_type": "markdown",
   "metadata": {},
   "source": [
    "Summarize the class distribution of the target after oversampling the minority class using the SMOTE algorithm."
   ]
  },
  {
   "cell_type": "code",
   "execution_count": null,
   "metadata": {},
   "outputs": [],
   "source": [
    "counter_resampled = Counter(y_train_sm) \n",
    "print(counter_resampled)"
   ]
  },
  {
   "cell_type": "markdown",
   "metadata": {},
   "source": [
    "### XGBoost Model"
   ]
  },
  {
   "cell_type": "markdown",
   "metadata": {},
   "source": [
    "Transform the re-sampled features to Dmatrix format"
   ]
  },
  {
   "cell_type": "code",
   "execution_count": null,
   "metadata": {},
   "outputs": [],
   "source": [
    "D_train = xgb.DMatrix(X_train_sm, label=y_train_sm)\n",
    "D_test = xgb.DMatrix(X_test, label=y_test)"
   ]
  },
  {
   "cell_type": "markdown",
   "metadata": {},
   "source": [
    "Define Parameters for XGBoost Model"
   ]
  },
  {
   "cell_type": "code",
   "execution_count": null,
   "metadata": {},
   "outputs": [],
   "source": [
    "param = {\n",
    "    'eta': 0.3, \n",
    "    'max_depth': 3,  \n",
    "    'objective': 'multi:softprob',  \n",
    "    'num_class': 3} \n",
    "\n",
    "steps = 20  # The number of training iterations"
   ]
  },
  {
   "cell_type": "code",
   "execution_count": null,
   "metadata": {},
   "outputs": [],
   "source": [
    "model = xgb.train(param, D_train, steps)"
   ]
  },
  {
   "cell_type": "markdown",
   "metadata": {},
   "source": [
    "#### XGBoost Model Scores"
   ]
  },
  {
   "cell_type": "code",
   "execution_count": null,
   "metadata": {
    "scrolled": true
   },
   "outputs": [],
   "source": [
    "preds = model.predict(D_test)\n",
    "best_preds = np.asarray([np.argmax(line) for line in preds]) ### explain\n",
    "\n",
    "print(\"Precision = {}\".format(precision_score(y_test, best_preds))) ## explain.. adjusting averag='macro' changes this.. look into more\n",
    "print(\"Recall = {}\".format(recall_score(y_test, best_preds))) ### explain\n",
    "print(\"F1-Score: Non-depression = {}\".format(f1_score(y_test, best_preds, pos_label=0)))\n",
    "print(\"F1-Score: Depression = {}\".format(f1_score(y_test, best_preds, pos_label=1)))\n",
    "print(\"Accuracy = {}\".format(accuracy_score(y_test, best_preds)))"
   ]
  },
  {
   "cell_type": "markdown",
   "metadata": {},
   "source": [
    "## Subreddit: Schizophrenia"
   ]
  },
  {
   "cell_type": "code",
   "execution_count": null,
   "metadata": {},
   "outputs": [],
   "source": [
    "y = df['subreddit_schizophrenia']"
   ]
  },
  {
   "cell_type": "code",
   "execution_count": null,
   "metadata": {},
   "outputs": [],
   "source": [
    "y.shape"
   ]
  },
  {
   "cell_type": "markdown",
   "metadata": {},
   "source": [
    "### train test split"
   ]
  },
  {
   "cell_type": "code",
   "execution_count": null,
   "metadata": {},
   "outputs": [],
   "source": [
    "X_train, X_test, y_train, y_test = train_test_split(X, y,\n",
    "                                                    test_size = .2,\n",
    "                                                    random_state=42)"
   ]
  },
  {
   "cell_type": "markdown",
   "metadata": {},
   "source": [
    "Summarize the class distribution of the target"
   ]
  },
  {
   "cell_type": "code",
   "execution_count": null,
   "metadata": {},
   "outputs": [],
   "source": [
    "counter = Counter(y_train)\n",
    "print(counter)"
   ]
  },
  {
   "cell_type": "markdown",
   "metadata": {},
   "source": [
    "### Oversample the minority class using SMOTE"
   ]
  },
  {
   "cell_type": "code",
   "execution_count": null,
   "metadata": {},
   "outputs": [],
   "source": [
    "smote = SMOTE(random_state=42) \n",
    "X_train_sm, y_train_sm = smote.fit_resample(X_train, y_train)"
   ]
  },
  {
   "cell_type": "markdown",
   "metadata": {},
   "source": [
    "Summarize the class distribution of the target after oversampling the minority class using the SMOTE algorithm."
   ]
  },
  {
   "cell_type": "code",
   "execution_count": null,
   "metadata": {},
   "outputs": [],
   "source": [
    "counter_resampled = Counter(y_train_sm) \n",
    "print(counter_resampled)"
   ]
  },
  {
   "cell_type": "markdown",
   "metadata": {},
   "source": [
    "### XGBoost Model"
   ]
  },
  {
   "cell_type": "markdown",
   "metadata": {},
   "source": [
    "Transform the re-sampled features to Dmatrix format"
   ]
  },
  {
   "cell_type": "code",
   "execution_count": null,
   "metadata": {},
   "outputs": [],
   "source": [
    "D_train = xgb.DMatrix(X_train_sm, label=y_train_sm)\n",
    "D_test = xgb.DMatrix(X_test, label=y_test)"
   ]
  },
  {
   "cell_type": "markdown",
   "metadata": {},
   "source": [
    "Define Parameters for XGBoost Model"
   ]
  },
  {
   "cell_type": "code",
   "execution_count": null,
   "metadata": {},
   "outputs": [],
   "source": [
    "param = {\n",
    "    'eta': 0.3, \n",
    "    'max_depth': 3,  \n",
    "    'objective': 'multi:softprob',  \n",
    "    'num_class': 3} \n",
    "\n",
    "steps = 20  # The number of training iterations"
   ]
  },
  {
   "cell_type": "code",
   "execution_count": null,
   "metadata": {},
   "outputs": [],
   "source": [
    "model = xgb.train(param, D_train, steps)"
   ]
  },
  {
   "cell_type": "markdown",
   "metadata": {},
   "source": [
    "#### XGBoost Model Scores"
   ]
  },
  {
   "cell_type": "code",
   "execution_count": null,
   "metadata": {
    "scrolled": true
   },
   "outputs": [],
   "source": [
    "preds = model.predict(D_test)\n",
    "best_preds = np.asarray([np.argmax(line) for line in preds]) ### explain\n",
    "\n",
    "print(\"Precision = {}\".format(precision_score(y_test, best_preds))) ## explain.. adjusting averag='macro' changes this.. look into more\n",
    "print(\"Recall = {}\".format(recall_score(y_test, best_preds))) ### explain\n",
    "print(\"F1-Score: Non-schizophrenia = {}\".format(f1_score(y_test, best_preds, pos_label=0)))\n",
    "print(\"F1-Score: Schizophrenia = {}\".format(f1_score(y_test, best_preds, pos_label=1)))\n",
    "print(\"Accuracy = {}\".format(accuracy_score(y_test, best_preds)))"
   ]
  },
  {
   "cell_type": "markdown",
   "metadata": {},
   "source": [
    "# Try XGBoost with all classes in model"
   ]
  },
  {
   "cell_type": "code",
   "execution_count": null,
   "metadata": {},
   "outputs": [],
   "source": []
  },
  {
   "cell_type": "code",
   "execution_count": null,
   "metadata": {},
   "outputs": [],
   "source": []
  },
  {
   "cell_type": "code",
   "execution_count": null,
   "metadata": {},
   "outputs": [],
   "source": []
  }
 ],
 "metadata": {
  "kernelspec": {
   "display_name": "Python 3",
   "language": "python",
   "name": "python3"
  },
  "language_info": {
   "codemirror_mode": {
    "name": "ipython",
    "version": 3
   },
   "file_extension": ".py",
   "mimetype": "text/x-python",
   "name": "python",
   "nbconvert_exporter": "python",
   "pygments_lexer": "ipython3",
   "version": "3.7.4"
  },
  "toc": {
   "base_numbering": 1,
   "nav_menu": {},
   "number_sections": true,
   "sideBar": true,
   "skip_h1_title": false,
   "title_cell": "Table of Contents",
   "title_sidebar": "Contents",
   "toc_cell": false,
   "toc_position": {},
   "toc_section_display": true,
   "toc_window_display": false
  }
 },
 "nbformat": 4,
 "nbformat_minor": 2
}
