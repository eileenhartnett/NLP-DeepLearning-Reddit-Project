{
 "cells": [
  {
   "cell_type": "markdown",
   "metadata": {},
   "source": [
    "# NLP, DeepLearning, & Reddit Project: Scrape Data"
   ]
  },
  {
   "cell_type": "markdown",
   "metadata": {},
   "source": [
    "**Background**: \n",
    "Having a mental health issue can be a confusing and isolating experience. One way individuals seek information and support is through social media forums such as Reddit. People often share their emotions looking for connection or somewhere to just voice their feelings. This presents an opportunity for researchers to learn more about how those with emotional pain and/or a psychiatric illness may reach out for help, what words they use, and what type of language is more characteristic of one illness over another. The use of NLP in analyzing support communities for psychiatric illness can help us gain insight into hard to understand diseases in order to offer better support for patients."
   ]
  },
  {
   "cell_type": "markdown",
   "metadata": {},
   "source": [
    "**Problem Statement**: \n",
    "Building on a previous project using Natural Language Processing (NLP) to analyze texts from two subreddits r/Anorexia and r/Bulimia and further inspired by a *Nature*  Scientific Report paper titled \"A deep learning model for detecting mental illness from user content on social media\", this project aims to employ a Convolutional Neural Network (CNN) classification model  based on user comments from Reddit to identify whether a user's post belongs to a mental illness subreddit category."
   ]
  },
  {
   "cell_type": "markdown",
   "metadata": {},
   "source": [
    "**Research Questions**: \n",
    "- Can we identify whether a user's post belongs to a mental illness subreddit category? \n",
    "- How have posts changed pre and post onset of covid-19?\n",
    "- Which mental illness category seems to have changed the most? \n",
    "\n",
    "TO DO -\n",
    "- Mention the motivation behind including eating disorders categories, and reference the MIT article"
   ]
  },
  {
   "cell_type": "markdown",
   "metadata": {},
   "source": [
    "**Plan**:\n",
    "Scrape data from the following subreddits: \n",
    "- r/mentalhealth\n",
    "- r/depression\n",
    "- r/Anxiety\n",
    "- r/bipolar\n",
    "- r/BPD\n",
    "- r/schizophrenia\n",
    "- r/autism\n",
    "- r/AnorexiaNervosa\n",
    "- r/Bulimia\n",
    "\n",
    "EDA\n",
    "\n",
    "Prepare Data for NLP\n",
    "\n",
    "Model\n",
    "\n",
    "Check pre vs post covid results"
   ]
  },
  {
   "cell_type": "markdown",
   "metadata": {},
   "source": [
    "### Progress check in "
   ]
  },
  {
   "cell_type": "markdown",
   "metadata": {},
   "source": [
    "Requirements\n",
    "The actual deliverable for this section is fairly small. You are expected to submit a progress report detailing where you are with your Capstone. The format and content is up to you but, at a minimum, we expect the following:\n",
    "\n",
    "Do you have data fully in hand and if not, what blockers are you facing?\n",
    "- Yes \n",
    "\n",
    "Have you done a full EDA on all of your data?\n",
    "- Not full EDA\n",
    "    - started EDA but ran into various things I need to address:\n",
    "        - 1) Remove duplicates\n",
    "        - 2) Compare dates/time frame for both dataframes\n",
    "        \n",
    "        \n",
    "Have you begun the modeling process? How accurate are your predictions so far?\n",
    "- No\n",
    "\n",
    "\n",
    "What blockers are you facing, including processing power, data acquisition, modeling difficulties, data cleaning, etc.? How can we help you overcome those challenges?\n",
    "\n",
    "- I may want to use AWS depending how model processing gos, will reach out via office hours next week (week of March 1)\n",
    "\n",
    "Have you changed topics since your lightning talk? Since you submitted your Problem Statement? If so, do you have the necessary data in hand (and the requisite EDA completed) to continue moving forward?\n",
    "- I've stayed with the same topic since last week\n",
    "\n",
    "\n",
    "What is your timeline for the next week and a half? What do you have to get done versus what would you like to get done?\n",
    "\n",
    "**Week of March 1**\n",
    "- Have all initial EDA, cleaning, prepare data for nlp, and more EDA completed by Tuesday night\n",
    "- Wednesday and Thursday work on models\n",
    "    - sign up for office hours to make sure modeling is done correctly\n",
    "    - ask about AWS or Spark if I think these would be helpful after initial modeling\n",
    "\n",
    "\n",
    "What topics do you want to discuss during your 1:1?\n",
    "\n",
    "- What would be the benefits of using pyspark or AWS? \n",
    "\n",
    "We will use your progress report as a leaping off point for a deep 1:1 with a member of the instructional staff. The best use of your time is to really flesh out this document so that your remaining time here can be most productive.\n",
    "\n",
    "The deadline for this deliverable can be found on the course-info page.\n",
    "\n",
    "\n",
    "**EDA Guidelines**\n",
    "Think about the following as you perform your initial EDA.\n",
    "\n",
    "Identify the data types you are working with.\n",
    "Examine the distributions of your data, numerically and/or visually.\n",
    "Identify outliers.\n",
    "Identify missing data and look for patterns of missing data.\n",
    "Describe how your EDA will inform your modeling decisions and process.\n",
    "\n",
    "\n",
    "Necessary Deliverables / Submission\n",
    "Your progress report (touching on the points above) submitted to your local instructor."
   ]
  },
  {
   "cell_type": "markdown",
   "metadata": {},
   "source": [
    "**TO DO:**\n",
    "\n",
    "- Clean up data further by removing duplicate files\n",
    "- Prepare data for NLP (tokenize, lemmatize, etc.)\n",
    "- Model\n",
    "- Ask for help\n"
   ]
  },
  {
   "cell_type": "code",
   "execution_count": null,
   "metadata": {},
   "outputs": [],
   "source": []
  },
  {
   "cell_type": "code",
   "execution_count": null,
   "metadata": {},
   "outputs": [],
   "source": []
  },
  {
   "cell_type": "code",
   "execution_count": null,
   "metadata": {},
   "outputs": [],
   "source": []
  }
 ],
 "metadata": {
  "kernelspec": {
   "display_name": "Python 3",
   "language": "python",
   "name": "python3"
  },
  "language_info": {
   "codemirror_mode": {
    "name": "ipython",
    "version": 3
   },
   "file_extension": ".py",
   "mimetype": "text/x-python",
   "name": "python",
   "nbconvert_exporter": "python",
   "pygments_lexer": "ipython3",
   "version": "3.7.4"
  },
  "toc": {
   "base_numbering": 1,
   "nav_menu": {},
   "number_sections": true,
   "sideBar": true,
   "skip_h1_title": false,
   "title_cell": "Table of Contents",
   "title_sidebar": "Contents",
   "toc_cell": false,
   "toc_position": {},
   "toc_section_display": true,
   "toc_window_display": false
  }
 },
 "nbformat": 4,
 "nbformat_minor": 2
}
