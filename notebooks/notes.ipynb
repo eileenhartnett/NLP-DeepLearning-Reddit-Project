{
 "cells": [
  {
   "cell_type": "markdown",
   "metadata": {},
   "source": [
    "# NLP, DeepLearning, & Reddit Project: Scrape Data"
   ]
  },
  {
   "cell_type": "markdown",
   "metadata": {},
   "source": [
    "**Background**: \n",
    "Having a mental health issue can be a confusing and isolating experience. One way individuals seek information and support is through social media forums such as Reddit. People often share their emotions looking for connection or somewhere to just voice their feelings. This presents an opportunity for researchers to learn more about how those with emotional pain and/or a psychiatric illness may reach out for help, what words they use, and what type of language is more characteristic of one illness over another. The use of NLP in analyzing support communities for psychiatric illness can help us gain insight into hard to understand diseases in order to offer better support for patients."
   ]
  },
  {
   "cell_type": "markdown",
   "metadata": {},
   "source": [
    "**Problem Statement**: \n",
    "Building on a previous project using Natural Language Processing (NLP) to analyze texts from two subreddits r/Anorexia and r/Bulimia and further inspired by a *Nature*  Scientific Report paper titled \"A deep learning model for detecting mental illness from user content on social media\", this project aims to employ a Convolutional Neural Network (CNN) classification model  based on user comments from Reddit to identify whether a user's post belongs to a mental illness subreddit category."
   ]
  },
  {
   "cell_type": "markdown",
   "metadata": {},
   "source": [
    "**Research Questions**: \n",
    "- Can we identify whether a user's post belongs to a mental illness subreddit category? \n",
    "- How have posts changed pre and post onset of covid-19?\n",
    "- Which mental illness category seems to have changed the most? \n",
    "\n",
    "TO DO -\n",
    "- Mention the motivation behind including eating disorders categories, and reference the MIT article"
   ]
  },
  {
   "cell_type": "markdown",
   "metadata": {},
   "source": [
    "**Plan**:\n",
    "Scrape data from the following subreddits: \n",
    "- r/mentalhealth\n",
    "- r/depression\n",
    "- r/Anxiety\n",
    "- r/bipolar\n",
    "- r/BPD\n",
    "- r/schizophrenia\n",
    "- r/autism\n",
    "- r/AnorexiaNervosa\n",
    "- r/Bulimia\n",
    "\n",
    "Start with 4000(?) comments for each subreddit, 2000 pre and 2000 post covid onset\n",
    "- !! May want more files - Can or should I use a cloud for this if my computer doesn't have enough storage?\n",
    "- the Nature article had a lot more, but my model from the previous project had a high accuracy score with only 2000 comments\n",
    "- This could be too much data for my computer to handle\n",
    "- May need more from the r/mentalhealth subreddit... come back to this"
   ]
  },
  {
   "cell_type": "markdown",
   "metadata": {},
   "source": [
    "- TO DO: Comment code more to explain function - save function as script???????\n",
    "- Edit function that returns data frame to anonymize df within function... \n",
    "- Edit function to collect data based on UTC, find out what the utc is for pre-Feb 2020\n",
    "- Change 'created_UTC' into a date "
   ]
  },
  {
   "cell_type": "code",
   "execution_count": null,
   "metadata": {},
   "outputs": [],
   "source": []
  }
 ],
 "metadata": {
  "kernelspec": {
   "display_name": "Python 3",
   "language": "python",
   "name": "python3"
  },
  "language_info": {
   "codemirror_mode": {
    "name": "ipython",
    "version": 3
   },
   "file_extension": ".py",
   "mimetype": "text/x-python",
   "name": "python",
   "nbconvert_exporter": "python",
   "pygments_lexer": "ipython3",
   "version": "3.7.4"
  },
  "toc": {
   "base_numbering": 1,
   "nav_menu": {},
   "number_sections": true,
   "sideBar": true,
   "skip_h1_title": false,
   "title_cell": "Table of Contents",
   "title_sidebar": "Contents",
   "toc_cell": false,
   "toc_position": {},
   "toc_section_display": true,
   "toc_window_display": false
  }
 },
 "nbformat": 4,
 "nbformat_minor": 2
}
