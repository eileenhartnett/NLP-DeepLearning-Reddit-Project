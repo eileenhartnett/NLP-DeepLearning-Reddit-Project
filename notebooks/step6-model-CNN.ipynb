{
 "cells": [
  {
   "cell_type": "markdown",
   "metadata": {},
   "source": [
    "# Model - Convolutional Neural Network"
   ]
  },
  {
   "cell_type": "markdown",
   "metadata": {},
   "source": [
    "In the case of the CNN classifier, we applied word-embedding procedures\n",
    "from the pre-processed texts using the word2vec API of Python Package, Gensim. The word vectors were pretrained\n",
    "with the training dataset collected for the current study with continuous bag-of-words representation\n",
    "(CBOW) models, while the size of window was set to five. Note that by using the pre-trained word2vec model\n",
    "for representing each post for each subreddit, a language style used by users who write posts in a subreddit can\n",
    "be trained for the specific subreddit."
   ]
  },
  {
   "cell_type": "markdown",
   "metadata": {},
   "source": [
    "##### Import libraries"
   ]
  },
  {
   "cell_type": "code",
   "execution_count": 1,
   "metadata": {},
   "outputs": [],
   "source": [
    "import pandas as pd\n",
    "import numpy as np\n",
    "\n",
    "import matplotlib.pyplot as plt\n",
    "\n",
    "from sklearn.model_selection import train_test_split\n",
    "\n",
    "# For handling imbalanced classes\n",
    "from collections import Counter\n",
    "from imblearn.over_sampling import SMOTE\n",
    "\n",
    "from keras.preprocessing.text import Tokenizer\n",
    "from keras.preprocessing.sequence import pad_sequences\n",
    "\n",
    "import keras\n",
    "from keras.models import Sequential\n",
    "from keras.layers import Flatten, Dense, Embedding\n",
    "from keras.layers import Embedding\n",
    "from keras.layers import Dropout\n",
    "from keras.layers.convolutional import Conv1D\n",
    "from keras.layers.convolutional import MaxPooling1D"
   ]
  },
  {
   "cell_type": "markdown",
   "metadata": {},
   "source": [
    "##### Load data"
   ]
  },
  {
   "cell_type": "code",
   "execution_count": 2,
   "metadata": {},
   "outputs": [],
   "source": [
    "posts = pd.read_csv('../data/posts-preprocessed.csv')"
   ]
  },
  {
   "cell_type": "code",
   "execution_count": 3,
   "metadata": {},
   "outputs": [
    {
     "data": {
      "text/html": [
       "<div>\n",
       "<style scoped>\n",
       "    .dataframe tbody tr th:only-of-type {\n",
       "        vertical-align: middle;\n",
       "    }\n",
       "\n",
       "    .dataframe tbody tr th {\n",
       "        vertical-align: top;\n",
       "    }\n",
       "\n",
       "    .dataframe thead th {\n",
       "        text-align: right;\n",
       "    }\n",
       "</style>\n",
       "<table border=\"1\" class=\"dataframe\">\n",
       "  <thead>\n",
       "    <tr style=\"text-align: right;\">\n",
       "      <th></th>\n",
       "      <th>author</th>\n",
       "      <th>created_utc</th>\n",
       "      <th>subreddit</th>\n",
       "      <th>timeframe</th>\n",
       "      <th>text_clean</th>\n",
       "      <th>sent_tokens</th>\n",
       "      <th>word_tokens</th>\n",
       "    </tr>\n",
       "  </thead>\n",
       "  <tbody>\n",
       "    <tr>\n",
       "      <td>0</td>\n",
       "      <td>sub30605</td>\n",
       "      <td>1499390694</td>\n",
       "      <td>bulimia</td>\n",
       "      <td>pre-covid</td>\n",
       "      <td>chest anyone else experience chest purging kno...</td>\n",
       "      <td>['chest anyone else experience chest purging k...</td>\n",
       "      <td>['chest', 'anyone', 'else', 'experience', 'che...</td>\n",
       "    </tr>\n",
       "  </tbody>\n",
       "</table>\n",
       "</div>"
      ],
      "text/plain": [
       "     author  created_utc subreddit  timeframe  \\\n",
       "0  sub30605   1499390694   bulimia  pre-covid   \n",
       "\n",
       "                                          text_clean  \\\n",
       "0  chest anyone else experience chest purging kno...   \n",
       "\n",
       "                                         sent_tokens  \\\n",
       "0  ['chest anyone else experience chest purging k...   \n",
       "\n",
       "                                         word_tokens  \n",
       "0  ['chest', 'anyone', 'else', 'experience', 'che...  "
      ]
     },
     "execution_count": 3,
     "metadata": {},
     "output_type": "execute_result"
    }
   ],
   "source": [
    "posts.head(1)"
   ]
  },
  {
   "cell_type": "markdown",
   "metadata": {},
   "source": [
    "##### Binarize targets using get_dummies"
   ]
  },
  {
   "cell_type": "markdown",
   "metadata": {},
   "source": [
    "Will use each subreddit as target (except mental health)"
   ]
  },
  {
   "cell_type": "code",
   "execution_count": 4,
   "metadata": {},
   "outputs": [],
   "source": [
    "posts = pd.get_dummies(posts, columns=['subreddit'])"
   ]
  },
  {
   "cell_type": "code",
   "execution_count": 5,
   "metadata": {},
   "outputs": [],
   "source": [
    "posts.drop(columns='subreddit_mentalhealth', inplace = True)"
   ]
  },
  {
   "cell_type": "markdown",
   "metadata": {},
   "source": [
    "### Tokenizing the raw text\n",
    "\n",
    "We will vectorize the text and prepare a training and validation split"
   ]
  },
  {
   "cell_type": "code",
   "execution_count": 7,
   "metadata": {},
   "outputs": [],
   "source": [
    "texts = posts['text_clean']"
   ]
  },
  {
   "cell_type": "code",
   "execution_count": 8,
   "metadata": {},
   "outputs": [],
   "source": [
    "maxlen = 1000 # Cuts off posts after 500 words\n",
    "max_words = 10_000 # Considers only the top 10,00 words in the dataset"
   ]
  },
  {
   "cell_type": "code",
   "execution_count": 9,
   "metadata": {},
   "outputs": [],
   "source": [
    "tokenizer = Tokenizer(num_words = max_words)\n",
    "tokenizer.fit_on_texts(texts)\n",
    "sequences = tokenizer.texts_to_sequences(texts)"
   ]
  },
  {
   "cell_type": "code",
   "execution_count": 10,
   "metadata": {},
   "outputs": [
    {
     "name": "stdout",
     "output_type": "stream",
     "text": [
      "Found 21894 unique tokens.\n"
     ]
    }
   ],
   "source": [
    "word_index = tokenizer.word_index\n",
    "print('Found %s unique tokens.' % len(word_index))"
   ]
  },
  {
   "cell_type": "code",
   "execution_count": 11,
   "metadata": {},
   "outputs": [],
   "source": [
    "data = pad_sequences(sequences, maxlen=maxlen)"
   ]
  },
  {
   "cell_type": "markdown",
   "metadata": {},
   "source": [
    "### Parcing the word2vec embeddings File"
   ]
  },
  {
   "cell_type": "code",
   "execution_count": 12,
   "metadata": {},
   "outputs": [],
   "source": [
    "labels = posts['subreddit_Anxiety']"
   ]
  },
  {
   "cell_type": "code",
   "execution_count": 13,
   "metadata": {},
   "outputs": [
    {
     "name": "stdout",
     "output_type": "stream",
     "text": [
      "Shape of data: (84879, 1000)\n",
      "Shape of label: (84879,)\n"
     ]
    }
   ],
   "source": [
    "labels = np.asarray(labels)\n",
    "print('Shape of data:', data.shape)\n",
    "print('Shape of label:', labels.shape)"
   ]
  },
  {
   "cell_type": "markdown",
   "metadata": {},
   "source": [
    "We will first use the previously created word2vec embeddings"
   ]
  },
  {
   "cell_type": "markdown",
   "metadata": {},
   "source": [
    "#### Parsing the word-embeddings files"
   ]
  },
  {
   "cell_type": "code",
   "execution_count": 14,
   "metadata": {},
   "outputs": [
    {
     "name": "stdout",
     "output_type": "stream",
     "text": [
      "Found 12263 word vecotrs.\n"
     ]
    }
   ],
   "source": [
    "# The embeddings text file is in the current directory\n",
    "\n",
    "embeddings_index = {}\n",
    "\n",
    "f = open('embedding_word2vec.txt')\n",
    "\n",
    "for line in f:\n",
    "    values = line.split()\n",
    "    word = values[0]\n",
    "    coefs = np.asarray(values[1:], dtype='float32')\n",
    "    embeddings_index[word] = coefs\n",
    "f.close()\n",
    "\n",
    "print('Found %s word vecotrs.' % len(embeddings_index))"
   ]
  },
  {
   "cell_type": "markdown",
   "metadata": {},
   "source": [
    "#### Preparing the word-embeddings matrix"
   ]
  },
  {
   "cell_type": "code",
   "execution_count": 15,
   "metadata": {},
   "outputs": [],
   "source": [
    "embedding_dim = 100\n",
    "\n",
    "embedding_matrix = np.zeros((max_words, embedding_dim))\n",
    "\n",
    "for word, i in word_index.items():\n",
    "    if i < max_words:\n",
    "        embedding_vector = embeddings_index.get(word)\n",
    "        if embedding_vector is not None:\n",
    "            embedding_matrix[i] = embedding_vector # Words not found in the embedding index will be all zeros"
   ]
  },
  {
   "cell_type": "markdown",
   "metadata": {},
   "source": [
    "# Subreddit: Anxiety"
   ]
  },
  {
   "cell_type": "markdown",
   "metadata": {},
   "source": [
    "#### Train test split"
   ]
  },
  {
   "cell_type": "code",
   "execution_count": 16,
   "metadata": {},
   "outputs": [],
   "source": [
    "X_train, X_test, y_train, y_test = train_test_split(data, labels, \n",
    "                                                    test_size = .2,\n",
    "                                                    random_state=42)"
   ]
  },
  {
   "cell_type": "code",
   "execution_count": 17,
   "metadata": {},
   "outputs": [],
   "source": [
    "smote = SMOTE(random_state=42) \n",
    "X_train_sm, y_train_sm = smote.fit_resample(X_train, y_train)"
   ]
  },
  {
   "cell_type": "markdown",
   "metadata": {},
   "source": [
    "#### Defining a model"
   ]
  },
  {
   "cell_type": "code",
   "execution_count": 18,
   "metadata": {},
   "outputs": [
    {
     "name": "stdout",
     "output_type": "stream",
     "text": [
      "Model: \"sequential\"\n",
      "_________________________________________________________________\n",
      "Layer (type)                 Output Shape              Param #   \n",
      "=================================================================\n",
      "embedding (Embedding)        (None, 1000, 100)         1000000   \n",
      "_________________________________________________________________\n",
      "flatten (Flatten)            (None, 100000)            0         \n",
      "_________________________________________________________________\n",
      "dense (Dense)                (None, 32)                3200032   \n",
      "_________________________________________________________________\n",
      "dense_1 (Dense)              (None, 1)                 33        \n",
      "=================================================================\n",
      "Total params: 4,200,065\n",
      "Trainable params: 4,200,065\n",
      "Non-trainable params: 0\n",
      "_________________________________________________________________\n"
     ]
    }
   ],
   "source": [
    "model = Sequential()\n",
    "model.add(Embedding(max_words, embedding_dim, input_length=maxlen))\n",
    "model.add(Flatten())\n",
    "model.add(Dense(32, activation='relu'))\n",
    "model.add(Dense(1, activation='sigmoid'))\n",
    "model.summary()"
   ]
  },
  {
   "cell_type": "markdown",
   "metadata": {},
   "source": [
    "#### Loading the embeddings in the model"
   ]
  },
  {
   "cell_type": "markdown",
   "metadata": {},
   "source": [
    "The Embedding layer has a single weight matrix: a 2D float matrix where each entry i is the word vector meant to be associated with the index i. \n",
    "\n",
    "We will load the Word2Vec matrix we prepared iinto the Embedding layer, the first layer in the model - "
   ]
  },
  {
   "cell_type": "code",
   "execution_count": 19,
   "metadata": {},
   "outputs": [],
   "source": [
    "model.layers[0].set_weights([embedding_matrix])\n",
    "model.layers[0].trainable = False # this freezes the embedding layer as to not \n",
    "                                  # be updated during training and forget what they already know"
   ]
  },
  {
   "cell_type": "markdown",
   "metadata": {},
   "source": [
    "#### Training and evaluating the model"
   ]
  },
  {
   "cell_type": "markdown",
   "metadata": {},
   "source": [
    "Compile and train the model."
   ]
  },
  {
   "cell_type": "markdown",
   "metadata": {},
   "source": [
    "##### Training and evaluation"
   ]
  },
  {
   "cell_type": "code",
   "execution_count": 20,
   "metadata": {},
   "outputs": [
    {
     "name": "stdout",
     "output_type": "stream",
     "text": [
      "Epoch 1/10\n",
      "3772/3772 [==============================] - 29s 8ms/step - loss: 0.4986 - acc: 0.7594 - val_loss: 0.4660 - val_acc: 0.7933\n",
      "Epoch 2/10\n",
      "3772/3772 [==============================] - 29s 8ms/step - loss: 0.3059 - acc: 0.8686 - val_loss: 0.5231 - val_acc: 0.7730\n",
      "Epoch 3/10\n",
      "3772/3772 [==============================] - 29s 8ms/step - loss: 0.2208 - acc: 0.9087 - val_loss: 0.6172 - val_acc: 0.7750\n",
      "Epoch 4/10\n",
      "3772/3772 [==============================] - 30s 8ms/step - loss: 0.1639 - acc: 0.9340 - val_loss: 0.7397 - val_acc: 0.7724\n",
      "Epoch 5/10\n",
      "3772/3772 [==============================] - 30s 8ms/step - loss: 0.1270 - acc: 0.9493 - val_loss: 0.9791 - val_acc: 0.7508\n",
      "Epoch 6/10\n",
      "3772/3772 [==============================] - 30s 8ms/step - loss: 0.1029 - acc: 0.9605 - val_loss: 1.0456 - val_acc: 0.7716\n",
      "Epoch 7/10\n",
      "3772/3772 [==============================] - 31s 8ms/step - loss: 0.0849 - acc: 0.9675 - val_loss: 1.1986 - val_acc: 0.7686\n",
      "Epoch 8/10\n",
      "3772/3772 [==============================] - 31s 8ms/step - loss: 0.0742 - acc: 0.9716 - val_loss: 1.3039 - val_acc: 0.7686\n",
      "Epoch 9/10\n",
      "3772/3772 [==============================] - 31s 8ms/step - loss: 0.0646 - acc: 0.9757 - val_loss: 1.4860 - val_acc: 0.7560\n",
      "Epoch 10/10\n",
      "3772/3772 [==============================] - 31s 8ms/step - loss: 0.0583 - acc: 0.9779 - val_loss: 1.6128 - val_acc: 0.7462\n"
     ]
    }
   ],
   "source": [
    "model.compile(optimizer = 'adam',\n",
    "             loss = 'binary_crossentropy',\n",
    "             metrics = ['acc'])\n",
    "\n",
    "history = model.fit(X_train_sm, \n",
    "                    y_train_sm,\n",
    "                   epochs = 10,\n",
    "                   batch_size = 32,\n",
    "                   validation_data = (X_test, y_test))\n",
    "\n",
    "#model.save_weights('model1.h5')"
   ]
  },
  {
   "cell_type": "markdown",
   "metadata": {},
   "source": [
    "##### Plotting the results"
   ]
  },
  {
   "cell_type": "code",
   "execution_count": 21,
   "metadata": {
    "scrolled": true
   },
   "outputs": [
    {
     "data": {
      "image/png": "[encoded data removed]",
      "text/plain": [
       "<Figure size 864x576 with 1 Axes>"
      ]
     },
     "metadata": {
      "needs_background": "light"
     },
     "output_type": "display_data"
    }
   ],
   "source": [
    "# Check out our train loss and test loss over epochs.\n",
    "train_loss = history.history['loss']\n",
    "test_loss = history.history['val_loss']\n",
    "epoch_labels = history.epoch\n",
    "\n",
    "# Set figure size.\n",
    "plt.figure(figsize=(12, 8))\n",
    "\n",
    "# Generate line plot of training, testing loss over epochs.\n",
    "plt.plot(train_loss, label='Training Loss', color='#185fad')\n",
    "plt.plot(test_loss, label='Testing Loss', color='orange')\n",
    "\n",
    "# Set title\n",
    "plt.title('Training and Testing Loss by Epoch', fontsize=25)\n",
    "plt.xlabel('Epoch', fontsize=18)\n",
    "plt.ylabel('Categorical Crossentropy', fontsize=18)\n",
    "plt.xticks(epoch_labels, epoch_labels)    # ticks, labels\n",
    "\n",
    "plt.legend(fontsize=18);\n"
   ]
  },
  {
   "cell_type": "code",
   "execution_count": 22,
   "metadata": {},
   "outputs": [
    {
     "name": "stdout",
     "output_type": "stream",
     "text": [
      "2122/2122 [==============================] - 6s 3ms/step - loss: 0.0611 - acc: 0.9782\n"
     ]
    }
   ],
   "source": [
    "# Evaluate model on test data.\n",
    "cnn1_score = model.evaluate(X_train,\n",
    "                               y_train,\n",
    "                               verbose=1)\n",
    "\n",
    "cnn1_labels = model.metrics_names"
   ]
  },
  {
   "cell_type": "code",
   "execution_count": 23,
   "metadata": {},
   "outputs": [
    {
     "name": "stdout",
     "output_type": "stream",
     "text": [
      "CNN loss  : 0.06111442297697067\n",
      "CNN acc   : 0.9782041907310486\n",
      "\n"
     ]
    }
   ],
   "source": [
    "print(f'CNN {cnn1_labels[0]}  : {cnn1_score[0]}')\n",
    "print(f'CNN {cnn1_labels[1]}   : {cnn1_score[1]}')\n",
    "print()"
   ]
  },
  {
   "cell_type": "markdown",
   "metadata": {},
   "source": [
    "# Subreddit: Anorexia Nervosa"
   ]
  },
  {
   "cell_type": "code",
   "execution_count": 24,
   "metadata": {},
   "outputs": [],
   "source": [
    "labels = posts['subreddit_AnorexiaNervosa']"
   ]
  },
  {
   "cell_type": "markdown",
   "metadata": {},
   "source": [
    "#### Train test split"
   ]
  },
  {
   "cell_type": "code",
   "execution_count": 25,
   "metadata": {},
   "outputs": [],
   "source": [
    "X_train, X_test, y_train, y_test = train_test_split(data, labels, \n",
    "                                                    test_size = .2,\n",
    "                                                    random_state=42)"
   ]
  },
  {
   "cell_type": "code",
   "execution_count": 26,
   "metadata": {},
   "outputs": [],
   "source": [
    "smote = SMOTE(random_state=42) \n",
    "X_train_sm, y_train_sm = smote.fit_resample(X_train, y_train)"
   ]
  },
  {
   "cell_type": "markdown",
   "metadata": {},
   "source": [
    "#### Defining a model"
   ]
  },
  {
   "cell_type": "code",
   "execution_count": 27,
   "metadata": {},
   "outputs": [
    {
     "name": "stdout",
     "output_type": "stream",
     "text": [
      "Model: \"sequential_1\"\n",
      "_________________________________________________________________\n",
      "Layer (type)                 Output Shape              Param #   \n",
      "=================================================================\n",
      "embedding_1 (Embedding)      (None, 1000, 100)         1000000   \n",
      "_________________________________________________________________\n",
      "flatten_1 (Flatten)          (None, 100000)            0         \n",
      "_________________________________________________________________\n",
      "dense_2 (Dense)              (None, 32)                3200032   \n",
      "_________________________________________________________________\n",
      "dense_3 (Dense)              (None, 1)                 33        \n",
      "=================================================================\n",
      "Total params: 4,200,065\n",
      "Trainable params: 4,200,065\n",
      "Non-trainable params: 0\n",
      "_________________________________________________________________\n"
     ]
    }
   ],
   "source": [
    "model2 = Sequential()\n",
    "model2.add(Embedding(max_words, embedding_dim, input_length=maxlen))\n",
    "model2.add(Flatten())\n",
    "model2.add(Dense(32, activation='relu'))\n",
    "model2.add(Dense(1, activation='sigmoid'))\n",
    "model2.summary()"
   ]
  },
  {
   "cell_type": "markdown",
   "metadata": {},
   "source": [
    "#### Loading the embeddings in the model"
   ]
  },
  {
   "cell_type": "markdown",
   "metadata": {},
   "source": [
    "The Embedding layer has a single weight matrix: a 2D float matrix where each entry i is the word vector meant to be associated with the index i. \n",
    "\n",
    "We will load the Word2Vec matrix we prepared iinto the Embedding layer, the first layer in the model - "
   ]
  },
  {
   "cell_type": "code",
   "execution_count": 28,
   "metadata": {},
   "outputs": [],
   "source": [
    "model2.layers[0].set_weights([embedding_matrix])\n",
    "model2.layers[0].trainable = False # this freezes the embedding layer as to not \n",
    "                                  # be updated during training and forget what they already know"
   ]
  },
  {
   "cell_type": "markdown",
   "metadata": {},
   "source": [
    "#### Training and evaluating the model"
   ]
  },
  {
   "cell_type": "markdown",
   "metadata": {},
   "source": [
    "Compile and train the model."
   ]
  },
  {
   "cell_type": "markdown",
   "metadata": {},
   "source": [
    "##### Training and evaluation"
   ]
  },
  {
   "cell_type": "code",
   "execution_count": 29,
   "metadata": {},
   "outputs": [
    {
     "name": "stdout",
     "output_type": "stream",
     "text": [
      "Epoch 1/10\n",
      "3761/3761 [==============================] - 31s 8ms/step - loss: 0.4835 - acc: 0.7617 - val_loss: 0.4514 - val_acc: 0.7828\n",
      "Epoch 2/10\n",
      "3761/3761 [==============================] - 30s 8ms/step - loss: 0.2903 - acc: 0.8735 - val_loss: 0.4481 - val_acc: 0.8034\n",
      "Epoch 3/10\n",
      "3761/3761 [==============================] - 36s 10ms/step - loss: 0.2137 - acc: 0.9095 - val_loss: 0.5544 - val_acc: 0.7845\n",
      "Epoch 4/10\n",
      "3761/3761 [==============================] - 33s 9ms/step - loss: 0.1631 - acc: 0.9322 - val_loss: 0.6323 - val_acc: 0.7879\n",
      "Epoch 5/10\n",
      "3761/3761 [==============================] - 34s 9ms/step - loss: 0.1303 - acc: 0.9458 - val_loss: 0.6871 - val_acc: 0.8073\n",
      "Epoch 6/10\n",
      "3761/3761 [==============================] - 34s 9ms/step - loss: 0.1071 - acc: 0.9564 - val_loss: 0.8470 - val_acc: 0.7849\n",
      "Epoch 7/10\n",
      "3761/3761 [==============================] - 34s 9ms/step - loss: 0.0917 - acc: 0.9625 - val_loss: 0.9131 - val_acc: 0.7918\n",
      "Epoch 8/10\n",
      "3761/3761 [==============================] - 34s 9ms/step - loss: 0.0799 - acc: 0.9665 - val_loss: 0.9680 - val_acc: 0.7991\n",
      "Epoch 9/10\n",
      "3761/3761 [==============================] - 33s 9ms/step - loss: 0.0720 - acc: 0.9700 - val_loss: 1.1030 - val_acc: 0.7898\n",
      "Epoch 10/10\n",
      "3761/3761 [==============================] - 33s 9ms/step - loss: 0.0669 - acc: 0.9741 - val_loss: 1.2418 - val_acc: 0.7845\n"
     ]
    }
   ],
   "source": [
    "model2.compile(optimizer = 'adam',\n",
    "             loss = 'binary_crossentropy',\n",
    "             metrics = ['acc'])\n",
    "\n",
    "history = model2.fit(X_train_sm, \n",
    "                    y_train_sm,\n",
    "                   epochs = 10,\n",
    "                   batch_size = 32,\n",
    "                   validation_data = (X_test, y_test))\n",
    "\n",
    "#model.save_weights('model1.h5')"
   ]
  },
  {
   "cell_type": "markdown",
   "metadata": {},
   "source": [
    "##### Plotting the results"
   ]
  },
  {
   "cell_type": "code",
   "execution_count": 30,
   "metadata": {
    "scrolled": true
   },
   "outputs": [
    {
     "data": {
      "image/png": "[encoded data removed]",
      "text/plain": [
       "<Figure size 864x576 with 1 Axes>"
      ]
     },
     "metadata": {
      "needs_background": "light"
     },
     "output_type": "display_data"
    }
   ],
   "source": [
    "# Check out our train loss and test loss over epochs.\n",
    "train_loss = history.history['loss']\n",
    "test_loss = history.history['val_loss']\n",
    "epoch_labels = history.epoch\n",
    "\n",
    "# Set figure size.\n",
    "plt.figure(figsize=(12, 8))\n",
    "\n",
    "# Generate line plot of training, testing loss over epochs.\n",
    "plt.plot(train_loss, label='Training Loss', color='#185fad')\n",
    "plt.plot(test_loss, label='Testing Loss', color='orange')\n",
    "\n",
    "# Set title\n",
    "plt.title('Training and Testing Loss by Epoch', fontsize=25)\n",
    "plt.xlabel('Epoch', fontsize=18)\n",
    "plt.ylabel('Categorical Crossentropy', fontsize=18)\n",
    "plt.xticks(epoch_labels, epoch_labels)    # ticks, labels\n",
    "\n",
    "plt.legend(fontsize=18);\n"
   ]
  },
  {
   "cell_type": "code",
   "execution_count": 31,
   "metadata": {},
   "outputs": [
    {
     "name": "stdout",
     "output_type": "stream",
     "text": [
      "2122/2122 [==============================] - 6s 3ms/step - loss: 0.0645 - acc: 0.9745\n"
     ]
    }
   ],
   "source": [
    "# Evaluate model on test data.\n",
    "cnn2_score = model2.evaluate(X_train,\n",
    "                               y_train,\n",
    "                               verbose=1)\n",
    "\n",
    "cnn2_labels = model2.metrics_names"
   ]
  },
  {
   "cell_type": "code",
   "execution_count": 34,
   "metadata": {
    "scrolled": true
   },
   "outputs": [
    {
     "name": "stdout",
     "output_type": "stream",
     "text": [
      "CNN loss  : 0.37130770087242126\n",
      "CNN acc   : 0.888741672039032\n",
      "\n"
     ]
    }
   ],
   "source": [
    "print(f'CNN {cnn2_labels[0]}  : {cnn2_score[0]}')\n",
    "print(f'CNN {cnn2_labels[1]}   : {cnn2_score[1]}')\n",
    "print()"
   ]
  },
  {
   "cell_type": "markdown",
   "metadata": {},
   "source": [
    "# Subreddit: BPD"
   ]
  },
  {
   "cell_type": "code",
   "execution_count": 32,
   "metadata": {},
   "outputs": [],
   "source": [
    "labels = posts['subreddit_BPD']"
   ]
  },
  {
   "cell_type": "markdown",
   "metadata": {},
   "source": [
    "#### Train test split"
   ]
  },
  {
   "cell_type": "code",
   "execution_count": 33,
   "metadata": {},
   "outputs": [],
   "source": [
    "X_train, X_test, y_train, y_test = train_test_split(data, labels, \n",
    "                                                    test_size = .2,\n",
    "                                                    random_state=42)"
   ]
  },
  {
   "cell_type": "code",
   "execution_count": 34,
   "metadata": {},
   "outputs": [],
   "source": [
    "smote = SMOTE(random_state=42) \n",
    "X_train_sm, y_train_sm = smote.fit_resample(X_train, y_train)"
   ]
  },
  {
   "cell_type": "markdown",
   "metadata": {},
   "source": [
    "#### Defining a model"
   ]
  },
  {
   "cell_type": "code",
   "execution_count": 35,
   "metadata": {},
   "outputs": [
    {
     "name": "stdout",
     "output_type": "stream",
     "text": [
      "Model: \"sequential_2\"\n",
      "_________________________________________________________________\n",
      "Layer (type)                 Output Shape              Param #   \n",
      "=================================================================\n",
      "embedding_2 (Embedding)      (None, 1000, 100)         1000000   \n",
      "_________________________________________________________________\n",
      "flatten_2 (Flatten)          (None, 100000)            0         \n",
      "_________________________________________________________________\n",
      "dense_4 (Dense)              (None, 32)                3200032   \n",
      "_________________________________________________________________\n",
      "dense_5 (Dense)              (None, 1)                 33        \n",
      "=================================================================\n",
      "Total params: 4,200,065\n",
      "Trainable params: 4,200,065\n",
      "Non-trainable params: 0\n",
      "_________________________________________________________________\n"
     ]
    }
   ],
   "source": [
    "model3 = Sequential()\n",
    "model3.add(Embedding(max_words, embedding_dim, input_length=maxlen))\n",
    "model3.add(Flatten())\n",
    "model3.add(Dense(32, activation='relu'))\n",
    "model3.add(Dense(1, activation='sigmoid'))\n",
    "model3.summary()"
   ]
  },
  {
   "cell_type": "markdown",
   "metadata": {},
   "source": [
    "#### Loading the embeddings in the model"
   ]
  },
  {
   "cell_type": "markdown",
   "metadata": {},
   "source": [
    "The Embedding layer has a single weight matrix: a 2D float matrix where each entry i is the word vector meant to be associated with the index i. \n",
    "\n",
    "We will load the Word2Vec matrix we prepared iinto the Embedding layer, the first layer in the model - "
   ]
  },
  {
   "cell_type": "code",
   "execution_count": 36,
   "metadata": {},
   "outputs": [],
   "source": [
    "model3.layers[0].set_weights([embedding_matrix])\n",
    "model3.layers[0].trainable = False # this freezes the embedding layer as to not \n",
    "                                  # be updated during training and forget what they already know"
   ]
  },
  {
   "cell_type": "markdown",
   "metadata": {},
   "source": [
    "#### Training and evaluating the model"
   ]
  },
  {
   "cell_type": "markdown",
   "metadata": {},
   "source": [
    "Compile and train the model."
   ]
  },
  {
   "cell_type": "markdown",
   "metadata": {},
   "source": [
    "##### Training and evaluation"
   ]
  },
  {
   "cell_type": "code",
   "execution_count": 37,
   "metadata": {},
   "outputs": [
    {
     "name": "stdout",
     "output_type": "stream",
     "text": [
      "Epoch 1/10\n",
      "3780/3780 [==============================] - 29s 8ms/step - loss: 0.4985 - acc: 0.7605 - val_loss: 0.4836 - val_acc: 0.7826\n",
      "Epoch 2/10\n",
      "3780/3780 [==============================] - 29s 8ms/step - loss: 0.3226 - acc: 0.8611 - val_loss: 0.4908 - val_acc: 0.7939\n",
      "Epoch 3/10\n",
      "3780/3780 [==============================] - 29s 8ms/step - loss: 0.2431 - acc: 0.8999 - val_loss: 0.6099 - val_acc: 0.7729\n",
      "Epoch 4/10\n",
      "3780/3780 [==============================] - 29s 8ms/step - loss: 0.1881 - acc: 0.9237 - val_loss: 0.7134 - val_acc: 0.7666\n",
      "Epoch 5/10\n",
      "3780/3780 [==============================] - 28s 8ms/step - loss: 0.1461 - acc: 0.9427 - val_loss: 0.8429 - val_acc: 0.7689\n",
      "Epoch 6/10\n",
      "3780/3780 [==============================] - 29s 8ms/step - loss: 0.1182 - acc: 0.9537 - val_loss: 0.9266 - val_acc: 0.7780\n",
      "Epoch 7/10\n",
      "3780/3780 [==============================] - 29s 8ms/step - loss: 0.0980 - acc: 0.9620 - val_loss: 1.1331 - val_acc: 0.7584\n",
      "Epoch 8/10\n",
      "3780/3780 [==============================] - 29s 8ms/step - loss: 0.0844 - acc: 0.9670 - val_loss: 1.2184 - val_acc: 0.7661\n",
      "Epoch 9/10\n",
      "3780/3780 [==============================] - 28s 8ms/step - loss: 0.0734 - acc: 0.9718 - val_loss: 1.4450 - val_acc: 0.7525\n",
      "Epoch 10/10\n",
      "3780/3780 [==============================] - 29s 8ms/step - loss: 0.0677 - acc: 0.9730 - val_loss: 1.5702 - val_acc: 0.7429\n"
     ]
    }
   ],
   "source": [
    "model3.compile(optimizer = 'adam',\n",
    "             loss = 'binary_crossentropy',\n",
    "             metrics = ['acc'])\n",
    "\n",
    "history = model3.fit(X_train_sm, \n",
    "                    y_train_sm,\n",
    "                   epochs = 10,\n",
    "                   batch_size = 32,\n",
    "                   validation_data = (X_test, y_test))\n",
    "\n",
    "#model.save_weights('model1.h5')"
   ]
  },
  {
   "cell_type": "markdown",
   "metadata": {},
   "source": [
    "##### Plotting the results"
   ]
  },
  {
   "cell_type": "code",
   "execution_count": 38,
   "metadata": {
    "scrolled": true
   },
   "outputs": [
    {
     "data": {
      "image/png": "[encoded data removed]",
      "text/plain": [
       "<Figure size 864x576 with 1 Axes>"
      ]
     },
     "metadata": {
      "needs_background": "light"
     },
     "output_type": "display_data"
    }
   ],
   "source": [
    "# Check out our train loss and test loss over epochs.\n",
    "train_loss = history.history['loss']\n",
    "test_loss = history.history['val_loss']\n",
    "epoch_labels = history.epoch\n",
    "\n",
    "# Set figure size.\n",
    "plt.figure(figsize=(12, 8))\n",
    "\n",
    "# Generate line plot of training, testing loss over epochs.\n",
    "plt.plot(train_loss, label='Training Loss', color='#185fad')\n",
    "plt.plot(test_loss, label='Testing Loss', color='orange')\n",
    "\n",
    "# Set title\n",
    "plt.title('Training and Testing Loss by Epoch', fontsize=25)\n",
    "plt.xlabel('Epoch', fontsize=18)\n",
    "plt.ylabel('Categorical Crossentropy', fontsize=18)\n",
    "plt.xticks(epoch_labels, epoch_labels)    # ticks, labels\n",
    "\n",
    "plt.legend(fontsize=18);\n"
   ]
  },
  {
   "cell_type": "code",
   "execution_count": 39,
   "metadata": {},
   "outputs": [
    {
     "name": "stdout",
     "output_type": "stream",
     "text": [
      "2122/2122 [==============================] - 6s 3ms/step - loss: 0.0750 - acc: 0.9711\n"
     ]
    }
   ],
   "source": [
    "# Evaluate model on test data.\n",
    "cnn3_score = model3.evaluate(X_train,\n",
    "                               y_train,\n",
    "                               verbose=1)\n",
    "\n",
    "cnn3_labels = model3.metrics_names"
   ]
  },
  {
   "cell_type": "code",
   "execution_count": 40,
   "metadata": {},
   "outputs": [
    {
     "name": "stdout",
     "output_type": "stream",
     "text": [
      "CNN loss  : 0.07499712705612183\n",
      "CNN acc   : 0.971091091632843\n",
      "\n"
     ]
    }
   ],
   "source": [
    "print(f'CNN {cnn3_labels[0]}  : {cnn3_score[0]}')\n",
    "print(f'CNN {cnn3_labels[1]}   : {cnn3_score[1]}')\n",
    "print()"
   ]
  },
  {
   "cell_type": "code",
   "execution_count": null,
   "metadata": {},
   "outputs": [],
   "source": []
  }
 ],
 "metadata": {
  "kernelspec": {
   "display_name": "Python 3",
   "language": "python",
   "name": "python3"
  },
  "language_info": {
   "codemirror_mode": {
    "name": "ipython",
    "version": 3
   },
   "file_extension": ".py",
   "mimetype": "text/x-python",
   "name": "python",
   "nbconvert_exporter": "python",
   "pygments_lexer": "ipython3",
   "version": "3.7.4"
  },
  "toc": {
   "base_numbering": 1,
   "nav_menu": {},
   "number_sections": true,
   "sideBar": true,
   "skip_h1_title": false,
   "title_cell": "Table of Contents",
   "title_sidebar": "Contents",
   "toc_cell": false,
   "toc_position": {},
   "toc_section_display": true,
   "toc_window_display": false
  }
 },
 "nbformat": 4,
 "nbformat_minor": 2
}
