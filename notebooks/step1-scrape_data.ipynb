{
 "cells": [
  {
   "cell_type": "markdown",
   "metadata": {},
   "source": [
    "# Scrape SubReddit Pages and Preliminary cleaning"
   ]
  },
  {
   "cell_type": "code",
   "execution_count": 1,
   "metadata": {},
   "outputs": [],
   "source": [
    "import pandas as pd\n",
    "import numpy as np\n",
    "import requests\n",
    "import json\n",
    "import csv\n",
    "import time\n",
    "import datetime as dt\n",
    "import pandas as pd\n",
    "from pmaw import PushshiftAPI"
   ]
  },
  {
   "cell_type": "markdown",
   "metadata": {},
   "source": [
    "## Define a function to scrape data from SubReddit pages"
   ]
  },
  {
   "cell_type": "markdown",
   "metadata": {},
   "source": [
    "PMAW: Under the hood, pmaw makes several API requests to Pushshift that each return a maximum of 100 comments, with requests being subjected to a rate-limit of 60 requests per minute. \n",
    "\n",
    "\n",
    "https://medium.com/swlh/how-to-scrape-large-amounts-of-reddit-data-using-pushshift-1d33bde9286\n"
   ]
  },
  {
   "cell_type": "code",
   "execution_count": 18,
   "metadata": {},
   "outputs": [],
   "source": [
    "api = PushshiftAPI()"
   ]
  },
  {
   "cell_type": "code",
   "execution_count": 25,
   "metadata": {},
   "outputs": [],
   "source": [
    "# Function to scrape subreddit submissions (different than comments)\n",
    "\n",
    "def get_reddit_submissions(subreddit, limit):\n",
    "    subreddit = subreddit\n",
    "    limit = limit\n",
    "    posts = api.search_submissions(subreddit=subreddit, \n",
    "                                   limit=limit, \n",
    "                                   before=before, \n",
    "                                   after=after)\n",
    "    post_list = [post for post in posts]\n",
    "    df = pd.DataFrame(post_list)\n",
    "    return df"
   ]
  },
  {
   "cell_type": "markdown",
   "metadata": {},
   "source": [
    "## Scrape Data from Pre-COVID Shutdown"
   ]
  },
  {
   "cell_type": "markdown",
   "metadata": {},
   "source": [
    "Using the Pushshift API, scrape reddit data from before Covid Shutdown for each subredit of interest (Using 3/20/2020 as that was the date New York and California shut down)"
   ]
  },
  {
   "cell_type": "code",
   "execution_count": 26,
   "metadata": {},
   "outputs": [],
   "source": [
    "before = int(dt.datetime(2020,3,20,0,0).timestamp()) # converts to UTC\n",
    "after = int(dt.datetime(2017,12,1,0,0).timestamp()) # converts to UTC"
   ]
  },
  {
   "cell_type": "markdown",
   "metadata": {},
   "source": [
    "### r/mentalhealth"
   ]
  },
  {
   "cell_type": "markdown",
   "metadata": {},
   "source": [
    "#### Scrape comments"
   ]
  },
  {
   "cell_type": "code",
   "execution_count": 27,
   "metadata": {
    "scrolled": true
   },
   "outputs": [
    {
     "name": "stdout",
     "output_type": "stream",
     "text": [
      "Total:: Success Rate: 100.00% - Requests: 40 - Batches: 4 - Items Remaining: 0\n"
     ]
    }
   ],
   "source": [
    "mentalhealth_PreCovid = get_reddit_submissions('mentalhealth', 4000)"
   ]
  },
  {
   "cell_type": "code",
   "execution_count": 28,
   "metadata": {},
   "outputs": [
    {
     "data": {
      "text/plain": [
       "(4000, 76)"
      ]
     },
     "execution_count": 28,
     "metadata": {},
     "output_type": "execute_result"
    }
   ],
   "source": [
    "# Check the shape to make sure all rows are there\n",
    "mentalhealth_PreCovid.shape"
   ]
  },
  {
   "cell_type": "code",
   "execution_count": 2,
   "metadata": {},
   "outputs": [],
   "source": [
    "#mentalhealth_PreCovid.head()"
   ]
  },
  {
   "cell_type": "markdown",
   "metadata": {},
   "source": [
    "#### Save columns of interest"
   ]
  },
  {
   "cell_type": "code",
   "execution_count": 32,
   "metadata": {},
   "outputs": [],
   "source": [
    "# Keep columns: 'author', 'body', 'created_utc', 'subreddit'\n",
    "mentalhealth_PreCovid = mentalhealth_PreCovid[['author', \n",
    "                                               'title', \n",
    "                                               'selftext',\n",
    "                                               'created_utc', \n",
    "                                               'subreddit']]"
   ]
  },
  {
   "cell_type": "markdown",
   "metadata": {},
   "source": [
    "### r/depression"
   ]
  },
  {
   "cell_type": "markdown",
   "metadata": {},
   "source": [
    "#### Scrape comments"
   ]
  },
  {
   "cell_type": "code",
   "execution_count": 33,
   "metadata": {},
   "outputs": [
    {
     "name": "stdout",
     "output_type": "stream",
     "text": [
      "Total:: Success Rate: 100.00% - Requests: 40 - Batches: 4 - Items Remaining: 0\n"
     ]
    }
   ],
   "source": [
    "depression_PreCovid = get_reddit_submissions('depression', 4000)"
   ]
  },
  {
   "cell_type": "code",
   "execution_count": 34,
   "metadata": {},
   "outputs": [
    {
     "data": {
      "text/plain": [
       "(4000, 70)"
      ]
     },
     "execution_count": 34,
     "metadata": {},
     "output_type": "execute_result"
    }
   ],
   "source": [
    "depression_PreCovid.shape"
   ]
  },
  {
   "cell_type": "markdown",
   "metadata": {},
   "source": [
    "#### Save columns of interest"
   ]
  },
  {
   "cell_type": "code",
   "execution_count": 35,
   "metadata": {},
   "outputs": [],
   "source": [
    "depression_PreCovid = depression_PreCovid[['author', \n",
    "                                           'title', \n",
    "                                           'selftext',\n",
    "                                           'created_utc', \n",
    "                                           'subreddit']]"
   ]
  },
  {
   "cell_type": "markdown",
   "metadata": {},
   "source": [
    "### r/Anxiety"
   ]
  },
  {
   "cell_type": "markdown",
   "metadata": {},
   "source": [
    "#### Scrape comments"
   ]
  },
  {
   "cell_type": "code",
   "execution_count": 36,
   "metadata": {},
   "outputs": [
    {
     "name": "stdout",
     "output_type": "stream",
     "text": [
      "Total:: Success Rate: 76.92% - Requests: 52 - Batches: 6 - Items Remaining: 0\n"
     ]
    }
   ],
   "source": [
    "anxiety_PreCovid = get_reddit_submissions('Anxiety', 4000)"
   ]
  },
  {
   "cell_type": "code",
   "execution_count": 37,
   "metadata": {},
   "outputs": [
    {
     "data": {
      "text/plain": [
       "(4000, 81)"
      ]
     },
     "execution_count": 37,
     "metadata": {},
     "output_type": "execute_result"
    }
   ],
   "source": [
    "anxiety_PreCovid.shape"
   ]
  },
  {
   "cell_type": "markdown",
   "metadata": {},
   "source": [
    "#### Save columns of interest"
   ]
  },
  {
   "cell_type": "code",
   "execution_count": 38,
   "metadata": {},
   "outputs": [],
   "source": [
    "# Keep columns: 'author', 'body', 'created_utc', 'subreddit'\n",
    "anxiety_PreCovid = anxiety_PreCovid[['author', \n",
    "                                     'title', \n",
    "                                     'selftext',\n",
    "                                     'created_utc', \n",
    "                                     'subreddit']]"
   ]
  },
  {
   "cell_type": "markdown",
   "metadata": {},
   "source": [
    "### r/bipolar"
   ]
  },
  {
   "cell_type": "markdown",
   "metadata": {},
   "source": [
    "#### Scrape comments"
   ]
  },
  {
   "cell_type": "code",
   "execution_count": 39,
   "metadata": {},
   "outputs": [
    {
     "name": "stdout",
     "output_type": "stream",
     "text": [
      "Total:: Success Rate: 100.00% - Requests: 40 - Batches: 4 - Items Remaining: 0\n"
     ]
    }
   ],
   "source": [
    "bipolar_PreCovid = get_reddit_submissions('bipolar', 4000)"
   ]
  },
  {
   "cell_type": "code",
   "execution_count": 40,
   "metadata": {},
   "outputs": [
    {
     "data": {
      "text/plain": [
       "(4000, 81)"
      ]
     },
     "execution_count": 40,
     "metadata": {},
     "output_type": "execute_result"
    }
   ],
   "source": [
    "bipolar_PreCovid.shape"
   ]
  },
  {
   "cell_type": "markdown",
   "metadata": {},
   "source": [
    "#### Save columns of interest"
   ]
  },
  {
   "cell_type": "code",
   "execution_count": 41,
   "metadata": {},
   "outputs": [],
   "source": [
    "bipolar_PreCovid = bipolar_PreCovid[['author', \n",
    "                                     'title', \n",
    "                                     'selftext',\n",
    "                                     'created_utc', \n",
    "                                     'subreddit']]"
   ]
  },
  {
   "cell_type": "markdown",
   "metadata": {},
   "source": [
    "### r/BPD"
   ]
  },
  {
   "cell_type": "markdown",
   "metadata": {},
   "source": [
    "##### Scrape comments"
   ]
  },
  {
   "cell_type": "code",
   "execution_count": 42,
   "metadata": {},
   "outputs": [
    {
     "name": "stdout",
     "output_type": "stream",
     "text": [
      "Total:: Success Rate: 59.70% - Requests: 67 - Batches: 7 - Items Remaining: 0\n"
     ]
    }
   ],
   "source": [
    "bpd_PreCovid = get_reddit_submissions('BPD', 4000)"
   ]
  },
  {
   "cell_type": "code",
   "execution_count": 43,
   "metadata": {},
   "outputs": [
    {
     "data": {
      "text/plain": [
       "(4000, 93)"
      ]
     },
     "execution_count": 43,
     "metadata": {},
     "output_type": "execute_result"
    }
   ],
   "source": [
    "bpd_PreCovid.shape"
   ]
  },
  {
   "cell_type": "markdown",
   "metadata": {},
   "source": [
    "##### Save columns of interest"
   ]
  },
  {
   "cell_type": "code",
   "execution_count": 44,
   "metadata": {},
   "outputs": [],
   "source": [
    "bpd_PreCovid = bpd_PreCovid[['author', \n",
    "                             'title', \n",
    "                             'selftext',\n",
    "                             'created_utc', \n",
    "                             'subreddit']]"
   ]
  },
  {
   "cell_type": "markdown",
   "metadata": {},
   "source": [
    "### r/schizophrenia"
   ]
  },
  {
   "cell_type": "code",
   "execution_count": 45,
   "metadata": {},
   "outputs": [
    {
     "name": "stdout",
     "output_type": "stream",
     "text": [
      "Total:: Success Rate: 62.50% - Requests: 64 - Batches: 7 - Items Remaining: 0\n"
     ]
    }
   ],
   "source": [
    "schizophrenia_PreCovid = get_reddit_submissions('schizophrenia', 4000)"
   ]
  },
  {
   "cell_type": "code",
   "execution_count": 46,
   "metadata": {},
   "outputs": [
    {
     "data": {
      "text/plain": [
       "(4000, 95)"
      ]
     },
     "execution_count": 46,
     "metadata": {},
     "output_type": "execute_result"
    }
   ],
   "source": [
    "schizophrenia_PreCovid.shape"
   ]
  },
  {
   "cell_type": "markdown",
   "metadata": {},
   "source": [
    "##### Save columns of interest"
   ]
  },
  {
   "cell_type": "code",
   "execution_count": 47,
   "metadata": {},
   "outputs": [],
   "source": [
    "schizophrenia_PreCovid = schizophrenia_PreCovid[['author', \n",
    "                                                 'title', \n",
    "                                                 'selftext',\n",
    "                                                 'created_utc', \n",
    "                                                 'subreddit']]"
   ]
  },
  {
   "cell_type": "markdown",
   "metadata": {},
   "source": [
    "### r/autism"
   ]
  },
  {
   "cell_type": "code",
   "execution_count": 48,
   "metadata": {},
   "outputs": [
    {
     "name": "stdout",
     "output_type": "stream",
     "text": [
      "Checkpoint:: Success Rate: 34.00% - Requests: 100 - Batches: 10 - Items Remaining: 600\n",
      "Total:: Success Rate: 37.74% - Requests: 106 - Batches: 11 - Items Remaining: 0\n"
     ]
    }
   ],
   "source": [
    "autism_PreCovid = get_reddit_submissions('autism', 4000)"
   ]
  },
  {
   "cell_type": "code",
   "execution_count": 49,
   "metadata": {},
   "outputs": [
    {
     "data": {
      "text/plain": [
       "(4000, 94)"
      ]
     },
     "execution_count": 49,
     "metadata": {},
     "output_type": "execute_result"
    }
   ],
   "source": [
    "autism_PreCovid.shape"
   ]
  },
  {
   "cell_type": "markdown",
   "metadata": {},
   "source": [
    "##### Save columns of interest"
   ]
  },
  {
   "cell_type": "code",
   "execution_count": 50,
   "metadata": {},
   "outputs": [],
   "source": [
    "autism_PreCovid = autism_PreCovid[['author', \n",
    "                                   'title', \n",
    "                                   'selftext',\n",
    "                                   'created_utc', \n",
    "                                   'subreddit']]"
   ]
  },
  {
   "cell_type": "markdown",
   "metadata": {},
   "source": [
    "### r/AnorexiaNervosa"
   ]
  },
  {
   "cell_type": "code",
   "execution_count": 51,
   "metadata": {},
   "outputs": [
    {
     "name": "stdout",
     "output_type": "stream",
     "text": [
      "Total:: Success Rate: 100.00% - Requests: 48 - Batches: 5 - Items Remaining: 0\n"
     ]
    }
   ],
   "source": [
    "anorexia_PreCovid = get_reddit_submissions('AnorexiaNervosa', 4000)"
   ]
  },
  {
   "cell_type": "code",
   "execution_count": 52,
   "metadata": {},
   "outputs": [
    {
     "data": {
      "text/plain": [
       "(4000, 80)"
      ]
     },
     "execution_count": 52,
     "metadata": {},
     "output_type": "execute_result"
    }
   ],
   "source": [
    "anorexia_PreCovid.shape"
   ]
  },
  {
   "cell_type": "markdown",
   "metadata": {},
   "source": [
    "##### Save columns of interest"
   ]
  },
  {
   "cell_type": "code",
   "execution_count": 53,
   "metadata": {},
   "outputs": [],
   "source": [
    "anorexia_PreCovid = anorexia_PreCovid[['author', \n",
    "                                       'title', \n",
    "                                       'selftext',\n",
    "                                       'created_utc', \n",
    "                                       'subreddit']]"
   ]
  },
  {
   "cell_type": "markdown",
   "metadata": {},
   "source": [
    "### r/Bulimia"
   ]
  },
  {
   "cell_type": "code",
   "execution_count": 54,
   "metadata": {},
   "outputs": [
    {
     "name": "stdout",
     "output_type": "stream",
     "text": [
      "Total:: Success Rate: 100.00% - Requests: 44 - Batches: 5 - Items Remaining: 0\n"
     ]
    }
   ],
   "source": [
    "bulimia_PreCovid = get_reddit_submissions('Bulimia', 4000)"
   ]
  },
  {
   "cell_type": "code",
   "execution_count": 55,
   "metadata": {},
   "outputs": [
    {
     "data": {
      "text/plain": [
       "(4000, 76)"
      ]
     },
     "execution_count": 55,
     "metadata": {},
     "output_type": "execute_result"
    }
   ],
   "source": [
    "bulimia_PreCovid.shape"
   ]
  },
  {
   "cell_type": "markdown",
   "metadata": {},
   "source": [
    "##### Save columns of interest"
   ]
  },
  {
   "cell_type": "code",
   "execution_count": 56,
   "metadata": {},
   "outputs": [],
   "source": [
    "bulimia_PreCovid = bulimia_PreCovid[['author', \n",
    "                                     'title', \n",
    "                                     'selftext',\n",
    "                                     'created_utc', \n",
    "                                     'subreddit']]"
   ]
  },
  {
   "cell_type": "markdown",
   "metadata": {},
   "source": [
    "### Combine data"
   ]
  },
  {
   "cell_type": "markdown",
   "metadata": {},
   "source": [
    "#### Combine data to one large data frame"
   ]
  },
  {
   "cell_type": "code",
   "execution_count": 57,
   "metadata": {},
   "outputs": [],
   "source": [
    "precovid_frames = [bulimia_PreCovid, \n",
    "                   anorexia_PreCovid,\n",
    "                   autism_PreCovid,\n",
    "                   schizophrenia_PreCovid,\n",
    "                   bpd_PreCovid,\n",
    "                   bipolar_PreCovid,\n",
    "                   anxiety_PreCovid,\n",
    "                   depression_PreCovid,\n",
    "                   mentalhealth_PreCovid]"
   ]
  },
  {
   "cell_type": "code",
   "execution_count": 58,
   "metadata": {},
   "outputs": [],
   "source": [
    "PreCovid_subreddits = pd.concat(precovid_frames)"
   ]
  },
  {
   "cell_type": "markdown",
   "metadata": {},
   "source": [
    "#### Remove any 'authors' or 'body' rows where it says removed or deleted"
   ]
  },
  {
   "cell_type": "code",
   "execution_count": 69,
   "metadata": {},
   "outputs": [],
   "source": [
    "# remove rows where 'author' == 'deleted' as these are posts that were deleted by the author\n",
    "drop_rows1 = PreCovid_subreddits.loc[PreCovid_subreddits['author'] == '[deleted]'].index"
   ]
  },
  {
   "cell_type": "code",
   "execution_count": 70,
   "metadata": {
    "scrolled": true
   },
   "outputs": [],
   "source": [
    "# Replace 'deleted' and 'removed' with null and then re\n",
    "PreCovid_subreddits.drop(drop_rows1, inplace=True)"
   ]
  },
  {
   "cell_type": "code",
   "execution_count": 71,
   "metadata": {},
   "outputs": [
    {
     "data": {
      "text/plain": [
       "(30555, 5)"
      ]
     },
     "execution_count": 71,
     "metadata": {},
     "output_type": "execute_result"
    }
   ],
   "source": [
    "PreCovid_subreddits.shape"
   ]
  },
  {
   "cell_type": "markdown",
   "metadata": {},
   "source": [
    "#### Anonmyize\n"
   ]
  },
  {
   "cell_type": "code",
   "execution_count": 72,
   "metadata": {},
   "outputs": [],
   "source": [
    "# Replace unique author id with integer.\n",
    "PreCovid_subreddits['author'] = PreCovid_subreddits.assign(author=(\n",
    "                                np.unique(PreCovid_subreddits.author, \n",
    "                                          return_inverse=True)[1] + 1).astype(str))"
   ]
  },
  {
   "cell_type": "code",
   "execution_count": 73,
   "metadata": {},
   "outputs": [],
   "source": [
    "# Add 'sub' infront of integer to remind ourselves that this is an id. \n",
    "PreCovid_subreddits['author'] = PreCovid_subreddits['author'].apply(lambda x: f\"sub{x}\")"
   ]
  },
  {
   "cell_type": "markdown",
   "metadata": {},
   "source": [
    "#### Save to csv"
   ]
  },
  {
   "cell_type": "code",
   "execution_count": 74,
   "metadata": {},
   "outputs": [],
   "source": [
    "PreCovid_subreddits.to_csv('../data/raw/reddit_posts_PreCovid.csv', \n",
    "                           header=True, \n",
    "                           index=False,\n",
    "                           columns=list(PreCovid_subreddits.axes[1]))"
   ]
  },
  {
   "cell_type": "markdown",
   "metadata": {},
   "source": [
    "## Scrape Data from Post-COVID Shutdown"
   ]
  },
  {
   "cell_type": "code",
   "execution_count": 75,
   "metadata": {},
   "outputs": [],
   "source": [
    "before = int(dt.datetime(2021,2,24,0,0).timestamp()) # converts to UTC # Today's date\n",
    "after = int(dt.datetime(2020,3,21,0,0).timestamp()) # converts to UTC # A chosen 'shutdown' date"
   ]
  },
  {
   "cell_type": "markdown",
   "metadata": {},
   "source": [
    "### r/mentalhealth"
   ]
  },
  {
   "cell_type": "code",
   "execution_count": 76,
   "metadata": {
    "scrolled": true
   },
   "outputs": [
    {
     "name": "stdout",
     "output_type": "stream",
     "text": [
      "Total:: Success Rate: 100.00% - Requests: 40 - Batches: 4 - Items Remaining: 0\n"
     ]
    }
   ],
   "source": [
    "mentalhealth_PostCovid = get_reddit_submissions('mentalhealth', 4000)"
   ]
  },
  {
   "cell_type": "code",
   "execution_count": 77,
   "metadata": {},
   "outputs": [
    {
     "data": {
      "text/plain": [
       "(4000, 73)"
      ]
     },
     "execution_count": 77,
     "metadata": {},
     "output_type": "execute_result"
    }
   ],
   "source": [
    "mentalhealth_PostCovid.shape "
   ]
  },
  {
   "cell_type": "markdown",
   "metadata": {},
   "source": [
    "##### Save columns of interest"
   ]
  },
  {
   "cell_type": "code",
   "execution_count": 78,
   "metadata": {},
   "outputs": [],
   "source": [
    "mentalhealth_PostCovid = mentalhealth_PostCovid[['author', \n",
    "                                                 'title', \n",
    "                                                 'selftext', \n",
    "                                                 'created_utc', \n",
    "                                                 'subreddit']]"
   ]
  },
  {
   "cell_type": "markdown",
   "metadata": {},
   "source": [
    "### r/depression"
   ]
  },
  {
   "cell_type": "code",
   "execution_count": 79,
   "metadata": {},
   "outputs": [
    {
     "name": "stdout",
     "output_type": "stream",
     "text": [
      "Total:: Success Rate: 100.00% - Requests: 40 - Batches: 4 - Items Remaining: 0\n"
     ]
    }
   ],
   "source": [
    "depression_PostCovid = get_reddit_submissions('depression', 4000)"
   ]
  },
  {
   "cell_type": "code",
   "execution_count": 80,
   "metadata": {},
   "outputs": [
    {
     "data": {
      "text/plain": [
       "(4000, 67)"
      ]
     },
     "execution_count": 80,
     "metadata": {},
     "output_type": "execute_result"
    }
   ],
   "source": [
    "depression_PostCovid.shape"
   ]
  },
  {
   "cell_type": "markdown",
   "metadata": {},
   "source": [
    "##### Save columns of interest"
   ]
  },
  {
   "cell_type": "code",
   "execution_count": 81,
   "metadata": {},
   "outputs": [],
   "source": [
    "depression_PostCovid = depression_PostCovid[['author', \n",
    "                                             'title', \n",
    "                                             'selftext', \n",
    "                                             'created_utc', \n",
    "                                             'subreddit']]"
   ]
  },
  {
   "cell_type": "markdown",
   "metadata": {},
   "source": [
    "### r/Anxiety"
   ]
  },
  {
   "cell_type": "code",
   "execution_count": 82,
   "metadata": {},
   "outputs": [
    {
     "name": "stdout",
     "output_type": "stream",
     "text": [
      "Total:: Success Rate: 75.47% - Requests: 53 - Batches: 6 - Items Remaining: 0\n"
     ]
    }
   ],
   "source": [
    "anxiety_PostCovid = get_reddit_submissions('Anxiety', 4000)"
   ]
  },
  {
   "cell_type": "code",
   "execution_count": 83,
   "metadata": {},
   "outputs": [
    {
     "data": {
      "text/plain": [
       "(4000, 69)"
      ]
     },
     "execution_count": 83,
     "metadata": {},
     "output_type": "execute_result"
    }
   ],
   "source": [
    "anxiety_PostCovid.shape "
   ]
  },
  {
   "cell_type": "markdown",
   "metadata": {},
   "source": [
    "##### Save columns of interest"
   ]
  },
  {
   "cell_type": "code",
   "execution_count": 84,
   "metadata": {},
   "outputs": [],
   "source": [
    "anxiety_PostCovid = anxiety_PostCovid[['author', \n",
    "                                       'title', \n",
    "                                       'selftext', \n",
    "                                       'created_utc', \n",
    "                                       'subreddit']]"
   ]
  },
  {
   "cell_type": "markdown",
   "metadata": {},
   "source": [
    "### r/bipolar"
   ]
  },
  {
   "cell_type": "code",
   "execution_count": 85,
   "metadata": {},
   "outputs": [
    {
     "name": "stdout",
     "output_type": "stream",
     "text": [
      "Total:: Success Rate: 59.70% - Requests: 67 - Batches: 7 - Items Remaining: 0\n"
     ]
    }
   ],
   "source": [
    "bipolar_PostCovid = get_reddit_submissions('bipolar', 4000)"
   ]
  },
  {
   "cell_type": "code",
   "execution_count": 86,
   "metadata": {},
   "outputs": [
    {
     "data": {
      "text/plain": [
       "(4000, 81)"
      ]
     },
     "execution_count": 86,
     "metadata": {},
     "output_type": "execute_result"
    }
   ],
   "source": [
    "bipolar_PostCovid.shape"
   ]
  },
  {
   "cell_type": "markdown",
   "metadata": {},
   "source": [
    "##### Save columns of interest"
   ]
  },
  {
   "cell_type": "code",
   "execution_count": 87,
   "metadata": {},
   "outputs": [],
   "source": [
    "bipolar_PostCovid = bipolar_PostCovid[['author', \n",
    "                                       'title', \n",
    "                                       'selftext',\n",
    "                                       'created_utc', \n",
    "                                       'subreddit']]"
   ]
  },
  {
   "cell_type": "markdown",
   "metadata": {},
   "source": [
    "### r/BPD"
   ]
  },
  {
   "cell_type": "code",
   "execution_count": 88,
   "metadata": {},
   "outputs": [
    {
     "name": "stdout",
     "output_type": "stream",
     "text": [
      "Total:: Success Rate: 50.00% - Requests: 80 - Batches: 8 - Items Remaining: 0\n"
     ]
    }
   ],
   "source": [
    "bpd_PostCovid = get_reddit_submissions('BPD', 4000)"
   ]
  },
  {
   "cell_type": "code",
   "execution_count": 89,
   "metadata": {},
   "outputs": [
    {
     "data": {
      "text/plain": [
       "(4000, 84)"
      ]
     },
     "execution_count": 89,
     "metadata": {},
     "output_type": "execute_result"
    }
   ],
   "source": [
    "bpd_PostCovid.shape"
   ]
  },
  {
   "cell_type": "markdown",
   "metadata": {},
   "source": [
    "##### Save columns of interest"
   ]
  },
  {
   "cell_type": "code",
   "execution_count": 90,
   "metadata": {},
   "outputs": [],
   "source": [
    "bpd_PostCovid = bpd_PostCovid[['author',\n",
    "                               'title', \n",
    "                               'selftext',\n",
    "                               'created_utc', \n",
    "                               'subreddit']]"
   ]
  },
  {
   "cell_type": "markdown",
   "metadata": {},
   "source": [
    "### r/schizophrenia"
   ]
  },
  {
   "cell_type": "code",
   "execution_count": 91,
   "metadata": {},
   "outputs": [
    {
     "name": "stdout",
     "output_type": "stream",
     "text": [
      "Total:: Success Rate: 100.00% - Requests: 40 - Batches: 4 - Items Remaining: 0\n"
     ]
    }
   ],
   "source": [
    "schizophrenia_PostCovid = get_reddit_submissions('schizophrenia', 4000)"
   ]
  },
  {
   "cell_type": "code",
   "execution_count": 92,
   "metadata": {},
   "outputs": [
    {
     "data": {
      "text/plain": [
       "(4000, 82)"
      ]
     },
     "execution_count": 92,
     "metadata": {},
     "output_type": "execute_result"
    }
   ],
   "source": [
    "schizophrenia_PostCovid.shape "
   ]
  },
  {
   "cell_type": "markdown",
   "metadata": {},
   "source": [
    "##### Save columns of interest"
   ]
  },
  {
   "cell_type": "code",
   "execution_count": 93,
   "metadata": {},
   "outputs": [],
   "source": [
    "schizophrenia_PostCovid = schizophrenia_PostCovid[['author', \n",
    "                                                   'title', \n",
    "                                                   'selftext',\n",
    "                                                   'created_utc',\n",
    "                                                   'subreddit']]"
   ]
  },
  {
   "cell_type": "markdown",
   "metadata": {},
   "source": [
    "### r/autism"
   ]
  },
  {
   "cell_type": "code",
   "execution_count": 94,
   "metadata": {},
   "outputs": [
    {
     "name": "stdout",
     "output_type": "stream",
     "text": [
      "Total:: Success Rate: 88.89% - Requests: 45 - Batches: 5 - Items Remaining: 0\n"
     ]
    }
   ],
   "source": [
    "autism_PostCovid = get_reddit_submissions('autism', 4000)"
   ]
  },
  {
   "cell_type": "code",
   "execution_count": 95,
   "metadata": {},
   "outputs": [
    {
     "data": {
      "text/plain": [
       "(4000, 84)"
      ]
     },
     "execution_count": 95,
     "metadata": {},
     "output_type": "execute_result"
    }
   ],
   "source": [
    "autism_PostCovid.shape"
   ]
  },
  {
   "cell_type": "markdown",
   "metadata": {},
   "source": [
    "##### Save columns of interest"
   ]
  },
  {
   "cell_type": "code",
   "execution_count": 96,
   "metadata": {},
   "outputs": [],
   "source": [
    "autism_PostCovid = autism_PostCovid[['author', \n",
    "                                     'title', \n",
    "                                     'selftext',\n",
    "                                     'created_utc', \n",
    "                                     'subreddit']]"
   ]
  },
  {
   "cell_type": "markdown",
   "metadata": {},
   "source": [
    "### r/AnorexiaNervosa"
   ]
  },
  {
   "cell_type": "code",
   "execution_count": 97,
   "metadata": {},
   "outputs": [
    {
     "name": "stdout",
     "output_type": "stream",
     "text": [
      "Total:: Success Rate: 87.23% - Requests: 47 - Batches: 5 - Items Remaining: 0\n"
     ]
    }
   ],
   "source": [
    "anorexia_PostCovid = get_reddit_submissions('AnorexiaNervosa', 4000)"
   ]
  },
  {
   "cell_type": "code",
   "execution_count": 98,
   "metadata": {},
   "outputs": [
    {
     "data": {
      "text/plain": [
       "(4000, 80)"
      ]
     },
     "execution_count": 98,
     "metadata": {},
     "output_type": "execute_result"
    }
   ],
   "source": [
    "anorexia_PostCovid.shape"
   ]
  },
  {
   "cell_type": "markdown",
   "metadata": {},
   "source": [
    "##### Save columns of interest"
   ]
  },
  {
   "cell_type": "code",
   "execution_count": 99,
   "metadata": {},
   "outputs": [],
   "source": [
    "anorexia_PostCovid = anorexia_PostCovid[['author', \n",
    "                                         'title', \n",
    "                                         'selftext',\n",
    "                                         'created_utc', \n",
    "                                         'subreddit']]"
   ]
  },
  {
   "cell_type": "markdown",
   "metadata": {},
   "source": [
    "### r/Bulimia"
   ]
  },
  {
   "cell_type": "code",
   "execution_count": 100,
   "metadata": {},
   "outputs": [
    {
     "name": "stdout",
     "output_type": "stream",
     "text": [
      "Checkpoint:: Success Rate: 36.00% - Requests: 100 - Batches: 10 - Items Remaining: 692\n",
      "Total:: Success Rate: 42.34% - Requests: 111 - Batches: 12 - Items Remaining: 0\n"
     ]
    }
   ],
   "source": [
    "bulimia_PostCovid = get_reddit_submissions('Bulimia', 4000)"
   ]
  },
  {
   "cell_type": "code",
   "execution_count": 101,
   "metadata": {},
   "outputs": [
    {
     "data": {
      "text/plain": [
       "(4000, 84)"
      ]
     },
     "execution_count": 101,
     "metadata": {},
     "output_type": "execute_result"
    }
   ],
   "source": [
    "bulimia_PostCovid.shape"
   ]
  },
  {
   "cell_type": "markdown",
   "metadata": {},
   "source": [
    "##### Save columns of interest"
   ]
  },
  {
   "cell_type": "code",
   "execution_count": 102,
   "metadata": {},
   "outputs": [],
   "source": [
    "bulimia_PostCovid = bulimia_PostCovid[['author', \n",
    "                                       'title', \n",
    "                                       'selftext',\n",
    "                                       'created_utc', \n",
    "                                       'subreddit']]"
   ]
  },
  {
   "cell_type": "markdown",
   "metadata": {},
   "source": [
    "### Combine data"
   ]
  },
  {
   "cell_type": "markdown",
   "metadata": {},
   "source": [
    "#### Combine data to one large data frame"
   ]
  },
  {
   "cell_type": "code",
   "execution_count": 103,
   "metadata": {},
   "outputs": [],
   "source": [
    "postcovid_frames = [bulimia_PostCovid, \n",
    "                   anorexia_PostCovid,\n",
    "                   autism_PostCovid,\n",
    "                   schizophrenia_PostCovid,\n",
    "                   bpd_PostCovid,\n",
    "                   bipolar_PostCovid,\n",
    "                   anxiety_PostCovid,\n",
    "                   depression_PostCovid,\n",
    "                   mentalhealth_PostCovid]"
   ]
  },
  {
   "cell_type": "code",
   "execution_count": 104,
   "metadata": {},
   "outputs": [],
   "source": [
    "PostCovid_subreddits = pd.concat(postcovid_frames)"
   ]
  },
  {
   "cell_type": "markdown",
   "metadata": {},
   "source": [
    "#### Remove any 'authors' or 'body' rows where it says removed or deleted"
   ]
  },
  {
   "cell_type": "code",
   "execution_count": 105,
   "metadata": {},
   "outputs": [
    {
     "data": {
      "text/plain": [
       "[deleted]               943\n",
       "Glitterx37               58\n",
       "justacotton              39\n",
       "AutoModerator            38\n",
       "stevatoo69               29\n",
       "                       ... \n",
       "dicksienormous            1\n",
       "aelswith                  1\n",
       "oxygenwastingmachine      1\n",
       "hs-c                      1\n",
       "tkiddd                    1\n",
       "Name: author, Length: 25290, dtype: int64"
      ]
     },
     "execution_count": 105,
     "metadata": {},
     "output_type": "execute_result"
    }
   ],
   "source": [
    "PostCovid_subreddits['author'].value_counts()"
   ]
  },
  {
   "cell_type": "code",
   "execution_count": 107,
   "metadata": {},
   "outputs": [],
   "source": [
    "drop_rows2 = PostCovid_subreddits.loc[PostCovid_subreddits['author'] == '[deleted]'].index"
   ]
  },
  {
   "cell_type": "code",
   "execution_count": 108,
   "metadata": {
    "scrolled": true
   },
   "outputs": [],
   "source": [
    "# Replace 'deleted' and 'removed' with null and then re\n",
    "PostCovid_subreddits.drop(drop_rows2, inplace = True)"
   ]
  },
  {
   "cell_type": "code",
   "execution_count": 109,
   "metadata": {},
   "outputs": [
    {
     "data": {
      "text/plain": [
       "(28476, 5)"
      ]
     },
     "execution_count": 109,
     "metadata": {},
     "output_type": "execute_result"
    }
   ],
   "source": [
    "PostCovid_subreddits.shape"
   ]
  },
  {
   "cell_type": "markdown",
   "metadata": {},
   "source": [
    "#### Anonmyize\n"
   ]
  },
  {
   "cell_type": "code",
   "execution_count": 110,
   "metadata": {},
   "outputs": [],
   "source": [
    "# Replace unique author id with integer.\n",
    "PostCovid_subreddits['author'] = PostCovid_subreddits.assign(author=(\n",
    "                                np.unique(PostCovid_subreddits.author, \n",
    "                                          return_inverse=True)[1] + 1).astype(str))"
   ]
  },
  {
   "cell_type": "code",
   "execution_count": 111,
   "metadata": {},
   "outputs": [],
   "source": [
    "# Add 'sub' infront of integer to remind ourselves that this is an id. \n",
    "PostCovid_subreddits['author'] = PostCovid_subreddits['author'].apply(lambda x: f\"sub{x}\")"
   ]
  },
  {
   "cell_type": "markdown",
   "metadata": {},
   "source": [
    "#### Save to csv"
   ]
  },
  {
   "cell_type": "code",
   "execution_count": 112,
   "metadata": {},
   "outputs": [],
   "source": [
    "PostCovid_subreddits.to_csv('../data/raw/reddit_posts_PostCovid.csv', \n",
    "                           header=True, \n",
    "                           index=False,\n",
    "                           columns=list(PostCovid_subreddits.axes[1]))"
   ]
  }
 ],
 "metadata": {
  "kernelspec": {
   "display_name": "Python 3",
   "language": "python",
   "name": "python3"
  },
  "language_info": {
   "codemirror_mode": {
    "name": "ipython",
    "version": 3
   },
   "file_extension": ".py",
   "mimetype": "text/x-python",
   "name": "python",
   "nbconvert_exporter": "python",
   "pygments_lexer": "ipython3",
   "version": "3.7.4"
  },
  "toc": {
   "base_numbering": 1,
   "nav_menu": {},
   "number_sections": true,
   "sideBar": true,
   "skip_h1_title": false,
   "title_cell": "Table of Contents",
   "title_sidebar": "Contents",
   "toc_cell": false,
   "toc_position": {},
   "toc_section_display": true,
   "toc_window_display": false
  }
 },
 "nbformat": 4,
 "nbformat_minor": 2
}
