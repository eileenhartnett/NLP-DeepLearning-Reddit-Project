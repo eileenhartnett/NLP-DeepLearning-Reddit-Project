{
 "cells": [
  {
   "cell_type": "markdown",
   "metadata": {},
   "source": [
    "# EDA"
   ]
  },
  {
   "cell_type": "markdown",
   "metadata": {},
   "source": [
    "##### Import libraries"
   ]
  },
  {
   "cell_type": "code",
   "execution_count": 1,
   "metadata": {},
   "outputs": [],
   "source": [
    "import pandas as pd\n",
    "import numpy as np\n",
    "\n",
    "import seaborn as sns\n",
    "import matplotlib.pyplot as plt\n",
    "plt.style.use('fivethirtyeight')\n",
    "\n",
    "import datetime\n",
    "import nltk\n",
    "from sklearn.feature_extraction.text import CountVectorizer\n",
    "from sklearn.feature_extraction.text import TfidfVectorizer"
   ]
  },
  {
   "cell_type": "markdown",
   "metadata": {},
   "source": [
    "##### Load data"
   ]
  },
  {
   "cell_type": "code",
   "execution_count": 2,
   "metadata": {},
   "outputs": [],
   "source": [
    "posts = pd.read_csv('../data/posts-preprocessed.csv') "
   ]
  },
  {
   "cell_type": "code",
   "execution_count": 3,
   "metadata": {},
   "outputs": [
    {
     "data": {
      "text/html": [
       "<div>\n",
       "<style scoped>\n",
       "    .dataframe tbody tr th:only-of-type {\n",
       "        vertical-align: middle;\n",
       "    }\n",
       "\n",
       "    .dataframe tbody tr th {\n",
       "        vertical-align: top;\n",
       "    }\n",
       "\n",
       "    .dataframe thead th {\n",
       "        text-align: right;\n",
       "    }\n",
       "</style>\n",
       "<table border=\"1\" class=\"dataframe\">\n",
       "  <thead>\n",
       "    <tr style=\"text-align: right;\">\n",
       "      <th></th>\n",
       "      <th>author</th>\n",
       "      <th>created_utc</th>\n",
       "      <th>subreddit</th>\n",
       "      <th>text</th>\n",
       "      <th>timeframe</th>\n",
       "      <th>words</th>\n",
       "      <th>word_stems</th>\n",
       "      <th>text_length</th>\n",
       "      <th>stems_word_count</th>\n",
       "    </tr>\n",
       "  </thead>\n",
       "  <tbody>\n",
       "    <tr>\n",
       "      <td>0</td>\n",
       "      <td>sub30605</td>\n",
       "      <td>1499390694</td>\n",
       "      <td>bulimia</td>\n",
       "      <td>['chest pains  anyone else experience chest pa...</td>\n",
       "      <td>pre-covid</td>\n",
       "      <td>['[', \"'chest\", 'pains', 'anyone', 'else', 'ex...</td>\n",
       "      <td>['[', \"'chest\", 'pains', 'anyone', 'else', 'ex...</td>\n",
       "      <td>1</td>\n",
       "      <td>182</td>\n",
       "    </tr>\n",
       "    <tr>\n",
       "      <td>1</td>\n",
       "      <td>sub27274</td>\n",
       "      <td>1499060654</td>\n",
       "      <td>bulimia</td>\n",
       "      <td>['dying to eat eating to die study on shifting...</td>\n",
       "      <td>pre-covid</td>\n",
       "      <td>['[', \"'dying\", 'eat', 'eating', 'die', 'study...</td>\n",
       "      <td>['[', \"'dying\", 'eat', 'eating', 'die', 'study...</td>\n",
       "      <td>1</td>\n",
       "      <td>1285</td>\n",
       "    </tr>\n",
       "    <tr>\n",
       "      <td>2</td>\n",
       "      <td>sub6055</td>\n",
       "      <td>1499029087</td>\n",
       "      <td>bulimia</td>\n",
       "      <td>['without purging  what is the quickest way to...</td>\n",
       "      <td>pre-covid</td>\n",
       "      <td>['[', \"'without\", 'purging', 'quickest', 'way'...</td>\n",
       "      <td>['[', \"'without\", 'purging', 'quickest', 'way'...</td>\n",
       "      <td>1</td>\n",
       "      <td>98</td>\n",
       "    </tr>\n",
       "    <tr>\n",
       "      <td>3</td>\n",
       "      <td>sub40365</td>\n",
       "      <td>1498978259</td>\n",
       "      <td>bulimia</td>\n",
       "      <td>['bulimia and melancholy feelings  i havent pu...</td>\n",
       "      <td>pre-covid</td>\n",
       "      <td>['[', \"'bulimia\", 'melancholy', 'feelings', 'h...</td>\n",
       "      <td>['[', \"'bulimia\", 'melancholy', 'feelings', 'h...</td>\n",
       "      <td>1</td>\n",
       "      <td>386</td>\n",
       "    </tr>\n",
       "    <tr>\n",
       "      <td>4</td>\n",
       "      <td>sub49857</td>\n",
       "      <td>1498814187</td>\n",
       "      <td>bulimia</td>\n",
       "      <td>['im relapsing  fuck im so upset at myself rig...</td>\n",
       "      <td>pre-covid</td>\n",
       "      <td>['[', \"'im\", 'relapsing', 'fuck', 'im', 'upset...</td>\n",
       "      <td>['[', \"'im\", 'relapsing', 'fuck', 'im', 'upset...</td>\n",
       "      <td>1</td>\n",
       "      <td>689</td>\n",
       "    </tr>\n",
       "  </tbody>\n",
       "</table>\n",
       "</div>"
      ],
      "text/plain": [
       "     author  created_utc subreddit  \\\n",
       "0  sub30605   1499390694   bulimia   \n",
       "1  sub27274   1499060654   bulimia   \n",
       "2   sub6055   1499029087   bulimia   \n",
       "3  sub40365   1498978259   bulimia   \n",
       "4  sub49857   1498814187   bulimia   \n",
       "\n",
       "                                                text  timeframe  \\\n",
       "0  ['chest pains  anyone else experience chest pa...  pre-covid   \n",
       "1  ['dying to eat eating to die study on shifting...  pre-covid   \n",
       "2  ['without purging  what is the quickest way to...  pre-covid   \n",
       "3  ['bulimia and melancholy feelings  i havent pu...  pre-covid   \n",
       "4  ['im relapsing  fuck im so upset at myself rig...  pre-covid   \n",
       "\n",
       "                                               words  \\\n",
       "0  ['[', \"'chest\", 'pains', 'anyone', 'else', 'ex...   \n",
       "1  ['[', \"'dying\", 'eat', 'eating', 'die', 'study...   \n",
       "2  ['[', \"'without\", 'purging', 'quickest', 'way'...   \n",
       "3  ['[', \"'bulimia\", 'melancholy', 'feelings', 'h...   \n",
       "4  ['[', \"'im\", 'relapsing', 'fuck', 'im', 'upset...   \n",
       "\n",
       "                                          word_stems  text_length  \\\n",
       "0  ['[', \"'chest\", 'pains', 'anyone', 'else', 'ex...            1   \n",
       "1  ['[', \"'dying\", 'eat', 'eating', 'die', 'study...            1   \n",
       "2  ['[', \"'without\", 'purging', 'quickest', 'way'...            1   \n",
       "3  ['[', \"'bulimia\", 'melancholy', 'feelings', 'h...            1   \n",
       "4  ['[', \"'im\", 'relapsing', 'fuck', 'im', 'upset...            1   \n",
       "\n",
       "   stems_word_count  \n",
       "0               182  \n",
       "1              1285  \n",
       "2                98  \n",
       "3               386  \n",
       "4               689  "
      ]
     },
     "execution_count": 3,
     "metadata": {},
     "output_type": "execute_result"
    }
   ],
   "source": [
    "posts.head()"
   ]
  },
  {
   "cell_type": "code",
   "execution_count": 4,
   "metadata": {},
   "outputs": [
    {
     "data": {
      "text/plain": [
       "bulimia            9770\n",
       "AnorexiaNervosa    9715\n",
       "schizophrenia      9534\n",
       "bipolar            9480\n",
       "Anxiety            9455\n",
       "mentalhealth       9445\n",
       "BPD                9341\n",
       "depression         9318\n",
       "autism             9264\n",
       "Name: subreddit, dtype: int64"
      ]
     },
     "execution_count": 4,
     "metadata": {},
     "output_type": "execute_result"
    }
   ],
   "source": [
    "posts['subreddit'].value_counts()"
   ]
  },
  {
   "cell_type": "markdown",
   "metadata": {},
   "source": [
    "### Submission Lengths"
   ]
  },
  {
   "cell_type": "code",
   "execution_count": 5,
   "metadata": {},
   "outputs": [],
   "source": [
    "# Create a new column with submission length\n",
    "posts['text_length'] = posts['text'].map(len)"
   ]
  },
  {
   "cell_type": "code",
   "execution_count": 6,
   "metadata": {},
   "outputs": [],
   "source": [
    "# Create a new column with number of words per submission\n",
    "posts['stems_word_count'] = posts['word_stems'].map(len)"
   ]
  },
  {
   "cell_type": "code",
   "execution_count": 7,
   "metadata": {},
   "outputs": [
    {
     "data": {
      "text/html": [
       "<div>\n",
       "<style scoped>\n",
       "    .dataframe tbody tr th:only-of-type {\n",
       "        vertical-align: middle;\n",
       "    }\n",
       "\n",
       "    .dataframe tbody tr th {\n",
       "        vertical-align: top;\n",
       "    }\n",
       "\n",
       "    .dataframe thead th {\n",
       "        text-align: right;\n",
       "    }\n",
       "</style>\n",
       "<table border=\"1\" class=\"dataframe\">\n",
       "  <thead>\n",
       "    <tr style=\"text-align: right;\">\n",
       "      <th></th>\n",
       "      <th>text</th>\n",
       "    </tr>\n",
       "  </thead>\n",
       "  <tbody>\n",
       "    <tr>\n",
       "      <td>10790</td>\n",
       "      <td>['ゞ']</td>\n",
       "    </tr>\n",
       "    <tr>\n",
       "      <td>59425</td>\n",
       "      <td>['_']</td>\n",
       "    </tr>\n",
       "    <tr>\n",
       "      <td>59380</td>\n",
       "      <td>['d']</td>\n",
       "    </tr>\n",
       "    <tr>\n",
       "      <td>48950</td>\n",
       "      <td>['me']</td>\n",
       "    </tr>\n",
       "    <tr>\n",
       "      <td>56861</td>\n",
       "      <td>['me']</td>\n",
       "    </tr>\n",
       "  </tbody>\n",
       "</table>\n",
       "</div>"
      ],
      "text/plain": [
       "         text\n",
       "10790   ['ゞ']\n",
       "59425   ['_']\n",
       "59380   ['d']\n",
       "48950  ['me']\n",
       "56861  ['me']"
      ]
     },
     "execution_count": 7,
     "metadata": {},
     "output_type": "execute_result"
    }
   ],
   "source": [
    "# Show the shortest submissions\n",
    "posts.sort_values(by='text_length', ascending=True)[['text']].head()"
   ]
  },
  {
   "cell_type": "code",
   "execution_count": 8,
   "metadata": {},
   "outputs": [
    {
     "data": {
      "text/html": [
       "<div>\n",
       "<style scoped>\n",
       "    .dataframe tbody tr th:only-of-type {\n",
       "        vertical-align: middle;\n",
       "    }\n",
       "\n",
       "    .dataframe tbody tr th {\n",
       "        vertical-align: top;\n",
       "    }\n",
       "\n",
       "    .dataframe thead th {\n",
       "        text-align: right;\n",
       "    }\n",
       "</style>\n",
       "<table border=\"1\" class=\"dataframe\">\n",
       "  <thead>\n",
       "    <tr style=\"text-align: right;\">\n",
       "      <th></th>\n",
       "      <th>text</th>\n",
       "    </tr>\n",
       "  </thead>\n",
       "  <tbody>\n",
       "    <tr>\n",
       "      <td>26143</td>\n",
       "      <td>['zyprexa zydis  anybody take this and feel li...</td>\n",
       "    </tr>\n",
       "    <tr>\n",
       "      <td>70648</td>\n",
       "      <td>['zyprexa not working  i always use zyprexa to...</td>\n",
       "    </tr>\n",
       "    <tr>\n",
       "      <td>5900</td>\n",
       "      <td>['zyprexa and weight gain  im honestly sitting...</td>\n",
       "    </tr>\n",
       "    <tr>\n",
       "      <td>70273</td>\n",
       "      <td>['zyprexa weight gain  does anyone have tips o...</td>\n",
       "    </tr>\n",
       "    <tr>\n",
       "      <td>27572</td>\n",
       "      <td>['zyprexa weight gain  anyone have any clever ...</td>\n",
       "    </tr>\n",
       "  </tbody>\n",
       "</table>\n",
       "</div>"
      ],
      "text/plain": [
       "                                                    text\n",
       "26143  ['zyprexa zydis  anybody take this and feel li...\n",
       "70648  ['zyprexa not working  i always use zyprexa to...\n",
       "5900   ['zyprexa and weight gain  im honestly sitting...\n",
       "70273  ['zyprexa weight gain  does anyone have tips o...\n",
       "27572  ['zyprexa weight gain  anyone have any clever ..."
      ]
     },
     "execution_count": 8,
     "metadata": {},
     "output_type": "execute_result"
    }
   ],
   "source": [
    "# Show the longest submissions\n",
    "posts.sort_values(by='word_stems', ascending=False)[['text']].head()"
   ]
  },
  {
   "cell_type": "code",
   "execution_count": 9,
   "metadata": {},
   "outputs": [
    {
     "data": {
      "text/html": [
       "<div>\n",
       "<style scoped>\n",
       "    .dataframe tbody tr th:only-of-type {\n",
       "        vertical-align: middle;\n",
       "    }\n",
       "\n",
       "    .dataframe tbody tr th {\n",
       "        vertical-align: top;\n",
       "    }\n",
       "\n",
       "    .dataframe thead th {\n",
       "        text-align: right;\n",
       "    }\n",
       "</style>\n",
       "<table border=\"1\" class=\"dataframe\">\n",
       "  <thead>\n",
       "    <tr style=\"text-align: right;\">\n",
       "      <th></th>\n",
       "      <th>text</th>\n",
       "    </tr>\n",
       "  </thead>\n",
       "  <tbody>\n",
       "    <tr>\n",
       "      <td>52029</td>\n",
       "      <td>['i had to']</td>\n",
       "    </tr>\n",
       "    <tr>\n",
       "      <td>27263</td>\n",
       "      <td>[' d']</td>\n",
       "    </tr>\n",
       "    <tr>\n",
       "      <td>23404</td>\n",
       "      <td>['i have 0 control over my emotions  i was dia...</td>\n",
       "    </tr>\n",
       "    <tr>\n",
       "      <td>29440</td>\n",
       "      <td>['1 in 5 college students have anxiety or depr...</td>\n",
       "    </tr>\n",
       "    <tr>\n",
       "      <td>68520</td>\n",
       "      <td>['1 beware of the mighty shrooms 2 floating aw...</td>\n",
       "    </tr>\n",
       "  </tbody>\n",
       "</table>\n",
       "</div>"
      ],
      "text/plain": [
       "                                                    text\n",
       "52029                                       ['i had to']\n",
       "27263                                             [' d']\n",
       "23404  ['i have 0 control over my emotions  i was dia...\n",
       "29440  ['1 in 5 college students have anxiety or depr...\n",
       "68520  ['1 beware of the mighty shrooms 2 floating aw..."
      ]
     },
     "execution_count": 9,
     "metadata": {},
     "output_type": "execute_result"
    }
   ],
   "source": [
    "# Show the shortest submissions\n",
    "posts.sort_values(by='word_stems', ascending=True)[['text']].head()"
   ]
  },
  {
   "cell_type": "code",
   "execution_count": 10,
   "metadata": {},
   "outputs": [
    {
     "data": {
      "text/html": [
       "<div>\n",
       "<style scoped>\n",
       "    .dataframe tbody tr th:only-of-type {\n",
       "        vertical-align: middle;\n",
       "    }\n",
       "\n",
       "    .dataframe tbody tr th {\n",
       "        vertical-align: top;\n",
       "    }\n",
       "\n",
       "    .dataframe thead th {\n",
       "        text-align: right;\n",
       "    }\n",
       "</style>\n",
       "<table border=\"1\" class=\"dataframe\">\n",
       "  <thead>\n",
       "    <tr style=\"text-align: right;\">\n",
       "      <th></th>\n",
       "      <th>text</th>\n",
       "    </tr>\n",
       "  </thead>\n",
       "  <tbody>\n",
       "    <tr>\n",
       "      <td>20744</td>\n",
       "      <td>['reciprocal suffering  if you have the time p...</td>\n",
       "    </tr>\n",
       "    <tr>\n",
       "      <td>18632</td>\n",
       "      <td>['i think i may have schizophrenia please help...</td>\n",
       "    </tr>\n",
       "    <tr>\n",
       "      <td>48150</td>\n",
       "      <td>['a rather fast recovery  ampx200b\\n\\ni will t...</td>\n",
       "    </tr>\n",
       "    <tr>\n",
       "      <td>82243</td>\n",
       "      <td>['ive been depressed for as long as i can reme...</td>\n",
       "    </tr>\n",
       "    <tr>\n",
       "      <td>84800</td>\n",
       "      <td>['a really long sad story  where do i begin it...</td>\n",
       "    </tr>\n",
       "  </tbody>\n",
       "</table>\n",
       "</div>"
      ],
      "text/plain": [
       "                                                    text\n",
       "20744  ['reciprocal suffering  if you have the time p...\n",
       "18632  ['i think i may have schizophrenia please help...\n",
       "48150  ['a rather fast recovery  ampx200b\\n\\ni will t...\n",
       "82243  ['ive been depressed for as long as i can reme...\n",
       "84800  ['a really long sad story  where do i begin it..."
      ]
     },
     "execution_count": 10,
     "metadata": {},
     "output_type": "execute_result"
    }
   ],
   "source": [
    "# Show the longest submissions\n",
    "posts.sort_values(by='stems_word_count', ascending=False)[['text']].head()"
   ]
  },
  {
   "cell_type": "markdown",
   "metadata": {},
   "source": [
    "# Distribution of submission lengths"
   ]
  },
  {
   "cell_type": "code",
   "execution_count": 11,
   "metadata": {},
   "outputs": [
    {
     "name": "stderr",
     "output_type": "stream",
     "text": [
      "/opt/anaconda3/lib/python3.7/site-packages/seaborn/distributions.py:2557: FutureWarning: `distplot` is a deprecated function and will be removed in a future version. Please adapt your code to use either `displot` (a figure-level function with similar flexibility) or `histplot` (an axes-level function for histograms).\n",
      "  warnings.warn(msg, FutureWarning)\n"
     ]
    },
    {
     "data": {
      "image/png": "[encoded data removed]",
      "text/plain": [
       "<Figure size 432x288 with 1 Axes>"
      ]
     },
     "metadata": {
      "needs_background": "light"
     },
     "output_type": "display_data"
    }
   ],
   "source": [
    "sns.distplot(posts['stems_word_count'] , color = 'orange', label=\"Stems Word Count\",bins=50)\n",
    "plt.xlabel(\"count\")\n",
    "plt.title(\"Distribution of Stem Word Lengths\")\n",
    "plt.legend();"
   ]
  },
  {
   "cell_type": "code",
   "execution_count": null,
   "metadata": {},
   "outputs": [],
   "source": [
    "# To do: look at pre and post covid and by disorder"
   ]
  },
  {
   "cell_type": "markdown",
   "metadata": {},
   "source": [
    "## Unique users"
   ]
  },
  {
   "cell_type": "code",
   "execution_count": 12,
   "metadata": {},
   "outputs": [
    {
     "data": {
      "text/html": [
       "<div>\n",
       "<style scoped>\n",
       "    .dataframe tbody tr th:only-of-type {\n",
       "        vertical-align: middle;\n",
       "    }\n",
       "\n",
       "    .dataframe tbody tr th {\n",
       "        vertical-align: top;\n",
       "    }\n",
       "\n",
       "    .dataframe thead th {\n",
       "        text-align: right;\n",
       "    }\n",
       "</style>\n",
       "<table border=\"1\" class=\"dataframe\">\n",
       "  <thead>\n",
       "    <tr style=\"text-align: right;\">\n",
       "      <th></th>\n",
       "      <th>author</th>\n",
       "      <th>created_utc</th>\n",
       "      <th>subreddit</th>\n",
       "      <th>text</th>\n",
       "      <th>timeframe</th>\n",
       "      <th>words</th>\n",
       "      <th>word_stems</th>\n",
       "      <th>text_length</th>\n",
       "      <th>stems_word_count</th>\n",
       "    </tr>\n",
       "  </thead>\n",
       "  <tbody>\n",
       "    <tr>\n",
       "      <td>0</td>\n",
       "      <td>sub30605</td>\n",
       "      <td>1499390694</td>\n",
       "      <td>bulimia</td>\n",
       "      <td>['chest pains  anyone else experience chest pa...</td>\n",
       "      <td>pre-covid</td>\n",
       "      <td>['[', \"'chest\", 'pains', 'anyone', 'else', 'ex...</td>\n",
       "      <td>['[', \"'chest\", 'pains', 'anyone', 'else', 'ex...</td>\n",
       "      <td>172</td>\n",
       "      <td>182</td>\n",
       "    </tr>\n",
       "    <tr>\n",
       "      <td>1</td>\n",
       "      <td>sub27274</td>\n",
       "      <td>1499060654</td>\n",
       "      <td>bulimia</td>\n",
       "      <td>['dying to eat eating to die study on shifting...</td>\n",
       "      <td>pre-covid</td>\n",
       "      <td>['[', \"'dying\", 'eat', 'eating', 'die', 'study...</td>\n",
       "      <td>['[', \"'dying\", 'eat', 'eating', 'die', 'study...</td>\n",
       "      <td>1353</td>\n",
       "      <td>1285</td>\n",
       "    </tr>\n",
       "    <tr>\n",
       "      <td>2</td>\n",
       "      <td>sub6055</td>\n",
       "      <td>1499029087</td>\n",
       "      <td>bulimia</td>\n",
       "      <td>['without purging  what is the quickest way to...</td>\n",
       "      <td>pre-covid</td>\n",
       "      <td>['[', \"'without\", 'purging', 'quickest', 'way'...</td>\n",
       "      <td>['[', \"'without\", 'purging', 'quickest', 'way'...</td>\n",
       "      <td>77</td>\n",
       "      <td>98</td>\n",
       "    </tr>\n",
       "    <tr>\n",
       "      <td>3</td>\n",
       "      <td>sub40365</td>\n",
       "      <td>1498978259</td>\n",
       "      <td>bulimia</td>\n",
       "      <td>['bulimia and melancholy feelings  i havent pu...</td>\n",
       "      <td>pre-covid</td>\n",
       "      <td>['[', \"'bulimia\", 'melancholy', 'feelings', 'h...</td>\n",
       "      <td>['[', \"'bulimia\", 'melancholy', 'feelings', 'h...</td>\n",
       "      <td>398</td>\n",
       "      <td>386</td>\n",
       "    </tr>\n",
       "    <tr>\n",
       "      <td>4</td>\n",
       "      <td>sub49857</td>\n",
       "      <td>1498814187</td>\n",
       "      <td>bulimia</td>\n",
       "      <td>['im relapsing  fuck im so upset at myself rig...</td>\n",
       "      <td>pre-covid</td>\n",
       "      <td>['[', \"'im\", 'relapsing', 'fuck', 'im', 'upset...</td>\n",
       "      <td>['[', \"'im\", 'relapsing', 'fuck', 'im', 'upset...</td>\n",
       "      <td>718</td>\n",
       "      <td>689</td>\n",
       "    </tr>\n",
       "  </tbody>\n",
       "</table>\n",
       "</div>"
      ],
      "text/plain": [
       "     author  created_utc subreddit  \\\n",
       "0  sub30605   1499390694   bulimia   \n",
       "1  sub27274   1499060654   bulimia   \n",
       "2   sub6055   1499029087   bulimia   \n",
       "3  sub40365   1498978259   bulimia   \n",
       "4  sub49857   1498814187   bulimia   \n",
       "\n",
       "                                                text  timeframe  \\\n",
       "0  ['chest pains  anyone else experience chest pa...  pre-covid   \n",
       "1  ['dying to eat eating to die study on shifting...  pre-covid   \n",
       "2  ['without purging  what is the quickest way to...  pre-covid   \n",
       "3  ['bulimia and melancholy feelings  i havent pu...  pre-covid   \n",
       "4  ['im relapsing  fuck im so upset at myself rig...  pre-covid   \n",
       "\n",
       "                                               words  \\\n",
       "0  ['[', \"'chest\", 'pains', 'anyone', 'else', 'ex...   \n",
       "1  ['[', \"'dying\", 'eat', 'eating', 'die', 'study...   \n",
       "2  ['[', \"'without\", 'purging', 'quickest', 'way'...   \n",
       "3  ['[', \"'bulimia\", 'melancholy', 'feelings', 'h...   \n",
       "4  ['[', \"'im\", 'relapsing', 'fuck', 'im', 'upset...   \n",
       "\n",
       "                                          word_stems  text_length  \\\n",
       "0  ['[', \"'chest\", 'pains', 'anyone', 'else', 'ex...          172   \n",
       "1  ['[', \"'dying\", 'eat', 'eating', 'die', 'study...         1353   \n",
       "2  ['[', \"'without\", 'purging', 'quickest', 'way'...           77   \n",
       "3  ['[', \"'bulimia\", 'melancholy', 'feelings', 'h...          398   \n",
       "4  ['[', \"'im\", 'relapsing', 'fuck', 'im', 'upset...          718   \n",
       "\n",
       "   stems_word_count  \n",
       "0               182  \n",
       "1              1285  \n",
       "2                98  \n",
       "3               386  \n",
       "4               689  "
      ]
     },
     "execution_count": 12,
     "metadata": {},
     "output_type": "execute_result"
    }
   ],
   "source": [
    "posts.head()"
   ]
  },
  {
   "cell_type": "code",
   "execution_count": 13,
   "metadata": {},
   "outputs": [
    {
     "data": {
      "text/plain": [
       "count        85322\n",
       "unique       58522\n",
       "top       sub39034\n",
       "freq            89\n",
       "Name: author, dtype: object"
      ]
     },
     "execution_count": 13,
     "metadata": {},
     "output_type": "execute_result"
    }
   ],
   "source": [
    "# Find number of unique users for combined dataset.\n",
    "posts['author'].describe()"
   ]
  },
  {
   "cell_type": "code",
   "execution_count": 14,
   "metadata": {},
   "outputs": [
    {
     "data": {
      "text/plain": [
       "sub39034    89\n",
       "sub229      82\n",
       "sub57663    81\n",
       "sub53852    73\n",
       "sub8815     72\n",
       "sub5687     60\n",
       "sub28226    58\n",
       "sub16227    52\n",
       "sub11811    52\n",
       "sub16344    50\n",
       "Name: author, dtype: int64"
      ]
     },
     "execution_count": 14,
     "metadata": {},
     "output_type": "execute_result"
    }
   ],
   "source": [
    "# Look at number of submissions per user.\n",
    "posts['author'].value_counts().head(10)"
   ]
  },
  {
   "cell_type": "markdown",
   "metadata": {},
   "source": [
    "## Plot most frequently used words"
   ]
  },
  {
   "cell_type": "code",
   "execution_count": 15,
   "metadata": {},
   "outputs": [],
   "source": [
    "# create the transform\n",
    "vectorizer = TfidfVectorizer()"
   ]
  },
  {
   "cell_type": "code",
   "execution_count": 16,
   "metadata": {},
   "outputs": [],
   "source": [
    "text = posts['word_stems']"
   ]
  },
  {
   "cell_type": "code",
   "execution_count": 17,
   "metadata": {},
   "outputs": [],
   "source": [
    "vectors = vectorizer.fit_transform(text)"
   ]
  },
  {
   "cell_type": "code",
   "execution_count": 18,
   "metadata": {},
   "outputs": [],
   "source": [
    "feature_names = vectorizer.get_feature_names()\n"
   ]
  },
  {
   "cell_type": "code",
   "execution_count": 19,
   "metadata": {},
   "outputs": [],
   "source": [
    "dense = vectors.todense()\n"
   ]
  },
  {
   "cell_type": "code",
   "execution_count": null,
   "metadata": {},
   "outputs": [],
   "source": [
    "denselist = dense.tolist()\n"
   ]
  },
  {
   "cell_type": "code",
   "execution_count": null,
   "metadata": {},
   "outputs": [],
   "source": [
    "df = pd.DataFrame(denselist, columns=feature_names)\n"
   ]
  },
  {
   "cell_type": "code",
   "execution_count": null,
   "metadata": {},
   "outputs": [],
   "source": [
    "df.sum(axis=0).sort_values(ascending=False).head(15)\n"
   ]
  },
  {
   "cell_type": "code",
   "execution_count": null,
   "metadata": {},
   "outputs": [],
   "source": [
    "df.sum().sort_values(ascending=False).head(20).plot(kind='barh');\n"
   ]
  },
  {
   "cell_type": "code",
   "execution_count": null,
   "metadata": {},
   "outputs": [],
   "source": []
  }
 ],
 "metadata": {
  "kernelspec": {
   "display_name": "Python 3",
   "language": "python",
   "name": "python3"
  },
  "language_info": {
   "codemirror_mode": {
    "name": "ipython",
    "version": 3
   },
   "file_extension": ".py",
   "mimetype": "text/x-python",
   "name": "python",
   "nbconvert_exporter": "python",
   "pygments_lexer": "ipython3",
   "version": "3.7.4"
  },
  "toc": {
   "base_numbering": 1,
   "nav_menu": {},
   "number_sections": true,
   "sideBar": true,
   "skip_h1_title": false,
   "title_cell": "Table of Contents",
   "title_sidebar": "Contents",
   "toc_cell": false,
   "toc_position": {},
   "toc_section_display": true,
   "toc_window_display": false
  }
 },
 "nbformat": 4,
 "nbformat_minor": 2
}
