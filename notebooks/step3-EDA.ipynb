{
 "cells": [
  {
   "cell_type": "markdown",
   "metadata": {},
   "source": [
    "# EDA"
   ]
  },
  {
   "cell_type": "markdown",
   "metadata": {},
   "source": [
    "##### Import libraries"
   ]
  },
  {
   "cell_type": "code",
   "execution_count": 2,
   "metadata": {},
   "outputs": [],
   "source": [
    "import pandas as pd\n",
    "import numpy as np\n",
    "\n",
    "import seaborn as sns\n",
    "import matplotlib.pyplot as plt\n",
    "plt.style.use('fivethirtyeight')\n",
    "\n",
    "import datetime\n",
    "import nltk\n",
    "from sklearn.feature_extraction.text import CountVectorizer\n",
    "from sklearn.feature_extraction.text import TfidfVectorizer"
   ]
  },
  {
   "cell_type": "markdown",
   "metadata": {},
   "source": [
    "##### Load data"
   ]
  },
  {
   "cell_type": "code",
   "execution_count": 3,
   "metadata": {},
   "outputs": [],
   "source": [
    "posts = pd.read_csv('../data/posts-preprocessed.csv') "
   ]
  },
  {
   "cell_type": "code",
   "execution_count": 4,
   "metadata": {},
   "outputs": [
    {
     "data": {
      "text/html": [
       "<div>\n",
       "<style scoped>\n",
       "    .dataframe tbody tr th:only-of-type {\n",
       "        vertical-align: middle;\n",
       "    }\n",
       "\n",
       "    .dataframe tbody tr th {\n",
       "        vertical-align: top;\n",
       "    }\n",
       "\n",
       "    .dataframe thead th {\n",
       "        text-align: right;\n",
       "    }\n",
       "</style>\n",
       "<table border=\"1\" class=\"dataframe\">\n",
       "  <thead>\n",
       "    <tr style=\"text-align: right;\">\n",
       "      <th></th>\n",
       "      <th>author</th>\n",
       "      <th>created_utc</th>\n",
       "      <th>subreddit</th>\n",
       "      <th>timeframe</th>\n",
       "      <th>text_clean</th>\n",
       "      <th>sent_tokens</th>\n",
       "      <th>word_tokens</th>\n",
       "    </tr>\n",
       "  </thead>\n",
       "  <tbody>\n",
       "    <tr>\n",
       "      <td>0</td>\n",
       "      <td>sub30605</td>\n",
       "      <td>1499390694</td>\n",
       "      <td>bulimia</td>\n",
       "      <td>pre-covid</td>\n",
       "      <td>chest anyone else experience chest purging kno...</td>\n",
       "      <td>['chest anyone else experience chest purging k...</td>\n",
       "      <td>['chest', 'anyone', 'else', 'experience', 'che...</td>\n",
       "    </tr>\n",
       "    <tr>\n",
       "      <td>1</td>\n",
       "      <td>sub27274</td>\n",
       "      <td>1499060654</td>\n",
       "      <td>bulimia</td>\n",
       "      <td>pre-covid</td>\n",
       "      <td>dying eat eating die study shifting coping men...</td>\n",
       "      <td>['dying eat eating die study shifting coping m...</td>\n",
       "      <td>['dying', 'eat', 'eating', 'die', 'study', 'sh...</td>\n",
       "    </tr>\n",
       "    <tr>\n",
       "      <td>2</td>\n",
       "      <td>sub6055</td>\n",
       "      <td>1499029087</td>\n",
       "      <td>bulimia</td>\n",
       "      <td>pre-covid</td>\n",
       "      <td>without purging way lose weight without exercise</td>\n",
       "      <td>['without purging way lose weight without exer...</td>\n",
       "      <td>['without', 'purging', 'way', 'lose', 'weight'...</td>\n",
       "    </tr>\n",
       "    <tr>\n",
       "      <td>3</td>\n",
       "      <td>sub40365</td>\n",
       "      <td>1498978259</td>\n",
       "      <td>bulimia</td>\n",
       "      <td>pre-covid</td>\n",
       "      <td>melancholy little month since slowly losing ha...</td>\n",
       "      <td>['melancholy little month since slowly losing ...</td>\n",
       "      <td>['melancholy', 'little', 'month', 'since', 'sl...</td>\n",
       "    </tr>\n",
       "    <tr>\n",
       "      <td>4</td>\n",
       "      <td>sub49857</td>\n",
       "      <td>1498814187</td>\n",
       "      <td>bulimia</td>\n",
       "      <td>pre-covid</td>\n",
       "      <td>relapsing upset right twice week good tired cy...</td>\n",
       "      <td>['relapsing upset right twice week good tired ...</td>\n",
       "      <td>['relapsing', 'upset', 'right', 'twice', 'week...</td>\n",
       "    </tr>\n",
       "  </tbody>\n",
       "</table>\n",
       "</div>"
      ],
      "text/plain": [
       "     author  created_utc subreddit  timeframe  \\\n",
       "0  sub30605   1499390694   bulimia  pre-covid   \n",
       "1  sub27274   1499060654   bulimia  pre-covid   \n",
       "2   sub6055   1499029087   bulimia  pre-covid   \n",
       "3  sub40365   1498978259   bulimia  pre-covid   \n",
       "4  sub49857   1498814187   bulimia  pre-covid   \n",
       "\n",
       "                                          text_clean  \\\n",
       "0  chest anyone else experience chest purging kno...   \n",
       "1  dying eat eating die study shifting coping men...   \n",
       "2   without purging way lose weight without exercise   \n",
       "3  melancholy little month since slowly losing ha...   \n",
       "4  relapsing upset right twice week good tired cy...   \n",
       "\n",
       "                                         sent_tokens  \\\n",
       "0  ['chest anyone else experience chest purging k...   \n",
       "1  ['dying eat eating die study shifting coping m...   \n",
       "2  ['without purging way lose weight without exer...   \n",
       "3  ['melancholy little month since slowly losing ...   \n",
       "4  ['relapsing upset right twice week good tired ...   \n",
       "\n",
       "                                         word_tokens  \n",
       "0  ['chest', 'anyone', 'else', 'experience', 'che...  \n",
       "1  ['dying', 'eat', 'eating', 'die', 'study', 'sh...  \n",
       "2  ['without', 'purging', 'way', 'lose', 'weight'...  \n",
       "3  ['melancholy', 'little', 'month', 'since', 'sl...  \n",
       "4  ['relapsing', 'upset', 'right', 'twice', 'week...  "
      ]
     },
     "execution_count": 4,
     "metadata": {},
     "output_type": "execute_result"
    }
   ],
   "source": [
    "posts.head()"
   ]
  },
  {
   "cell_type": "code",
   "execution_count": 5,
   "metadata": {},
   "outputs": [
    {
     "data": {
      "text/plain": [
       "(84879, 7)"
      ]
     },
     "execution_count": 5,
     "metadata": {},
     "output_type": "execute_result"
    }
   ],
   "source": [
    "posts.shape"
   ]
  },
  {
   "cell_type": "code",
   "execution_count": 14,
   "metadata": {},
   "outputs": [
    {
     "data": {
      "image/png": "[encoded data removed]",
      "text/plain": [
       "<Figure size 360x360 with 1 Axes>"
      ]
     },
     "metadata": {
      "needs_background": "light"
     },
     "output_type": "display_data"
    }
   ],
   "source": [
    "# Value counts of posts per subreddit\n",
    "posts.subreddit.value_counts().plot(kind='barh', figsize=(5,5))\n",
    "plt.title('Posts by Subreddit Value Counts')\n",
    "plt.ylabel('Subreddit')\n",
    "plt.xlabel('Count');"
   ]
  },
  {
   "cell_type": "markdown",
   "metadata": {},
   "source": [
    "The posts collected for each subreddit, after cleaning and pre- processing, remain approximately even"
   ]
  },
  {
   "cell_type": "code",
   "execution_count": 4,
   "metadata": {
    "scrolled": true
   },
   "outputs": [
    {
     "data": {
      "text/plain": [
       "bulimia            9746\n",
       "AnorexiaNervosa    9666\n",
       "Anxiety            9442\n",
       "mentalhealth       9422\n",
       "schizophrenia      9405\n",
       "bipolar            9389\n",
       "BPD                9335\n",
       "depression         9317\n",
       "autism             9157\n",
       "Name: subreddit, dtype: int64"
      ]
     },
     "execution_count": 4,
     "metadata": {},
     "output_type": "execute_result"
    }
   ],
   "source": [
    "posts['subreddit'].value_counts()"
   ]
  },
  {
   "cell_type": "code",
   "execution_count": 13,
   "metadata": {},
   "outputs": [
    {
     "data": {
      "image/png": "[encoded data removed]",
      "text/plain": [
       "<Figure size 360x360 with 1 Axes>"
      ]
     },
     "metadata": {
      "needs_background": "light"
     },
     "output_type": "display_data"
    }
   ],
   "source": [
    "# Value counts for timeframe pre vs post covid\n",
    "posts.timeframe.value_counts().plot(kind='barh', figsize=(5,5))\n",
    "plt.title('Pre/Post-Covid Value Counts')\n",
    "plt.ylabel('Timeframe')\n",
    "plt.xlabel('Count');"
   ]
  },
  {
   "cell_type": "markdown",
   "metadata": {},
   "source": [
    "We can see here our posts collected are roughly even from pre and post covid onset"
   ]
  },
  {
   "cell_type": "code",
   "execution_count": 6,
   "metadata": {
    "scrolled": true
   },
   "outputs": [
    {
     "data": {
      "text/plain": [
       "post-covid    42924\n",
       "pre-covid     41955\n",
       "Name: timeframe, dtype: int64"
      ]
     },
     "execution_count": 6,
     "metadata": {},
     "output_type": "execute_result"
    }
   ],
   "source": [
    "posts['timeframe'].value_counts()"
   ]
  },
  {
   "cell_type": "code",
   "execution_count": 5,
   "metadata": {},
   "outputs": [
    {
     "name": "stdout",
     "output_type": "stream",
     "text": [
      "<class 'pandas.core.frame.DataFrame'>\n",
      "RangeIndex: 84879 entries, 0 to 84878\n",
      "Data columns (total 7 columns):\n",
      "author         84879 non-null object\n",
      "created_utc    84879 non-null int64\n",
      "subreddit      84879 non-null object\n",
      "timeframe      84879 non-null object\n",
      "text_clean     84879 non-null object\n",
      "sent_tokens    84879 non-null object\n",
      "word_tokens    84879 non-null object\n",
      "dtypes: int64(1), object(6)\n",
      "memory usage: 4.5+ MB\n"
     ]
    }
   ],
   "source": [
    "posts.info()"
   ]
  },
  {
   "cell_type": "markdown",
   "metadata": {},
   "source": [
    "### Submission Lengths"
   ]
  },
  {
   "cell_type": "code",
   "execution_count": 6,
   "metadata": {},
   "outputs": [],
   "source": [
    "# Create a new column with submission length\n",
    "posts['text_length'] = posts['text_clean'].map(len)"
   ]
  },
  {
   "cell_type": "code",
   "execution_count": 7,
   "metadata": {},
   "outputs": [
    {
     "data": {
      "text/html": [
       "<div>\n",
       "<style scoped>\n",
       "    .dataframe tbody tr th:only-of-type {\n",
       "        vertical-align: middle;\n",
       "    }\n",
       "\n",
       "    .dataframe tbody tr th {\n",
       "        vertical-align: top;\n",
       "    }\n",
       "\n",
       "    .dataframe thead th {\n",
       "        text-align: right;\n",
       "    }\n",
       "</style>\n",
       "<table border=\"1\" class=\"dataframe\">\n",
       "  <thead>\n",
       "    <tr style=\"text-align: right;\">\n",
       "      <th></th>\n",
       "      <th>author</th>\n",
       "      <th>created_utc</th>\n",
       "      <th>subreddit</th>\n",
       "      <th>timeframe</th>\n",
       "      <th>text_clean</th>\n",
       "      <th>sent_tokens</th>\n",
       "      <th>word_tokens</th>\n",
       "      <th>text_length</th>\n",
       "    </tr>\n",
       "  </thead>\n",
       "  <tbody>\n",
       "    <tr>\n",
       "      <td>20575</td>\n",
       "      <td>sub10566</td>\n",
       "      <td>1523054488</td>\n",
       "      <td>BPD</td>\n",
       "      <td>pre-covid</td>\n",
       "      <td>reciprocal suffering time please either read e...</td>\n",
       "      <td>['reciprocal suffering time please either read...</td>\n",
       "      <td>['reciprocal', 'suffering', 'time', 'please', ...</td>\n",
       "      <td>18463</td>\n",
       "    </tr>\n",
       "    <tr>\n",
       "      <td>47884</td>\n",
       "      <td>sub28989</td>\n",
       "      <td>1585853811</td>\n",
       "      <td>AnorexiaNervosa</td>\n",
       "      <td>post-covid</td>\n",
       "      <td>rather fast recovery turn old year one want te...</td>\n",
       "      <td>['rather fast recovery turn old year one want ...</td>\n",
       "      <td>['rather', 'fast', 'recovery', 'turn', 'old', ...</td>\n",
       "      <td>11019</td>\n",
       "    </tr>\n",
       "    <tr>\n",
       "      <td>84357</td>\n",
       "      <td>sub26398</td>\n",
       "      <td>1596187654</td>\n",
       "      <td>mentalhealth</td>\n",
       "      <td>post-covid</td>\n",
       "      <td>really long sad story begin tough think write ...</td>\n",
       "      <td>['really long sad story begin tough think writ...</td>\n",
       "      <td>['really', 'long', 'sad', 'story', 'begin', 't...</td>\n",
       "      <td>10958</td>\n",
       "    </tr>\n",
       "    <tr>\n",
       "      <td>18476</td>\n",
       "      <td>sub8113</td>\n",
       "      <td>1560710792</td>\n",
       "      <td>schizophrenia</td>\n",
       "      <td>pre-covid</td>\n",
       "      <td>think may please help many read need advice kn...</td>\n",
       "      <td>['think may please help many read need advice ...</td>\n",
       "      <td>['think', 'may', 'please', 'help', 'many', 're...</td>\n",
       "      <td>10937</td>\n",
       "    </tr>\n",
       "    <tr>\n",
       "      <td>81803</td>\n",
       "      <td>sub48040</td>\n",
       "      <td>1598532714</td>\n",
       "      <td>mentalhealth</td>\n",
       "      <td>post-covid</td>\n",
       "      <td>long remember really know happy like many damn...</td>\n",
       "      <td>['long remember really know happy like many da...</td>\n",
       "      <td>['long', 'remember', 'really', 'know', 'happy'...</td>\n",
       "      <td>10875</td>\n",
       "    </tr>\n",
       "  </tbody>\n",
       "</table>\n",
       "</div>"
      ],
      "text/plain": [
       "         author  created_utc        subreddit   timeframe  \\\n",
       "20575  sub10566   1523054488              BPD   pre-covid   \n",
       "47884  sub28989   1585853811  AnorexiaNervosa  post-covid   \n",
       "84357  sub26398   1596187654     mentalhealth  post-covid   \n",
       "18476   sub8113   1560710792    schizophrenia   pre-covid   \n",
       "81803  sub48040   1598532714     mentalhealth  post-covid   \n",
       "\n",
       "                                              text_clean  \\\n",
       "20575  reciprocal suffering time please either read e...   \n",
       "47884  rather fast recovery turn old year one want te...   \n",
       "84357  really long sad story begin tough think write ...   \n",
       "18476  think may please help many read need advice kn...   \n",
       "81803  long remember really know happy like many damn...   \n",
       "\n",
       "                                             sent_tokens  \\\n",
       "20575  ['reciprocal suffering time please either read...   \n",
       "47884  ['rather fast recovery turn old year one want ...   \n",
       "84357  ['really long sad story begin tough think writ...   \n",
       "18476  ['think may please help many read need advice ...   \n",
       "81803  ['long remember really know happy like many da...   \n",
       "\n",
       "                                             word_tokens  text_length  \n",
       "20575  ['reciprocal', 'suffering', 'time', 'please', ...        18463  \n",
       "47884  ['rather', 'fast', 'recovery', 'turn', 'old', ...        11019  \n",
       "84357  ['really', 'long', 'sad', 'story', 'begin', 't...        10958  \n",
       "18476  ['think', 'may', 'please', 'help', 'many', 're...        10937  \n",
       "81803  ['long', 'remember', 'really', 'know', 'happy'...        10875  "
      ]
     },
     "execution_count": 7,
     "metadata": {},
     "output_type": "execute_result"
    }
   ],
   "source": [
    "# Show the longest submissions\n",
    "posts.sort_values(by='text_length', ascending=False).head()"
   ]
  },
  {
   "cell_type": "markdown",
   "metadata": {},
   "source": [
    "### Distribution of submission lengths"
   ]
  },
  {
   "cell_type": "markdown",
   "metadata": {},
   "source": [
    "Is there a difference between subreddit groups in text length?"
   ]
  },
  {
   "cell_type": "code",
   "execution_count": 8,
   "metadata": {},
   "outputs": [
    {
     "data": {
      "text/plain": [
       "subreddit\n",
       "AnorexiaNervosa    304.459859\n",
       "Anxiety            398.853103\n",
       "BPD                472.454312\n",
       "autism             232.360598\n",
       "bipolar            295.505592\n",
       "bulimia            311.594500\n",
       "depression         396.272727\n",
       "mentalhealth       505.343239\n",
       "schizophrenia      284.537693\n",
       "Name: text_length, dtype: float64"
      ]
     },
     "execution_count": 8,
     "metadata": {},
     "output_type": "execute_result"
    }
   ],
   "source": [
    "posts.groupby('subreddit')['text_length'].mean()"
   ]
  },
  {
   "cell_type": "markdown",
   "metadata": {},
   "source": [
    "Overall what is the distribution of the lengths of sub-Reddit posts?"
   ]
  },
  {
   "cell_type": "code",
   "execution_count": 9,
   "metadata": {
    "scrolled": true
   },
   "outputs": [
    {
     "data": {
      "image/png": "[encoded data removed]",
      "text/plain": [
       "<Figure size 432x288 with 1 Axes>"
      ]
     },
     "metadata": {
      "needs_background": "light"
     },
     "output_type": "display_data"
    }
   ],
   "source": [
    "sns.histplot(posts['text_length'], color = 'orange', label=\"Submission lenthgs\",bins=50)\n",
    "plt.xlabel(\"count\")\n",
    "plt.title(\"Distribution of Submission Lengths\")\n",
    "plt.legend();"
   ]
  },
  {
   "cell_type": "markdown",
   "metadata": {},
   "source": [
    "\n",
    "The distribution of submission length is very skewed, showing us most submissions are fairly short (a median of 227 words). It looks like some posts are much longer but hard to tell in this plot, so we will look at a box plot below."
   ]
  },
  {
   "cell_type": "code",
   "execution_count": 10,
   "metadata": {},
   "outputs": [
    {
     "data": {
      "image/png": "[encoded data removed]",
      "text/plain": [
       "<Figure size 432x288 with 1 Axes>"
      ]
     },
     "metadata": {
      "needs_background": "light"
     },
     "output_type": "display_data"
    }
   ],
   "source": [
    "sns.boxplot(data = posts['text_length']);"
   ]
  },
  {
   "cell_type": "markdown",
   "metadata": {},
   "source": [
    "From the box plot we can see there are a few outliers of very long posts."
   ]
  },
  {
   "cell_type": "code",
   "execution_count": 11,
   "metadata": {},
   "outputs": [
    {
     "data": {
      "text/plain": [
       "count    84879.000000\n",
       "mean       355.656440\n",
       "std        457.143582\n",
       "min          1.000000\n",
       "25%         87.000000\n",
       "50%        227.000000\n",
       "75%        455.000000\n",
       "max      18463.000000\n",
       "Name: text_length, dtype: float64"
      ]
     },
     "execution_count": 11,
     "metadata": {},
     "output_type": "execute_result"
    }
   ],
   "source": [
    "posts['text_length'].describe()"
   ]
  },
  {
   "cell_type": "markdown",
   "metadata": {},
   "source": [
    "Let's checkout the longest posts to have some more information about these outliers. "
   ]
  },
  {
   "cell_type": "code",
   "execution_count": 12,
   "metadata": {},
   "outputs": [
    {
     "data": {
      "text/html": [
       "<div>\n",
       "<style scoped>\n",
       "    .dataframe tbody tr th:only-of-type {\n",
       "        vertical-align: middle;\n",
       "    }\n",
       "\n",
       "    .dataframe tbody tr th {\n",
       "        vertical-align: top;\n",
       "    }\n",
       "\n",
       "    .dataframe thead th {\n",
       "        text-align: right;\n",
       "    }\n",
       "</style>\n",
       "<table border=\"1\" class=\"dataframe\">\n",
       "  <thead>\n",
       "    <tr style=\"text-align: right;\">\n",
       "      <th></th>\n",
       "      <th>author</th>\n",
       "      <th>created_utc</th>\n",
       "      <th>subreddit</th>\n",
       "      <th>timeframe</th>\n",
       "      <th>text_clean</th>\n",
       "      <th>sent_tokens</th>\n",
       "      <th>word_tokens</th>\n",
       "      <th>text_length</th>\n",
       "    </tr>\n",
       "  </thead>\n",
       "  <tbody>\n",
       "    <tr>\n",
       "      <td>18476</td>\n",
       "      <td>sub8113</td>\n",
       "      <td>1560710792</td>\n",
       "      <td>schizophrenia</td>\n",
       "      <td>pre-covid</td>\n",
       "      <td>think may please help many read need advice kn...</td>\n",
       "      <td>['think may please help many read need advice ...</td>\n",
       "      <td>['think', 'may', 'please', 'help', 'many', 're...</td>\n",
       "      <td>10937</td>\n",
       "    </tr>\n",
       "    <tr>\n",
       "      <td>20575</td>\n",
       "      <td>sub10566</td>\n",
       "      <td>1523054488</td>\n",
       "      <td>BPD</td>\n",
       "      <td>pre-covid</td>\n",
       "      <td>reciprocal suffering time please either read e...</td>\n",
       "      <td>['reciprocal suffering time please either read...</td>\n",
       "      <td>['reciprocal', 'suffering', 'time', 'please', ...</td>\n",
       "      <td>18463</td>\n",
       "    </tr>\n",
       "    <tr>\n",
       "      <td>47884</td>\n",
       "      <td>sub28989</td>\n",
       "      <td>1585853811</td>\n",
       "      <td>AnorexiaNervosa</td>\n",
       "      <td>post-covid</td>\n",
       "      <td>rather fast recovery turn old year one want te...</td>\n",
       "      <td>['rather fast recovery turn old year one want ...</td>\n",
       "      <td>['rather', 'fast', 'recovery', 'turn', 'old', ...</td>\n",
       "      <td>11019</td>\n",
       "    </tr>\n",
       "    <tr>\n",
       "      <td>81803</td>\n",
       "      <td>sub48040</td>\n",
       "      <td>1598532714</td>\n",
       "      <td>mentalhealth</td>\n",
       "      <td>post-covid</td>\n",
       "      <td>long remember really know happy like many damn...</td>\n",
       "      <td>['long remember really know happy like many da...</td>\n",
       "      <td>['long', 'remember', 'really', 'know', 'happy'...</td>\n",
       "      <td>10875</td>\n",
       "    </tr>\n",
       "    <tr>\n",
       "      <td>84357</td>\n",
       "      <td>sub26398</td>\n",
       "      <td>1596187654</td>\n",
       "      <td>mentalhealth</td>\n",
       "      <td>post-covid</td>\n",
       "      <td>really long sad story begin tough think write ...</td>\n",
       "      <td>['really long sad story begin tough think writ...</td>\n",
       "      <td>['really', 'long', 'sad', 'story', 'begin', 't...</td>\n",
       "      <td>10958</td>\n",
       "    </tr>\n",
       "  </tbody>\n",
       "</table>\n",
       "</div>"
      ],
      "text/plain": [
       "         author  created_utc        subreddit   timeframe  \\\n",
       "18476   sub8113   1560710792    schizophrenia   pre-covid   \n",
       "20575  sub10566   1523054488              BPD   pre-covid   \n",
       "47884  sub28989   1585853811  AnorexiaNervosa  post-covid   \n",
       "81803  sub48040   1598532714     mentalhealth  post-covid   \n",
       "84357  sub26398   1596187654     mentalhealth  post-covid   \n",
       "\n",
       "                                              text_clean  \\\n",
       "18476  think may please help many read need advice kn...   \n",
       "20575  reciprocal suffering time please either read e...   \n",
       "47884  rather fast recovery turn old year one want te...   \n",
       "81803  long remember really know happy like many damn...   \n",
       "84357  really long sad story begin tough think write ...   \n",
       "\n",
       "                                             sent_tokens  \\\n",
       "18476  ['think may please help many read need advice ...   \n",
       "20575  ['reciprocal suffering time please either read...   \n",
       "47884  ['rather fast recovery turn old year one want ...   \n",
       "81803  ['long remember really know happy like many da...   \n",
       "84357  ['really long sad story begin tough think writ...   \n",
       "\n",
       "                                             word_tokens  text_length  \n",
       "18476  ['think', 'may', 'please', 'help', 'many', 're...        10937  \n",
       "20575  ['reciprocal', 'suffering', 'time', 'please', ...        18463  \n",
       "47884  ['rather', 'fast', 'recovery', 'turn', 'old', ...        11019  \n",
       "81803  ['long', 'remember', 'really', 'know', 'happy'...        10875  \n",
       "84357  ['really', 'long', 'sad', 'story', 'begin', 't...        10958  "
      ]
     },
     "execution_count": 12,
     "metadata": {},
     "output_type": "execute_result"
    }
   ],
   "source": [
    "posts.loc[posts['text_length'] > 10000]"
   ]
  },
  {
   "cell_type": "markdown",
   "metadata": {},
   "source": [
    "We will keep these outliers in the dataset for our classification analysis."
   ]
  },
  {
   "cell_type": "markdown",
   "metadata": {},
   "source": [
    "### Unique users"
   ]
  },
  {
   "cell_type": "markdown",
   "metadata": {},
   "source": [
    "Find number of unique users for combined dataset:"
   ]
  },
  {
   "cell_type": "code",
   "execution_count": 13,
   "metadata": {},
   "outputs": [
    {
     "data": {
      "text/plain": [
       "count        84879\n",
       "unique       58356\n",
       "top       sub39034\n",
       "freq            87\n",
       "Name: author, dtype: object"
      ]
     },
     "execution_count": 13,
     "metadata": {},
     "output_type": "execute_result"
    }
   ],
   "source": [
    "posts['author'].describe()"
   ]
  },
  {
   "cell_type": "markdown",
   "metadata": {},
   "source": [
    "Look at number of submissions per user:"
   ]
  },
  {
   "cell_type": "code",
   "execution_count": 14,
   "metadata": {},
   "outputs": [
    {
     "data": {
      "text/plain": [
       "sub39034    87\n",
       "sub57663    81\n",
       "sub53852    73\n",
       "sub8815     71\n",
       "sub229      66\n",
       "sub28226    58\n",
       "sub5687     53\n",
       "sub11811    52\n",
       "sub39929    50\n",
       "sub16344    49\n",
       "Name: author, dtype: int64"
      ]
     },
     "execution_count": 14,
     "metadata": {},
     "output_type": "execute_result"
    }
   ],
   "source": [
    "posts['author'].value_counts().head(10)"
   ]
  },
  {
   "cell_type": "code",
   "execution_count": null,
   "metadata": {},
   "outputs": [],
   "source": []
  }
 ],
 "metadata": {
  "kernelspec": {
   "display_name": "Python 3",
   "language": "python",
   "name": "python3"
  },
  "language_info": {
   "codemirror_mode": {
    "name": "ipython",
    "version": 3
   },
   "file_extension": ".py",
   "mimetype": "text/x-python",
   "name": "python",
   "nbconvert_exporter": "python",
   "pygments_lexer": "ipython3",
   "version": "3.7.4"
  },
  "toc": {
   "base_numbering": 1,
   "nav_menu": {},
   "number_sections": true,
   "sideBar": true,
   "skip_h1_title": false,
   "title_cell": "Table of Contents",
   "title_sidebar": "Contents",
   "toc_cell": false,
   "toc_position": {},
   "toc_section_display": true,
   "toc_window_display": false
  }
 },
 "nbformat": 4,
 "nbformat_minor": 2
}
