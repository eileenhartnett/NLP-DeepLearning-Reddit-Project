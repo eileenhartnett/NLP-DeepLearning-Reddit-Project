{
 "cells": [
  {
   "cell_type": "markdown",
   "metadata": {},
   "source": [
    "# Scrape SubReddit Pages"
   ]
  },
  {
   "cell_type": "code",
   "execution_count": 35,
   "metadata": {},
   "outputs": [],
   "source": [
    "import pandas as pd\n",
    "import requests\n",
    "import json\n",
    "import csv\n",
    "import time\n",
    "import datetime as dt\n",
    "import pandas as pd\n",
    "from pmaw import PushshiftAPI"
   ]
  },
  {
   "cell_type": "markdown",
   "metadata": {},
   "source": [
    "## Define a function to scrape data from SubReddit pages"
   ]
  },
  {
   "cell_type": "markdown",
   "metadata": {},
   "source": [
    "PMAW: Under the hood, pmaw makes several API requests to Pushshift that each return a maximum of 100 comments, with requests being subjected to a rate-limit of 60 requests per minute. \n",
    "\n",
    "\n",
    "https://medium.com/swlh/how-to-scrape-large-amounts-of-reddit-data-using-pushshift-1d33bde9286\n"
   ]
  },
  {
   "cell_type": "code",
   "execution_count": 60,
   "metadata": {},
   "outputs": [],
   "source": [
    "api = PushshiftAPI()"
   ]
  },
  {
   "cell_type": "code",
   "execution_count": 61,
   "metadata": {},
   "outputs": [],
   "source": [
    "#Function to scrape reddit comments #EXPLAIN FUNCTION...\n",
    "\n",
    "def get_reddit_comments(subreddit, limit):\n",
    "    subreddit = subreddit\n",
    "    limit = limit\n",
    "    comments = api.search_comments(subreddit=subreddit, \n",
    "                               limit=limit, \n",
    "                               before=before, \n",
    "                               after=after)\n",
    "    print(f'Retrieved {len(comments)} comments from Pushshift')\n",
    "    df = pd.DataFrame(comments)\n",
    "    return df"
   ]
  },
  {
   "cell_type": "markdown",
   "metadata": {},
   "source": [
    "## Scrape Data from Pre-COVID Shutdown"
   ]
  },
  {
   "cell_type": "markdown",
   "metadata": {},
   "source": [
    "Using the Pushshift API, scrape reddit data from before Covid Shutdown for each subredit of interest (Using 3/20/2020 as that was the date New York and California shut down)"
   ]
  },
  {
   "cell_type": "code",
   "execution_count": 62,
   "metadata": {},
   "outputs": [],
   "source": [
    "before = int(dt.datetime(2020,3,20,0,0).timestamp()) # converts to UTC\n",
    "after = int(dt.datetime(2017,12,1,0,0).timestamp()) # converts to UTC"
   ]
  },
  {
   "cell_type": "markdown",
   "metadata": {},
   "source": [
    "### r/mentalhealth"
   ]
  },
  {
   "cell_type": "code",
   "execution_count": 5,
   "metadata": {
    "scrolled": true
   },
   "outputs": [
    {
     "name": "stdout",
     "output_type": "stream",
     "text": [
      "Total:: Success Rate: 100.00% - Requests: 40 - Batches: 4 - Items Remaining: 0\n"
     ]
    }
   ],
   "source": [
    "mentalhealth_PreCovid = get_reddit_comments('mentalhealth', 4000)\n",
    "mentalhealth_PreCovid.to_csv('./data/mentalhealth_PreCovid.csv', \n",
    "                             header=True, \n",
    "                             index=False, \n",
    "                             columns=list(mentalhealth_PreCovid.axes[1]))"
   ]
  },
  {
   "cell_type": "code",
   "execution_count": 9,
   "metadata": {},
   "outputs": [
    {
     "data": {
      "text/plain": [
       "(4000, 51)"
      ]
     },
     "execution_count": 9,
     "metadata": {},
     "output_type": "execute_result"
    }
   ],
   "source": [
    "mentalhealth_PreCovid.shape"
   ]
  },
  {
   "cell_type": "markdown",
   "metadata": {},
   "source": [
    "### r/depression"
   ]
  },
  {
   "cell_type": "code",
   "execution_count": 7,
   "metadata": {},
   "outputs": [
    {
     "name": "stdout",
     "output_type": "stream",
     "text": [
      "Checkpoint:: Success Rate: 37.00% - Requests: 100 - Batches: 10 - Items Remaining: 300\n",
      "Total:: Success Rate: 38.83% - Requests: 103 - Batches: 11 - Items Remaining: 0\n",
      "Retrieved 4000 comments from Pushshift\n"
     ]
    }
   ],
   "source": [
    "depression_PreCovid = get_reddit_comments('depression', 4000)\n",
    "depression_PreCovid.to_csv('./data/depression_PreCovid.csv', \n",
    "                             header=True, \n",
    "                             index=False, \n",
    "                             columns=list(depression_PreCovid.axes[1]))"
   ]
  },
  {
   "cell_type": "code",
   "execution_count": 8,
   "metadata": {},
   "outputs": [
    {
     "data": {
      "text/plain": [
       "(4000, 51)"
      ]
     },
     "execution_count": 8,
     "metadata": {},
     "output_type": "execute_result"
    }
   ],
   "source": [
    "depression_PreCovid.shape"
   ]
  },
  {
   "cell_type": "markdown",
   "metadata": {},
   "source": [
    "### r/Anxiety"
   ]
  },
  {
   "cell_type": "code",
   "execution_count": 47,
   "metadata": {},
   "outputs": [
    {
     "name": "stdout",
     "output_type": "stream",
     "text": [
      "Total:: Success Rate: 100.00% - Requests: 40 - Batches: 4 - Items Remaining: 0\n",
      "Retrieved 4000 comments from Pushshift\n"
     ]
    }
   ],
   "source": [
    "anxiety_PreCovid = get_reddit_comments('Anxiety', 4000)\n",
    "anxiety_PreCovid.to_csv('./data/anxiety_PreCovid.csv', \n",
    "                             header=True, \n",
    "                             index=False, \n",
    "                             columns=list(anxiety_PreCovid.axes[1]))"
   ]
  },
  {
   "cell_type": "code",
   "execution_count": 48,
   "metadata": {},
   "outputs": [
    {
     "data": {
      "text/plain": [
       "(4000, 51)"
      ]
     },
     "execution_count": 48,
     "metadata": {},
     "output_type": "execute_result"
    }
   ],
   "source": [
    "anxiety_PreCovid.shape"
   ]
  },
  {
   "cell_type": "markdown",
   "metadata": {},
   "source": [
    "### r/bipolar"
   ]
  },
  {
   "cell_type": "code",
   "execution_count": 14,
   "metadata": {},
   "outputs": [
    {
     "name": "stdout",
     "output_type": "stream",
     "text": [
      "Total:: Success Rate: 66.67% - Requests: 60 - Batches: 6 - Items Remaining: 0\n",
      "Retrieved 4000 comments from Pushshift\n"
     ]
    }
   ],
   "source": [
    "bipolar_PreCovid = get_reddit_comments('bipolar', 4000)\n",
    "bipolar_PreCovid.to_csv('./data/bipolar_PreCovid.csv', \n",
    "                             header=True, \n",
    "                             index=False, \n",
    "                             columns=list(bipolar_PreCovid.axes[1]))"
   ]
  },
  {
   "cell_type": "code",
   "execution_count": 15,
   "metadata": {},
   "outputs": [
    {
     "data": {
      "text/plain": [
       "(4000, 51)"
      ]
     },
     "execution_count": 15,
     "metadata": {},
     "output_type": "execute_result"
    }
   ],
   "source": [
    "bipolar_PreCovid.shape"
   ]
  },
  {
   "cell_type": "markdown",
   "metadata": {},
   "source": [
    "### r/BPD"
   ]
  },
  {
   "cell_type": "code",
   "execution_count": 16,
   "metadata": {},
   "outputs": [
    {
     "name": "stdout",
     "output_type": "stream",
     "text": [
      "Checkpoint:: Success Rate: 31.00% - Requests: 100 - Batches: 10 - Items Remaining: 900\n",
      "Total:: Success Rate: 35.71% - Requests: 112 - Batches: 12 - Items Remaining: 0\n",
      "Retrieved 4000 comments from Pushshift\n"
     ]
    }
   ],
   "source": [
    "bpd_PreCovid = get_reddit_comments('BPD', 4000)\n",
    "bpd_PreCovid.to_csv('./data/bpd_PreCovid.csv', \n",
    "                             header=True, \n",
    "                             index=False, \n",
    "                             columns=list(bpd_PreCovid.axes[1]))"
   ]
  },
  {
   "cell_type": "code",
   "execution_count": 17,
   "metadata": {},
   "outputs": [
    {
     "data": {
      "text/plain": [
       "(4000, 51)"
      ]
     },
     "execution_count": 17,
     "metadata": {},
     "output_type": "execute_result"
    }
   ],
   "source": [
    "bpd_PreCovid.shape"
   ]
  },
  {
   "cell_type": "markdown",
   "metadata": {},
   "source": [
    "### r/schizophrenia"
   ]
  },
  {
   "cell_type": "code",
   "execution_count": 63,
   "metadata": {},
   "outputs": [
    {
     "name": "stdout",
     "output_type": "stream",
     "text": [
      "Total:: Success Rate: 100.00% - Requests: 40 - Batches: 4 - Items Remaining: 0\n",
      "Retrieved 4000 comments from Pushshift\n"
     ]
    }
   ],
   "source": [
    "schizophrenia_PreCovid = get_reddit_comments('schizophrenia', 4000)\n",
    "schizophrenia_PreCovid.to_csv('./data/schizophrenia_PreCovid.csv', \n",
    "                             header=True, \n",
    "                             index=False, \n",
    "                             columns=list(schizophrenia_PreCovid.axes[1]))"
   ]
  },
  {
   "cell_type": "code",
   "execution_count": 64,
   "metadata": {},
   "outputs": [
    {
     "data": {
      "text/plain": [
       "(4000, 51)"
      ]
     },
     "execution_count": 64,
     "metadata": {},
     "output_type": "execute_result"
    }
   ],
   "source": [
    "schizophrenia_PreCovid.shape"
   ]
  },
  {
   "cell_type": "markdown",
   "metadata": {},
   "source": [
    "### r/autism"
   ]
  },
  {
   "cell_type": "code",
   "execution_count": 20,
   "metadata": {},
   "outputs": [
    {
     "name": "stdout",
     "output_type": "stream",
     "text": [
      "Total:: Success Rate: 81.63% - Requests: 49 - Batches: 5 - Items Remaining: 0\n",
      "Retrieved 4000 comments from Pushshift\n"
     ]
    }
   ],
   "source": [
    "autism_PreCovid = get_reddit_comments('autism', 4000)\n",
    "autism_PreCovid.to_csv('./data/autism_PreCovid.csv', \n",
    "                             header=True, \n",
    "                             index=False, \n",
    "                             columns=list(autism_PreCovid.axes[1]))"
   ]
  },
  {
   "cell_type": "code",
   "execution_count": 21,
   "metadata": {},
   "outputs": [
    {
     "data": {
      "text/plain": [
       "(4000, 51)"
      ]
     },
     "execution_count": 21,
     "metadata": {},
     "output_type": "execute_result"
    }
   ],
   "source": [
    "autism_PreCovid.shape"
   ]
  },
  {
   "cell_type": "markdown",
   "metadata": {},
   "source": [
    "### r/AnorexiaNervosa"
   ]
  },
  {
   "cell_type": "code",
   "execution_count": 22,
   "metadata": {},
   "outputs": [
    {
     "name": "stdout",
     "output_type": "stream",
     "text": [
      "Total:: Success Rate: 81.13% - Requests: 53 - Batches: 6 - Items Remaining: 0\n",
      "Retrieved 4000 comments from Pushshift\n"
     ]
    }
   ],
   "source": [
    "anorexia_PreCovid = get_reddit_comments('AnorexiaNervosa', 4000)\n",
    "anorexia_PreCovid.to_csv('./data/anorexia_PreCovid.csv', \n",
    "                             header=True, \n",
    "                             index=False, \n",
    "                             columns=list(anorexia_PreCovid.axes[1]))"
   ]
  },
  {
   "cell_type": "code",
   "execution_count": 23,
   "metadata": {},
   "outputs": [
    {
     "data": {
      "text/plain": [
       "(4000, 51)"
      ]
     },
     "execution_count": 23,
     "metadata": {},
     "output_type": "execute_result"
    }
   ],
   "source": [
    "anorexia_PreCovid.shape"
   ]
  },
  {
   "cell_type": "markdown",
   "metadata": {},
   "source": [
    "### r/Bulimia"
   ]
  },
  {
   "cell_type": "code",
   "execution_count": 24,
   "metadata": {},
   "outputs": [
    {
     "name": "stdout",
     "output_type": "stream",
     "text": [
      "Total:: Success Rate: 100.00% - Requests: 40 - Batches: 4 - Items Remaining: 0\n",
      "Retrieved 4000 comments from Pushshift\n"
     ]
    }
   ],
   "source": [
    "bulimia_PreCovid = get_reddit_comments('Bulimia', 4000)\n",
    "bulimia_PreCovid.to_csv('./data/anorexia_PreCovid.csv', \n",
    "                             header=True, \n",
    "                             index=False, \n",
    "                             columns=list(bulimia_PreCovid.axes[1]))"
   ]
  },
  {
   "cell_type": "code",
   "execution_count": 25,
   "metadata": {},
   "outputs": [
    {
     "data": {
      "text/plain": [
       "(4000, 51)"
      ]
     },
     "execution_count": 25,
     "metadata": {},
     "output_type": "execute_result"
    }
   ],
   "source": [
    "bulimia_PreCovid.shape"
   ]
  },
  {
   "cell_type": "markdown",
   "metadata": {},
   "source": [
    "## Scrape Data from Post-COVID Shutdown"
   ]
  },
  {
   "cell_type": "code",
   "execution_count": 73,
   "metadata": {},
   "outputs": [],
   "source": [
    "before = int(dt.datetime(2021,2,24,0,0).timestamp()) # converts to UTC # Today's date\n",
    "after = int(dt.datetime(2020,3,21,0,0).timestamp()) # converts to UTC # A chosen 'shutdown' date"
   ]
  },
  {
   "cell_type": "markdown",
   "metadata": {
    "heading_collapsed": true
   },
   "source": [
    "### r/mentalhealth"
   ]
  },
  {
   "cell_type": "code",
   "execution_count": 31,
   "metadata": {
    "hidden": true,
    "scrolled": true
   },
   "outputs": [
    {
     "name": "stdout",
     "output_type": "stream",
     "text": [
      "Checkpoint:: Success Rate: 31.00% - Requests: 100 - Batches: 10 - Items Remaining: 900\n",
      "Total:: Success Rate: 35.09% - Requests: 114 - Batches: 12 - Items Remaining: 0\n",
      "Retrieved 4000 comments from Pushshift\n"
     ]
    }
   ],
   "source": [
    "mentalhealth_PostCovid = get_reddit_comments('mentalhealth', 4000)\n",
    "mentalhealth_PostCovid.to_csv('./data/mentalhealth_PostCovid.csv', \n",
    "                             header=True, \n",
    "                             index=False, \n",
    "                             columns=list(mentalhealth_PostCovid.axes[1]))"
   ]
  },
  {
   "cell_type": "code",
   "execution_count": 32,
   "metadata": {
    "hidden": true
   },
   "outputs": [
    {
     "data": {
      "text/plain": [
       "(4000, 38)"
      ]
     },
     "execution_count": 32,
     "metadata": {},
     "output_type": "execute_result"
    }
   ],
   "source": [
    "mentalhealth_PostCovid.shape # not sure why the number of columns are not the same as before (51)"
   ]
  },
  {
   "cell_type": "code",
   "execution_count": 34,
   "metadata": {
    "hidden": true
   },
   "outputs": [
    {
     "data": {
      "text/plain": [
       "0"
      ]
     },
     "execution_count": 34,
     "metadata": {},
     "output_type": "execute_result"
    }
   ],
   "source": [
    "# checking if the text columns is null as this is what we are interested in\n",
    "mentalhealth_PostCovid['body'].isnull().sum() "
   ]
  },
  {
   "cell_type": "markdown",
   "metadata": {
    "heading_collapsed": true
   },
   "source": [
    "### r/depression"
   ]
  },
  {
   "cell_type": "code",
   "execution_count": 29,
   "metadata": {
    "hidden": true
   },
   "outputs": [
    {
     "name": "stdout",
     "output_type": "stream",
     "text": [
      "Total:: Success Rate: 66.67% - Requests: 60 - Batches: 6 - Items Remaining: 0\n",
      "Retrieved 4000 comments from Pushshift\n"
     ]
    }
   ],
   "source": [
    "depression_PostCovid = get_reddit_comments('depression', 4000)\n",
    "depression_PostCovid.to_csv('./data/depression_PostCovid.csv', \n",
    "                             header=True, \n",
    "                             index=False, \n",
    "                             columns=list(depression_PostCovid.axes[1]))"
   ]
  },
  {
   "cell_type": "code",
   "execution_count": 30,
   "metadata": {
    "hidden": true
   },
   "outputs": [
    {
     "data": {
      "text/plain": [
       "(4000, 51)"
      ]
     },
     "execution_count": 30,
     "metadata": {},
     "output_type": "execute_result"
    }
   ],
   "source": [
    "depression_PreCovid.shape"
   ]
  },
  {
   "cell_type": "markdown",
   "metadata": {},
   "source": [
    "### r/Anxiety"
   ]
  },
  {
   "cell_type": "code",
   "execution_count": 51,
   "metadata": {},
   "outputs": [
    {
     "name": "stdout",
     "output_type": "stream",
     "text": [
      "Total:: Success Rate: 100.00% - Requests: 40 - Batches: 4 - Items Remaining: 0\n",
      "Retrieved 4000 comments from Pushshift\n"
     ]
    }
   ],
   "source": [
    "anxiety_PostCovid = get_reddit_comments('Anxiety', 4000)\n",
    "anxiety_PostCovid.to_csv('./data/anxiety_PostCovid.csv', \n",
    "                             header=True, \n",
    "                             index=False, \n",
    "                             columns=list(anxiety_PostCovid.axes[1]))"
   ]
  },
  {
   "cell_type": "code",
   "execution_count": 52,
   "metadata": {},
   "outputs": [
    {
     "data": {
      "text/plain": [
       "(4000, 38)"
      ]
     },
     "execution_count": 52,
     "metadata": {},
     "output_type": "execute_result"
    }
   ],
   "source": [
    "anxiety_PostCovid.shape # Why is the shape different?"
   ]
  },
  {
   "cell_type": "markdown",
   "metadata": {},
   "source": [
    "### r/bipolar"
   ]
  },
  {
   "cell_type": "code",
   "execution_count": 54,
   "metadata": {},
   "outputs": [
    {
     "name": "stdout",
     "output_type": "stream",
     "text": [
      "Total:: Success Rate: 100.00% - Requests: 40 - Batches: 4 - Items Remaining: 0\n",
      "Retrieved 4000 comments from Pushshift\n"
     ]
    }
   ],
   "source": [
    "bipolar_PostCovid = get_reddit_comments('bipolar', 4000)\n",
    "bipolar_PostCovid.to_csv('./data/bipolar_PostCovid.csv', \n",
    "                             header=True, \n",
    "                             index=False, \n",
    "                             columns=list(bipolar_PostCovid.axes[1]))"
   ]
  },
  {
   "cell_type": "code",
   "execution_count": 55,
   "metadata": {},
   "outputs": [
    {
     "data": {
      "text/plain": [
       "(4000, 38)"
      ]
     },
     "execution_count": 55,
     "metadata": {},
     "output_type": "execute_result"
    }
   ],
   "source": [
    "bipolar_PostCovid.shape"
   ]
  },
  {
   "cell_type": "markdown",
   "metadata": {},
   "source": [
    "### r/BPD"
   ]
  },
  {
   "cell_type": "code",
   "execution_count": 56,
   "metadata": {},
   "outputs": [
    {
     "name": "stdout",
     "output_type": "stream",
     "text": [
      "Total:: Success Rate: 100.00% - Requests: 40 - Batches: 4 - Items Remaining: 0\n",
      "Retrieved 4000 comments from Pushshift\n"
     ]
    }
   ],
   "source": [
    "bpd_PostCovid = get_reddit_comments('BPD', 4000)\n",
    "bpd_PostCovid.to_csv('./data/bpd_PostCovid.csv', \n",
    "                             header=True, \n",
    "                             index=False, \n",
    "                             columns=list(bpd_PostCovid.axes[1]))"
   ]
  },
  {
   "cell_type": "code",
   "execution_count": 57,
   "metadata": {},
   "outputs": [
    {
     "data": {
      "text/plain": [
       "(4000, 38)"
      ]
     },
     "execution_count": 57,
     "metadata": {},
     "output_type": "execute_result"
    }
   ],
   "source": [
    "bpd_PostCovid.shape"
   ]
  },
  {
   "cell_type": "markdown",
   "metadata": {},
   "source": [
    "### r/schizophrenia"
   ]
  },
  {
   "cell_type": "code",
   "execution_count": 66,
   "metadata": {},
   "outputs": [
    {
     "name": "stdout",
     "output_type": "stream",
     "text": [
      "Total:: Success Rate: 100.00% - Requests: 40 - Batches: 4 - Items Remaining: 0\n",
      "Retrieved 4000 comments from Pushshift\n"
     ]
    }
   ],
   "source": [
    "schizophrenia_PostCovid = get_reddit_comments('schizophrenia', 4000)\n",
    "schizophrenia_PostCovid.to_csv('./data/schizophrenia_PostCovid.csv', \n",
    "                             header=True, \n",
    "                             index=False, \n",
    "                             columns=list(schizophrenia_PostCovid.axes[1]))"
   ]
  },
  {
   "cell_type": "code",
   "execution_count": 67,
   "metadata": {},
   "outputs": [
    {
     "data": {
      "text/plain": [
       "(4000, 37)"
      ]
     },
     "execution_count": 67,
     "metadata": {},
     "output_type": "execute_result"
    }
   ],
   "source": [
    "schizophrenia_PostCovid.shape # WHAT IS GOING ON WITH THE SHAPE "
   ]
  },
  {
   "cell_type": "markdown",
   "metadata": {},
   "source": [
    "### r/autism"
   ]
  },
  {
   "cell_type": "code",
   "execution_count": 68,
   "metadata": {},
   "outputs": [
    {
     "name": "stdout",
     "output_type": "stream",
     "text": [
      "Checkpoint:: Success Rate: 36.00% - Requests: 100 - Batches: 10 - Items Remaining: 400\n",
      "Total:: Success Rate: 38.46% - Requests: 104 - Batches: 11 - Items Remaining: 0\n",
      "Retrieved 4000 comments from Pushshift\n"
     ]
    }
   ],
   "source": [
    "autism_PostCovid = get_reddit_comments('autism', 4000)\n",
    "autism_PostCovid.to_csv('./data/autism_PostCovid.csv', \n",
    "                             header=True, \n",
    "                             index=False, \n",
    "                             columns=list(autism_PostCovid.axes[1]))"
   ]
  },
  {
   "cell_type": "code",
   "execution_count": 70,
   "metadata": {},
   "outputs": [
    {
     "data": {
      "text/plain": [
       "(4000, 38)"
      ]
     },
     "execution_count": 70,
     "metadata": {},
     "output_type": "execute_result"
    }
   ],
   "source": [
    "autism_PostCovid.shape # maybe has something to do with the time"
   ]
  },
  {
   "cell_type": "markdown",
   "metadata": {},
   "source": [
    "### r/AnorexiaNervosa"
   ]
  },
  {
   "cell_type": "code",
   "execution_count": 71,
   "metadata": {},
   "outputs": [
    {
     "name": "stdout",
     "output_type": "stream",
     "text": [
      "Total:: Success Rate: 100.00% - Requests: 40 - Batches: 4 - Items Remaining: 0\n",
      "Retrieved 4000 comments from Pushshift\n"
     ]
    }
   ],
   "source": [
    "anorexia_PostCovid = get_reddit_comments('AnorexiaNervosa', 4000)\n",
    "anorexia_PostCovid.to_csv('./anorexia_PostCovid.csv', \n",
    "                             header=True, \n",
    "                             index=False, \n",
    "                             columns=list(anorexia_PostCovid.axes[1]))"
   ]
  },
  {
   "cell_type": "code",
   "execution_count": 72,
   "metadata": {},
   "outputs": [
    {
     "data": {
      "text/plain": [
       "(4000, 38)"
      ]
     },
     "execution_count": 72,
     "metadata": {},
     "output_type": "execute_result"
    }
   ],
   "source": [
    "anorexia_PostCovid.shape"
   ]
  },
  {
   "cell_type": "markdown",
   "metadata": {},
   "source": [
    "### r/Bulimia"
   ]
  },
  {
   "cell_type": "code",
   "execution_count": 74,
   "metadata": {},
   "outputs": [
    {
     "name": "stdout",
     "output_type": "stream",
     "text": [
      "Total:: Success Rate: 100.00% - Requests: 41 - Batches: 5 - Items Remaining: 0\n",
      "Retrieved 4000 comments from Pushshift\n"
     ]
    }
   ],
   "source": [
    "bulimia_PostCovid = get_reddit_comments('Bulimia', 4000)\n",
    "bulimia_PostCovid.to_csv('./data/anorexia_PostCovid.csv', \n",
    "                             header=True, \n",
    "                             index=False, \n",
    "                             columns=list(bulimia_PostCovid.axes[1]))"
   ]
  },
  {
   "cell_type": "code",
   "execution_count": 75,
   "metadata": {},
   "outputs": [
    {
     "data": {
      "text/plain": [
       "(4000, 38)"
      ]
     },
     "execution_count": 75,
     "metadata": {},
     "output_type": "execute_result"
    }
   ],
   "source": [
    "bulimia_PostCovid.shape"
   ]
  }
 ],
 "metadata": {
  "kernelspec": {
   "display_name": "Python 3",
   "language": "python",
   "name": "python3"
  },
  "language_info": {
   "codemirror_mode": {
    "name": "ipython",
    "version": 3
   },
   "file_extension": ".py",
   "mimetype": "text/x-python",
   "name": "python",
   "nbconvert_exporter": "python",
   "pygments_lexer": "ipython3",
   "version": "3.7.4"
  },
  "toc": {
   "base_numbering": 1,
   "nav_menu": {},
   "number_sections": true,
   "sideBar": true,
   "skip_h1_title": false,
   "title_cell": "Table of Contents",
   "title_sidebar": "Contents",
   "toc_cell": false,
   "toc_position": {},
   "toc_section_display": true,
   "toc_window_display": false
  }
 },
 "nbformat": 4,
 "nbformat_minor": 2
}
