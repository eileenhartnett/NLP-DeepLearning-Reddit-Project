{
 "cells": [
  {
   "cell_type": "markdown",
   "metadata": {},
   "source": [
    "# Model - Convolutional Neural Network"
   ]
  },
  {
   "cell_type": "markdown",
   "metadata": {},
   "source": [
    "In the case of the CNN classifier, we applied word-embedding procedures\n",
    "from the pre-processed texts using the word2vec API of Python Package, Gensim. The word vectors were pretrained\n",
    "with the training dataset collected for the current study with continuous bag-of-words representation\n",
    "(CBOW) models, while the size of window was set to five. Note that by using the pre-trained word2vec model\n",
    "for representing each post for each subreddit, a language style used by users who write posts in a subreddit can\n",
    "be trained for the specific subreddit."
   ]
  },
  {
   "cell_type": "markdown",
   "metadata": {},
   "source": [
    "##### Import libraries"
   ]
  },
  {
   "cell_type": "code",
   "execution_count": 114,
   "metadata": {},
   "outputs": [],
   "source": [
    "import pandas as pd\n",
    "\n",
    "import numpy as np\n",
    "from numpy import array\n",
    "from numpy import zeros\n",
    "\n",
    "import matplotlib.pyplot as plt\n",
    "\n",
    "import re\n",
    "import multiprocessing\n",
    "\n",
    "# Train, test, split\n",
    "from sklearn.model_selection import train_test_split\n",
    "\n",
    "# For handling imbalanced classes\n",
    "from collections import Counter\n",
    "from imblearn.over_sampling import SMOTE\n",
    "\n",
    "# Word2Vec\n",
    "import gensim \n",
    "import gensim.models\n",
    "from gensim.models import Word2Vec\n",
    "\n",
    "import nltk\n",
    "from nltk import word_tokenize, sent_tokenize\n",
    "from nltk.stem import PorterStemmer\n",
    "from nltk.corpus import stopwords\n",
    "\n",
    "import keras\n",
    "from keras.preprocessing.text import Tokenizer\n",
    "from keras.preprocessing.sequence import pad_sequences\n",
    "from keras.models import Sequential\n",
    "from keras.layers import Dense\n",
    "from keras.layers import Flatten\n",
    "from keras.layers import Embedding\n",
    "from keras.layers import Dropout\n",
    "from keras.layers.convolutional import Conv1D\n",
    "from keras.layers.convolutional import MaxPooling1D"
   ]
  },
  {
   "cell_type": "markdown",
   "metadata": {
    "heading_collapsed": true
   },
   "source": [
    "##### Load data"
   ]
  },
  {
   "cell_type": "code",
   "execution_count": 5,
   "metadata": {
    "hidden": true
   },
   "outputs": [],
   "source": [
    "posts = pd.read_csv('../data/posts-preprocessed.csv')"
   ]
  },
  {
   "cell_type": "code",
   "execution_count": 75,
   "metadata": {
    "hidden": true
   },
   "outputs": [
    {
     "data": {
      "text/html": [
       "<div>\n",
       "<style scoped>\n",
       "    .dataframe tbody tr th:only-of-type {\n",
       "        vertical-align: middle;\n",
       "    }\n",
       "\n",
       "    .dataframe tbody tr th {\n",
       "        vertical-align: top;\n",
       "    }\n",
       "\n",
       "    .dataframe thead th {\n",
       "        text-align: right;\n",
       "    }\n",
       "</style>\n",
       "<table border=\"1\" class=\"dataframe\">\n",
       "  <thead>\n",
       "    <tr style=\"text-align: right;\">\n",
       "      <th></th>\n",
       "      <th>author</th>\n",
       "      <th>timeframe</th>\n",
       "      <th>text</th>\n",
       "      <th>datetime</th>\n",
       "      <th>words</th>\n",
       "      <th>word_stems</th>\n",
       "      <th>subreddit_AnorexiaNervosa</th>\n",
       "      <th>subreddit_Anxiety</th>\n",
       "      <th>subreddit_BPD</th>\n",
       "      <th>subreddit_autism</th>\n",
       "      <th>subreddit_bipolar</th>\n",
       "      <th>subreddit_bulimia</th>\n",
       "      <th>subreddit_depression</th>\n",
       "      <th>subreddit_schizophrenia</th>\n",
       "    </tr>\n",
       "  </thead>\n",
       "  <tbody>\n",
       "    <tr>\n",
       "      <td>0</td>\n",
       "      <td>sub21036</td>\n",
       "      <td>pre-covid</td>\n",
       "      <td>['how can i stop hating myself  i have been on...</td>\n",
       "      <td>2017-12-02 16:36:16</td>\n",
       "      <td>['[', \"'how\", 'stop', 'hating', 'eating', 'dis...</td>\n",
       "      <td>['[', \"'how\", 'stop', 'hating', 'eating', 'dis...</td>\n",
       "      <td>0</td>\n",
       "      <td>0</td>\n",
       "      <td>0</td>\n",
       "      <td>0</td>\n",
       "      <td>0</td>\n",
       "      <td>1</td>\n",
       "      <td>0</td>\n",
       "      <td>0</td>\n",
       "    </tr>\n",
       "    <tr>\n",
       "      <td>1</td>\n",
       "      <td>sub12048</td>\n",
       "      <td>pre-covid</td>\n",
       "      <td>['new guy here 1 month on it 16m  hi guys just...</td>\n",
       "      <td>2017-12-05 19:45:25</td>\n",
       "      <td>['[', \"'new\", 'guy', '1', 'month', '16m', 'hi'...</td>\n",
       "      <td>['[', \"'new\", 'guy', '1', 'month', '16m', 'hi'...</td>\n",
       "      <td>0</td>\n",
       "      <td>0</td>\n",
       "      <td>0</td>\n",
       "      <td>0</td>\n",
       "      <td>0</td>\n",
       "      <td>1</td>\n",
       "      <td>0</td>\n",
       "      <td>0</td>\n",
       "    </tr>\n",
       "    <tr>\n",
       "      <td>2</td>\n",
       "      <td>sub6523</td>\n",
       "      <td>pre-covid</td>\n",
       "      <td>['so i just vomited blood what can i eat while...</td>\n",
       "      <td>2017-12-06 16:58:16</td>\n",
       "      <td>['[', \"'so\", 'vomited', 'blood', 'eat', 'throa...</td>\n",
       "      <td>['[', \"'so\", 'vomited', 'blood', 'eat', 'throa...</td>\n",
       "      <td>0</td>\n",
       "      <td>0</td>\n",
       "      <td>0</td>\n",
       "      <td>0</td>\n",
       "      <td>0</td>\n",
       "      <td>1</td>\n",
       "      <td>0</td>\n",
       "      <td>0</td>\n",
       "    </tr>\n",
       "    <tr>\n",
       "      <td>3</td>\n",
       "      <td>sub37858</td>\n",
       "      <td>pre-covid</td>\n",
       "      <td>['recovery is expensive  during recovery  hi i...</td>\n",
       "      <td>2017-12-07 14:07:27</td>\n",
       "      <td>['[', \"'recovery\", 'expensive', 'recovery', 'h...</td>\n",
       "      <td>['[', \"'recovery\", 'expensive', 'recovery', 'h...</td>\n",
       "      <td>0</td>\n",
       "      <td>0</td>\n",
       "      <td>0</td>\n",
       "      <td>0</td>\n",
       "      <td>0</td>\n",
       "      <td>1</td>\n",
       "      <td>0</td>\n",
       "      <td>0</td>\n",
       "    </tr>\n",
       "    <tr>\n",
       "      <td>4</td>\n",
       "      <td>sub21036</td>\n",
       "      <td>pre-covid</td>\n",
       "      <td>['extreme tongue pain  i purged a few nights a...</td>\n",
       "      <td>2017-12-08 20:16:50</td>\n",
       "      <td>['[', \"'extreme\", 'tongue', 'pain', 'purged', ...</td>\n",
       "      <td>['[', \"'extreme\", 'tongue', 'pain', 'purged', ...</td>\n",
       "      <td>0</td>\n",
       "      <td>0</td>\n",
       "      <td>0</td>\n",
       "      <td>0</td>\n",
       "      <td>0</td>\n",
       "      <td>1</td>\n",
       "      <td>0</td>\n",
       "      <td>0</td>\n",
       "    </tr>\n",
       "  </tbody>\n",
       "</table>\n",
       "</div>"
      ],
      "text/plain": [
       "     author  timeframe                                               text  \\\n",
       "0  sub21036  pre-covid  ['how can i stop hating myself  i have been on...   \n",
       "1  sub12048  pre-covid  ['new guy here 1 month on it 16m  hi guys just...   \n",
       "2   sub6523  pre-covid  ['so i just vomited blood what can i eat while...   \n",
       "3  sub37858  pre-covid  ['recovery is expensive  during recovery  hi i...   \n",
       "4  sub21036  pre-covid  ['extreme tongue pain  i purged a few nights a...   \n",
       "\n",
       "              datetime                                              words  \\\n",
       "0  2017-12-02 16:36:16  ['[', \"'how\", 'stop', 'hating', 'eating', 'dis...   \n",
       "1  2017-12-05 19:45:25  ['[', \"'new\", 'guy', '1', 'month', '16m', 'hi'...   \n",
       "2  2017-12-06 16:58:16  ['[', \"'so\", 'vomited', 'blood', 'eat', 'throa...   \n",
       "3  2017-12-07 14:07:27  ['[', \"'recovery\", 'expensive', 'recovery', 'h...   \n",
       "4  2017-12-08 20:16:50  ['[', \"'extreme\", 'tongue', 'pain', 'purged', ...   \n",
       "\n",
       "                                          word_stems  \\\n",
       "0  ['[', \"'how\", 'stop', 'hating', 'eating', 'dis...   \n",
       "1  ['[', \"'new\", 'guy', '1', 'month', '16m', 'hi'...   \n",
       "2  ['[', \"'so\", 'vomited', 'blood', 'eat', 'throa...   \n",
       "3  ['[', \"'recovery\", 'expensive', 'recovery', 'h...   \n",
       "4  ['[', \"'extreme\", 'tongue', 'pain', 'purged', ...   \n",
       "\n",
       "   subreddit_AnorexiaNervosa  subreddit_Anxiety  subreddit_BPD  \\\n",
       "0                          0                  0              0   \n",
       "1                          0                  0              0   \n",
       "2                          0                  0              0   \n",
       "3                          0                  0              0   \n",
       "4                          0                  0              0   \n",
       "\n",
       "   subreddit_autism  subreddit_bipolar  subreddit_bulimia  \\\n",
       "0                 0                  0                  1   \n",
       "1                 0                  0                  1   \n",
       "2                 0                  0                  1   \n",
       "3                 0                  0                  1   \n",
       "4                 0                  0                  1   \n",
       "\n",
       "   subreddit_depression  subreddit_schizophrenia  \n",
       "0                     0                        0  \n",
       "1                     0                        0  \n",
       "2                     0                        0  \n",
       "3                     0                        0  \n",
       "4                     0                        0  "
      ]
     },
     "execution_count": 75,
     "metadata": {},
     "output_type": "execute_result"
    }
   ],
   "source": [
    "posts.head()"
   ]
  },
  {
   "cell_type": "markdown",
   "metadata": {
    "heading_collapsed": true
   },
   "source": [
    "##### Binarize targets using get_dummies"
   ]
  },
  {
   "cell_type": "markdown",
   "metadata": {
    "hidden": true
   },
   "source": [
    "Will use each subreddit as target (except mental health)"
   ]
  },
  {
   "cell_type": "code",
   "execution_count": 72,
   "metadata": {
    "hidden": true
   },
   "outputs": [],
   "source": [
    "posts = pd.get_dummies(posts, columns=['subreddit'])"
   ]
  },
  {
   "cell_type": "code",
   "execution_count": 73,
   "metadata": {
    "hidden": true
   },
   "outputs": [],
   "source": [
    "posts.drop(columns='subreddit_mentalhealth', inplace = True)"
   ]
  },
  {
   "cell_type": "markdown",
   "metadata": {},
   "source": [
    "##  Create Word2Vec model"
   ]
  },
  {
   "cell_type": "markdown",
   "metadata": {},
   "source": [
    "Using **Continuous Bag of Words (CBOW) model**: CBOW model predicts the current word given context words within specific window. The input layer contains the context words and the output layer contains the current word. The hidden layer contains the number of dimensions in which we want to represent current word present at the output layer.\n",
    "\n",
    "https://www.geeksforgeeks.org/python-word-embedding-using-word2vec/"
   ]
  },
  {
   "cell_type": "code",
   "execution_count": 7,
   "metadata": {},
   "outputs": [
    {
     "data": {
      "text/plain": [
       "8"
      ]
     },
     "execution_count": 7,
     "metadata": {},
     "output_type": "execute_result"
    }
   ],
   "source": [
    "# How many cores am I working with?\n",
    "cores = multiprocessing.cpu_count() # Count the number of cores in this computer\n",
    "cores"
   ]
  },
  {
   "cell_type": "markdown",
   "metadata": {},
   "source": [
    "Parameters: \n",
    "- size: (default 100) The number of dimensions of the embedding, e.g. the length of the dense vector to represent each token (word).\n",
    "- window: (default 5) The maximum distance between a target word and words around the target word.\n",
    "- min_count: (default 5) The minimum count of words to consider when training the model; words with an occurrence less than this count will be ignored.\n",
    "- workers: (default 3) The number of threads to use while training.\n",
    "- sg: (default 0 or CBOW) The training algorithm, either CBOW (0) or skip gram (1)."
   ]
  },
  {
   "cell_type": "code",
   "execution_count": 18,
   "metadata": {},
   "outputs": [],
   "source": [
    "w2v_model = Word2Vec(posts['words'], workers=cores-1, min_count=2)"
   ]
  },
  {
   "cell_type": "code",
   "execution_count": 21,
   "metadata": {},
   "outputs": [],
   "source": [
    "vocabulary = w2v_model.wv.vocab\n"
   ]
  },
  {
   "cell_type": "markdown",
   "metadata": {},
   "source": [
    "The word2vec algorithm processes documents sentence by sentence. This means we will preserve the sentence-based structure during cleaning."
   ]
  },
  {
   "cell_type": "code",
   "execution_count": 32,
   "metadata": {},
   "outputs": [],
   "source": [
    "## Try with \n",
    "\n",
    "from gensim.test.utils import datapath\n",
    "from gensim import utils\n",
    "\n",
    "class MyCorpus:\n",
    "    \"\"\"An iterator that yields sentences (lists of str).\"\"\"\n",
    "\n",
    "    def __iter__(self):\n",
    "        for line in posts['text']:\n",
    "            # assume there's one document per line, tokens separated by whitespace\n",
    "            yield utils.simple_preprocess(line)"
   ]
  },
  {
   "cell_type": "code",
   "execution_count": 33,
   "metadata": {},
   "outputs": [],
   "source": [
    "sentences = MyCorpus()"
   ]
  },
  {
   "cell_type": "code",
   "execution_count": 34,
   "metadata": {},
   "outputs": [],
   "source": [
    "model = gensim.models.Word2Vec(sentences=sentences, workers=cores-1)"
   ]
  },
  {
   "cell_type": "markdown",
   "metadata": {},
   "source": [
    "After the model is fit, we print the size of the learned vocabulary"
   ]
  },
  {
   "cell_type": "code",
   "execution_count": 35,
   "metadata": {},
   "outputs": [
    {
     "name": "stdout",
     "output_type": "stream",
     "text": [
      "Vocabulary size: 70590\n"
     ]
    }
   ],
   "source": [
    "# summarize vocabulary size in model\n",
    "words = list(model.wv.vocab)\n",
    "print('Vocabulary size: %d' % len(words))"
   ]
  },
  {
   "cell_type": "markdown",
   "metadata": {},
   "source": [
    "Finally, we save the learned embedding vectors to file using the save_word2vec_format() on the model’s ‘wv‘ (word vector) attribute. The embedding is saved in ASCII format with one word and vector per line."
   ]
  },
  {
   "cell_type": "code",
   "execution_count": 36,
   "metadata": {},
   "outputs": [],
   "source": [
    "# save model in ASCII (word2vec) format\n",
    "filename = 'embedding_word2vec.txt'\n",
    "model.wv.save_word2vec_format(filename, binary=False)"
   ]
  },
  {
   "cell_type": "markdown",
   "metadata": {},
   "source": [
    "Load the word embedding as a directory of words to vectors. The word embedding was saved in so-called ‘word2vec‘ format that contains a header line. We will skip this header line when loading the embedding.\n",
    "\n",
    "The function below named load_embedding() loads the embedding and returns a directory of words mapped to the vectors in NumPy format."
   ]
  },
  {
   "cell_type": "code",
   "execution_count": 50,
   "metadata": {},
   "outputs": [],
   "source": [
    "# load embedding as a dict\n",
    "def load_embedding(filename):\n",
    "    # load embedding into memory, skip first line\n",
    "    file = open(filename,'r')\n",
    "    lines = file.readlines()[1:]\n",
    "    file.close()\n",
    "    # create a map of words to vectors\n",
    "    embedding = dict()\n",
    "    for line in lines:\n",
    "        parts = line.split()\n",
    "    # key is string word, value is numpy array for vector\n",
    "    embedding[parts[0]] = np.asarray(parts[1:], dtype='float32')\n",
    "    return embedding"
   ]
  },
  {
   "cell_type": "code",
   "execution_count": 51,
   "metadata": {},
   "outputs": [],
   "source": [
    "def get_weight_matrix(embedding, vocab):\n",
    "    # total vocabulary size plus 0 for unknown words\n",
    "    vocab_size = len(vocab) + 1\n",
    "    # define weight matrix dimensions with all 0\n",
    "    weight_matrix = zeros((vocab_size, 100))\n",
    "    # step vocab, store vectors using the Tokenizer's integer mapping\n",
    "    for word, i in vocab.items():\n",
    "        weight_matrix[i] = embedding.get(word)\n",
    "    return weight_matrix"
   ]
  },
  {
   "cell_type": "markdown",
   "metadata": {},
   "source": [
    "Now we can use these functions to create our new Embedding layer for our model."
   ]
  },
  {
   "cell_type": "code",
   "execution_count": 60,
   "metadata": {},
   "outputs": [],
   "source": [
    "# create the tokenizer\n",
    "tokenizer = Tokenizer()\n",
    "# fit the tokenizer on the documents\n",
    "tokenizer.fit_on_texts(posts['words'])"
   ]
  },
  {
   "cell_type": "code",
   "execution_count": 64,
   "metadata": {},
   "outputs": [],
   "source": [
    "# define vocabulary size (largest integer value)\n",
    "vocab_size = len(tokenizer.word_index) + 1"
   ]
  },
  {
   "cell_type": "code",
   "execution_count": 67,
   "metadata": {},
   "outputs": [],
   "source": [
    "# sequence encode\n",
    "encoded_docs = tokenizer.texts_to_sequences(posts['words'])"
   ]
  },
  {
   "cell_type": "markdown",
   "metadata": {},
   "source": [
    "### Train test split"
   ]
  },
  {
   "cell_type": "code",
   "execution_count": 97,
   "metadata": {},
   "outputs": [],
   "source": [
    "# sequence encode\n",
    "encoded_docs = tokenizer.texts_to_sequences(posts['words'])\n",
    "\n",
    "# pad sequences\n",
    "max_length = max([len(s.split()) for s in posts['words']])\n",
    "X = pad_sequences(encoded_docs, maxlen=max_length, padding='post')\n",
    "\n",
    "# define training labels\n",
    "y = posts['subreddit_AnorexiaNervosa']"
   ]
  },
  {
   "cell_type": "code",
   "execution_count": 98,
   "metadata": {},
   "outputs": [],
   "source": [
    "X_train, X_test, y_train, y_test = train_test_split(X, y,\n",
    "                                                    test_size = .2,\n",
    "                                                    random_state=42)"
   ]
  },
  {
   "cell_type": "code",
   "execution_count": 99,
   "metadata": {},
   "outputs": [],
   "source": [
    "smote = SMOTE(random_state=42) \n",
    "X_train_sm, y_train_sm = smote.fit_resample(X_train, y_train)"
   ]
  },
  {
   "cell_type": "code",
   "execution_count": 100,
   "metadata": {},
   "outputs": [
    {
     "name": "stdout",
     "output_type": "stream",
     "text": [
      "Counter({0: 41620, 1: 41620})\n"
     ]
    }
   ],
   "source": [
    "counter = Counter(y_train_sm)\n",
    "print(counter)"
   ]
  },
  {
   "cell_type": "code",
   "execution_count": 101,
   "metadata": {},
   "outputs": [],
   "source": [
    "# load embedding from file\n",
    "raw_embedding = load_embedding('embedding_word2vec.txt')\n",
    "# get vectors in the right order\n",
    "embedding_vectors = get_weight_matrix(raw_embedding, tokenizer.word_index)\n",
    "# create the embedding layer\n",
    "embedding_layer = Embedding(vocab_size, 100, weights=[embedding_vectors], \n",
    "                            input_length=max_length, trainable=False)"
   ]
  },
  {
   "cell_type": "code",
   "execution_count": 104,
   "metadata": {},
   "outputs": [
    {
     "name": "stdout",
     "output_type": "stream",
     "text": [
      "Model: \"sequential_6\"\n",
      "_________________________________________________________________\n",
      "Layer (type)                 Output Shape              Param #   \n",
      "=================================================================\n",
      "embedding_2 (Embedding)      (None, 3927, 100)         8808300   \n",
      "_________________________________________________________________\n",
      "dropout_1 (Dropout)          (None, 3927, 100)         0         \n",
      "_________________________________________________________________\n",
      "conv1d_2 (Conv1D)            (None, 3923, 128)         64128     \n",
      "_________________________________________________________________\n",
      "max_pooling1d_2 (MaxPooling1 (None, 1961, 128)         0         \n",
      "_________________________________________________________________\n",
      "flatten_2 (Flatten)          (None, 251008)            0         \n",
      "_________________________________________________________________\n",
      "dense_2 (Dense)              (None, 1)                 251009    \n",
      "=================================================================\n",
      "Total params: 9,123,437\n",
      "Trainable params: 315,137\n",
      "Non-trainable params: 8,808,300\n",
      "_________________________________________________________________\n",
      "None\n"
     ]
    }
   ],
   "source": [
    "# define model\n",
    "model = Sequential()\n",
    "model.add(embedding_layer)\n",
    "model.add(Dropout(0.25)) # dropout level specified in paper \n",
    "model.add(Conv1D(filters=128, kernel_size=5, activation='relu'))\n",
    "model.add(MaxPooling1D(pool_size=2))\n",
    "model.add(Flatten())\n",
    "model.add(Dense(1, activation='sigmoid'))\n",
    "\n",
    "print(model.summary())"
   ]
  },
  {
   "cell_type": "code",
   "execution_count": 108,
   "metadata": {},
   "outputs": [],
   "source": [
    "# compile network\n",
    "opt = keras.optimizers.Adam(learning_rate=0.001)\n",
    "model.compile(loss='categorical_crossentropy', \n",
    "              optimizer=opt,\n",
    "              metrics=['accuracy'])"
   ]
  },
  {
   "cell_type": "code",
   "execution_count": 109,
   "metadata": {},
   "outputs": [
    {
     "name": "stdout",
     "output_type": "stream",
     "text": [
      "Epoch 1/50\n",
      "1301/1301 [==============================] - 831s 638ms/step - loss: nan - accuracy: 0.4984 - val_loss: nan - val_accuracy: 0.8866\n",
      "Epoch 2/50\n",
      "1301/1301 [==============================] - 729s 560ms/step - loss: nan - accuracy: 0.5022 - val_loss: nan - val_accuracy: 0.8866\n",
      "Epoch 3/50\n",
      "1301/1301 [==============================] - 713s 548ms/step - loss: nan - accuracy: 0.4971 - val_loss: nan - val_accuracy: 0.8866\n",
      "Epoch 4/50\n",
      "1301/1301 [==============================] - 711s 547ms/step - loss: nan - accuracy: 0.5023 - val_loss: nan - val_accuracy: 0.8866\n",
      "Epoch 5/50\n",
      "1301/1301 [==============================] - 710s 546ms/step - loss: nan - accuracy: 0.4994 - val_loss: nan - val_accuracy: 0.8866\n",
      "Epoch 6/50\n",
      "1301/1301 [==============================] - 711s 546ms/step - loss: nan - accuracy: 0.5013 - val_loss: nan - val_accuracy: 0.8866\n",
      "Epoch 7/50\n",
      "1301/1301 [==============================] - 709s 545ms/step - loss: nan - accuracy: 0.4998 - val_loss: nan - val_accuracy: 0.8866\n",
      "Epoch 8/50\n",
      "1301/1301 [==============================] - 709s 545ms/step - loss: nan - accuracy: 0.5009 - val_loss: nan - val_accuracy: 0.8866\n",
      "Epoch 9/50\n",
      "1301/1301 [==============================] - 708s 544ms/step - loss: nan - accuracy: 0.5010 - val_loss: nan - val_accuracy: 0.8866\n",
      "Epoch 10/50\n",
      "1301/1301 [==============================] - 707s 544ms/step - loss: nan - accuracy: 0.5009 - val_loss: nan - val_accuracy: 0.8866\n",
      "Epoch 11/50\n",
      "1301/1301 [==============================] - 709s 545ms/step - loss: nan - accuracy: 0.4976 - val_loss: nan - val_accuracy: 0.8866\n",
      "Epoch 12/50\n",
      "1301/1301 [==============================] - 708s 544ms/step - loss: nan - accuracy: 0.5000 - val_loss: nan - val_accuracy: 0.8866\n",
      "Epoch 13/50\n",
      "1301/1301 [==============================] - 710s 546ms/step - loss: nan - accuracy: 0.5019 - val_loss: nan - val_accuracy: 0.8866\n",
      "Epoch 14/50\n",
      "1301/1301 [==============================] - 710s 546ms/step - loss: nan - accuracy: 0.4978 - val_loss: nan - val_accuracy: 0.8866\n",
      "Epoch 15/50\n",
      "1301/1301 [==============================] - 707s 544ms/step - loss: nan - accuracy: 0.5005 - val_loss: nan - val_accuracy: 0.8866\n",
      "Epoch 16/50\n",
      "1301/1301 [==============================] - 710s 545ms/step - loss: nan - accuracy: 0.5026 - val_loss: nan - val_accuracy: 0.8866\n",
      "Epoch 17/50\n",
      "1301/1301 [==============================] - 708s 544ms/step - loss: nan - accuracy: 0.4994 - val_loss: nan - val_accuracy: 0.8866\n",
      "Epoch 18/50\n",
      "1301/1301 [==============================] - 709s 544ms/step - loss: nan - accuracy: 0.5003 - val_loss: nan - val_accuracy: 0.8866\n",
      "Epoch 19/50\n",
      "1301/1301 [==============================] - 708s 544ms/step - loss: nan - accuracy: 0.4989 - val_loss: nan - val_accuracy: 0.8866\n",
      "Epoch 20/50\n",
      "1301/1301 [==============================] - 708s 544ms/step - loss: nan - accuracy: 0.5032 - val_loss: nan - val_accuracy: 0.8866\n",
      "Epoch 21/50\n",
      "1301/1301 [==============================] - 709s 545ms/step - loss: nan - accuracy: 0.4981 - val_loss: nan - val_accuracy: 0.8866\n",
      "Epoch 22/50\n",
      "1301/1301 [==============================] - 708s 544ms/step - loss: nan - accuracy: 0.4997 - val_loss: nan - val_accuracy: 0.8866\n",
      "Epoch 23/50\n",
      "1301/1301 [==============================] - 708s 544ms/step - loss: nan - accuracy: 0.4985 - val_loss: nan - val_accuracy: 0.8866\n",
      "Epoch 24/50\n",
      "1301/1301 [==============================] - 709s 545ms/step - loss: nan - accuracy: 0.5007 - val_loss: nan - val_accuracy: 0.8866\n",
      "Epoch 25/50\n",
      "1301/1301 [==============================] - 708s 544ms/step - loss: nan - accuracy: 0.4986 - val_loss: nan - val_accuracy: 0.8866\n",
      "Epoch 26/50\n",
      "1301/1301 [==============================] - 707s 543ms/step - loss: nan - accuracy: 0.5016 - val_loss: nan - val_accuracy: 0.8866\n",
      "Epoch 27/50\n",
      "1301/1301 [==============================] - 708s 544ms/step - loss: nan - accuracy: 0.5023 - val_loss: nan - val_accuracy: 0.8866\n",
      "Epoch 28/50\n",
      "1301/1301 [==============================] - 709s 545ms/step - loss: nan - accuracy: 0.5000 - val_loss: nan - val_accuracy: 0.8866\n",
      "Epoch 29/50\n",
      "1301/1301 [==============================] - 710s 546ms/step - loss: nan - accuracy: 0.5007 - val_loss: nan - val_accuracy: 0.8866\n",
      "Epoch 30/50\n",
      "1301/1301 [==============================] - 708s 544ms/step - loss: nan - accuracy: 0.5023 - val_loss: nan - val_accuracy: 0.8866\n",
      "Epoch 31/50\n",
      "1301/1301 [==============================] - 709s 545ms/step - loss: nan - accuracy: 0.4982 - val_loss: nan - val_accuracy: 0.8866\n",
      "Epoch 32/50\n",
      "1301/1301 [==============================] - 709s 545ms/step - loss: nan - accuracy: 0.4982 - val_loss: nan - val_accuracy: 0.8866\n",
      "Epoch 33/50\n",
      "1301/1301 [==============================] - 708s 544ms/step - loss: nan - accuracy: 0.4975 - val_loss: nan - val_accuracy: 0.8866\n",
      "Epoch 34/50\n",
      "1301/1301 [==============================] - 709s 545ms/step - loss: nan - accuracy: 0.5025 - val_loss: nan - val_accuracy: 0.8866\n",
      "Epoch 35/50\n",
      "1301/1301 [==============================] - 710s 546ms/step - loss: nan - accuracy: 0.4999 - val_loss: nan - val_accuracy: 0.8866\n",
      "Epoch 36/50\n",
      "1301/1301 [==============================] - 708s 544ms/step - loss: nan - accuracy: 0.5006 - val_loss: nan - val_accuracy: 0.8866\n",
      "Epoch 37/50\n",
      "1301/1301 [==============================] - 709s 545ms/step - loss: nan - accuracy: 0.5012 - val_loss: nan - val_accuracy: 0.8866\n",
      "Epoch 38/50\n",
      "1301/1301 [==============================] - 707s 544ms/step - loss: nan - accuracy: 0.4970 - val_loss: nan - val_accuracy: 0.8866\n",
      "Epoch 39/50\n",
      "1301/1301 [==============================] - 708s 544ms/step - loss: nan - accuracy: 0.4999 - val_loss: nan - val_accuracy: 0.8866\n",
      "Epoch 40/50\n",
      "1301/1301 [==============================] - 708s 544ms/step - loss: nan - accuracy: 0.4977 - val_loss: nan - val_accuracy: 0.8866\n",
      "Epoch 41/50\n",
      "1301/1301 [==============================] - 707s 543ms/step - loss: nan - accuracy: 0.5004 - val_loss: nan - val_accuracy: 0.8866\n",
      "Epoch 42/50\n",
      "1301/1301 [==============================] - 708s 544ms/step - loss: nan - accuracy: 0.5036 - val_loss: nan - val_accuracy: 0.8866\n",
      "Epoch 43/50\n",
      "1301/1301 [==============================] - 708s 544ms/step - loss: nan - accuracy: 0.5017 - val_loss: nan - val_accuracy: 0.8866\n",
      "Epoch 44/50\n",
      "1301/1301 [==============================] - 707s 544ms/step - loss: nan - accuracy: 0.4991 - val_loss: nan - val_accuracy: 0.8866\n",
      "Epoch 45/50\n",
      "1301/1301 [==============================] - 708s 544ms/step - loss: nan - accuracy: 0.4994 - val_loss: nan - val_accuracy: 0.8866\n",
      "Epoch 46/50\n",
      "1301/1301 [==============================] - 707s 544ms/step - loss: nan - accuracy: 0.5018 - val_loss: nan - val_accuracy: 0.8866\n",
      "Epoch 47/50\n",
      "1301/1301 [==============================] - 706s 543ms/step - loss: nan - accuracy: 0.4997 - val_loss: nan - val_accuracy: 0.8866\n",
      "Epoch 48/50\n",
      "1301/1301 [==============================] - 708s 544ms/step - loss: nan - accuracy: 0.4996 - val_loss: nan - val_accuracy: 0.8866\n",
      "Epoch 49/50\n",
      "1301/1301 [==============================] - 709s 545ms/step - loss: nan - accuracy: 0.5019 - val_loss: nan - val_accuracy: 0.8866\n",
      "Epoch 50/50\n",
      "1301/1301 [==============================] - 709s 545ms/step - loss: nan - accuracy: 0.5030 - val_loss: nan - val_accuracy: 0.8866\n"
     ]
    }
   ],
   "source": [
    "# Fit model on training data.\n",
    "history = model.fit(X_train_sm,\n",
    "                    y_train_sm, \n",
    "                    batch_size=64,\n",
    "                    validation_data=(X_test, y_test),\n",
    "                    epochs=50,\n",
    "                    verbose=1)"
   ]
  },
  {
   "cell_type": "code",
   "execution_count": 115,
   "metadata": {},
   "outputs": [
    {
     "data": {
      "image/png": "[encoded data removed]",
      "text/plain": [
       "<Figure size 864x576 with 1 Axes>"
      ]
     },
     "metadata": {
      "needs_background": "light"
     },
     "output_type": "display_data"
    }
   ],
   "source": [
    "# Check out our train loss and test loss over epochs.\n",
    "train_loss = history.history['loss']\n",
    "test_loss = history.history['val_loss']\n",
    "\n",
    "# Set figure size.\n",
    "plt.figure(figsize=(12, 8))\n",
    "\n",
    "# Generate line plot of training, testing loss over epochs.\n",
    "plt.plot(train_loss, label='Training Loss', color='#185fad')\n",
    "plt.plot(test_loss, label='Testing Loss', color='orange')\n",
    "\n",
    "# Set title\n",
    "plt.title('Training and Testing Loss by Epoch', fontsize = 25)\n",
    "plt.xlabel('Epoch', fontsize = 18)\n",
    "plt.ylabel('Categorical Crossentropy', fontsize = 18)\n",
    "plt.xticks(np.arange(10), np.arange(10))\n",
    "\n",
    "plt.legend(fontsize = 18);"
   ]
  },
  {
   "cell_type": "code",
   "execution_count": null,
   "metadata": {},
   "outputs": [],
   "source": []
  }
 ],
 "metadata": {
  "kernelspec": {
   "display_name": "Python 3",
   "language": "python",
   "name": "python3"
  },
  "language_info": {
   "codemirror_mode": {
    "name": "ipython",
    "version": 3
   },
   "file_extension": ".py",
   "mimetype": "text/x-python",
   "name": "python",
   "nbconvert_exporter": "python",
   "pygments_lexer": "ipython3",
   "version": "3.7.4"
  },
  "toc": {
   "base_numbering": 1,
   "nav_menu": {},
   "number_sections": true,
   "sideBar": true,
   "skip_h1_title": false,
   "title_cell": "Table of Contents",
   "title_sidebar": "Contents",
   "toc_cell": false,
   "toc_position": {},
   "toc_section_display": true,
   "toc_window_display": false
  }
 },
 "nbformat": 4,
 "nbformat_minor": 2
}
