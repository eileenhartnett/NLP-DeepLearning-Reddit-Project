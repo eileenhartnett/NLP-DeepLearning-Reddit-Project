{
 "cells": [
  {
   "cell_type": "markdown",
   "metadata": {},
   "source": [
    "# Text Pre-processing"
   ]
  },
  {
   "cell_type": "markdown",
   "metadata": {},
   "source": [
    "Add text here explaining this notebook and what it does"
   ]
  },
  {
   "cell_type": "markdown",
   "metadata": {},
   "source": [
    "##### Import libraries"
   ]
  },
  {
   "cell_type": "code",
   "execution_count": 1,
   "metadata": {},
   "outputs": [],
   "source": [
    "import pandas as pd\n",
    "import numpy as np\n",
    "\n",
    "import seaborn as sns\n",
    "import matplotlib.pyplot as plt\n",
    "plt.style.use('fivethirtyeight')\n",
    "\n",
    "import re\n",
    "import string\n",
    "\n",
    "import nltk\n",
    "from nltk import word_tokenize, sent_tokenize\n",
    "from nltk.stem import PorterStemmer\n",
    "from sklearn.feature_extraction.text import TfidfVectorizer\n",
    "from nltk.corpus import stopwords"
   ]
  },
  {
   "cell_type": "markdown",
   "metadata": {},
   "source": [
    "## Load data"
   ]
  },
  {
   "cell_type": "code",
   "execution_count": 2,
   "metadata": {},
   "outputs": [],
   "source": [
    "# Read in combined data frames csv file\n",
    "posts = pd.read_csv('../data/subreddit_posts_combined.csv') "
   ]
  },
  {
   "cell_type": "markdown",
   "metadata": {},
   "source": [
    "## Look at the data"
   ]
  },
  {
   "cell_type": "code",
   "execution_count": 3,
   "metadata": {},
   "outputs": [
    {
     "data": {
      "text/html": [
       "<div>\n",
       "<style scoped>\n",
       "    .dataframe tbody tr th:only-of-type {\n",
       "        vertical-align: middle;\n",
       "    }\n",
       "\n",
       "    .dataframe tbody tr th {\n",
       "        vertical-align: top;\n",
       "    }\n",
       "\n",
       "    .dataframe thead th {\n",
       "        text-align: right;\n",
       "    }\n",
       "</style>\n",
       "<table border=\"1\" class=\"dataframe\">\n",
       "  <thead>\n",
       "    <tr style=\"text-align: right;\">\n",
       "      <th></th>\n",
       "      <th>author</th>\n",
       "      <th>created_utc</th>\n",
       "      <th>subreddit</th>\n",
       "      <th>text</th>\n",
       "      <th>timeframe</th>\n",
       "    </tr>\n",
       "  </thead>\n",
       "  <tbody>\n",
       "    <tr>\n",
       "      <td>0</td>\n",
       "      <td>sub30605</td>\n",
       "      <td>1499390694</td>\n",
       "      <td>bulimia</td>\n",
       "      <td>Chest Pains? : Anyone else experience chest pa...</td>\n",
       "      <td>pre-covid</td>\n",
       "    </tr>\n",
       "    <tr>\n",
       "      <td>1</td>\n",
       "      <td>sub27274</td>\n",
       "      <td>1499060654</td>\n",
       "      <td>bulimia</td>\n",
       "      <td>Dying to eat, eating to die: study on shifting...</td>\n",
       "      <td>pre-covid</td>\n",
       "    </tr>\n",
       "    <tr>\n",
       "      <td>2</td>\n",
       "      <td>sub6055</td>\n",
       "      <td>1499029087</td>\n",
       "      <td>bulimia</td>\n",
       "      <td>Without purging.... : What is the quickest way...</td>\n",
       "      <td>pre-covid</td>\n",
       "    </tr>\n",
       "    <tr>\n",
       "      <td>3</td>\n",
       "      <td>sub40365</td>\n",
       "      <td>1498978259</td>\n",
       "      <td>bulimia</td>\n",
       "      <td>Bulimia and Melancholy Feelings : I haven't pu...</td>\n",
       "      <td>pre-covid</td>\n",
       "    </tr>\n",
       "    <tr>\n",
       "      <td>4</td>\n",
       "      <td>sub49857</td>\n",
       "      <td>1498814187</td>\n",
       "      <td>bulimia</td>\n",
       "      <td>I'm relapsing : Fuck. I'm so upset at myself r...</td>\n",
       "      <td>pre-covid</td>\n",
       "    </tr>\n",
       "  </tbody>\n",
       "</table>\n",
       "</div>"
      ],
      "text/plain": [
       "     author created_utc subreddit  \\\n",
       "0  sub30605  1499390694   bulimia   \n",
       "1  sub27274  1499060654   bulimia   \n",
       "2   sub6055  1499029087   bulimia   \n",
       "3  sub40365  1498978259   bulimia   \n",
       "4  sub49857  1498814187   bulimia   \n",
       "\n",
       "                                                text  timeframe  \n",
       "0  Chest Pains? : Anyone else experience chest pa...  pre-covid  \n",
       "1  Dying to eat, eating to die: study on shifting...  pre-covid  \n",
       "2  Without purging.... : What is the quickest way...  pre-covid  \n",
       "3  Bulimia and Melancholy Feelings : I haven't pu...  pre-covid  \n",
       "4  I'm relapsing : Fuck. I'm so upset at myself r...  pre-covid  "
      ]
     },
     "execution_count": 3,
     "metadata": {},
     "output_type": "execute_result"
    }
   ],
   "source": [
    "posts.head()"
   ]
  },
  {
   "cell_type": "markdown",
   "metadata": {},
   "source": [
    "#### Check Shape"
   ]
  },
  {
   "cell_type": "code",
   "execution_count": 4,
   "metadata": {},
   "outputs": [
    {
     "data": {
      "text/plain": [
       "(85401, 5)"
      ]
     },
     "execution_count": 4,
     "metadata": {},
     "output_type": "execute_result"
    }
   ],
   "source": [
    "posts.shape"
   ]
  },
  {
   "cell_type": "markdown",
   "metadata": {},
   "source": [
    "#### Check data types"
   ]
  },
  {
   "cell_type": "code",
   "execution_count": 5,
   "metadata": {
    "scrolled": true
   },
   "outputs": [
    {
     "data": {
      "text/plain": [
       "author         object\n",
       "created_utc    object\n",
       "subreddit      object\n",
       "text           object\n",
       "timeframe      object\n",
       "dtype: object"
      ]
     },
     "execution_count": 5,
     "metadata": {},
     "output_type": "execute_result"
    }
   ],
   "source": [
    "posts.dtypes"
   ]
  },
  {
   "cell_type": "markdown",
   "metadata": {},
   "source": [
    "#### Check Null Values"
   ]
  },
  {
   "cell_type": "code",
   "execution_count": 6,
   "metadata": {},
   "outputs": [
    {
     "data": {
      "text/plain": [
       "author         0\n",
       "created_utc    0\n",
       "subreddit      1\n",
       "text           1\n",
       "timeframe      2\n",
       "dtype: int64"
      ]
     },
     "execution_count": 6,
     "metadata": {},
     "output_type": "execute_result"
    }
   ],
   "source": [
    "posts.isnull().sum()"
   ]
  },
  {
   "cell_type": "code",
   "execution_count": 7,
   "metadata": {},
   "outputs": [
    {
     "data": {
      "text/html": [
       "<div>\n",
       "<style scoped>\n",
       "    .dataframe tbody tr th:only-of-type {\n",
       "        vertical-align: middle;\n",
       "    }\n",
       "\n",
       "    .dataframe tbody tr th {\n",
       "        vertical-align: top;\n",
       "    }\n",
       "\n",
       "    .dataframe thead th {\n",
       "        text-align: right;\n",
       "    }\n",
       "</style>\n",
       "<table border=\"1\" class=\"dataframe\">\n",
       "  <thead>\n",
       "    <tr style=\"text-align: right;\">\n",
       "      <th></th>\n",
       "      <th>author</th>\n",
       "      <th>created_utc</th>\n",
       "      <th>subreddit</th>\n",
       "      <th>text</th>\n",
       "      <th>timeframe</th>\n",
       "    </tr>\n",
       "  </thead>\n",
       "  <tbody>\n",
       "    <tr>\n",
       "      <td>27249</td>\n",
       "      <td>Pray for me.</td>\n",
       "      <td>pre-covid</td>\n",
       "      <td>NaN</td>\n",
       "      <td>NaN</td>\n",
       "      <td>NaN</td>\n",
       "    </tr>\n",
       "  </tbody>\n",
       "</table>\n",
       "</div>"
      ],
      "text/plain": [
       "             author created_utc subreddit text timeframe\n",
       "27249  Pray for me.   pre-covid       NaN  NaN       NaN"
      ]
     },
     "execution_count": 7,
     "metadata": {},
     "output_type": "execute_result"
    }
   ],
   "source": [
    "(posts.loc[posts['text'].isnull() == True]).head(10)"
   ]
  },
  {
   "cell_type": "code",
   "execution_count": 8,
   "metadata": {},
   "outputs": [],
   "source": [
    "posts.dropna(inplace=True)"
   ]
  },
  {
   "cell_type": "code",
   "execution_count": 9,
   "metadata": {},
   "outputs": [
    {
     "data": {
      "text/plain": [
       "(85399, 5)"
      ]
     },
     "execution_count": 9,
     "metadata": {},
     "output_type": "execute_result"
    }
   ],
   "source": [
    "posts.shape"
   ]
  },
  {
   "cell_type": "markdown",
   "metadata": {},
   "source": [
    "#### Count number of posts per subreddit"
   ]
  },
  {
   "cell_type": "code",
   "execution_count": 10,
   "metadata": {},
   "outputs": [
    {
     "data": {
      "text/plain": [
       "bulimia            9777\n",
       "AnorexiaNervosa    9733\n",
       "schizophrenia      9549\n",
       "bipolar            9493\n",
       "Anxiety            9455\n",
       "mentalhealth       9450\n",
       "BPD                9345\n",
       "depression         9318\n",
       "autism             9279\n",
       "Name: subreddit, dtype: int64"
      ]
     },
     "execution_count": 10,
     "metadata": {},
     "output_type": "execute_result"
    }
   ],
   "source": [
    "posts['subreddit'].value_counts()"
   ]
  },
  {
   "cell_type": "markdown",
   "metadata": {},
   "source": [
    "## Preprocess Text"
   ]
  },
  {
   "cell_type": "markdown",
   "metadata": {},
   "source": [
    "### Normalization"
   ]
  },
  {
   "cell_type": "markdown",
   "metadata": {},
   "source": [
    "https://towardsdatascience.com/cleaning-text-data-with-python-b69b47b97b76"
   ]
  },
  {
   "cell_type": "code",
   "execution_count": 11,
   "metadata": {},
   "outputs": [],
   "source": [
    "stop_words = stopwords.words(\"english\")\n",
    "\n",
    "# Add our targets to the list of stopwords \n",
    "newStopWords = ['bulimia', 'bulimic', 'anorexia', 'anorexic', 'nervosa',\n",
    "                'schizophrenia', 'schizophrenic', 'bipolar', 'anxiety', \n",
    "                'mentalhealth', 'bpd', 'borderline', 'depression', 'autism',\n",
    "                'autistic']\n",
    "\n",
    "for i in newStopWords:\n",
    "    stop_words.append(i)\n",
    "\n",
    "words = set(nltk.corpus.words.words())"
   ]
  },
  {
   "cell_type": "code",
   "execution_count": 12,
   "metadata": {},
   "outputs": [],
   "source": [
    "def text_preproc(x):\n",
    "    x = x.lower()\n",
    "    x = ' '.join([word for word in x.split(' ') if word not in stop_words])\n",
    "    x = x.encode('ascii', 'ignore').decode(\"utf-8\")\n",
    "    x = re.sub(r'https*\\S+', ' ', x)\n",
    "    x = re.sub(r'@\\S+', ' ', x)\n",
    "    x = re.sub(r'#\\S+', ' ', x)\n",
    "    x = re.sub(r'\\'\\w+', '', x)\n",
    "    x = re.sub('[%s]' % re.escape(string.punctuation), ' ', x)\n",
    "    x = re.sub(r'\\w*\\d+\\w*', '', x)\n",
    "    x = re.sub(r'\\s{2,}', ' ', x)\n",
    "    x = \" \".join(w for w in nltk.wordpunct_tokenize(x) if w.lower() \\\n",
    "                 in words or not w.isalpha())\n",
    "    return x"
   ]
  },
  {
   "cell_type": "code",
   "execution_count": 13,
   "metadata": {},
   "outputs": [],
   "source": [
    "posts['text_clean'] = posts.text.apply(text_preproc)"
   ]
  },
  {
   "cell_type": "code",
   "execution_count": 14,
   "metadata": {},
   "outputs": [
    {
     "data": {
      "text/html": [
       "<div>\n",
       "<style scoped>\n",
       "    .dataframe tbody tr th:only-of-type {\n",
       "        vertical-align: middle;\n",
       "    }\n",
       "\n",
       "    .dataframe tbody tr th {\n",
       "        vertical-align: top;\n",
       "    }\n",
       "\n",
       "    .dataframe thead th {\n",
       "        text-align: right;\n",
       "    }\n",
       "</style>\n",
       "<table border=\"1\" class=\"dataframe\">\n",
       "  <thead>\n",
       "    <tr style=\"text-align: right;\">\n",
       "      <th></th>\n",
       "      <th>author</th>\n",
       "      <th>created_utc</th>\n",
       "      <th>subreddit</th>\n",
       "      <th>text</th>\n",
       "      <th>timeframe</th>\n",
       "      <th>text_clean</th>\n",
       "    </tr>\n",
       "  </thead>\n",
       "  <tbody>\n",
       "    <tr>\n",
       "      <td>0</td>\n",
       "      <td>sub30605</td>\n",
       "      <td>1499390694</td>\n",
       "      <td>bulimia</td>\n",
       "      <td>Chest Pains? : Anyone else experience chest pa...</td>\n",
       "      <td>pre-covid</td>\n",
       "      <td>chest anyone else experience chest they purgin...</td>\n",
       "    </tr>\n",
       "    <tr>\n",
       "      <td>1</td>\n",
       "      <td>sub27274</td>\n",
       "      <td>1499060654</td>\n",
       "      <td>bulimia</td>\n",
       "      <td>Dying to eat, eating to die: study on shifting...</td>\n",
       "      <td>pre-covid</td>\n",
       "      <td>dying eat eating die study shifting coping men...</td>\n",
       "    </tr>\n",
       "    <tr>\n",
       "      <td>2</td>\n",
       "      <td>sub6055</td>\n",
       "      <td>1499029087</td>\n",
       "      <td>bulimia</td>\n",
       "      <td>Without purging.... : What is the quickest way...</td>\n",
       "      <td>pre-covid</td>\n",
       "      <td>without purging way lose weight without exercise</td>\n",
       "    </tr>\n",
       "    <tr>\n",
       "      <td>3</td>\n",
       "      <td>sub40365</td>\n",
       "      <td>1498978259</td>\n",
       "      <td>bulimia</td>\n",
       "      <td>Bulimia and Melancholy Feelings : I haven't pu...</td>\n",
       "      <td>pre-covid</td>\n",
       "      <td>melancholy little month since i slowly losing ...</td>\n",
       "    </tr>\n",
       "    <tr>\n",
       "      <td>4</td>\n",
       "      <td>sub49857</td>\n",
       "      <td>1498814187</td>\n",
       "      <td>bulimia</td>\n",
       "      <td>I'm relapsing : Fuck. I'm so upset at myself r...</td>\n",
       "      <td>pre-covid</td>\n",
       "      <td>i relapsing i upset right now i twice week goo...</td>\n",
       "    </tr>\n",
       "  </tbody>\n",
       "</table>\n",
       "</div>"
      ],
      "text/plain": [
       "     author created_utc subreddit  \\\n",
       "0  sub30605  1499390694   bulimia   \n",
       "1  sub27274  1499060654   bulimia   \n",
       "2   sub6055  1499029087   bulimia   \n",
       "3  sub40365  1498978259   bulimia   \n",
       "4  sub49857  1498814187   bulimia   \n",
       "\n",
       "                                                text  timeframe  \\\n",
       "0  Chest Pains? : Anyone else experience chest pa...  pre-covid   \n",
       "1  Dying to eat, eating to die: study on shifting...  pre-covid   \n",
       "2  Without purging.... : What is the quickest way...  pre-covid   \n",
       "3  Bulimia and Melancholy Feelings : I haven't pu...  pre-covid   \n",
       "4  I'm relapsing : Fuck. I'm so upset at myself r...  pre-covid   \n",
       "\n",
       "                                          text_clean  \n",
       "0  chest anyone else experience chest they purgin...  \n",
       "1  dying eat eating die study shifting coping men...  \n",
       "2   without purging way lose weight without exercise  \n",
       "3  melancholy little month since i slowly losing ...  \n",
       "4  i relapsing i upset right now i twice week goo...  "
      ]
     },
     "execution_count": 14,
     "metadata": {},
     "output_type": "execute_result"
    }
   ],
   "source": [
    "posts.head()"
   ]
  },
  {
   "cell_type": "markdown",
   "metadata": {},
   "source": [
    "### Tokenize sentences and words"
   ]
  },
  {
   "cell_type": "code",
   "execution_count": 15,
   "metadata": {},
   "outputs": [],
   "source": [
    "# tokenize sentences\n",
    "posts['sent_tokens'] = [sent_tokenize(row) for row in posts['text_clean'].astype(str)] "
   ]
  },
  {
   "cell_type": "code",
   "execution_count": 16,
   "metadata": {},
   "outputs": [],
   "source": [
    "# tokenize words\n",
    "posts['word_tokens'] = [word_tokenize(row) for row in posts['text_clean'].astype(str)]"
   ]
  },
  {
   "cell_type": "markdown",
   "metadata": {},
   "source": [
    "### Check for empty cells"
   ]
  },
  {
   "cell_type": "code",
   "execution_count": 17,
   "metadata": {},
   "outputs": [],
   "source": [
    "posts.replace('', np.nan, inplace=True) "
   ]
  },
  {
   "cell_type": "code",
   "execution_count": 18,
   "metadata": {
    "scrolled": true
   },
   "outputs": [
    {
     "data": {
      "text/plain": [
       "author           0\n",
       "created_utc      0\n",
       "subreddit        0\n",
       "text             0\n",
       "timeframe        0\n",
       "text_clean     448\n",
       "sent_tokens      0\n",
       "word_tokens      0\n",
       "dtype: int64"
      ]
     },
     "execution_count": 18,
     "metadata": {},
     "output_type": "execute_result"
    }
   ],
   "source": [
    "posts.isnull().sum()"
   ]
  },
  {
   "cell_type": "code",
   "execution_count": 19,
   "metadata": {},
   "outputs": [],
   "source": [
    "posts.dropna(inplace=True)"
   ]
  },
  {
   "cell_type": "markdown",
   "metadata": {},
   "source": [
    "### Porter Stemmer"
   ]
  },
  {
   "cell_type": "markdown",
   "metadata": {},
   "source": [
    "Using Porter Stemmer"
   ]
  },
  {
   "cell_type": "code",
   "execution_count": 24,
   "metadata": {},
   "outputs": [],
   "source": [
    "# Create an instance of Porter Stemmer\n",
    "stemmer = PorterStemmer()"
   ]
  },
  {
   "cell_type": "code",
   "execution_count": 25,
   "metadata": {},
   "outputs": [],
   "source": [
    "text = posts['word_tokens'].astype(str)"
   ]
  },
  {
   "cell_type": "code",
   "execution_count": 26,
   "metadata": {
    "scrolled": true
   },
   "outputs": [],
   "source": [
    "posts['word_tokens'] = [stemmer.stem(word) for word in text]"
   ]
  },
  {
   "cell_type": "markdown",
   "metadata": {},
   "source": [
    "### More cleaning"
   ]
  },
  {
   "cell_type": "markdown",
   "metadata": {},
   "source": [
    "### Check dataframe filtered by submission Lengths"
   ]
  },
  {
   "cell_type": "code",
   "execution_count": 27,
   "metadata": {},
   "outputs": [
    {
     "data": {
      "text/html": [
       "<div>\n",
       "<style scoped>\n",
       "    .dataframe tbody tr th:only-of-type {\n",
       "        vertical-align: middle;\n",
       "    }\n",
       "\n",
       "    .dataframe tbody tr th {\n",
       "        vertical-align: top;\n",
       "    }\n",
       "\n",
       "    .dataframe thead th {\n",
       "        text-align: right;\n",
       "    }\n",
       "</style>\n",
       "<table border=\"1\" class=\"dataframe\">\n",
       "  <thead>\n",
       "    <tr style=\"text-align: right;\">\n",
       "      <th></th>\n",
       "      <th>author</th>\n",
       "      <th>created_utc</th>\n",
       "      <th>subreddit</th>\n",
       "      <th>text</th>\n",
       "      <th>timeframe</th>\n",
       "      <th>text_clean</th>\n",
       "      <th>sent_tokens</th>\n",
       "      <th>word_tokens</th>\n",
       "    </tr>\n",
       "  </thead>\n",
       "  <tbody>\n",
       "    <tr>\n",
       "      <td>0</td>\n",
       "      <td>sub30605</td>\n",
       "      <td>1499390694</td>\n",
       "      <td>bulimia</td>\n",
       "      <td>Chest Pains? : Anyone else experience chest pa...</td>\n",
       "      <td>pre-covid</td>\n",
       "      <td>chest anyone else experience chest they purgin...</td>\n",
       "      <td>[chest anyone else experience chest they purgi...</td>\n",
       "      <td>['chest', 'anyone', 'else', 'experience', 'che...</td>\n",
       "    </tr>\n",
       "    <tr>\n",
       "      <td>1</td>\n",
       "      <td>sub27274</td>\n",
       "      <td>1499060654</td>\n",
       "      <td>bulimia</td>\n",
       "      <td>Dying to eat, eating to die: study on shifting...</td>\n",
       "      <td>pre-covid</td>\n",
       "      <td>dying eat eating die study shifting coping men...</td>\n",
       "      <td>[dying eat eating die study shifting coping me...</td>\n",
       "      <td>['dying', 'eat', 'eating', 'die', 'study', 'sh...</td>\n",
       "    </tr>\n",
       "    <tr>\n",
       "      <td>2</td>\n",
       "      <td>sub6055</td>\n",
       "      <td>1499029087</td>\n",
       "      <td>bulimia</td>\n",
       "      <td>Without purging.... : What is the quickest way...</td>\n",
       "      <td>pre-covid</td>\n",
       "      <td>without purging way lose weight without exercise</td>\n",
       "      <td>[without purging way lose weight without exerc...</td>\n",
       "      <td>['without', 'purging', 'way', 'lose', 'weight'...</td>\n",
       "    </tr>\n",
       "    <tr>\n",
       "      <td>3</td>\n",
       "      <td>sub40365</td>\n",
       "      <td>1498978259</td>\n",
       "      <td>bulimia</td>\n",
       "      <td>Bulimia and Melancholy Feelings : I haven't pu...</td>\n",
       "      <td>pre-covid</td>\n",
       "      <td>melancholy little month since i slowly losing ...</td>\n",
       "      <td>[melancholy little month since i slowly losing...</td>\n",
       "      <td>['melancholy', 'little', 'month', 'since', 'i'...</td>\n",
       "    </tr>\n",
       "    <tr>\n",
       "      <td>4</td>\n",
       "      <td>sub49857</td>\n",
       "      <td>1498814187</td>\n",
       "      <td>bulimia</td>\n",
       "      <td>I'm relapsing : Fuck. I'm so upset at myself r...</td>\n",
       "      <td>pre-covid</td>\n",
       "      <td>i relapsing i upset right now i twice week goo...</td>\n",
       "      <td>[i relapsing i upset right now i twice week go...</td>\n",
       "      <td>['i', 'relapsing', 'i', 'upset', 'right', 'now...</td>\n",
       "    </tr>\n",
       "  </tbody>\n",
       "</table>\n",
       "</div>"
      ],
      "text/plain": [
       "     author created_utc subreddit  \\\n",
       "0  sub30605  1499390694   bulimia   \n",
       "1  sub27274  1499060654   bulimia   \n",
       "2   sub6055  1499029087   bulimia   \n",
       "3  sub40365  1498978259   bulimia   \n",
       "4  sub49857  1498814187   bulimia   \n",
       "\n",
       "                                                text  timeframe  \\\n",
       "0  Chest Pains? : Anyone else experience chest pa...  pre-covid   \n",
       "1  Dying to eat, eating to die: study on shifting...  pre-covid   \n",
       "2  Without purging.... : What is the quickest way...  pre-covid   \n",
       "3  Bulimia and Melancholy Feelings : I haven't pu...  pre-covid   \n",
       "4  I'm relapsing : Fuck. I'm so upset at myself r...  pre-covid   \n",
       "\n",
       "                                          text_clean  \\\n",
       "0  chest anyone else experience chest they purgin...   \n",
       "1  dying eat eating die study shifting coping men...   \n",
       "2   without purging way lose weight without exercise   \n",
       "3  melancholy little month since i slowly losing ...   \n",
       "4  i relapsing i upset right now i twice week goo...   \n",
       "\n",
       "                                         sent_tokens  \\\n",
       "0  [chest anyone else experience chest they purgi...   \n",
       "1  [dying eat eating die study shifting coping me...   \n",
       "2  [without purging way lose weight without exerc...   \n",
       "3  [melancholy little month since i slowly losing...   \n",
       "4  [i relapsing i upset right now i twice week go...   \n",
       "\n",
       "                                         word_tokens  \n",
       "0  ['chest', 'anyone', 'else', 'experience', 'che...  \n",
       "1  ['dying', 'eat', 'eating', 'die', 'study', 'sh...  \n",
       "2  ['without', 'purging', 'way', 'lose', 'weight'...  \n",
       "3  ['melancholy', 'little', 'month', 'since', 'i'...  \n",
       "4  ['i', 'relapsing', 'i', 'upset', 'right', 'now...  "
      ]
     },
     "execution_count": 27,
     "metadata": {},
     "output_type": "execute_result"
    }
   ],
   "source": [
    "posts.head()"
   ]
  },
  {
   "cell_type": "code",
   "execution_count": 28,
   "metadata": {},
   "outputs": [],
   "source": [
    "# Create a new column with submission length\n",
    "posts['text_length'] = posts['sent_tokens'].map(len)"
   ]
  },
  {
   "cell_type": "code",
   "execution_count": 29,
   "metadata": {},
   "outputs": [],
   "source": [
    "# Create a new column with number of words per submission\n",
    "posts['stems_word_count'] = posts['word_tokens'].map(len)"
   ]
  },
  {
   "cell_type": "code",
   "execution_count": 30,
   "metadata": {},
   "outputs": [
    {
     "data": {
      "text/html": [
       "<div>\n",
       "<style scoped>\n",
       "    .dataframe tbody tr th:only-of-type {\n",
       "        vertical-align: middle;\n",
       "    }\n",
       "\n",
       "    .dataframe tbody tr th {\n",
       "        vertical-align: top;\n",
       "    }\n",
       "\n",
       "    .dataframe thead th {\n",
       "        text-align: right;\n",
       "    }\n",
       "</style>\n",
       "<table border=\"1\" class=\"dataframe\">\n",
       "  <thead>\n",
       "    <tr style=\"text-align: right;\">\n",
       "      <th></th>\n",
       "      <th>sent_tokens</th>\n",
       "    </tr>\n",
       "  </thead>\n",
       "  <tbody>\n",
       "    <tr>\n",
       "      <td>0</td>\n",
       "      <td>[chest anyone else experience chest they purgi...</td>\n",
       "    </tr>\n",
       "    <tr>\n",
       "      <td>56988</td>\n",
       "      <td>[watching phone song many external outside con...</td>\n",
       "    </tr>\n",
       "    <tr>\n",
       "      <td>56987</td>\n",
       "      <td>[sometimes pretend teach life re center]</td>\n",
       "    </tr>\n",
       "    <tr>\n",
       "      <td>56986</td>\n",
       "      <td>[ever gag reflex throughout day thought medica...</td>\n",
       "    </tr>\n",
       "    <tr>\n",
       "      <td>56985</td>\n",
       "      <td>[new year hear everyone mine are learn web dev...</td>\n",
       "    </tr>\n",
       "  </tbody>\n",
       "</table>\n",
       "</div>"
      ],
      "text/plain": [
       "                                             sent_tokens\n",
       "0      [chest anyone else experience chest they purgi...\n",
       "56988  [watching phone song many external outside con...\n",
       "56987           [sometimes pretend teach life re center]\n",
       "56986  [ever gag reflex throughout day thought medica...\n",
       "56985  [new year hear everyone mine are learn web dev..."
      ]
     },
     "execution_count": 30,
     "metadata": {},
     "output_type": "execute_result"
    }
   ],
   "source": [
    "# Show the shortest submissions\n",
    "posts.sort_values(by='text_length', ascending=True)[['sent_tokens']].head()"
   ]
  },
  {
   "cell_type": "code",
   "execution_count": 38,
   "metadata": {},
   "outputs": [
    {
     "data": {
      "text/html": [
       "<div>\n",
       "<style scoped>\n",
       "    .dataframe tbody tr th:only-of-type {\n",
       "        vertical-align: middle;\n",
       "    }\n",
       "\n",
       "    .dataframe tbody tr th {\n",
       "        vertical-align: top;\n",
       "    }\n",
       "\n",
       "    .dataframe thead th {\n",
       "        text-align: right;\n",
       "    }\n",
       "</style>\n",
       "<table border=\"1\" class=\"dataframe\">\n",
       "  <thead>\n",
       "    <tr style=\"text-align: right;\">\n",
       "      <th></th>\n",
       "      <th>word_tokens</th>\n",
       "    </tr>\n",
       "  </thead>\n",
       "  <tbody>\n",
       "    <tr>\n",
       "      <td>59451</td>\n",
       "      <td>['d']</td>\n",
       "    </tr>\n",
       "    <tr>\n",
       "      <td>5699</td>\n",
       "      <td>['r']</td>\n",
       "    </tr>\n",
       "    <tr>\n",
       "      <td>48634</td>\n",
       "      <td>['i']</td>\n",
       "    </tr>\n",
       "    <tr>\n",
       "      <td>8048</td>\n",
       "      <td>['i']</td>\n",
       "    </tr>\n",
       "    <tr>\n",
       "      <td>58943</td>\n",
       "      <td>['s']</td>\n",
       "    </tr>\n",
       "  </tbody>\n",
       "</table>\n",
       "</div>"
      ],
      "text/plain": [
       "      word_tokens\n",
       "59451       ['d']\n",
       "5699        ['r']\n",
       "48634       ['i']\n",
       "8048        ['i']\n",
       "58943       ['s']"
      ]
     },
     "execution_count": 38,
     "metadata": {},
     "output_type": "execute_result"
    }
   ],
   "source": [
    "# Show the shortest submissions\n",
    "posts.sort_values(by='stems_word_count', ascending=True)[['word_tokens']].head()"
   ]
  },
  {
   "cell_type": "code",
   "execution_count": 36,
   "metadata": {},
   "outputs": [
    {
     "data": {
      "text/html": [
       "<div>\n",
       "<style scoped>\n",
       "    .dataframe tbody tr th:only-of-type {\n",
       "        vertical-align: middle;\n",
       "    }\n",
       "\n",
       "    .dataframe tbody tr th {\n",
       "        vertical-align: top;\n",
       "    }\n",
       "\n",
       "    .dataframe thead th {\n",
       "        text-align: right;\n",
       "    }\n",
       "</style>\n",
       "<table border=\"1\" class=\"dataframe\">\n",
       "  <thead>\n",
       "    <tr style=\"text-align: right;\">\n",
       "      <th></th>\n",
       "      <th>word_tokens</th>\n",
       "    </tr>\n",
       "  </thead>\n",
       "  <tbody>\n",
       "    <tr>\n",
       "      <td>20780</td>\n",
       "      <td>['reciprocal', 'suffering', 'if', 'time', 'ple...</td>\n",
       "    </tr>\n",
       "    <tr>\n",
       "      <td>48207</td>\n",
       "      <td>['rather', 'fast', 'recovery', 'i', 'turn', 'o...</td>\n",
       "    </tr>\n",
       "    <tr>\n",
       "      <td>82321</td>\n",
       "      <td>['i', 'depressed', 'long', 'remember', 'really...</td>\n",
       "    </tr>\n",
       "    <tr>\n",
       "      <td>18665</td>\n",
       "      <td>['think', 'may', 'schizophrenia', 'please', 'h...</td>\n",
       "    </tr>\n",
       "    <tr>\n",
       "      <td>84879</td>\n",
       "      <td>['really', 'long', 'sad', 'story', 'begin', 'i...</td>\n",
       "    </tr>\n",
       "    <tr>\n",
       "      <td>62675</td>\n",
       "      <td>['little', 'almost', 'nothing', 'little', 'alm...</td>\n",
       "    </tr>\n",
       "    <tr>\n",
       "      <td>65625</td>\n",
       "      <td>['experience', 'deal', 'it', 'worth', 'long', ...</td>\n",
       "    </tr>\n",
       "    <tr>\n",
       "      <td>85244</td>\n",
       "      <td>['extremely', 'long', 'post', 'felt', 'like', ...</td>\n",
       "    </tr>\n",
       "    <tr>\n",
       "      <td>39545</td>\n",
       "      <td>['right', 'feel', 'way', 'expect', 'anyone', '...</td>\n",
       "    </tr>\n",
       "    <tr>\n",
       "      <td>34511</td>\n",
       "      <td>['job', 'girl', 'taking', 'toll', 'ill', 'star...</td>\n",
       "    </tr>\n",
       "  </tbody>\n",
       "</table>\n",
       "</div>"
      ],
      "text/plain": [
       "                                             word_tokens\n",
       "20780  ['reciprocal', 'suffering', 'if', 'time', 'ple...\n",
       "48207  ['rather', 'fast', 'recovery', 'i', 'turn', 'o...\n",
       "82321  ['i', 'depressed', 'long', 'remember', 'really...\n",
       "18665  ['think', 'may', 'schizophrenia', 'please', 'h...\n",
       "84879  ['really', 'long', 'sad', 'story', 'begin', 'i...\n",
       "62675  ['little', 'almost', 'nothing', 'little', 'alm...\n",
       "65625  ['experience', 'deal', 'it', 'worth', 'long', ...\n",
       "85244  ['extremely', 'long', 'post', 'felt', 'like', ...\n",
       "39545  ['right', 'feel', 'way', 'expect', 'anyone', '...\n",
       "34511  ['job', 'girl', 'taking', 'toll', 'ill', 'star..."
      ]
     },
     "execution_count": 36,
     "metadata": {},
     "output_type": "execute_result"
    }
   ],
   "source": [
    "# Show the longest submissions\n",
    "posts.sort_values(by='stems_word_count', ascending=False)[['word_tokens']].head(10)"
   ]
  },
  {
   "cell_type": "code",
   "execution_count": 39,
   "metadata": {},
   "outputs": [],
   "source": [
    "# Drop any unecessary rows before saving the dataframe to a clean csv file\n",
    "posts.drop(columns=['text','text_length','stems_word_count'], inplace=True)"
   ]
  },
  {
   "cell_type": "markdown",
   "metadata": {},
   "source": [
    "## Save to csv"
   ]
  },
  {
   "cell_type": "code",
   "execution_count": 40,
   "metadata": {},
   "outputs": [],
   "source": [
    "posts.to_csv(r'../data/posts-preprocessed.csv', index=False)"
   ]
  }
 ],
 "metadata": {
  "kernelspec": {
   "display_name": "Python 3",
   "language": "python",
   "name": "python3"
  },
  "language_info": {
   "codemirror_mode": {
    "name": "ipython",
    "version": 3
   },
   "file_extension": ".py",
   "mimetype": "text/x-python",
   "name": "python",
   "nbconvert_exporter": "python",
   "pygments_lexer": "ipython3",
   "version": "3.7.4"
  },
  "toc": {
   "base_numbering": 1,
   "nav_menu": {},
   "number_sections": true,
   "sideBar": true,
   "skip_h1_title": false,
   "title_cell": "Table of Contents",
   "title_sidebar": "Contents",
   "toc_cell": false,
   "toc_position": {},
   "toc_section_display": true,
   "toc_window_display": false
  }
 },
 "nbformat": 4,
 "nbformat_minor": 2
}
