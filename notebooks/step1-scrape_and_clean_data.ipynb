{
 "cells": [
  {
   "cell_type": "markdown",
   "metadata": {},
   "source": [
    "# Scrape SubReddit Pages and Preliminary cleaning"
   ]
  },
  {
   "cell_type": "code",
   "execution_count": 1,
   "metadata": {},
   "outputs": [],
   "source": [
    "import pandas as pd\n",
    "import numpy as np\n",
    "import requests\n",
    "import json\n",
    "import csv\n",
    "import time\n",
    "import datetime as dt\n",
    "import pandas as pd\n",
    "from pmaw import PushshiftAPI"
   ]
  },
  {
   "cell_type": "markdown",
   "metadata": {},
   "source": [
    "## Define a function to scrape data from SubReddit pages"
   ]
  },
  {
   "cell_type": "markdown",
   "metadata": {},
   "source": [
    "PMAW: Under the hood, pmaw makes several API requests to Pushshift that each return a maximum of 100 comments, with requests being subjected to a rate-limit of 60 requests per minute. \n",
    "\n",
    "\n",
    "https://medium.com/swlh/how-to-scrape-large-amounts-of-reddit-data-using-pushshift-1d33bde9286\n"
   ]
  },
  {
   "cell_type": "code",
   "execution_count": 2,
   "metadata": {},
   "outputs": [],
   "source": [
    "api = PushshiftAPI()"
   ]
  },
  {
   "cell_type": "code",
   "execution_count": 3,
   "metadata": {},
   "outputs": [],
   "source": [
    "# Function to scrape subreddit submissions (different than comments)\n",
    "\n",
    "def get_reddit_submissions(subreddit, limit):\n",
    "    subreddit = subreddit\n",
    "    limit = limit\n",
    "    posts = api.search_submissions(subreddit=subreddit, \n",
    "                                   limit=limit, \n",
    "                                   before=before, \n",
    "                                   after=after)\n",
    "    post_list = [post for post in posts]\n",
    "    df = pd.DataFrame(post_list)\n",
    "    return df"
   ]
  },
  {
   "cell_type": "markdown",
   "metadata": {},
   "source": [
    "## Scrape Data from Pre-COVID Shutdown"
   ]
  },
  {
   "cell_type": "markdown",
   "metadata": {},
   "source": [
    "Using the Pushshift API, scrape reddit data from before Covid Shutdown for each subredit of interest (Using 3/20/2020 as that was the date New York and California shut down)"
   ]
  },
  {
   "cell_type": "code",
   "execution_count": 4,
   "metadata": {},
   "outputs": [],
   "source": [
    "before = int(dt.datetime(2020,3,20,0,0).timestamp()) # converts to UTC\n",
    "after = int(dt.datetime(2017,12,1,0,0).timestamp()) # converts to UTC"
   ]
  },
  {
   "cell_type": "markdown",
   "metadata": {},
   "source": [
    "### r/mentalhealth"
   ]
  },
  {
   "cell_type": "markdown",
   "metadata": {},
   "source": [
    "#### Scrape comments"
   ]
  },
  {
   "cell_type": "code",
   "execution_count": 5,
   "metadata": {
    "scrolled": true
   },
   "outputs": [
    {
     "name": "stdout",
     "output_type": "stream",
     "text": [
      "Total:: Success Rate: 100.00% - Requests: 40 - Batches: 4 - Items Remaining: 0\n"
     ]
    }
   ],
   "source": [
    "mentalhealth_PreCovid = get_reddit_submissions('mentalhealth', 4000)"
   ]
  },
  {
   "cell_type": "code",
   "execution_count": 6,
   "metadata": {},
   "outputs": [
    {
     "data": {
      "text/plain": [
       "(4000, 76)"
      ]
     },
     "execution_count": 6,
     "metadata": {},
     "output_type": "execute_result"
    }
   ],
   "source": [
    "# Check the shape to make sure all rows are there\n",
    "mentalhealth_PreCovid.shape"
   ]
  },
  {
   "cell_type": "code",
   "execution_count": 13,
   "metadata": {},
   "outputs": [],
   "source": [
    "#mentalhealth_PreCovid.head()"
   ]
  },
  {
   "cell_type": "markdown",
   "metadata": {},
   "source": [
    "#### Save columns of interest"
   ]
  },
  {
   "cell_type": "code",
   "execution_count": 7,
   "metadata": {},
   "outputs": [],
   "source": [
    "# Keep columns: 'author', 'body', 'created_utc', 'subreddit'\n",
    "mentalhealth_PreCovid = mentalhealth_PreCovid[['author', \n",
    "                                               'title', \n",
    "                                               'selftext',\n",
    "                                               'created_utc', \n",
    "                                               'subreddit']]"
   ]
  },
  {
   "cell_type": "markdown",
   "metadata": {},
   "source": [
    "### r/depression"
   ]
  },
  {
   "cell_type": "markdown",
   "metadata": {},
   "source": [
    "#### Scrape comments"
   ]
  },
  {
   "cell_type": "code",
   "execution_count": 8,
   "metadata": {},
   "outputs": [
    {
     "name": "stdout",
     "output_type": "stream",
     "text": [
      "Total:: Success Rate: 100.00% - Requests: 40 - Batches: 4 - Items Remaining: 0\n"
     ]
    }
   ],
   "source": [
    "depression_PreCovid = get_reddit_submissions('depression', 4000)"
   ]
  },
  {
   "cell_type": "code",
   "execution_count": 9,
   "metadata": {},
   "outputs": [
    {
     "data": {
      "text/plain": [
       "(4000, 70)"
      ]
     },
     "execution_count": 9,
     "metadata": {},
     "output_type": "execute_result"
    }
   ],
   "source": [
    "depression_PreCovid.shape"
   ]
  },
  {
   "cell_type": "markdown",
   "metadata": {},
   "source": [
    "#### Save columns of interest"
   ]
  },
  {
   "cell_type": "code",
   "execution_count": 10,
   "metadata": {},
   "outputs": [],
   "source": [
    "depression_PreCovid = depression_PreCovid[['author', \n",
    "                                           'title', \n",
    "                                           'selftext',\n",
    "                                           'created_utc', \n",
    "                                           'subreddit']]"
   ]
  },
  {
   "cell_type": "markdown",
   "metadata": {},
   "source": [
    "### r/Anxiety"
   ]
  },
  {
   "cell_type": "markdown",
   "metadata": {},
   "source": [
    "#### Scrape comments"
   ]
  },
  {
   "cell_type": "code",
   "execution_count": 11,
   "metadata": {},
   "outputs": [
    {
     "name": "stdout",
     "output_type": "stream",
     "text": [
      "Total:: Success Rate: 100.00% - Requests: 40 - Batches: 4 - Items Remaining: 0\n"
     ]
    }
   ],
   "source": [
    "anxiety_PreCovid = get_reddit_submissions('Anxiety', 4000)"
   ]
  },
  {
   "cell_type": "code",
   "execution_count": 12,
   "metadata": {},
   "outputs": [
    {
     "data": {
      "text/plain": [
       "(4000, 82)"
      ]
     },
     "execution_count": 12,
     "metadata": {},
     "output_type": "execute_result"
    }
   ],
   "source": [
    "anxiety_PreCovid.shape"
   ]
  },
  {
   "cell_type": "markdown",
   "metadata": {},
   "source": [
    "#### Save columns of interest"
   ]
  },
  {
   "cell_type": "code",
   "execution_count": 13,
   "metadata": {},
   "outputs": [],
   "source": [
    "# Keep columns: 'author', 'body', 'created_utc', 'subreddit'\n",
    "anxiety_PreCovid = anxiety_PreCovid[['author', \n",
    "                                     'title', \n",
    "                                     'selftext',\n",
    "                                     'created_utc', \n",
    "                                     'subreddit']]"
   ]
  },
  {
   "cell_type": "markdown",
   "metadata": {},
   "source": [
    "### r/bipolar"
   ]
  },
  {
   "cell_type": "markdown",
   "metadata": {},
   "source": [
    "#### Scrape comments"
   ]
  },
  {
   "cell_type": "code",
   "execution_count": 14,
   "metadata": {},
   "outputs": [
    {
     "name": "stdout",
     "output_type": "stream",
     "text": [
      "Total:: Success Rate: 100.00% - Requests: 40 - Batches: 4 - Items Remaining: 0\n"
     ]
    }
   ],
   "source": [
    "bipolar_PreCovid = get_reddit_submissions('bipolar', 4000)"
   ]
  },
  {
   "cell_type": "code",
   "execution_count": 15,
   "metadata": {},
   "outputs": [
    {
     "data": {
      "text/plain": [
       "(4000, 81)"
      ]
     },
     "execution_count": 15,
     "metadata": {},
     "output_type": "execute_result"
    }
   ],
   "source": [
    "bipolar_PreCovid.shape"
   ]
  },
  {
   "cell_type": "markdown",
   "metadata": {},
   "source": [
    "#### Save columns of interest"
   ]
  },
  {
   "cell_type": "code",
   "execution_count": 16,
   "metadata": {},
   "outputs": [],
   "source": [
    "bipolar_PreCovid = bipolar_PreCovid[['author', \n",
    "                                     'title', \n",
    "                                     'selftext',\n",
    "                                     'created_utc', \n",
    "                                     'subreddit']]"
   ]
  },
  {
   "cell_type": "markdown",
   "metadata": {},
   "source": [
    "### r/BPD"
   ]
  },
  {
   "cell_type": "markdown",
   "metadata": {},
   "source": [
    "##### Scrape comments"
   ]
  },
  {
   "cell_type": "code",
   "execution_count": 17,
   "metadata": {},
   "outputs": [
    {
     "name": "stdout",
     "output_type": "stream",
     "text": [
      "Total:: Success Rate: 100.00% - Requests: 40 - Batches: 4 - Items Remaining: 0\n"
     ]
    }
   ],
   "source": [
    "bpd_PreCovid = get_reddit_submissions('BPD', 4000)"
   ]
  },
  {
   "cell_type": "code",
   "execution_count": 18,
   "metadata": {},
   "outputs": [
    {
     "data": {
      "text/plain": [
       "(4000, 92)"
      ]
     },
     "execution_count": 18,
     "metadata": {},
     "output_type": "execute_result"
    }
   ],
   "source": [
    "bpd_PreCovid.shape"
   ]
  },
  {
   "cell_type": "markdown",
   "metadata": {},
   "source": [
    "##### Save columns of interest"
   ]
  },
  {
   "cell_type": "code",
   "execution_count": 19,
   "metadata": {},
   "outputs": [],
   "source": [
    "bpd_PreCovid = bpd_PreCovid[['author', \n",
    "                             'title', \n",
    "                             'selftext',\n",
    "                             'created_utc', \n",
    "                             'subreddit']]"
   ]
  },
  {
   "cell_type": "markdown",
   "metadata": {},
   "source": [
    "### r/schizophrenia"
   ]
  },
  {
   "cell_type": "code",
   "execution_count": 20,
   "metadata": {},
   "outputs": [
    {
     "name": "stdout",
     "output_type": "stream",
     "text": [
      "Total:: Success Rate: 100.00% - Requests: 40 - Batches: 4 - Items Remaining: 0\n"
     ]
    }
   ],
   "source": [
    "schizophrenia_PreCovid = get_reddit_submissions('schizophrenia', 4000)"
   ]
  },
  {
   "cell_type": "code",
   "execution_count": 21,
   "metadata": {},
   "outputs": [
    {
     "data": {
      "text/plain": [
       "(4000, 83)"
      ]
     },
     "execution_count": 21,
     "metadata": {},
     "output_type": "execute_result"
    }
   ],
   "source": [
    "schizophrenia_PreCovid.shape"
   ]
  },
  {
   "cell_type": "markdown",
   "metadata": {},
   "source": [
    "##### Save columns of interest"
   ]
  },
  {
   "cell_type": "code",
   "execution_count": 22,
   "metadata": {},
   "outputs": [],
   "source": [
    "schizophrenia_PreCovid = schizophrenia_PreCovid[['author', \n",
    "                                                 'title', \n",
    "                                                 'selftext',\n",
    "                                                 'created_utc', \n",
    "                                                 'subreddit']]"
   ]
  },
  {
   "cell_type": "markdown",
   "metadata": {},
   "source": [
    "### r/autism"
   ]
  },
  {
   "cell_type": "code",
   "execution_count": 23,
   "metadata": {},
   "outputs": [
    {
     "name": "stdout",
     "output_type": "stream",
     "text": [
      "Total:: Success Rate: 100.00% - Requests: 40 - Batches: 4 - Items Remaining: 0\n"
     ]
    }
   ],
   "source": [
    "autism_PreCovid = get_reddit_submissions('autism', 4000)"
   ]
  },
  {
   "cell_type": "code",
   "execution_count": 24,
   "metadata": {},
   "outputs": [
    {
     "data": {
      "text/plain": [
       "(4000, 94)"
      ]
     },
     "execution_count": 24,
     "metadata": {},
     "output_type": "execute_result"
    }
   ],
   "source": [
    "autism_PreCovid.shape"
   ]
  },
  {
   "cell_type": "markdown",
   "metadata": {},
   "source": [
    "##### Save columns of interest"
   ]
  },
  {
   "cell_type": "code",
   "execution_count": 25,
   "metadata": {},
   "outputs": [],
   "source": [
    "autism_PreCovid = autism_PreCovid[['author', \n",
    "                                   'title', \n",
    "                                   'selftext',\n",
    "                                   'created_utc', \n",
    "                                   'subreddit']]"
   ]
  },
  {
   "cell_type": "markdown",
   "metadata": {},
   "source": [
    "### r/AnorexiaNervosa"
   ]
  },
  {
   "cell_type": "code",
   "execution_count": 26,
   "metadata": {},
   "outputs": [
    {
     "name": "stdout",
     "output_type": "stream",
     "text": [
      "Total:: Success Rate: 100.00% - Requests: 48 - Batches: 5 - Items Remaining: 0\n"
     ]
    }
   ],
   "source": [
    "anorexia_PreCovid = get_reddit_submissions('AnorexiaNervosa', 4000)"
   ]
  },
  {
   "cell_type": "code",
   "execution_count": 27,
   "metadata": {},
   "outputs": [
    {
     "data": {
      "text/plain": [
       "(4000, 80)"
      ]
     },
     "execution_count": 27,
     "metadata": {},
     "output_type": "execute_result"
    }
   ],
   "source": [
    "anorexia_PreCovid.shape"
   ]
  },
  {
   "cell_type": "markdown",
   "metadata": {},
   "source": [
    "##### Save columns of interest"
   ]
  },
  {
   "cell_type": "code",
   "execution_count": 28,
   "metadata": {},
   "outputs": [],
   "source": [
    "anorexia_PreCovid = anorexia_PreCovid[['author', \n",
    "                                       'title', \n",
    "                                       'selftext',\n",
    "                                       'created_utc', \n",
    "                                       'subreddit']]"
   ]
  },
  {
   "cell_type": "markdown",
   "metadata": {},
   "source": [
    "### r/Bulimia"
   ]
  },
  {
   "cell_type": "code",
   "execution_count": 29,
   "metadata": {},
   "outputs": [
    {
     "name": "stdout",
     "output_type": "stream",
     "text": [
      "Total:: Success Rate: 100.00% - Requests: 44 - Batches: 5 - Items Remaining: 0\n"
     ]
    }
   ],
   "source": [
    "bulimia_PreCovid = get_reddit_submissions('Bulimia', 4000)"
   ]
  },
  {
   "cell_type": "code",
   "execution_count": 30,
   "metadata": {},
   "outputs": [
    {
     "data": {
      "text/plain": [
       "(4000, 76)"
      ]
     },
     "execution_count": 30,
     "metadata": {},
     "output_type": "execute_result"
    }
   ],
   "source": [
    "bulimia_PreCovid.shape"
   ]
  },
  {
   "cell_type": "markdown",
   "metadata": {},
   "source": [
    "##### Save columns of interest"
   ]
  },
  {
   "cell_type": "code",
   "execution_count": 31,
   "metadata": {},
   "outputs": [],
   "source": [
    "bulimia_PreCovid = bulimia_PreCovid[['author', \n",
    "                                     'title', \n",
    "                                     'selftext',\n",
    "                                     'created_utc', \n",
    "                                     'subreddit']]"
   ]
  },
  {
   "cell_type": "markdown",
   "metadata": {},
   "source": [
    "### Combine data"
   ]
  },
  {
   "cell_type": "markdown",
   "metadata": {},
   "source": [
    "#### Combine data to one large data frame"
   ]
  },
  {
   "cell_type": "code",
   "execution_count": 32,
   "metadata": {},
   "outputs": [],
   "source": [
    "precovid_frames = [bulimia_PreCovid, \n",
    "                   anorexia_PreCovid,\n",
    "                   autism_PreCovid,\n",
    "                   schizophrenia_PreCovid,\n",
    "                   bpd_PreCovid,\n",
    "                   bipolar_PreCovid,\n",
    "                   anxiety_PreCovid,\n",
    "                   depression_PreCovid,\n",
    "                   mentalhealth_PreCovid]"
   ]
  },
  {
   "cell_type": "code",
   "execution_count": 33,
   "metadata": {},
   "outputs": [],
   "source": [
    "PreCovid_subreddits = pd.concat(precovid_frames)"
   ]
  },
  {
   "cell_type": "markdown",
   "metadata": {},
   "source": [
    "#### Remove any 'authors' or 'body' rows where it says removed or deleted"
   ]
  },
  {
   "cell_type": "code",
   "execution_count": 34,
   "metadata": {},
   "outputs": [],
   "source": [
    "# remove rows where 'author' == 'deleted' as these are posts that were deleted by the author\n",
    "drop_rows1 = PreCovid_subreddits.loc[PreCovid_subreddits['author'] == '[deleted]'].index"
   ]
  },
  {
   "cell_type": "code",
   "execution_count": 35,
   "metadata": {
    "scrolled": true
   },
   "outputs": [],
   "source": [
    "# Replace 'deleted' and 'removed' with null and then re\n",
    "PreCovid_subreddits.drop(drop_rows1, inplace=True)"
   ]
  },
  {
   "cell_type": "code",
   "execution_count": 36,
   "metadata": {},
   "outputs": [
    {
     "data": {
      "text/plain": [
       "(29961, 5)"
      ]
     },
     "execution_count": 36,
     "metadata": {},
     "output_type": "execute_result"
    }
   ],
   "source": [
    "PreCovid_subreddits.shape"
   ]
  },
  {
   "cell_type": "markdown",
   "metadata": {},
   "source": [
    "## Scrape Data from Post-COVID Shutdown"
   ]
  },
  {
   "cell_type": "code",
   "execution_count": 37,
   "metadata": {},
   "outputs": [],
   "source": [
    "before = int(dt.datetime(2021,3,1,0,0).timestamp()) # converts to UTC \n",
    "after = int(dt.datetime(2020,3,21,0,0).timestamp()) # converts to UTC # A chosen 'shutdown' date"
   ]
  },
  {
   "cell_type": "markdown",
   "metadata": {},
   "source": [
    "### r/mentalhealth"
   ]
  },
  {
   "cell_type": "code",
   "execution_count": 38,
   "metadata": {
    "scrolled": true
   },
   "outputs": [
    {
     "name": "stdout",
     "output_type": "stream",
     "text": [
      "Total:: Success Rate: 100.00% - Requests: 40 - Batches: 4 - Items Remaining: 0\n"
     ]
    }
   ],
   "source": [
    "mentalhealth_PostCovid = get_reddit_submissions('mentalhealth', 4000)"
   ]
  },
  {
   "cell_type": "code",
   "execution_count": 39,
   "metadata": {},
   "outputs": [
    {
     "data": {
      "text/plain": [
       "(4000, 74)"
      ]
     },
     "execution_count": 39,
     "metadata": {},
     "output_type": "execute_result"
    }
   ],
   "source": [
    "mentalhealth_PostCovid.shape "
   ]
  },
  {
   "cell_type": "markdown",
   "metadata": {},
   "source": [
    "##### Save columns of interest"
   ]
  },
  {
   "cell_type": "code",
   "execution_count": 40,
   "metadata": {},
   "outputs": [],
   "source": [
    "mentalhealth_PostCovid = mentalhealth_PostCovid[['author', \n",
    "                                                 'title', \n",
    "                                                 'selftext', \n",
    "                                                 'created_utc', \n",
    "                                                 'subreddit']]"
   ]
  },
  {
   "cell_type": "markdown",
   "metadata": {},
   "source": [
    "### r/depression"
   ]
  },
  {
   "cell_type": "code",
   "execution_count": 41,
   "metadata": {},
   "outputs": [
    {
     "name": "stdout",
     "output_type": "stream",
     "text": [
      "Total:: Success Rate: 95.24% - Requests: 42 - Batches: 5 - Items Remaining: 0\n"
     ]
    }
   ],
   "source": [
    "depression_PostCovid = get_reddit_submissions('depression', 4000)"
   ]
  },
  {
   "cell_type": "code",
   "execution_count": 42,
   "metadata": {},
   "outputs": [
    {
     "data": {
      "text/plain": [
       "(4000, 66)"
      ]
     },
     "execution_count": 42,
     "metadata": {},
     "output_type": "execute_result"
    }
   ],
   "source": [
    "depression_PostCovid.shape"
   ]
  },
  {
   "cell_type": "markdown",
   "metadata": {},
   "source": [
    "##### Save columns of interest"
   ]
  },
  {
   "cell_type": "code",
   "execution_count": 43,
   "metadata": {},
   "outputs": [],
   "source": [
    "depression_PostCovid = depression_PostCovid[['author', \n",
    "                                             'title', \n",
    "                                             'selftext', \n",
    "                                             'created_utc', \n",
    "                                             'subreddit']]"
   ]
  },
  {
   "cell_type": "markdown",
   "metadata": {},
   "source": [
    "### r/Anxiety"
   ]
  },
  {
   "cell_type": "code",
   "execution_count": 44,
   "metadata": {},
   "outputs": [
    {
     "name": "stdout",
     "output_type": "stream",
     "text": [
      "Total:: Success Rate: 95.24% - Requests: 42 - Batches: 5 - Items Remaining: 0\n"
     ]
    }
   ],
   "source": [
    "anxiety_PostCovid = get_reddit_submissions('Anxiety', 4000)"
   ]
  },
  {
   "cell_type": "code",
   "execution_count": 45,
   "metadata": {},
   "outputs": [
    {
     "data": {
      "text/plain": [
       "(4000, 70)"
      ]
     },
     "execution_count": 45,
     "metadata": {},
     "output_type": "execute_result"
    }
   ],
   "source": [
    "anxiety_PostCovid.shape "
   ]
  },
  {
   "cell_type": "markdown",
   "metadata": {},
   "source": [
    "##### Save columns of interest"
   ]
  },
  {
   "cell_type": "code",
   "execution_count": 46,
   "metadata": {},
   "outputs": [],
   "source": [
    "anxiety_PostCovid = anxiety_PostCovid[['author', \n",
    "                                       'title', \n",
    "                                       'selftext', \n",
    "                                       'created_utc', \n",
    "                                       'subreddit']]"
   ]
  },
  {
   "cell_type": "markdown",
   "metadata": {},
   "source": [
    "### r/bipolar"
   ]
  },
  {
   "cell_type": "code",
   "execution_count": 47,
   "metadata": {},
   "outputs": [
    {
     "name": "stdout",
     "output_type": "stream",
     "text": [
      "Total:: Success Rate: 74.07% - Requests: 54 - Batches: 6 - Items Remaining: 0\n"
     ]
    }
   ],
   "source": [
    "bipolar_PostCovid = get_reddit_submissions('bipolar', 4000)"
   ]
  },
  {
   "cell_type": "code",
   "execution_count": 48,
   "metadata": {},
   "outputs": [
    {
     "data": {
      "text/plain": [
       "(4000, 80)"
      ]
     },
     "execution_count": 48,
     "metadata": {},
     "output_type": "execute_result"
    }
   ],
   "source": [
    "bipolar_PostCovid.shape"
   ]
  },
  {
   "cell_type": "markdown",
   "metadata": {},
   "source": [
    "##### Save columns of interest"
   ]
  },
  {
   "cell_type": "code",
   "execution_count": 49,
   "metadata": {},
   "outputs": [],
   "source": [
    "bipolar_PostCovid = bipolar_PostCovid[['author', \n",
    "                                       'title', \n",
    "                                       'selftext',\n",
    "                                       'created_utc', \n",
    "                                       'subreddit']]"
   ]
  },
  {
   "cell_type": "markdown",
   "metadata": {},
   "source": [
    "### r/BPD"
   ]
  },
  {
   "cell_type": "code",
   "execution_count": 50,
   "metadata": {},
   "outputs": [
    {
     "name": "stdout",
     "output_type": "stream",
     "text": [
      "Total:: Success Rate: 61.54% - Requests: 65 - Batches: 7 - Items Remaining: 0\n"
     ]
    }
   ],
   "source": [
    "bpd_PostCovid = get_reddit_submissions('BPD', 4000)"
   ]
  },
  {
   "cell_type": "code",
   "execution_count": 51,
   "metadata": {},
   "outputs": [
    {
     "data": {
      "text/plain": [
       "(4000, 83)"
      ]
     },
     "execution_count": 51,
     "metadata": {},
     "output_type": "execute_result"
    }
   ],
   "source": [
    "bpd_PostCovid.shape"
   ]
  },
  {
   "cell_type": "markdown",
   "metadata": {},
   "source": [
    "##### Save columns of interest"
   ]
  },
  {
   "cell_type": "code",
   "execution_count": 52,
   "metadata": {},
   "outputs": [],
   "source": [
    "bpd_PostCovid = bpd_PostCovid[['author',\n",
    "                               'title', \n",
    "                               'selftext',\n",
    "                               'created_utc', \n",
    "                               'subreddit']]"
   ]
  },
  {
   "cell_type": "markdown",
   "metadata": {},
   "source": [
    "### r/schizophrenia"
   ]
  },
  {
   "cell_type": "code",
   "execution_count": 53,
   "metadata": {},
   "outputs": [
    {
     "name": "stdout",
     "output_type": "stream",
     "text": [
      "Total:: Success Rate: 66.67% - Requests: 60 - Batches: 6 - Items Remaining: 0\n"
     ]
    }
   ],
   "source": [
    "schizophrenia_PostCovid = get_reddit_submissions('schizophrenia', 4000)"
   ]
  },
  {
   "cell_type": "code",
   "execution_count": 54,
   "metadata": {},
   "outputs": [
    {
     "data": {
      "text/plain": [
       "(4000, 82)"
      ]
     },
     "execution_count": 54,
     "metadata": {},
     "output_type": "execute_result"
    }
   ],
   "source": [
    "schizophrenia_PostCovid.shape "
   ]
  },
  {
   "cell_type": "markdown",
   "metadata": {},
   "source": [
    "##### Save columns of interest"
   ]
  },
  {
   "cell_type": "code",
   "execution_count": 55,
   "metadata": {},
   "outputs": [],
   "source": [
    "schizophrenia_PostCovid = schizophrenia_PostCovid[['author', \n",
    "                                                   'title', \n",
    "                                                   'selftext',\n",
    "                                                   'created_utc',\n",
    "                                                   'subreddit']]"
   ]
  },
  {
   "cell_type": "markdown",
   "metadata": {},
   "source": [
    "### r/autism"
   ]
  },
  {
   "cell_type": "code",
   "execution_count": 56,
   "metadata": {},
   "outputs": [
    {
     "name": "stdout",
     "output_type": "stream",
     "text": [
      "Total:: Success Rate: 66.67% - Requests: 60 - Batches: 6 - Items Remaining: 0\n"
     ]
    }
   ],
   "source": [
    "autism_PostCovid = get_reddit_submissions('autism', 4000)"
   ]
  },
  {
   "cell_type": "code",
   "execution_count": 57,
   "metadata": {},
   "outputs": [
    {
     "data": {
      "text/plain": [
       "(4000, 83)"
      ]
     },
     "execution_count": 57,
     "metadata": {},
     "output_type": "execute_result"
    }
   ],
   "source": [
    "autism_PostCovid.shape"
   ]
  },
  {
   "cell_type": "markdown",
   "metadata": {},
   "source": [
    "##### Save columns of interest"
   ]
  },
  {
   "cell_type": "code",
   "execution_count": 58,
   "metadata": {},
   "outputs": [],
   "source": [
    "autism_PostCovid = autism_PostCovid[['author', \n",
    "                                     'title', \n",
    "                                     'selftext',\n",
    "                                     'created_utc', \n",
    "                                     'subreddit']]"
   ]
  },
  {
   "cell_type": "markdown",
   "metadata": {},
   "source": [
    "### r/AnorexiaNervosa"
   ]
  },
  {
   "cell_type": "code",
   "execution_count": 59,
   "metadata": {},
   "outputs": [
    {
     "name": "stdout",
     "output_type": "stream",
     "text": [
      "Total:: Success Rate: 66.67% - Requests: 60 - Batches: 6 - Items Remaining: 0\n"
     ]
    }
   ],
   "source": [
    "anorexia_PostCovid = get_reddit_submissions('AnorexiaNervosa', 4000)"
   ]
  },
  {
   "cell_type": "code",
   "execution_count": 60,
   "metadata": {},
   "outputs": [
    {
     "data": {
      "text/plain": [
       "(4000, 83)"
      ]
     },
     "execution_count": 60,
     "metadata": {},
     "output_type": "execute_result"
    }
   ],
   "source": [
    "anorexia_PostCovid.shape"
   ]
  },
  {
   "cell_type": "markdown",
   "metadata": {},
   "source": [
    "##### Save columns of interest"
   ]
  },
  {
   "cell_type": "code",
   "execution_count": 61,
   "metadata": {},
   "outputs": [],
   "source": [
    "anorexia_PostCovid = anorexia_PostCovid[['author', \n",
    "                                         'title', \n",
    "                                         'selftext',\n",
    "                                         'created_utc', \n",
    "                                         'subreddit']]"
   ]
  },
  {
   "cell_type": "markdown",
   "metadata": {},
   "source": [
    "### r/Bulimia"
   ]
  },
  {
   "cell_type": "code",
   "execution_count": 62,
   "metadata": {},
   "outputs": [
    {
     "name": "stdout",
     "output_type": "stream",
     "text": [
      "Total:: Success Rate: 68.75% - Requests: 64 - Batches: 7 - Items Remaining: 0\n"
     ]
    }
   ],
   "source": [
    "bulimia_PostCovid = get_reddit_submissions('Bulimia', 4000)"
   ]
  },
  {
   "cell_type": "code",
   "execution_count": 63,
   "metadata": {},
   "outputs": [
    {
     "data": {
      "text/plain": [
       "(4000, 84)"
      ]
     },
     "execution_count": 63,
     "metadata": {},
     "output_type": "execute_result"
    }
   ],
   "source": [
    "bulimia_PostCovid.shape"
   ]
  },
  {
   "cell_type": "markdown",
   "metadata": {},
   "source": [
    "##### Save columns of interest"
   ]
  },
  {
   "cell_type": "code",
   "execution_count": 64,
   "metadata": {},
   "outputs": [],
   "source": [
    "bulimia_PostCovid = bulimia_PostCovid[['author', \n",
    "                                       'title', \n",
    "                                       'selftext',\n",
    "                                       'created_utc', \n",
    "                                       'subreddit']]"
   ]
  },
  {
   "cell_type": "markdown",
   "metadata": {},
   "source": [
    "### Combine data"
   ]
  },
  {
   "cell_type": "markdown",
   "metadata": {},
   "source": [
    "#### Combine data to one large data frame"
   ]
  },
  {
   "cell_type": "code",
   "execution_count": 65,
   "metadata": {},
   "outputs": [],
   "source": [
    "postcovid_frames = [bulimia_PostCovid, \n",
    "                   anorexia_PostCovid,\n",
    "                   autism_PostCovid,\n",
    "                   schizophrenia_PostCovid,\n",
    "                   bpd_PostCovid,\n",
    "                   bipolar_PostCovid,\n",
    "                   anxiety_PostCovid,\n",
    "                   depression_PostCovid,\n",
    "                   mentalhealth_PostCovid]"
   ]
  },
  {
   "cell_type": "code",
   "execution_count": 66,
   "metadata": {},
   "outputs": [],
   "source": [
    "PostCovid_subreddits = pd.concat(postcovid_frames)"
   ]
  },
  {
   "cell_type": "markdown",
   "metadata": {},
   "source": [
    "#### Remove any 'authors' or 'body' rows where it says removed or deleted"
   ]
  },
  {
   "cell_type": "code",
   "execution_count": 67,
   "metadata": {},
   "outputs": [
    {
     "data": {
      "text/plain": [
       "[deleted]          1003\n",
       "Glitterx37           53\n",
       "justacotton          51\n",
       "AutoModerator        40\n",
       "autgeb               33\n",
       "                   ... \n",
       "IIluciferinII         1\n",
       "jinisin176            1\n",
       "1531004               1\n",
       "Imstuck2456           1\n",
       "AdorableStable1       1\n",
       "Name: author, Length: 25424, dtype: int64"
      ]
     },
     "execution_count": 67,
     "metadata": {},
     "output_type": "execute_result"
    }
   ],
   "source": [
    "PostCovid_subreddits['author'].value_counts()"
   ]
  },
  {
   "cell_type": "code",
   "execution_count": 68,
   "metadata": {},
   "outputs": [],
   "source": [
    "drop_rows2 = PostCovid_subreddits.loc[PostCovid_subreddits['author'] == '[deleted]'].index"
   ]
  },
  {
   "cell_type": "code",
   "execution_count": 69,
   "metadata": {
    "scrolled": true
   },
   "outputs": [],
   "source": [
    "# Replace 'deleted' and 'removed' with null and then re\n",
    "PostCovid_subreddits.drop(drop_rows2, inplace = True)"
   ]
  },
  {
   "cell_type": "code",
   "execution_count": 70,
   "metadata": {},
   "outputs": [
    {
     "data": {
      "text/plain": [
       "(28098, 5)"
      ]
     },
     "execution_count": 70,
     "metadata": {},
     "output_type": "execute_result"
    }
   ],
   "source": [
    "PostCovid_subreddits.shape"
   ]
  },
  {
   "cell_type": "markdown",
   "metadata": {},
   "source": [
    "#### Combine pre and post Covid data frames"
   ]
  },
  {
   "cell_type": "code",
   "execution_count": 71,
   "metadata": {},
   "outputs": [],
   "source": [
    "# add column to each data frame saying 'pre or post covid'\n",
    "PreCovid_subreddits['timeframe'] = 'pre-covid'\n",
    "PostCovid_subreddits['timeframe'] = 'post-covid'"
   ]
  },
  {
   "cell_type": "code",
   "execution_count": 72,
   "metadata": {},
   "outputs": [],
   "source": [
    "# Combine data frames\n",
    "subreddit_posts_combined = pd.concat([PreCovid_subreddits, PostCovid_subreddits], axis=0)"
   ]
  },
  {
   "cell_type": "code",
   "execution_count": 73,
   "metadata": {},
   "outputs": [
    {
     "data": {
      "text/html": [
       "<div>\n",
       "<style scoped>\n",
       "    .dataframe tbody tr th:only-of-type {\n",
       "        vertical-align: middle;\n",
       "    }\n",
       "\n",
       "    .dataframe tbody tr th {\n",
       "        vertical-align: top;\n",
       "    }\n",
       "\n",
       "    .dataframe thead th {\n",
       "        text-align: right;\n",
       "    }\n",
       "</style>\n",
       "<table border=\"1\" class=\"dataframe\">\n",
       "  <thead>\n",
       "    <tr style=\"text-align: right;\">\n",
       "      <th></th>\n",
       "      <th>author</th>\n",
       "      <th>title</th>\n",
       "      <th>selftext</th>\n",
       "      <th>created_utc</th>\n",
       "      <th>subreddit</th>\n",
       "      <th>timeframe</th>\n",
       "    </tr>\n",
       "  </thead>\n",
       "  <tbody>\n",
       "    <tr>\n",
       "      <td>2</td>\n",
       "      <td>LunsheaPyralis</td>\n",
       "      <td>Beginning my road to recovery...again</td>\n",
       "      <td>I am 32, I was diagnosed as anorexic in high s...</td>\n",
       "      <td>1519141081</td>\n",
       "      <td>bulimia</td>\n",
       "      <td>pre-covid</td>\n",
       "    </tr>\n",
       "    <tr>\n",
       "      <td>3</td>\n",
       "      <td>lotrwisc</td>\n",
       "      <td>Relapse related to ex</td>\n",
       "      <td>I've had bulimia for 10 years. When I was in c...</td>\n",
       "      <td>1519096140</td>\n",
       "      <td>bulimia</td>\n",
       "      <td>pre-covid</td>\n",
       "    </tr>\n",
       "    <tr>\n",
       "      <td>6</td>\n",
       "      <td>collali699</td>\n",
       "      <td>Bulimia is Torture</td>\n",
       "      <td>Many people think it's so nice to eat and not ...</td>\n",
       "      <td>1518983066</td>\n",
       "      <td>bulimia</td>\n",
       "      <td>pre-covid</td>\n",
       "    </tr>\n",
       "    <tr>\n",
       "      <td>13</td>\n",
       "      <td>hrbitch</td>\n",
       "      <td>Drinking a lot</td>\n",
       "      <td>I have been purging with laxatives and purging...</td>\n",
       "      <td>1518572435</td>\n",
       "      <td>bulimia</td>\n",
       "      <td>pre-covid</td>\n",
       "    </tr>\n",
       "    <tr>\n",
       "      <td>14</td>\n",
       "      <td>firexsign</td>\n",
       "      <td>It sucks being a fat(ter) bulimic</td>\n",
       "      <td>When I first became bulimic, it was after a pr...</td>\n",
       "      <td>1518569824</td>\n",
       "      <td>bulimia</td>\n",
       "      <td>pre-covid</td>\n",
       "    </tr>\n",
       "  </tbody>\n",
       "</table>\n",
       "</div>"
      ],
      "text/plain": [
       "            author                                  title  \\\n",
       "2   LunsheaPyralis  Beginning my road to recovery...again   \n",
       "3         lotrwisc                  Relapse related to ex   \n",
       "6       collali699                     Bulimia is Torture   \n",
       "13         hrbitch                         Drinking a lot   \n",
       "14       firexsign      It sucks being a fat(ter) bulimic   \n",
       "\n",
       "                                             selftext  created_utc subreddit  \\\n",
       "2   I am 32, I was diagnosed as anorexic in high s...   1519141081   bulimia   \n",
       "3   I've had bulimia for 10 years. When I was in c...   1519096140   bulimia   \n",
       "6   Many people think it's so nice to eat and not ...   1518983066   bulimia   \n",
       "13  I have been purging with laxatives and purging...   1518572435   bulimia   \n",
       "14  When I first became bulimic, it was after a pr...   1518569824   bulimia   \n",
       "\n",
       "    timeframe  \n",
       "2   pre-covid  \n",
       "3   pre-covid  \n",
       "6   pre-covid  \n",
       "13  pre-covid  \n",
       "14  pre-covid  "
      ]
     },
     "execution_count": 73,
     "metadata": {},
     "output_type": "execute_result"
    }
   ],
   "source": [
    "subreddit_posts_combined.head()"
   ]
  },
  {
   "cell_type": "markdown",
   "metadata": {},
   "source": [
    "#### Delete duplicates"
   ]
  },
  {
   "cell_type": "code",
   "execution_count": 75,
   "metadata": {},
   "outputs": [],
   "source": [
    "subreddit_posts_combined.drop_duplicates(subset='selftext', keep=\"first\", inplace=True)"
   ]
  },
  {
   "cell_type": "markdown",
   "metadata": {},
   "source": [
    "#### Combine text columns"
   ]
  },
  {
   "cell_type": "code",
   "execution_count": 87,
   "metadata": {},
   "outputs": [],
   "source": [
    "# Combine title with self text column and then check NAs again\n",
    "subreddit_posts_combined['text'] = subreddit_posts_combined[['title', \n",
    "                                                             'selftext']].stack().groupby(level=0).agg(' : '.join)\n",
    "\n",
    "# Drop the columns we combined\n",
    "subreddit_posts_combined.drop(columns = ['title','selftext'], inplace=True)"
   ]
  },
  {
   "cell_type": "markdown",
   "metadata": {},
   "source": [
    "#### Anonmyize\n"
   ]
  },
  {
   "cell_type": "code",
   "execution_count": 88,
   "metadata": {},
   "outputs": [],
   "source": [
    "# Replace unique author id with integer.\n",
    "subreddit_posts_combined['author'] = subreddit_posts_combined.assign(author=(np.unique(subreddit_posts_combined.author, \n",
    "                                          return_inverse=True)[1] + 1).astype(str))"
   ]
  },
  {
   "cell_type": "code",
   "execution_count": 89,
   "metadata": {},
   "outputs": [],
   "source": [
    "# Add 'sub' infront of integer to remind ourselves that this is an id. \n",
    "subreddit_posts_combined['author'] = subreddit_posts_combined['author'].apply(lambda x: f\"sub{x}\")"
   ]
  },
  {
   "cell_type": "markdown",
   "metadata": {},
   "source": [
    "#### Save to csv"
   ]
  },
  {
   "cell_type": "code",
   "execution_count": 93,
   "metadata": {},
   "outputs": [],
   "source": [
    "# Save combined data\n",
    "subreddit_posts_combined.to_csv('../data/subreddit_posts_combined.csv', \n",
    "                           header=True, \n",
    "                           index=False,\n",
    "                           columns=list(subreddit_posts_combined.axes[1]))"
   ]
  }
 ],
 "metadata": {
  "kernelspec": {
   "display_name": "Python 3",
   "language": "python",
   "name": "python3"
  },
  "language_info": {
   "codemirror_mode": {
    "name": "ipython",
    "version": 3
   },
   "file_extension": ".py",
   "mimetype": "text/x-python",
   "name": "python",
   "nbconvert_exporter": "python",
   "pygments_lexer": "ipython3",
   "version": "3.7.4"
  },
  "toc": {
   "base_numbering": 1,
   "nav_menu": {},
   "number_sections": true,
   "sideBar": true,
   "skip_h1_title": false,
   "title_cell": "Table of Contents",
   "title_sidebar": "Contents",
   "toc_cell": false,
   "toc_position": {},
   "toc_section_display": true,
   "toc_window_display": false
  }
 },
 "nbformat": 4,
 "nbformat_minor": 2
}
